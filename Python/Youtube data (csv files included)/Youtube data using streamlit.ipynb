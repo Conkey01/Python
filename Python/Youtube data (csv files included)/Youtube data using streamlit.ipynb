{
 "cells": [
  {
   "cell_type": "code",
   "execution_count": 1,
   "id": "daec72ea",
   "metadata": {},
   "outputs": [
    {
     "name": "stdout",
     "output_type": "stream",
     "text": [
      "Requirement already satisfied: streamlit in ./anaconda3/lib/python3.10/site-packages (1.24.0)\n",
      "Requirement already satisfied: packaging<24,>=14.1 in ./anaconda3/lib/python3.10/site-packages (from streamlit) (22.0)\n",
      "Requirement already satisfied: typing-extensions<5,>=4.0.1 in ./anaconda3/lib/python3.10/site-packages (from streamlit) (4.4.0)\n",
      "Requirement already satisfied: cachetools<6,>=4.0 in ./anaconda3/lib/python3.10/site-packages (from streamlit) (5.3.1)\n",
      "Requirement already satisfied: rich<14,>=10.11.0 in ./anaconda3/lib/python3.10/site-packages (from streamlit) (13.4.2)\n",
      "Requirement already satisfied: altair<6,>=4.0 in ./anaconda3/lib/python3.10/site-packages (from streamlit) (5.0.1)\n",
      "Requirement already satisfied: pympler<2,>=0.9 in ./anaconda3/lib/python3.10/site-packages (from streamlit) (1.0.1)\n",
      "Requirement already satisfied: pillow<10,>=6.2.0 in ./anaconda3/lib/python3.10/site-packages (from streamlit) (9.4.0)\n",
      "Requirement already satisfied: protobuf<5,>=3.20 in ./anaconda3/lib/python3.10/site-packages (from streamlit) (4.23.3)\n",
      "Requirement already satisfied: blinker<2,>=1.0.0 in ./anaconda3/lib/python3.10/site-packages (from streamlit) (1.6.2)\n",
      "Requirement already satisfied: pandas<3,>=0.25 in ./anaconda3/lib/python3.10/site-packages (from streamlit) (1.5.3)\n",
      "Requirement already satisfied: numpy<2,>=1 in ./anaconda3/lib/python3.10/site-packages (from streamlit) (1.23.5)\n",
      "Requirement already satisfied: tornado<7,>=6.0.3 in ./anaconda3/lib/python3.10/site-packages (from streamlit) (6.1)\n",
      "Requirement already satisfied: tenacity<9,>=8.0.0 in ./anaconda3/lib/python3.10/site-packages (from streamlit) (8.0.1)\n",
      "Requirement already satisfied: pydeck<1,>=0.1.dev5 in ./anaconda3/lib/python3.10/site-packages (from streamlit) (0.8.1b0)\n",
      "Requirement already satisfied: validators<1,>=0.2 in ./anaconda3/lib/python3.10/site-packages (from streamlit) (0.20.0)\n",
      "Requirement already satisfied: pyarrow>=4.0 in ./anaconda3/lib/python3.10/site-packages (from streamlit) (12.0.1)\n",
      "Requirement already satisfied: toml<2 in ./anaconda3/lib/python3.10/site-packages (from streamlit) (0.10.2)\n",
      "Requirement already satisfied: requests<3,>=2.4 in ./anaconda3/lib/python3.10/site-packages (from streamlit) (2.28.1)\n",
      "Requirement already satisfied: click<9,>=7.0 in ./anaconda3/lib/python3.10/site-packages (from streamlit) (8.0.4)\n",
      "Requirement already satisfied: python-dateutil<3,>=2 in ./anaconda3/lib/python3.10/site-packages (from streamlit) (2.8.2)\n",
      "Requirement already satisfied: importlib-metadata<7,>=1.4 in ./anaconda3/lib/python3.10/site-packages (from streamlit) (4.11.3)\n",
      "Requirement already satisfied: tzlocal<5,>=1.1 in ./anaconda3/lib/python3.10/site-packages (from streamlit) (4.3.1)\n",
      "Requirement already satisfied: gitpython!=3.1.19,<4,>=3 in ./anaconda3/lib/python3.10/site-packages (from streamlit) (3.1.31)\n",
      "Requirement already satisfied: jinja2 in ./anaconda3/lib/python3.10/site-packages (from altair<6,>=4.0->streamlit) (3.1.2)\n",
      "Requirement already satisfied: jsonschema>=3.0 in ./anaconda3/lib/python3.10/site-packages (from altair<6,>=4.0->streamlit) (4.17.3)\n",
      "Requirement already satisfied: toolz in ./anaconda3/lib/python3.10/site-packages (from altair<6,>=4.0->streamlit) (0.12.0)\n",
      "Requirement already satisfied: gitdb<5,>=4.0.1 in ./anaconda3/lib/python3.10/site-packages (from gitpython!=3.1.19,<4,>=3->streamlit) (4.0.10)\n",
      "Requirement already satisfied: zipp>=0.5 in ./anaconda3/lib/python3.10/site-packages (from importlib-metadata<7,>=1.4->streamlit) (3.11.0)\n",
      "Requirement already satisfied: pytz>=2020.1 in ./anaconda3/lib/python3.10/site-packages (from pandas<3,>=0.25->streamlit) (2022.7)\n",
      "Requirement already satisfied: six>=1.5 in ./anaconda3/lib/python3.10/site-packages (from python-dateutil<3,>=2->streamlit) (1.16.0)\n",
      "Requirement already satisfied: charset-normalizer<3,>=2 in ./anaconda3/lib/python3.10/site-packages (from requests<3,>=2.4->streamlit) (2.0.4)\n",
      "Requirement already satisfied: idna<4,>=2.5 in ./anaconda3/lib/python3.10/site-packages (from requests<3,>=2.4->streamlit) (3.4)\n",
      "Requirement already satisfied: certifi>=2017.4.17 in ./anaconda3/lib/python3.10/site-packages (from requests<3,>=2.4->streamlit) (2023.5.7)\n",
      "Requirement already satisfied: urllib3<1.27,>=1.21.1 in ./anaconda3/lib/python3.10/site-packages (from requests<3,>=2.4->streamlit) (1.26.14)\n",
      "Requirement already satisfied: pygments<3.0.0,>=2.13.0 in ./anaconda3/lib/python3.10/site-packages (from rich<14,>=10.11.0->streamlit) (2.15.1)\n",
      "Requirement already satisfied: markdown-it-py>=2.2.0 in ./anaconda3/lib/python3.10/site-packages (from rich<14,>=10.11.0->streamlit) (3.0.0)\n",
      "Requirement already satisfied: pytz-deprecation-shim in ./anaconda3/lib/python3.10/site-packages (from tzlocal<5,>=1.1->streamlit) (0.1.0.post0)\n",
      "Requirement already satisfied: decorator>=3.4.0 in ./anaconda3/lib/python3.10/site-packages (from validators<1,>=0.2->streamlit) (5.1.1)\n",
      "Requirement already satisfied: smmap<6,>=3.0.1 in ./anaconda3/lib/python3.10/site-packages (from gitdb<5,>=4.0.1->gitpython!=3.1.19,<4,>=3->streamlit) (5.0.0)\n",
      "Requirement already satisfied: MarkupSafe>=2.0 in ./anaconda3/lib/python3.10/site-packages (from jinja2->altair<6,>=4.0->streamlit) (2.1.1)\n",
      "Requirement already satisfied: attrs>=17.4.0 in ./anaconda3/lib/python3.10/site-packages (from jsonschema>=3.0->altair<6,>=4.0->streamlit) (22.1.0)\n",
      "Requirement already satisfied: pyrsistent!=0.17.0,!=0.17.1,!=0.17.2,>=0.14.0 in ./anaconda3/lib/python3.10/site-packages (from jsonschema>=3.0->altair<6,>=4.0->streamlit) (0.18.0)\n",
      "Requirement already satisfied: mdurl~=0.1 in ./anaconda3/lib/python3.10/site-packages (from markdown-it-py>=2.2.0->rich<14,>=10.11.0->streamlit) (0.1.2)\n",
      "Requirement already satisfied: tzdata in ./anaconda3/lib/python3.10/site-packages (from pytz-deprecation-shim->tzlocal<5,>=1.1->streamlit) (2023.3)\n",
      "Note: you may need to restart the kernel to use updated packages.\n"
     ]
    }
   ],
   "source": [
    "#This is an interactive data driven app using streamlit\n",
    "#I followed along a tutorial from Ken Jee, Large parts of this are his work and NOT my OWN! \n",
    "#I coded this myself using his video to teach myself how to use the streamlit library\n",
    "#I added in some of my own comments to help me understand the steps more and help some people who might read this\n",
    "pip install streamlit "
   ]
  },
  {
   "cell_type": "code",
   "execution_count": 2,
   "id": "3a20e044",
   "metadata": {},
   "outputs": [
    {
     "name": "stdout",
     "output_type": "stream",
     "text": [
      "Requirement already satisfied: plotly in ./anaconda3/lib/python3.10/site-packages (5.9.0)\n",
      "Requirement already satisfied: tenacity>=6.2.0 in ./anaconda3/lib/python3.10/site-packages (from plotly) (8.0.1)\n",
      "Note: you may need to restart the kernel to use updated packages.\n"
     ]
    }
   ],
   "source": [
    "pip install plotly"
   ]
  },
  {
   "cell_type": "code",
   "execution_count": 1,
   "id": "65605454",
   "metadata": {},
   "outputs": [],
   "source": [
    "#importing relevant libraries\n",
    "import pandas as pd \n",
    "import numpy as np\n",
    "import plotly.graph_objects as go\n",
    "import streamlit as st\n",
    "import plotly.express as px\n",
    "from datetime import datetime"
   ]
  },
  {
   "cell_type": "code",
   "execution_count": null,
   "id": "3181b59c",
   "metadata": {},
   "outputs": [],
   "source": [
    "#Define Functions \n",
    "def style_negative(v, props=''):\n",
    "    \"\"\" Style negative values in dataframe\"\"\"\n",
    "    try: \n",
    "        return props if v < 0 else None\n",
    "    except:\n",
    "        pass\n",
    "    \n",
    "def style_positive(v, props=''):\n",
    "    \"\"\"Style positive values in dataframe\"\"\"\n",
    "    try: \n",
    "        return props if v > 0 else None\n",
    "    except:\n",
    "        pass  "
   ]
  },
  {
   "cell_type": "code",
   "execution_count": 2,
   "id": "e8c143fd",
   "metadata": {},
   "outputs": [],
   "source": [
    "@st.cache\n",
    "def load_data():\n",
    "#read datasets, first column of first dataset is total so used iloc to not include the first column\n",
    " df_agg = pd.read_csv('Aggregated_Metrics_By_Video.csv').iloc[1:,:]\n",
    " df_agg_sub = pd.read_csv('Aggregated_Metrics_By_Country_And_Subscriber_Status.csv')\n",
    " df_comments = pd.read_csv('Aggregated_Metrics_By_Video.csv')\n",
    " df_time = pd.read_csv('Video_Performance_Over_Time.csv')\n",
    "\n",
    "#Changing column names, adding columns and assigning data types and sorting a table by video publish time\n",
    " df_agg.columns = ['Video','Video title','Video publish time','Comments added','Shares','Dislikes','Likes',\n",
    "                      'Subscribers lost','Subscribers gained','RPM(USD)','CPM(USD)','Average % viewed','Average view duration',\n",
    "                      'Views','Watch time (hours)','Subscribers','Your estimated revenue (USD)','Impressions','Impressions ctr(%)']\n",
    " df_agg['Video publish time'] = pd.to_datetime(df_agg['Video publish time'])\n",
    " df_agg['Average view duration'] = df_agg['Average view duration'].apply(lambda x: datetime.strptime(x,'%H:%M:%S'))\n",
    " df_agg['Avg_duration_sec'] = df_agg['Average view duration'].apply(lambda x: x.second + x.minute*60 + x.hour*3600)\n",
    " df_agg['Engagement_ratio'] =  (df_agg['Comments added'] + df_agg['Shares'] +df_agg['Dislikes'] + df_agg['Likes']) /df_agg.Views \n",
    " df_agg['Views / sub gained'] = df_agg['Views'] / df_agg['Subscribers gained']\n",
    " df_agg.sort_values('Video publish time', ascending = False, inplace = True) \n",
    " df_time['Date'] = pd.to_datetime(df_time['Date'])\n",
    " return df_agg, df_agg_sub, df_comments, df_time \n",
    "#df_agg, df_agg_sub, df_comments, df_time = load_data()"
   ]
  },
  {
   "cell_type": "code",
   "execution_count": 3,
   "id": "0331e2dc",
   "metadata": {},
   "outputs": [
    {
     "name": "stderr",
     "output_type": "stream",
     "text": [
      "2023-07-01 11:18:52.083 \n",
      "  \u001b[33m\u001b[1mWarning:\u001b[0m to view this Streamlit app on a browser, run it with the following\n",
      "  command:\n",
      "\n",
      "    streamlit run /Users/conkey/anaconda3/lib/python3.10/site-packages/ipykernel_launcher.py [ARGUMENTS]\n"
     ]
    }
   ],
   "source": [
    "#Adding a sidebar \n",
    "add_sidebar = st.sidebar.selectbox('Aggregate or Individual Video', ('Aggregate Metrics', 'Indivdiual Video Analysis'))"
   ]
  },
  {
   "cell_type": "code",
   "execution_count": 4,
   "id": "a2801fea",
   "metadata": {},
   "outputs": [
    {
     "ename": "NameError",
     "evalue": "name 'df_agg' is not defined",
     "output_type": "error",
     "traceback": [
      "\u001b[0;31m---------------------------------------------------------------------------\u001b[0m",
      "\u001b[0;31mNameError\u001b[0m                                 Traceback (most recent call last)",
      "Cell \u001b[0;32mIn[4], line 2\u001b[0m\n\u001b[1;32m      1\u001b[0m \u001b[38;5;66;03m#make a copy of the first table and take 12 months off the max publish time\u001b[39;00m\n\u001b[0;32m----> 2\u001b[0m df_agg_diff \u001b[38;5;241m=\u001b[39m \u001b[43mdf_agg\u001b[49m\u001b[38;5;241m.\u001b[39mcopy()\n\u001b[1;32m      3\u001b[0m metric_date_12mo \u001b[38;5;241m=\u001b[39m df_agg_diff[\u001b[38;5;124m'\u001b[39m\u001b[38;5;124mVideo publish time\u001b[39m\u001b[38;5;124m'\u001b[39m]\u001b[38;5;241m.\u001b[39mmax() \u001b[38;5;241m-\u001b[39m pd\u001b[38;5;241m.\u001b[39mDateOffset(months \u001b[38;5;241m=\u001b[39m\u001b[38;5;241m12\u001b[39m)\n",
      "\u001b[0;31mNameError\u001b[0m: name 'df_agg' is not defined"
     ]
    }
   ],
   "source": [
    "#make a copy of the first table and find the median video publish time in the last 12 months\n",
    "df_agg_diff = df_agg.copy()\n",
    "metric_date_12mo = df_agg_diff['Video publish time'].max() - pd.DateOffset(months =12)\n",
    "median_agg = df_agg_diff[df_agg_diff['Video publish time'] >= metric_date_12mo].median()"
   ]
  },
  {
   "cell_type": "code",
   "execution_count": null,
   "id": "135ea923",
   "metadata": {},
   "outputs": [],
   "source": [
    "#merge daily data with publish data to get delta \n",
    "df_time_diff = pd.merge(df_time, df_agg.loc[:,['Video','Video publish time']], left_on ='External Video ID', right_on = 'Video')\n",
    "df_time_diff['days_published'] = (df_time_diff['Date'] - df_time_diff['Video publish time']).dt.days\n",
    "\n",
    "# get last 12 months of data rather than all data \n",
    "date_12mo = df_agg['Video publish time'].max() - pd.DateOffset(months =12)\n",
    "df_time_diff_yr = df_time_diff[df_time_diff['Video publish time'] >= date_12mo]"
   ]
  },
  {
   "cell_type": "code",
   "execution_count": null,
   "id": "acf19654",
   "metadata": {},
   "outputs": [],
   "source": [
    "# get daily view data (first 30), median & percentiles \n",
    "views_days = pd.pivot_table(df_time_diff_yr,index= 'days_published',values ='Views', aggfunc = [np.mean,np.median,lambda x: np.percentile(x, 80),lambda x: np.percentile(x, 20)]).reset_index()\n",
    "views_days.columns = ['days_published','mean_views','median_views','80pct_views','20pct_views']\n",
    "views_days = views_days[views_days['days_published'].between(0,30)]\n",
    "views_cumulative = views_days.loc[:,['days_published','median_views','80pct_views','20pct_views']] \n",
    "views_cumulative.loc[:,['median_views','80pct_views','20pct_views']] = views_cumulative.loc[:,['median_views','80pct_views','20pct_views']].cumsum()"
   ]
  },
  {
   "cell_type": "code",
   "execution_count": 5,
   "id": "f51d3d30",
   "metadata": {},
   "outputs": [
    {
     "ename": "NameError",
     "evalue": "name 'df_agg_diff' is not defined",
     "output_type": "error",
     "traceback": [
      "\u001b[0;31m---------------------------------------------------------------------------\u001b[0m",
      "\u001b[0;31mNameError\u001b[0m                                 Traceback (most recent call last)",
      "Cell \u001b[0;32mIn[5], line 2\u001b[0m\n\u001b[1;32m      1\u001b[0m \u001b[38;5;66;03m#checking which columns are floats or which are integers and returning true if they are\u001b[39;00m\n\u001b[0;32m----> 2\u001b[0m numeric_cols \u001b[38;5;241m=\u001b[39m np\u001b[38;5;241m.\u001b[39marray((\u001b[43mdf_agg_diff\u001b[49m\u001b[38;5;241m.\u001b[39mdtypes \u001b[38;5;241m==\u001b[39m \u001b[38;5;124m'\u001b[39m\u001b[38;5;124mfloat64\u001b[39m\u001b[38;5;124m'\u001b[39m) \u001b[38;5;241m|\u001b[39m (df_agg_diff\u001b[38;5;241m.\u001b[39mdtypes \u001b[38;5;241m==\u001b[39m \u001b[38;5;124m'\u001b[39m\u001b[38;5;124mint64\u001b[39m\u001b[38;5;124m'\u001b[39m))\n\u001b[1;32m      4\u001b[0m \u001b[38;5;66;03m#finding the percent difference\u001b[39;00m\n\u001b[1;32m      5\u001b[0m df_agg_diff\u001b[38;5;241m.\u001b[39miloc[:,numeric_cols] \u001b[38;5;241m=\u001b[39m (df_agg_diff\u001b[38;5;241m.\u001b[39miloc[:,numeric_cols] \u001b[38;5;241m-\u001b[39m median_agg)\u001b[38;5;241m.\u001b[39mdiv(median_agg)\n",
      "\u001b[0;31mNameError\u001b[0m: name 'df_agg_diff' is not defined"
     ]
    }
   ],
   "source": [
    "#checking which columns are floats or which are integers and returning true if they are\n",
    "numeric_cols = np.array((df_agg_diff.dtypes == 'float64') | (df_agg_diff.dtypes == 'int64'))\n",
    "\n",
    "#finding the percent difference\n",
    "df_agg_diff.iloc[:,numeric_cols] = (df_agg_diff.iloc[:,numeric_cols] - median_agg).div(median_agg)\n"
   ]
  },
  {
   "cell_type": "code",
   "execution_count": null,
   "id": "eb52cc35",
   "metadata": {},
   "outputs": [],
   "source": [
    "if add_sidebar == 'Individual Video Analysis':\n",
    "#create selectbox for all the videos\n",
    "    videos = tuple(df_agg['Video title'])\n",
    "    st.write(\"Individual Video Performance\")\n",
    "    video_select = st.selectbox('Pick a Video:', videos)\n",
    "    \n",
    "    agg_filtered = df_agg[df_agg['Video title'] == video_select]\n",
    "    agg_sub_filtered = df_agg_sub[df_agg_sub['Video Title'] == video_select]\n",
    "    agg_sub_filtered['Country'] = agg_sub_filtered['Country Code'].apply(audience_simple)\n",
    "    agg_sub_filtered.sort_values('Is Subscribed', inplace= True)   \n",
    "    \n",
    "    #Bar chart\n",
    "    fig = px.bar(agg_sub_filtered, x ='Views', y='Is Subscribed', color ='Country', orientation ='h')\n",
    "    #order axis \n",
    "    st.plotly_chart(fig)\n",
    "    \n",
    "    agg_time_filtered = df_time_diff[df_time_diff['Video Title'] == video_select]\n",
    "    first_30 = agg_time_filtered[agg_time_filtered['days_published'].between(0,30)]\n",
    "    first_30 = first_30.sort_values('days_published')\n",
    "    \n",
    "    #Adding figure and columns as lines. (Times series plot)\n",
    "    fig2 = go.Figure()\n",
    "    fig2.add_trace(go.Scatter(x=views_cumulative['days_published'], y=views_cumulative['20pct_views'],\n",
    "                    mode='lines',\n",
    "                    name='20th percentile', line=dict(color='purple', dash ='dash')))\n",
    "    fig2.add_trace(go.Scatter(x=views_cumulative['days_published'], y=views_cumulative['median_views'],\n",
    "                        mode='lines',\n",
    "                        name='50th percentile', line=dict(color='black', dash ='dash')))\n",
    "    fig2.add_trace(go.Scatter(x=views_cumulative['days_published'], y=views_cumulative['80pct_views'],\n",
    "                        mode='lines', \n",
    "                        name='80th percentile', line=dict(color='royalblue', dash ='dash')))\n",
    "    fig2.add_trace(go.Scatter(x=first_30['days_published'], y=first_30['Views'].cumsum(),\n",
    "                        mode='lines', \n",
    "                        name='Current Video' ,line=dict(color='firebrick',width=8)))\n",
    "        \n",
    "    fig2.update_layout(title='View comparison first 30 days',\n",
    "                   xaxis_title='Days Since Published',\n",
    "                   yaxis_title='Cumulative views')\n",
    "    \n",
    "    st.plotly_chart(fig2)\n",
    "\n",
    "\n",
    "    \n",
    "\n",
    "if add_sidebar == 'Aggregate Metrics':\n",
    "    st.write(\"Ken Jee YouTube Aggregated Data\")\n",
    "    \n",
    "#Finding the median publish time in the last 12 and last 6 months\n",
    "    df_agg_metrics = df_agg[['Video publish time','Views','Likes','Subscribers','Shares','Comments added','RPM(USD)','Average % viewed',\n",
    "                             'Avg_duration_sec', 'Engagement_ratio','Views / sub gained']]\n",
    "    metric_date_6mo = df_agg_metrics['Video publish time'].max() - pd.DateOffset(months =6)\n",
    "    metric_date_12mo = df_agg_metrics['Video publish time'].max() - pd.DateOffset(months =12)\n",
    "    metric_medians6mo = df_agg_metrics[df_agg_metrics['Video publish time'] >= metric_date_6mo].median()\n",
    "    metric_medians12mo = df_agg_metrics[df_agg_metrics['Video publish time'] >= metric_date_12mo].median()\n",
    "    \n",
    "    col1, col2, col3, col4, col5 = st.columns(5)\n",
    "    columns = [col1, col2, col3, col4, col5]\n",
    "    \n",
    "#Creating all the metrics using a for loop\n",
    "    count = 0\n",
    "    for i in metric_medians6mo.index:\n",
    "        with columns[count]:\n",
    "            delta = (metric_medians6mo[i] - metric_medians12mo[i])/metric_medians12mo[i]\n",
    "            st.metric(label= i, value = round(metric_medians6mo[i],1), delta = \"{:.2%}\".format(delta))\n",
    "            count += 1\n",
    "            if count >= 5:\n",
    "                count = 0\n",
    "#Creating a table   \n",
    "    df_agg_diff['Publish_date'] = df_agg_diff['Video publish time'].apply(lambda x: x.date())\n",
    "    df_agg_diff_final = df_agg_diff.loc[:,['Video title','Publish_date','Views','Likes','Subscribers','Shares','Comments added','RPM(USD)','Average % viewed',\n",
    "                             'Avg_duration_sec', 'Engagement_ratio','Views / sub gained']]\n",
    "    st.dataframe(df_agg_diff_final.style.hide().applymap(style_negative, props='color:red;').applymap(style_positive, props='color:green;').format(df_to_pct))\n",
    "    \n",
    "    \n",
    "    #formatting numeric columns \n",
    "    df_agg_numeric_lst = df_agg_diff_final.median().index.tolist()\n",
    "    df_to_pct = {}\n",
    "    for i in df_agg_numeric_lst:\n",
    "        df_to_pct[i] = '{:.1%}'.format\n",
    "    \n"
   ]
  }
 ],
 "metadata": {
  "kernelspec": {
   "display_name": "Python 3 (ipykernel)",
   "language": "python",
   "name": "python3"
  },
  "language_info": {
   "codemirror_mode": {
    "name": "ipython",
    "version": 3
   },
   "file_extension": ".py",
   "mimetype": "text/x-python",
   "name": "python",
   "nbconvert_exporter": "python",
   "pygments_lexer": "ipython3",
   "version": "3.10.9"
  }
 },
 "nbformat": 4,
 "nbformat_minor": 5
}
