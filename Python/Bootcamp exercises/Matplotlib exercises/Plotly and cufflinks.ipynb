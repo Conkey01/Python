{
 "cells": [
  {
   "cell_type": "code",
   "execution_count": 5,
   "id": "b414d75d",
   "metadata": {},
   "outputs": [
    {
     "name": "stdout",
     "output_type": "stream",
     "text": [
      "Collecting cufflinks\n",
      "  Downloading cufflinks-0.17.3.tar.gz (81 kB)\n",
      "\u001b[2K     \u001b[90m━━━━━━━━━━━━━━━━━━━━━━━━━━━━━━━━━━━━━━━━\u001b[0m \u001b[32m81.7/81.7 kB\u001b[0m \u001b[31m1.2 MB/s\u001b[0m eta \u001b[36m0:00:00\u001b[0ma \u001b[36m0:00:01\u001b[0m\n",
      "\u001b[?25h  Preparing metadata (setup.py) ... \u001b[?25ldone\n",
      "\u001b[?25hRequirement already satisfied: numpy>=1.9.2 in /Users/conkey/anaconda3/lib/python3.10/site-packages (from cufflinks) (1.23.5)\n",
      "Requirement already satisfied: pandas>=0.19.2 in /Users/conkey/anaconda3/lib/python3.10/site-packages (from cufflinks) (1.5.3)\n",
      "Requirement already satisfied: plotly>=4.1.1 in /Users/conkey/anaconda3/lib/python3.10/site-packages (from cufflinks) (5.9.0)\n",
      "Requirement already satisfied: six>=1.9.0 in /Users/conkey/anaconda3/lib/python3.10/site-packages (from cufflinks) (1.16.0)\n",
      "Collecting colorlover>=0.2.1\n",
      "  Downloading colorlover-0.3.0-py3-none-any.whl (8.9 kB)\n",
      "Requirement already satisfied: setuptools>=34.4.1 in /Users/conkey/anaconda3/lib/python3.10/site-packages (from cufflinks) (65.6.3)\n",
      "Requirement already satisfied: ipython>=5.3.0 in /Users/conkey/anaconda3/lib/python3.10/site-packages (from cufflinks) (8.10.0)\n",
      "Collecting ipywidgets>=7.0.0\n",
      "  Downloading ipywidgets-8.0.7-py3-none-any.whl (138 kB)\n",
      "\u001b[2K     \u001b[90m━━━━━━━━━━━━━━━━━━━━━━━━━━━━━━━━━━━━━━━\u001b[0m \u001b[32m138.3/138.3 kB\u001b[0m \u001b[31m2.6 MB/s\u001b[0m eta \u001b[36m0:00:00\u001b[0ma \u001b[36m0:00:01\u001b[0m\n",
      "\u001b[?25hRequirement already satisfied: traitlets>=5 in /Users/conkey/anaconda3/lib/python3.10/site-packages (from ipython>=5.3.0->cufflinks) (5.7.1)\n",
      "Requirement already satisfied: prompt-toolkit<3.1.0,>=3.0.30 in /Users/conkey/anaconda3/lib/python3.10/site-packages (from ipython>=5.3.0->cufflinks) (3.0.36)\n",
      "Requirement already satisfied: pickleshare in /Users/conkey/anaconda3/lib/python3.10/site-packages (from ipython>=5.3.0->cufflinks) (0.7.5)\n",
      "Requirement already satisfied: decorator in /Users/conkey/anaconda3/lib/python3.10/site-packages (from ipython>=5.3.0->cufflinks) (5.1.1)\n",
      "Requirement already satisfied: pexpect>4.3 in /Users/conkey/anaconda3/lib/python3.10/site-packages (from ipython>=5.3.0->cufflinks) (4.8.0)\n",
      "Requirement already satisfied: backcall in /Users/conkey/anaconda3/lib/python3.10/site-packages (from ipython>=5.3.0->cufflinks) (0.2.0)\n",
      "Requirement already satisfied: appnope in /Users/conkey/anaconda3/lib/python3.10/site-packages (from ipython>=5.3.0->cufflinks) (0.1.2)\n",
      "Requirement already satisfied: stack-data in /Users/conkey/anaconda3/lib/python3.10/site-packages (from ipython>=5.3.0->cufflinks) (0.2.0)\n",
      "Requirement already satisfied: matplotlib-inline in /Users/conkey/anaconda3/lib/python3.10/site-packages (from ipython>=5.3.0->cufflinks) (0.1.6)\n",
      "Requirement already satisfied: pygments>=2.4.0 in /Users/conkey/anaconda3/lib/python3.10/site-packages (from ipython>=5.3.0->cufflinks) (2.15.1)\n",
      "Requirement already satisfied: jedi>=0.16 in /Users/conkey/anaconda3/lib/python3.10/site-packages (from ipython>=5.3.0->cufflinks) (0.18.1)\n",
      "Collecting jupyterlab-widgets~=3.0.7\n",
      "  Downloading jupyterlab_widgets-3.0.8-py3-none-any.whl (214 kB)\n",
      "\u001b[2K     \u001b[90m━━━━━━━━━━━━━━━━━━━━━━━━━━━━━━━━━━━━━━━\u001b[0m \u001b[32m215.0/215.0 kB\u001b[0m \u001b[31m5.1 MB/s\u001b[0m eta \u001b[36m0:00:00\u001b[0ma \u001b[36m0:00:01\u001b[0m\n",
      "\u001b[?25hCollecting widgetsnbextension~=4.0.7\n",
      "  Downloading widgetsnbextension-4.0.8-py3-none-any.whl (2.3 MB)\n",
      "\u001b[2K     \u001b[90m━━━━━━━━━━━━━━━━━━━━━━━━━━━━━━━━━━━━━━━━\u001b[0m \u001b[32m2.3/2.3 MB\u001b[0m \u001b[31m25.3 MB/s\u001b[0m eta \u001b[36m0:00:00\u001b[0m00:01\u001b[0m00:01\u001b[0m\n",
      "\u001b[?25hRequirement already satisfied: ipykernel>=4.5.1 in /Users/conkey/anaconda3/lib/python3.10/site-packages (from ipywidgets>=7.0.0->cufflinks) (6.19.2)\n",
      "Requirement already satisfied: python-dateutil>=2.8.1 in /Users/conkey/anaconda3/lib/python3.10/site-packages (from pandas>=0.19.2->cufflinks) (2.8.2)\n",
      "Requirement already satisfied: pytz>=2020.1 in /Users/conkey/anaconda3/lib/python3.10/site-packages (from pandas>=0.19.2->cufflinks) (2022.7)\n",
      "Requirement already satisfied: tenacity>=6.2.0 in /Users/conkey/anaconda3/lib/python3.10/site-packages (from plotly>=4.1.1->cufflinks) (8.0.1)\n",
      "Requirement already satisfied: psutil in /Users/conkey/anaconda3/lib/python3.10/site-packages (from ipykernel>=4.5.1->ipywidgets>=7.0.0->cufflinks) (5.9.0)\n",
      "Requirement already satisfied: pyzmq>=17 in /Users/conkey/anaconda3/lib/python3.10/site-packages (from ipykernel>=4.5.1->ipywidgets>=7.0.0->cufflinks) (23.2.0)\n",
      "Requirement already satisfied: debugpy>=1.0 in /Users/conkey/anaconda3/lib/python3.10/site-packages (from ipykernel>=4.5.1->ipywidgets>=7.0.0->cufflinks) (1.5.1)\n",
      "Requirement already satisfied: comm>=0.1.1 in /Users/conkey/anaconda3/lib/python3.10/site-packages (from ipykernel>=4.5.1->ipywidgets>=7.0.0->cufflinks) (0.1.2)\n",
      "Requirement already satisfied: tornado>=6.1 in /Users/conkey/anaconda3/lib/python3.10/site-packages (from ipykernel>=4.5.1->ipywidgets>=7.0.0->cufflinks) (6.1)\n",
      "Requirement already satisfied: nest-asyncio in /Users/conkey/anaconda3/lib/python3.10/site-packages (from ipykernel>=4.5.1->ipywidgets>=7.0.0->cufflinks) (1.5.6)\n",
      "Requirement already satisfied: jupyter-client>=6.1.12 in /Users/conkey/anaconda3/lib/python3.10/site-packages (from ipykernel>=4.5.1->ipywidgets>=7.0.0->cufflinks) (7.3.4)\n",
      "Requirement already satisfied: packaging in /Users/conkey/anaconda3/lib/python3.10/site-packages (from ipykernel>=4.5.1->ipywidgets>=7.0.0->cufflinks) (22.0)\n",
      "Requirement already satisfied: parso<0.9.0,>=0.8.0 in /Users/conkey/anaconda3/lib/python3.10/site-packages (from jedi>=0.16->ipython>=5.3.0->cufflinks) (0.8.3)\n",
      "Requirement already satisfied: ptyprocess>=0.5 in /Users/conkey/anaconda3/lib/python3.10/site-packages (from pexpect>4.3->ipython>=5.3.0->cufflinks) (0.7.0)\n",
      "Requirement already satisfied: wcwidth in /Users/conkey/anaconda3/lib/python3.10/site-packages (from prompt-toolkit<3.1.0,>=3.0.30->ipython>=5.3.0->cufflinks) (0.2.5)\n",
      "Requirement already satisfied: executing in /Users/conkey/anaconda3/lib/python3.10/site-packages (from stack-data->ipython>=5.3.0->cufflinks) (0.8.3)\n",
      "Requirement already satisfied: pure-eval in /Users/conkey/anaconda3/lib/python3.10/site-packages (from stack-data->ipython>=5.3.0->cufflinks) (0.2.2)\n",
      "Requirement already satisfied: asttokens in /Users/conkey/anaconda3/lib/python3.10/site-packages (from stack-data->ipython>=5.3.0->cufflinks) (2.0.5)\n",
      "Requirement already satisfied: entrypoints in /Users/conkey/anaconda3/lib/python3.10/site-packages (from jupyter-client>=6.1.12->ipykernel>=4.5.1->ipywidgets>=7.0.0->cufflinks) (0.4)\n",
      "Requirement already satisfied: jupyter-core>=4.9.2 in /Users/conkey/anaconda3/lib/python3.10/site-packages (from jupyter-client>=6.1.12->ipykernel>=4.5.1->ipywidgets>=7.0.0->cufflinks) (5.2.0)\n",
      "Requirement already satisfied: platformdirs>=2.5 in /Users/conkey/anaconda3/lib/python3.10/site-packages (from jupyter-core>=4.9.2->jupyter-client>=6.1.12->ipykernel>=4.5.1->ipywidgets>=7.0.0->cufflinks) (2.5.2)\n",
      "Building wheels for collected packages: cufflinks\n",
      "  Building wheel for cufflinks (setup.py) ... \u001b[?25ldone\n",
      "\u001b[?25h  Created wheel for cufflinks: filename=cufflinks-0.17.3-py3-none-any.whl size=67902 sha256=d2f9de0846acd71f979d38274f961ec98f58010f80d9d93ab4cf7a79bb13bd16\n",
      "  Stored in directory: /Users/conkey/Library/Caches/pip/wheels/b1/8f/ec/b76ac80a14f3f5f59643cbc2eee7d78690b1bd158279f299dd\n",
      "Successfully built cufflinks\n",
      "Installing collected packages: colorlover, widgetsnbextension, jupyterlab-widgets, ipywidgets, cufflinks\n",
      "Successfully installed colorlover-0.3.0 cufflinks-0.17.3 ipywidgets-8.0.7 jupyterlab-widgets-3.0.8 widgetsnbextension-4.0.8\n",
      "Note: you may need to restart the kernel to use updated packages.\n"
     ]
    }
   ],
   "source": [
    "pip install cufflinks"
   ]
  },
  {
   "cell_type": "code",
   "execution_count": 49,
   "id": "ef6a27b8",
   "metadata": {},
   "outputs": [],
   "source": [
    "import pandas as pd\n",
    "import numpy as np\n",
    "from plotly import __version__\n",
    "%matplotlib inline"
   ]
  },
  {
   "cell_type": "code",
   "execution_count": 42,
   "id": "9c01431f",
   "metadata": {},
   "outputs": [
    {
     "name": "stdout",
     "output_type": "stream",
     "text": [
      "5.9.0\n"
     ]
    }
   ],
   "source": [
    "print(__version__)"
   ]
  },
  {
   "cell_type": "code",
   "execution_count": 43,
   "id": "3ec47c35",
   "metadata": {},
   "outputs": [],
   "source": [
    "import cufflinks as cf\n",
    "from plotly.offline import download_plotlyjs,init_notebook_mode,plot,iplot"
   ]
  },
  {
   "cell_type": "code",
   "execution_count": 44,
   "id": "a37dbb1f",
   "metadata": {},
   "outputs": [
    {
     "data": {
      "text/html": [
       "        <script type=\"text/javascript\">\n",
       "        window.PlotlyConfig = {MathJaxConfig: 'local'};\n",
       "        if (window.MathJax && window.MathJax.Hub && window.MathJax.Hub.Config) {window.MathJax.Hub.Config({SVG: {font: \"STIX-Web\"}});}\n",
       "        if (typeof require !== 'undefined') {\n",
       "        require.undef(\"plotly\");\n",
       "        requirejs.config({\n",
       "            paths: {\n",
       "                'plotly': ['https://cdn.plot.ly/plotly-2.12.1.min']\n",
       "            }\n",
       "        });\n",
       "        require(['plotly'], function(Plotly) {\n",
       "            window._Plotly = Plotly;\n",
       "        });\n",
       "        }\n",
       "        </script>\n",
       "        "
      ]
     },
     "metadata": {},
     "output_type": "display_data"
    }
   ],
   "source": [
    "init_notebook_mode(connected=True)"
   ]
  },
  {
   "cell_type": "code",
   "execution_count": 45,
   "id": "0070a813",
   "metadata": {},
   "outputs": [
    {
     "data": {
      "text/html": [
       "        <script type=\"text/javascript\">\n",
       "        window.PlotlyConfig = {MathJaxConfig: 'local'};\n",
       "        if (window.MathJax && window.MathJax.Hub && window.MathJax.Hub.Config) {window.MathJax.Hub.Config({SVG: {font: \"STIX-Web\"}});}\n",
       "        if (typeof require !== 'undefined') {\n",
       "        require.undef(\"plotly\");\n",
       "        requirejs.config({\n",
       "            paths: {\n",
       "                'plotly': ['https://cdn.plot.ly/plotly-2.12.1.min']\n",
       "            }\n",
       "        });\n",
       "        require(['plotly'], function(Plotly) {\n",
       "            window._Plotly = Plotly;\n",
       "        });\n",
       "        }\n",
       "        </script>\n",
       "        "
      ]
     },
     "metadata": {},
     "output_type": "display_data"
    }
   ],
   "source": [
    "cf.go_offline()"
   ]
  },
  {
   "cell_type": "code",
   "execution_count": 46,
   "id": "9c986670",
   "metadata": {},
   "outputs": [],
   "source": [
    "df = pd.DataFrame(np.random.randn(100,4),columns='A B C D'.split())"
   ]
  },
  {
   "cell_type": "code",
   "execution_count": 47,
   "id": "f37ad31e",
   "metadata": {},
   "outputs": [
    {
     "data": {
      "text/html": [
       "<div>\n",
       "<style scoped>\n",
       "    .dataframe tbody tr th:only-of-type {\n",
       "        vertical-align: middle;\n",
       "    }\n",
       "\n",
       "    .dataframe tbody tr th {\n",
       "        vertical-align: top;\n",
       "    }\n",
       "\n",
       "    .dataframe thead th {\n",
       "        text-align: right;\n",
       "    }\n",
       "</style>\n",
       "<table border=\"1\" class=\"dataframe\">\n",
       "  <thead>\n",
       "    <tr style=\"text-align: right;\">\n",
       "      <th></th>\n",
       "      <th>A</th>\n",
       "      <th>B</th>\n",
       "      <th>C</th>\n",
       "      <th>D</th>\n",
       "    </tr>\n",
       "  </thead>\n",
       "  <tbody>\n",
       "    <tr>\n",
       "      <th>0</th>\n",
       "      <td>-2.024568</td>\n",
       "      <td>-0.638241</td>\n",
       "      <td>-0.224893</td>\n",
       "      <td>1.298015</td>\n",
       "    </tr>\n",
       "    <tr>\n",
       "      <th>1</th>\n",
       "      <td>-0.700010</td>\n",
       "      <td>-0.264452</td>\n",
       "      <td>1.250382</td>\n",
       "      <td>-0.233391</td>\n",
       "    </tr>\n",
       "    <tr>\n",
       "      <th>2</th>\n",
       "      <td>0.492301</td>\n",
       "      <td>-0.232137</td>\n",
       "      <td>-0.009752</td>\n",
       "      <td>1.103773</td>\n",
       "    </tr>\n",
       "    <tr>\n",
       "      <th>3</th>\n",
       "      <td>-0.172134</td>\n",
       "      <td>0.518018</td>\n",
       "      <td>0.165277</td>\n",
       "      <td>0.198062</td>\n",
       "    </tr>\n",
       "    <tr>\n",
       "      <th>4</th>\n",
       "      <td>0.130077</td>\n",
       "      <td>-1.124805</td>\n",
       "      <td>-0.374509</td>\n",
       "      <td>2.549860</td>\n",
       "    </tr>\n",
       "  </tbody>\n",
       "</table>\n",
       "</div>"
      ],
      "text/plain": [
       "          A         B         C         D\n",
       "0 -2.024568 -0.638241 -0.224893  1.298015\n",
       "1 -0.700010 -0.264452  1.250382 -0.233391\n",
       "2  0.492301 -0.232137 -0.009752  1.103773\n",
       "3 -0.172134  0.518018  0.165277  0.198062\n",
       "4  0.130077 -1.124805 -0.374509  2.549860"
      ]
     },
     "execution_count": 47,
     "metadata": {},
     "output_type": "execute_result"
    }
   ],
   "source": [
    "df.head()"
   ]
  },
  {
   "cell_type": "code",
   "execution_count": 48,
   "id": "78f34abd",
   "metadata": {},
   "outputs": [],
   "source": [
    "df2 = pd.DataFrame({'Category':['A','B','C'],'Values':[32,43,50]})"
   ]
  },
  {
   "cell_type": "code",
   "execution_count": 50,
   "id": "40d68c36",
   "metadata": {},
   "outputs": [
    {
     "data": {
      "application/vnd.plotly.v1+json": {
       "config": {
        "linkText": "Export to plot.ly",
        "plotlyServerURL": "https://plot.ly",
        "showLink": true
       },
       "data": [
        {
         "line": {
          "color": "rgba(255, 153, 51, 1.0)",
          "dash": "solid",
          "shape": "linear",
          "width": 1.3
         },
         "mode": "lines",
         "name": "A",
         "text": "",
         "type": "scatter",
         "x": [
          0,
          1,
          2,
          3,
          4,
          5,
          6,
          7,
          8,
          9,
          10,
          11,
          12,
          13,
          14,
          15,
          16,
          17,
          18,
          19,
          20,
          21,
          22,
          23,
          24,
          25,
          26,
          27,
          28,
          29,
          30,
          31,
          32,
          33,
          34,
          35,
          36,
          37,
          38,
          39,
          40,
          41,
          42,
          43,
          44,
          45,
          46,
          47,
          48,
          49,
          50,
          51,
          52,
          53,
          54,
          55,
          56,
          57,
          58,
          59,
          60,
          61,
          62,
          63,
          64,
          65,
          66,
          67,
          68,
          69,
          70,
          71,
          72,
          73,
          74,
          75,
          76,
          77,
          78,
          79,
          80,
          81,
          82,
          83,
          84,
          85,
          86,
          87,
          88,
          89,
          90,
          91,
          92,
          93,
          94,
          95,
          96,
          97,
          98,
          99
         ],
         "y": [
          -2.0245678545620653,
          -0.70000967402194,
          0.4923011266211667,
          -0.1721337617162361,
          0.1300772047032601,
          -0.8333704434524496,
          0.34121462467065816,
          0.9677726356756655,
          1.0120891924486815,
          1.2232183702754578,
          -0.8427421789582358,
          0.18819096793209314,
          -1.6095005021892217,
          0.41339125775669555,
          -0.8948518562686107,
          -0.1843957684237995,
          1.6860920350330262,
          1.7966629201710838,
          0.7059434946092662,
          -0.4638431276336962,
          0.8335385969736977,
          -0.7338353757187845,
          0.29198786778577684,
          0.7621576857108744,
          -1.2797389810464925,
          1.0297527504257031,
          0.9625278654239828,
          -1.7851418437008166,
          -1.0954108369089715,
          -2.8084934964522676,
          1.3198883643750479,
          0.39999831444598893,
          -1.141518084638812,
          -0.553833400359158,
          -0.5021357042202531,
          -1.7747620990430988,
          -0.7471339649507993,
          -1.680236866891475,
          0.16800536415649148,
          0.9624777623645401,
          0.7327131001167891,
          0.8596062243117514,
          0.9170009008811542,
          -0.8909419630348943,
          0.2427255664521905,
          -0.6065451458740814,
          0.2482809249447097,
          -1.8535909031151525,
          -0.09750333812372164,
          -0.8798749960318651,
          0.217800590401041,
          0.8029760466725708,
          0.6653151750366897,
          -0.3084497006647018,
          0.36768824082733653,
          -0.3339365462425808,
          0.13868616976000864,
          -0.714301240067701,
          0.5588471774554243,
          0.0069681037932292815,
          0.2403401185362488,
          0.47347545555015974,
          -1.1164580146104586,
          -1.3765949888678477,
          0.21828959853628632,
          0.2983118598338089,
          1.4624051256412518,
          -1.294335785990532,
          -1.1891868148706493,
          0.4480021923135863,
          0.12578697802044325,
          0.5113765435650498,
          0.1285909603816634,
          -0.6806646507469855,
          -0.28554355498000167,
          1.8309719250363772,
          -0.7378615237977918,
          0.8487554269717219,
          -0.22845770363282245,
          -1.3198777526010914,
          -1.7164357576246156,
          -0.8565176465067136,
          1.5973041294004924,
          1.2230412199308058,
          -0.7866323189888544,
          -1.3609919026164312,
          0.06459817804490998,
          0.921998675958377,
          2.1608332100400616,
          -0.44158263770700196,
          0.16697383520246797,
          0.15215444987588211,
          0.32083154833677463,
          -0.4768739422051255,
          0.15539672302809196,
          0.5132262797726742,
          0.5812646979598842,
          0.3999652636768709,
          -0.2552657391538536,
          0.09731861511588642
         ]
        },
        {
         "line": {
          "color": "rgba(55, 128, 191, 1.0)",
          "dash": "solid",
          "shape": "linear",
          "width": 1.3
         },
         "mode": "lines",
         "name": "B",
         "text": "",
         "type": "scatter",
         "x": [
          0,
          1,
          2,
          3,
          4,
          5,
          6,
          7,
          8,
          9,
          10,
          11,
          12,
          13,
          14,
          15,
          16,
          17,
          18,
          19,
          20,
          21,
          22,
          23,
          24,
          25,
          26,
          27,
          28,
          29,
          30,
          31,
          32,
          33,
          34,
          35,
          36,
          37,
          38,
          39,
          40,
          41,
          42,
          43,
          44,
          45,
          46,
          47,
          48,
          49,
          50,
          51,
          52,
          53,
          54,
          55,
          56,
          57,
          58,
          59,
          60,
          61,
          62,
          63,
          64,
          65,
          66,
          67,
          68,
          69,
          70,
          71,
          72,
          73,
          74,
          75,
          76,
          77,
          78,
          79,
          80,
          81,
          82,
          83,
          84,
          85,
          86,
          87,
          88,
          89,
          90,
          91,
          92,
          93,
          94,
          95,
          96,
          97,
          98,
          99
         ],
         "y": [
          -0.6382408485860838,
          -0.26445161392310296,
          -0.23213667337437718,
          0.5180176758815382,
          -1.1248049522097245,
          -0.380272960362963,
          -0.2932209551832816,
          -0.2983349399546075,
          0.8352757748805898,
          0.19767795485653444,
          -0.25848078585870043,
          0.6572601167502129,
          0.4792315672286233,
          -0.7297409216849485,
          0.4046424846202565,
          1.2968971276167458,
          0.13935965106348322,
          -0.6594484341435785,
          -0.02418590218582255,
          -2.5239897567978575,
          1.5346822177409631,
          -0.044687567248630725,
          1.6231383581412073,
          0.40026551057354326,
          -1.346220027753875,
          0.16491814429374466,
          0.9065722606320102,
          0.6700483963411383,
          -0.05104018162539486,
          1.1707146916736622,
          0.27196909622293,
          -0.823741868413821,
          -1.071654380390136,
          1.611845565479155,
          -0.6358684090521775,
          0.12088690562135754,
          -0.4238076744306274,
          0.30761109667202036,
          0.10090276567627783,
          -0.934825817248883,
          -0.11477621970946751,
          -0.25626272220601465,
          -2.2618111698047243,
          0.47059504469409547,
          0.3384630374158783,
          1.1429078856709527,
          1.039266887625021,
          -0.9967830206402708,
          -0.6202045714826442,
          0.22079305993745846,
          0.9115135718961257,
          -1.2122517475675738,
          1.0560300708411399,
          -1.9090176950054356,
          2.028179416010953,
          0.2831970755448901,
          0.6241028603371211,
          1.0407268957495415,
          -0.26224266816482766,
          0.5298657981252108,
          -2.0965098648132012,
          1.5130229822141446,
          -1.7078071537312842,
          -0.2720326625194213,
          1.5419814719954992,
          -0.3403798338394972,
          -0.2607484877893845,
          1.613613022678893,
          0.015346417608684809,
          0.8193595059346083,
          0.28400196804539557,
          0.23640271970560556,
          0.9643162048376709,
          -0.604459368826204,
          -1.2825284995959614,
          -0.3851992746376785,
          -0.2698997452038915,
          -0.1806119563245644,
          0.03316776563581451,
          -0.2064180896765948,
          0.5557810546207436,
          -0.9395511240801336,
          -0.3738586334196706,
          0.719627463803325,
          -1.1552010934966621,
          0.18725547161413295,
          -1.8598061078955381,
          -0.31999462379920496,
          -1.8573069884412665,
          0.5833843253960496,
          0.7005904412031791,
          -0.592374288827152,
          -0.32071254126644355,
          0.7437217160339742,
          -0.6523371315325809,
          -0.14606736635054363,
          -1.0609890385279603,
          -1.397175646717783,
          -0.4182909179317061,
          1.3303804152695233
         ]
        },
        {
         "line": {
          "color": "rgba(50, 171, 96, 1.0)",
          "dash": "solid",
          "shape": "linear",
          "width": 1.3
         },
         "mode": "lines",
         "name": "C",
         "text": "",
         "type": "scatter",
         "x": [
          0,
          1,
          2,
          3,
          4,
          5,
          6,
          7,
          8,
          9,
          10,
          11,
          12,
          13,
          14,
          15,
          16,
          17,
          18,
          19,
          20,
          21,
          22,
          23,
          24,
          25,
          26,
          27,
          28,
          29,
          30,
          31,
          32,
          33,
          34,
          35,
          36,
          37,
          38,
          39,
          40,
          41,
          42,
          43,
          44,
          45,
          46,
          47,
          48,
          49,
          50,
          51,
          52,
          53,
          54,
          55,
          56,
          57,
          58,
          59,
          60,
          61,
          62,
          63,
          64,
          65,
          66,
          67,
          68,
          69,
          70,
          71,
          72,
          73,
          74,
          75,
          76,
          77,
          78,
          79,
          80,
          81,
          82,
          83,
          84,
          85,
          86,
          87,
          88,
          89,
          90,
          91,
          92,
          93,
          94,
          95,
          96,
          97,
          98,
          99
         ],
         "y": [
          -0.224893079246173,
          1.2503815642723262,
          -0.009751551125147586,
          0.16527703916918052,
          -0.3745090835527552,
          0.515662283296908,
          1.0547154138277266,
          -0.22067757188991727,
          -0.6498584802383204,
          -2.07908895587237,
          2.1403465577961116,
          1.6445158565680038,
          -1.0175955610791787,
          -0.17251980686788723,
          -0.19414925926115856,
          0.9311926054750844,
          0.24273553610203655,
          -0.8953402123461103,
          -0.3387964991908508,
          0.36389088884917165,
          0.4405868040137417,
          -0.21012156100866447,
          -2.788900751431851,
          1.198143626275225,
          -0.4127880365061836,
          -0.238621684631133,
          0.4371715805619799,
          1.256886884011327,
          -0.060193643202252595,
          0.3059995769855611,
          -0.4158291391773987,
          2.1475559417541734,
          -0.6243802744709012,
          0.5817247352369509,
          0.39266255814740997,
          0.5649256027013886,
          0.8061396519459106,
          0.6195039399742812,
          0.02177467231854164,
          -1.319899574991042,
          -0.3356450667412887,
          0.03748262752761676,
          0.21357396085531327,
          0.1224416437776951,
          -0.2197873964063419,
          -1.0600124514378158,
          -0.3345568122382559,
          -0.5769051564609712,
          2.8592353822054193,
          0.9402264092354687,
          1.1170894271622458,
          1.1025825408160912,
          1.4589599777641047,
          -0.00559822897158635,
          0.649167046273083,
          0.5962648454476672,
          2.1015783595893724,
          -1.0004967709798152,
          -0.794419492093333,
          0.8507876014851588,
          -0.43312010038274834,
          -0.25549192361797196,
          0.3408418093354243,
          -1.3140065306556812,
          -0.892627715873621,
          0.2800577801511644,
          -1.8190732690240992,
          0.7071155509495465,
          -1.2699887648430062,
          1.1691192931392227,
          0.11665823912731504,
          -0.5073035259374067,
          -1.0932263125943875,
          0.20275177216827314,
          -0.11142118650757836,
          0.02910736140493556,
          0.9342531709146351,
          0.16746231525434202,
          -0.4608568591137009,
          -0.3901894838095558,
          0.6092957626506681,
          -0.5557513480847908,
          -0.21909070450172796,
          -0.537747844859767,
          -0.672824530162349,
          2.6124495827756866,
          1.6013530267662324,
          -0.10470803359208224,
          -0.48551242090787217,
          -0.36798474127000314,
          0.4582902064494334,
          1.2426685607553631,
          1.1506367383501355,
          -0.48916011980898466,
          -2.311296255514442,
          1.1525036060530027,
          0.18302057139365044,
          -0.13978553105887837,
          -0.04229289544270978,
          0.04282490464750087
         ]
        },
        {
         "line": {
          "color": "rgba(128, 0, 128, 1.0)",
          "dash": "solid",
          "shape": "linear",
          "width": 1.3
         },
         "mode": "lines",
         "name": "D",
         "text": "",
         "type": "scatter",
         "x": [
          0,
          1,
          2,
          3,
          4,
          5,
          6,
          7,
          8,
          9,
          10,
          11,
          12,
          13,
          14,
          15,
          16,
          17,
          18,
          19,
          20,
          21,
          22,
          23,
          24,
          25,
          26,
          27,
          28,
          29,
          30,
          31,
          32,
          33,
          34,
          35,
          36,
          37,
          38,
          39,
          40,
          41,
          42,
          43,
          44,
          45,
          46,
          47,
          48,
          49,
          50,
          51,
          52,
          53,
          54,
          55,
          56,
          57,
          58,
          59,
          60,
          61,
          62,
          63,
          64,
          65,
          66,
          67,
          68,
          69,
          70,
          71,
          72,
          73,
          74,
          75,
          76,
          77,
          78,
          79,
          80,
          81,
          82,
          83,
          84,
          85,
          86,
          87,
          88,
          89,
          90,
          91,
          92,
          93,
          94,
          95,
          96,
          97,
          98,
          99
         ],
         "y": [
          1.298015485089696,
          -0.23339096447922594,
          1.1037728080136389,
          0.19806209294100593,
          2.549860056192145,
          -0.9061470055249541,
          -1.6191346355086136,
          -0.6402695199792406,
          0.5301304795188629,
          0.10826973860060203,
          -0.03096417152728443,
          -1.333260776229409,
          -0.5106018658222338,
          -1.2602161142365913,
          1.0541069690486944,
          -0.5360890299819138,
          1.2919783215192175,
          -0.06548767963927178,
          1.292524371037477,
          0.4704853470988679,
          -0.01271146868624112,
          -1.6469302468272102,
          -0.48917579782210724,
          0.37733382079878897,
          -1.1976258256123749,
          0.20879853261299658,
          0.2444678967514823,
          0.16870241860798135,
          1.6006255420901228,
          -0.028579174827799286,
          1.3256317621847986,
          -1.3605698101646098,
          0.8195467855949271,
          -0.9808516343193202,
          -0.6390064981962895,
          -1.245203809566456,
          0.4337270017046839,
          1.234528835493931,
          -0.4104457369366574,
          0.5665420894986996,
          -0.7449291411997484,
          -1.2267447902634088,
          1.1227345594966862,
          -0.12979808400976459,
          -0.6269374526327316,
          0.292703498655163,
          0.6257393332073456,
          0.45996788432615043,
          0.5043667581526481,
          2.237293213159649,
          -1.4060039933788429,
          0.1788743528339559,
          -1.134521652233473,
          -0.015399492226502463,
          -0.9684748530238916,
          -1.4820224914118059,
          0.1715902804964764,
          -0.42039750746697546,
          0.8498256250305002,
          -0.2453748541806391,
          -0.8775939924189635,
          -2.9231849271662522,
          -0.9748902362208998,
          0.20637640117167275,
          0.5947071928430647,
          -0.30435577684235404,
          -2.1039353759161292,
          1.115513771005786,
          -0.5120600168812814,
          -2.075411098303332,
          2.253424939189268,
          0.7288262548169948,
          -0.7438074474356711,
          1.4919452591038689,
          1.3918176520913537,
          0.23639510290963997,
          -2.294323561421982,
          1.5561353538714506,
          -1.1615335890268663,
          -0.6852963592356053,
          0.08255655206476742,
          -1.6276212209267913,
          1.5138596525635728,
          0.3988950310224964,
          -0.5596997640137246,
          0.8127648867817936,
          -0.9090456772154684,
          -0.2023741303876413,
          -1.0759692892756814,
          -1.0116840652689627,
          -0.5956950303753511,
          0.6474080682588678,
          0.7648410756169055,
          1.5983143212427664,
          -1.2084704597596465,
          -1.187085251520976,
          -0.7207177114828895,
          -1.1365632858321943,
          1.1963260943489973,
          -1.9694894606706348
         ]
        }
       ],
       "layout": {
        "legend": {
         "bgcolor": "#F5F6F9",
         "font": {
          "color": "#4D5663"
         }
        },
        "paper_bgcolor": "#F5F6F9",
        "plot_bgcolor": "#F5F6F9",
        "template": {
         "data": {
          "bar": [
           {
            "error_x": {
             "color": "#2a3f5f"
            },
            "error_y": {
             "color": "#2a3f5f"
            },
            "marker": {
             "line": {
              "color": "#E5ECF6",
              "width": 0.5
             },
             "pattern": {
              "fillmode": "overlay",
              "size": 10,
              "solidity": 0.2
             }
            },
            "type": "bar"
           }
          ],
          "barpolar": [
           {
            "marker": {
             "line": {
              "color": "#E5ECF6",
              "width": 0.5
             },
             "pattern": {
              "fillmode": "overlay",
              "size": 10,
              "solidity": 0.2
             }
            },
            "type": "barpolar"
           }
          ],
          "carpet": [
           {
            "aaxis": {
             "endlinecolor": "#2a3f5f",
             "gridcolor": "white",
             "linecolor": "white",
             "minorgridcolor": "white",
             "startlinecolor": "#2a3f5f"
            },
            "baxis": {
             "endlinecolor": "#2a3f5f",
             "gridcolor": "white",
             "linecolor": "white",
             "minorgridcolor": "white",
             "startlinecolor": "#2a3f5f"
            },
            "type": "carpet"
           }
          ],
          "choropleth": [
           {
            "colorbar": {
             "outlinewidth": 0,
             "ticks": ""
            },
            "type": "choropleth"
           }
          ],
          "contour": [
           {
            "colorbar": {
             "outlinewidth": 0,
             "ticks": ""
            },
            "colorscale": [
             [
              0,
              "#0d0887"
             ],
             [
              0.1111111111111111,
              "#46039f"
             ],
             [
              0.2222222222222222,
              "#7201a8"
             ],
             [
              0.3333333333333333,
              "#9c179e"
             ],
             [
              0.4444444444444444,
              "#bd3786"
             ],
             [
              0.5555555555555556,
              "#d8576b"
             ],
             [
              0.6666666666666666,
              "#ed7953"
             ],
             [
              0.7777777777777778,
              "#fb9f3a"
             ],
             [
              0.8888888888888888,
              "#fdca26"
             ],
             [
              1,
              "#f0f921"
             ]
            ],
            "type": "contour"
           }
          ],
          "contourcarpet": [
           {
            "colorbar": {
             "outlinewidth": 0,
             "ticks": ""
            },
            "type": "contourcarpet"
           }
          ],
          "heatmap": [
           {
            "colorbar": {
             "outlinewidth": 0,
             "ticks": ""
            },
            "colorscale": [
             [
              0,
              "#0d0887"
             ],
             [
              0.1111111111111111,
              "#46039f"
             ],
             [
              0.2222222222222222,
              "#7201a8"
             ],
             [
              0.3333333333333333,
              "#9c179e"
             ],
             [
              0.4444444444444444,
              "#bd3786"
             ],
             [
              0.5555555555555556,
              "#d8576b"
             ],
             [
              0.6666666666666666,
              "#ed7953"
             ],
             [
              0.7777777777777778,
              "#fb9f3a"
             ],
             [
              0.8888888888888888,
              "#fdca26"
             ],
             [
              1,
              "#f0f921"
             ]
            ],
            "type": "heatmap"
           }
          ],
          "heatmapgl": [
           {
            "colorbar": {
             "outlinewidth": 0,
             "ticks": ""
            },
            "colorscale": [
             [
              0,
              "#0d0887"
             ],
             [
              0.1111111111111111,
              "#46039f"
             ],
             [
              0.2222222222222222,
              "#7201a8"
             ],
             [
              0.3333333333333333,
              "#9c179e"
             ],
             [
              0.4444444444444444,
              "#bd3786"
             ],
             [
              0.5555555555555556,
              "#d8576b"
             ],
             [
              0.6666666666666666,
              "#ed7953"
             ],
             [
              0.7777777777777778,
              "#fb9f3a"
             ],
             [
              0.8888888888888888,
              "#fdca26"
             ],
             [
              1,
              "#f0f921"
             ]
            ],
            "type": "heatmapgl"
           }
          ],
          "histogram": [
           {
            "marker": {
             "pattern": {
              "fillmode": "overlay",
              "size": 10,
              "solidity": 0.2
             }
            },
            "type": "histogram"
           }
          ],
          "histogram2d": [
           {
            "colorbar": {
             "outlinewidth": 0,
             "ticks": ""
            },
            "colorscale": [
             [
              0,
              "#0d0887"
             ],
             [
              0.1111111111111111,
              "#46039f"
             ],
             [
              0.2222222222222222,
              "#7201a8"
             ],
             [
              0.3333333333333333,
              "#9c179e"
             ],
             [
              0.4444444444444444,
              "#bd3786"
             ],
             [
              0.5555555555555556,
              "#d8576b"
             ],
             [
              0.6666666666666666,
              "#ed7953"
             ],
             [
              0.7777777777777778,
              "#fb9f3a"
             ],
             [
              0.8888888888888888,
              "#fdca26"
             ],
             [
              1,
              "#f0f921"
             ]
            ],
            "type": "histogram2d"
           }
          ],
          "histogram2dcontour": [
           {
            "colorbar": {
             "outlinewidth": 0,
             "ticks": ""
            },
            "colorscale": [
             [
              0,
              "#0d0887"
             ],
             [
              0.1111111111111111,
              "#46039f"
             ],
             [
              0.2222222222222222,
              "#7201a8"
             ],
             [
              0.3333333333333333,
              "#9c179e"
             ],
             [
              0.4444444444444444,
              "#bd3786"
             ],
             [
              0.5555555555555556,
              "#d8576b"
             ],
             [
              0.6666666666666666,
              "#ed7953"
             ],
             [
              0.7777777777777778,
              "#fb9f3a"
             ],
             [
              0.8888888888888888,
              "#fdca26"
             ],
             [
              1,
              "#f0f921"
             ]
            ],
            "type": "histogram2dcontour"
           }
          ],
          "mesh3d": [
           {
            "colorbar": {
             "outlinewidth": 0,
             "ticks": ""
            },
            "type": "mesh3d"
           }
          ],
          "parcoords": [
           {
            "line": {
             "colorbar": {
              "outlinewidth": 0,
              "ticks": ""
             }
            },
            "type": "parcoords"
           }
          ],
          "pie": [
           {
            "automargin": true,
            "type": "pie"
           }
          ],
          "scatter": [
           {
            "fillpattern": {
             "fillmode": "overlay",
             "size": 10,
             "solidity": 0.2
            },
            "type": "scatter"
           }
          ],
          "scatter3d": [
           {
            "line": {
             "colorbar": {
              "outlinewidth": 0,
              "ticks": ""
             }
            },
            "marker": {
             "colorbar": {
              "outlinewidth": 0,
              "ticks": ""
             }
            },
            "type": "scatter3d"
           }
          ],
          "scattercarpet": [
           {
            "marker": {
             "colorbar": {
              "outlinewidth": 0,
              "ticks": ""
             }
            },
            "type": "scattercarpet"
           }
          ],
          "scattergeo": [
           {
            "marker": {
             "colorbar": {
              "outlinewidth": 0,
              "ticks": ""
             }
            },
            "type": "scattergeo"
           }
          ],
          "scattergl": [
           {
            "marker": {
             "colorbar": {
              "outlinewidth": 0,
              "ticks": ""
             }
            },
            "type": "scattergl"
           }
          ],
          "scattermapbox": [
           {
            "marker": {
             "colorbar": {
              "outlinewidth": 0,
              "ticks": ""
             }
            },
            "type": "scattermapbox"
           }
          ],
          "scatterpolar": [
           {
            "marker": {
             "colorbar": {
              "outlinewidth": 0,
              "ticks": ""
             }
            },
            "type": "scatterpolar"
           }
          ],
          "scatterpolargl": [
           {
            "marker": {
             "colorbar": {
              "outlinewidth": 0,
              "ticks": ""
             }
            },
            "type": "scatterpolargl"
           }
          ],
          "scatterternary": [
           {
            "marker": {
             "colorbar": {
              "outlinewidth": 0,
              "ticks": ""
             }
            },
            "type": "scatterternary"
           }
          ],
          "surface": [
           {
            "colorbar": {
             "outlinewidth": 0,
             "ticks": ""
            },
            "colorscale": [
             [
              0,
              "#0d0887"
             ],
             [
              0.1111111111111111,
              "#46039f"
             ],
             [
              0.2222222222222222,
              "#7201a8"
             ],
             [
              0.3333333333333333,
              "#9c179e"
             ],
             [
              0.4444444444444444,
              "#bd3786"
             ],
             [
              0.5555555555555556,
              "#d8576b"
             ],
             [
              0.6666666666666666,
              "#ed7953"
             ],
             [
              0.7777777777777778,
              "#fb9f3a"
             ],
             [
              0.8888888888888888,
              "#fdca26"
             ],
             [
              1,
              "#f0f921"
             ]
            ],
            "type": "surface"
           }
          ],
          "table": [
           {
            "cells": {
             "fill": {
              "color": "#EBF0F8"
             },
             "line": {
              "color": "white"
             }
            },
            "header": {
             "fill": {
              "color": "#C8D4E3"
             },
             "line": {
              "color": "white"
             }
            },
            "type": "table"
           }
          ]
         },
         "layout": {
          "annotationdefaults": {
           "arrowcolor": "#2a3f5f",
           "arrowhead": 0,
           "arrowwidth": 1
          },
          "autotypenumbers": "strict",
          "coloraxis": {
           "colorbar": {
            "outlinewidth": 0,
            "ticks": ""
           }
          },
          "colorscale": {
           "diverging": [
            [
             0,
             "#8e0152"
            ],
            [
             0.1,
             "#c51b7d"
            ],
            [
             0.2,
             "#de77ae"
            ],
            [
             0.3,
             "#f1b6da"
            ],
            [
             0.4,
             "#fde0ef"
            ],
            [
             0.5,
             "#f7f7f7"
            ],
            [
             0.6,
             "#e6f5d0"
            ],
            [
             0.7,
             "#b8e186"
            ],
            [
             0.8,
             "#7fbc41"
            ],
            [
             0.9,
             "#4d9221"
            ],
            [
             1,
             "#276419"
            ]
           ],
           "sequential": [
            [
             0,
             "#0d0887"
            ],
            [
             0.1111111111111111,
             "#46039f"
            ],
            [
             0.2222222222222222,
             "#7201a8"
            ],
            [
             0.3333333333333333,
             "#9c179e"
            ],
            [
             0.4444444444444444,
             "#bd3786"
            ],
            [
             0.5555555555555556,
             "#d8576b"
            ],
            [
             0.6666666666666666,
             "#ed7953"
            ],
            [
             0.7777777777777778,
             "#fb9f3a"
            ],
            [
             0.8888888888888888,
             "#fdca26"
            ],
            [
             1,
             "#f0f921"
            ]
           ],
           "sequentialminus": [
            [
             0,
             "#0d0887"
            ],
            [
             0.1111111111111111,
             "#46039f"
            ],
            [
             0.2222222222222222,
             "#7201a8"
            ],
            [
             0.3333333333333333,
             "#9c179e"
            ],
            [
             0.4444444444444444,
             "#bd3786"
            ],
            [
             0.5555555555555556,
             "#d8576b"
            ],
            [
             0.6666666666666666,
             "#ed7953"
            ],
            [
             0.7777777777777778,
             "#fb9f3a"
            ],
            [
             0.8888888888888888,
             "#fdca26"
            ],
            [
             1,
             "#f0f921"
            ]
           ]
          },
          "colorway": [
           "#636efa",
           "#EF553B",
           "#00cc96",
           "#ab63fa",
           "#FFA15A",
           "#19d3f3",
           "#FF6692",
           "#B6E880",
           "#FF97FF",
           "#FECB52"
          ],
          "font": {
           "color": "#2a3f5f"
          },
          "geo": {
           "bgcolor": "white",
           "lakecolor": "white",
           "landcolor": "#E5ECF6",
           "showlakes": true,
           "showland": true,
           "subunitcolor": "white"
          },
          "hoverlabel": {
           "align": "left"
          },
          "hovermode": "closest",
          "mapbox": {
           "style": "light"
          },
          "paper_bgcolor": "white",
          "plot_bgcolor": "#E5ECF6",
          "polar": {
           "angularaxis": {
            "gridcolor": "white",
            "linecolor": "white",
            "ticks": ""
           },
           "bgcolor": "#E5ECF6",
           "radialaxis": {
            "gridcolor": "white",
            "linecolor": "white",
            "ticks": ""
           }
          },
          "scene": {
           "xaxis": {
            "backgroundcolor": "#E5ECF6",
            "gridcolor": "white",
            "gridwidth": 2,
            "linecolor": "white",
            "showbackground": true,
            "ticks": "",
            "zerolinecolor": "white"
           },
           "yaxis": {
            "backgroundcolor": "#E5ECF6",
            "gridcolor": "white",
            "gridwidth": 2,
            "linecolor": "white",
            "showbackground": true,
            "ticks": "",
            "zerolinecolor": "white"
           },
           "zaxis": {
            "backgroundcolor": "#E5ECF6",
            "gridcolor": "white",
            "gridwidth": 2,
            "linecolor": "white",
            "showbackground": true,
            "ticks": "",
            "zerolinecolor": "white"
           }
          },
          "shapedefaults": {
           "line": {
            "color": "#2a3f5f"
           }
          },
          "ternary": {
           "aaxis": {
            "gridcolor": "white",
            "linecolor": "white",
            "ticks": ""
           },
           "baxis": {
            "gridcolor": "white",
            "linecolor": "white",
            "ticks": ""
           },
           "bgcolor": "#E5ECF6",
           "caxis": {
            "gridcolor": "white",
            "linecolor": "white",
            "ticks": ""
           }
          },
          "title": {
           "x": 0.05
          },
          "xaxis": {
           "automargin": true,
           "gridcolor": "white",
           "linecolor": "white",
           "ticks": "",
           "title": {
            "standoff": 15
           },
           "zerolinecolor": "white",
           "zerolinewidth": 2
          },
          "yaxis": {
           "automargin": true,
           "gridcolor": "white",
           "linecolor": "white",
           "ticks": "",
           "title": {
            "standoff": 15
           },
           "zerolinecolor": "white",
           "zerolinewidth": 2
          }
         }
        },
        "title": {
         "font": {
          "color": "#4D5663"
         }
        },
        "xaxis": {
         "gridcolor": "#E1E5ED",
         "showgrid": true,
         "tickfont": {
          "color": "#4D5663"
         },
         "title": {
          "font": {
           "color": "#4D5663"
          },
          "text": ""
         },
         "zerolinecolor": "#E1E5ED"
        },
        "yaxis": {
         "gridcolor": "#E1E5ED",
         "showgrid": true,
         "tickfont": {
          "color": "#4D5663"
         },
         "title": {
          "font": {
           "color": "#4D5663"
          },
          "text": ""
         },
         "zerolinecolor": "#E1E5ED"
        }
       }
      },
      "text/html": [
       "<div>                            <div id=\"1bacca7a-39c6-4768-8c2f-88388d829461\" class=\"plotly-graph-div\" style=\"height:525px; width:100%;\"></div>            <script type=\"text/javascript\">                require([\"plotly\"], function(Plotly) {                    window.PLOTLYENV=window.PLOTLYENV || {};\n",
       "                    window.PLOTLYENV.BASE_URL='https://plot.ly';                                    if (document.getElementById(\"1bacca7a-39c6-4768-8c2f-88388d829461\")) {                    Plotly.newPlot(                        \"1bacca7a-39c6-4768-8c2f-88388d829461\",                        [{\"line\":{\"color\":\"rgba(255, 153, 51, 1.0)\",\"dash\":\"solid\",\"shape\":\"linear\",\"width\":1.3},\"mode\":\"lines\",\"name\":\"A\",\"text\":\"\",\"x\":[0,1,2,3,4,5,6,7,8,9,10,11,12,13,14,15,16,17,18,19,20,21,22,23,24,25,26,27,28,29,30,31,32,33,34,35,36,37,38,39,40,41,42,43,44,45,46,47,48,49,50,51,52,53,54,55,56,57,58,59,60,61,62,63,64,65,66,67,68,69,70,71,72,73,74,75,76,77,78,79,80,81,82,83,84,85,86,87,88,89,90,91,92,93,94,95,96,97,98,99],\"y\":[-2.0245678545620653,-0.70000967402194,0.4923011266211667,-0.1721337617162361,0.1300772047032601,-0.8333704434524496,0.34121462467065816,0.9677726356756655,1.0120891924486815,1.2232183702754578,-0.8427421789582358,0.18819096793209314,-1.6095005021892217,0.41339125775669555,-0.8948518562686107,-0.1843957684237995,1.6860920350330262,1.7966629201710838,0.7059434946092662,-0.4638431276336962,0.8335385969736977,-0.7338353757187845,0.29198786778577684,0.7621576857108744,-1.2797389810464925,1.0297527504257031,0.9625278654239828,-1.7851418437008166,-1.0954108369089715,-2.8084934964522676,1.3198883643750479,0.39999831444598893,-1.141518084638812,-0.553833400359158,-0.5021357042202531,-1.7747620990430988,-0.7471339649507993,-1.680236866891475,0.16800536415649148,0.9624777623645401,0.7327131001167891,0.8596062243117514,0.9170009008811542,-0.8909419630348943,0.2427255664521905,-0.6065451458740814,0.2482809249447097,-1.8535909031151525,-0.09750333812372164,-0.8798749960318651,0.217800590401041,0.8029760466725708,0.6653151750366897,-0.3084497006647018,0.36768824082733653,-0.3339365462425808,0.13868616976000864,-0.714301240067701,0.5588471774554243,0.0069681037932292815,0.2403401185362488,0.47347545555015974,-1.1164580146104586,-1.3765949888678477,0.21828959853628632,0.2983118598338089,1.4624051256412518,-1.294335785990532,-1.1891868148706493,0.4480021923135863,0.12578697802044325,0.5113765435650498,0.1285909603816634,-0.6806646507469855,-0.28554355498000167,1.8309719250363772,-0.7378615237977918,0.8487554269717219,-0.22845770363282245,-1.3198777526010914,-1.7164357576246156,-0.8565176465067136,1.5973041294004924,1.2230412199308058,-0.7866323189888544,-1.3609919026164312,0.06459817804490998,0.921998675958377,2.1608332100400616,-0.44158263770700196,0.16697383520246797,0.15215444987588211,0.32083154833677463,-0.4768739422051255,0.15539672302809196,0.5132262797726742,0.5812646979598842,0.3999652636768709,-0.2552657391538536,0.09731861511588642],\"type\":\"scatter\"},{\"line\":{\"color\":\"rgba(55, 128, 191, 1.0)\",\"dash\":\"solid\",\"shape\":\"linear\",\"width\":1.3},\"mode\":\"lines\",\"name\":\"B\",\"text\":\"\",\"x\":[0,1,2,3,4,5,6,7,8,9,10,11,12,13,14,15,16,17,18,19,20,21,22,23,24,25,26,27,28,29,30,31,32,33,34,35,36,37,38,39,40,41,42,43,44,45,46,47,48,49,50,51,52,53,54,55,56,57,58,59,60,61,62,63,64,65,66,67,68,69,70,71,72,73,74,75,76,77,78,79,80,81,82,83,84,85,86,87,88,89,90,91,92,93,94,95,96,97,98,99],\"y\":[-0.6382408485860838,-0.26445161392310296,-0.23213667337437718,0.5180176758815382,-1.1248049522097245,-0.380272960362963,-0.2932209551832816,-0.2983349399546075,0.8352757748805898,0.19767795485653444,-0.25848078585870043,0.6572601167502129,0.4792315672286233,-0.7297409216849485,0.4046424846202565,1.2968971276167458,0.13935965106348322,-0.6594484341435785,-0.02418590218582255,-2.5239897567978575,1.5346822177409631,-0.044687567248630725,1.6231383581412073,0.40026551057354326,-1.346220027753875,0.16491814429374466,0.9065722606320102,0.6700483963411383,-0.05104018162539486,1.1707146916736622,0.27196909622293,-0.823741868413821,-1.071654380390136,1.611845565479155,-0.6358684090521775,0.12088690562135754,-0.4238076744306274,0.30761109667202036,0.10090276567627783,-0.934825817248883,-0.11477621970946751,-0.25626272220601465,-2.2618111698047243,0.47059504469409547,0.3384630374158783,1.1429078856709527,1.039266887625021,-0.9967830206402708,-0.6202045714826442,0.22079305993745846,0.9115135718961257,-1.2122517475675738,1.0560300708411399,-1.9090176950054356,2.028179416010953,0.2831970755448901,0.6241028603371211,1.0407268957495415,-0.26224266816482766,0.5298657981252108,-2.0965098648132012,1.5130229822141446,-1.7078071537312842,-0.2720326625194213,1.5419814719954992,-0.3403798338394972,-0.2607484877893845,1.613613022678893,0.015346417608684809,0.8193595059346083,0.28400196804539557,0.23640271970560556,0.9643162048376709,-0.604459368826204,-1.2825284995959614,-0.3851992746376785,-0.2698997452038915,-0.1806119563245644,0.03316776563581451,-0.2064180896765948,0.5557810546207436,-0.9395511240801336,-0.3738586334196706,0.719627463803325,-1.1552010934966621,0.18725547161413295,-1.8598061078955381,-0.31999462379920496,-1.8573069884412665,0.5833843253960496,0.7005904412031791,-0.592374288827152,-0.32071254126644355,0.7437217160339742,-0.6523371315325809,-0.14606736635054363,-1.0609890385279603,-1.397175646717783,-0.4182909179317061,1.3303804152695233],\"type\":\"scatter\"},{\"line\":{\"color\":\"rgba(50, 171, 96, 1.0)\",\"dash\":\"solid\",\"shape\":\"linear\",\"width\":1.3},\"mode\":\"lines\",\"name\":\"C\",\"text\":\"\",\"x\":[0,1,2,3,4,5,6,7,8,9,10,11,12,13,14,15,16,17,18,19,20,21,22,23,24,25,26,27,28,29,30,31,32,33,34,35,36,37,38,39,40,41,42,43,44,45,46,47,48,49,50,51,52,53,54,55,56,57,58,59,60,61,62,63,64,65,66,67,68,69,70,71,72,73,74,75,76,77,78,79,80,81,82,83,84,85,86,87,88,89,90,91,92,93,94,95,96,97,98,99],\"y\":[-0.224893079246173,1.2503815642723262,-0.009751551125147586,0.16527703916918052,-0.3745090835527552,0.515662283296908,1.0547154138277266,-0.22067757188991727,-0.6498584802383204,-2.07908895587237,2.1403465577961116,1.6445158565680038,-1.0175955610791787,-0.17251980686788723,-0.19414925926115856,0.9311926054750844,0.24273553610203655,-0.8953402123461103,-0.3387964991908508,0.36389088884917165,0.4405868040137417,-0.21012156100866447,-2.788900751431851,1.198143626275225,-0.4127880365061836,-0.238621684631133,0.4371715805619799,1.256886884011327,-0.060193643202252595,0.3059995769855611,-0.4158291391773987,2.1475559417541734,-0.6243802744709012,0.5817247352369509,0.39266255814740997,0.5649256027013886,0.8061396519459106,0.6195039399742812,0.02177467231854164,-1.319899574991042,-0.3356450667412887,0.03748262752761676,0.21357396085531327,0.1224416437776951,-0.2197873964063419,-1.0600124514378158,-0.3345568122382559,-0.5769051564609712,2.8592353822054193,0.9402264092354687,1.1170894271622458,1.1025825408160912,1.4589599777641047,-0.00559822897158635,0.649167046273083,0.5962648454476672,2.1015783595893724,-1.0004967709798152,-0.794419492093333,0.8507876014851588,-0.43312010038274834,-0.25549192361797196,0.3408418093354243,-1.3140065306556812,-0.892627715873621,0.2800577801511644,-1.8190732690240992,0.7071155509495465,-1.2699887648430062,1.1691192931392227,0.11665823912731504,-0.5073035259374067,-1.0932263125943875,0.20275177216827314,-0.11142118650757836,0.02910736140493556,0.9342531709146351,0.16746231525434202,-0.4608568591137009,-0.3901894838095558,0.6092957626506681,-0.5557513480847908,-0.21909070450172796,-0.537747844859767,-0.672824530162349,2.6124495827756866,1.6013530267662324,-0.10470803359208224,-0.48551242090787217,-0.36798474127000314,0.4582902064494334,1.2426685607553631,1.1506367383501355,-0.48916011980898466,-2.311296255514442,1.1525036060530027,0.18302057139365044,-0.13978553105887837,-0.04229289544270978,0.04282490464750087],\"type\":\"scatter\"},{\"line\":{\"color\":\"rgba(128, 0, 128, 1.0)\",\"dash\":\"solid\",\"shape\":\"linear\",\"width\":1.3},\"mode\":\"lines\",\"name\":\"D\",\"text\":\"\",\"x\":[0,1,2,3,4,5,6,7,8,9,10,11,12,13,14,15,16,17,18,19,20,21,22,23,24,25,26,27,28,29,30,31,32,33,34,35,36,37,38,39,40,41,42,43,44,45,46,47,48,49,50,51,52,53,54,55,56,57,58,59,60,61,62,63,64,65,66,67,68,69,70,71,72,73,74,75,76,77,78,79,80,81,82,83,84,85,86,87,88,89,90,91,92,93,94,95,96,97,98,99],\"y\":[1.298015485089696,-0.23339096447922594,1.1037728080136389,0.19806209294100593,2.549860056192145,-0.9061470055249541,-1.6191346355086136,-0.6402695199792406,0.5301304795188629,0.10826973860060203,-0.03096417152728443,-1.333260776229409,-0.5106018658222338,-1.2602161142365913,1.0541069690486944,-0.5360890299819138,1.2919783215192175,-0.06548767963927178,1.292524371037477,0.4704853470988679,-0.01271146868624112,-1.6469302468272102,-0.48917579782210724,0.37733382079878897,-1.1976258256123749,0.20879853261299658,0.2444678967514823,0.16870241860798135,1.6006255420901228,-0.028579174827799286,1.3256317621847986,-1.3605698101646098,0.8195467855949271,-0.9808516343193202,-0.6390064981962895,-1.245203809566456,0.4337270017046839,1.234528835493931,-0.4104457369366574,0.5665420894986996,-0.7449291411997484,-1.2267447902634088,1.1227345594966862,-0.12979808400976459,-0.6269374526327316,0.292703498655163,0.6257393332073456,0.45996788432615043,0.5043667581526481,2.237293213159649,-1.4060039933788429,0.1788743528339559,-1.134521652233473,-0.015399492226502463,-0.9684748530238916,-1.4820224914118059,0.1715902804964764,-0.42039750746697546,0.8498256250305002,-0.2453748541806391,-0.8775939924189635,-2.9231849271662522,-0.9748902362208998,0.20637640117167275,0.5947071928430647,-0.30435577684235404,-2.1039353759161292,1.115513771005786,-0.5120600168812814,-2.075411098303332,2.253424939189268,0.7288262548169948,-0.7438074474356711,1.4919452591038689,1.3918176520913537,0.23639510290963997,-2.294323561421982,1.5561353538714506,-1.1615335890268663,-0.6852963592356053,0.08255655206476742,-1.6276212209267913,1.5138596525635728,0.3988950310224964,-0.5596997640137246,0.8127648867817936,-0.9090456772154684,-0.2023741303876413,-1.0759692892756814,-1.0116840652689627,-0.5956950303753511,0.6474080682588678,0.7648410756169055,1.5983143212427664,-1.2084704597596465,-1.187085251520976,-0.7207177114828895,-1.1365632858321943,1.1963260943489973,-1.9694894606706348],\"type\":\"scatter\"}],                        {\"legend\":{\"bgcolor\":\"#F5F6F9\",\"font\":{\"color\":\"#4D5663\"}},\"paper_bgcolor\":\"#F5F6F9\",\"plot_bgcolor\":\"#F5F6F9\",\"template\":{\"data\":{\"barpolar\":[{\"marker\":{\"line\":{\"color\":\"#E5ECF6\",\"width\":0.5},\"pattern\":{\"fillmode\":\"overlay\",\"size\":10,\"solidity\":0.2}},\"type\":\"barpolar\"}],\"bar\":[{\"error_x\":{\"color\":\"#2a3f5f\"},\"error_y\":{\"color\":\"#2a3f5f\"},\"marker\":{\"line\":{\"color\":\"#E5ECF6\",\"width\":0.5},\"pattern\":{\"fillmode\":\"overlay\",\"size\":10,\"solidity\":0.2}},\"type\":\"bar\"}],\"carpet\":[{\"aaxis\":{\"endlinecolor\":\"#2a3f5f\",\"gridcolor\":\"white\",\"linecolor\":\"white\",\"minorgridcolor\":\"white\",\"startlinecolor\":\"#2a3f5f\"},\"baxis\":{\"endlinecolor\":\"#2a3f5f\",\"gridcolor\":\"white\",\"linecolor\":\"white\",\"minorgridcolor\":\"white\",\"startlinecolor\":\"#2a3f5f\"},\"type\":\"carpet\"}],\"choropleth\":[{\"colorbar\":{\"outlinewidth\":0,\"ticks\":\"\"},\"type\":\"choropleth\"}],\"contourcarpet\":[{\"colorbar\":{\"outlinewidth\":0,\"ticks\":\"\"},\"type\":\"contourcarpet\"}],\"contour\":[{\"colorbar\":{\"outlinewidth\":0,\"ticks\":\"\"},\"colorscale\":[[0.0,\"#0d0887\"],[0.1111111111111111,\"#46039f\"],[0.2222222222222222,\"#7201a8\"],[0.3333333333333333,\"#9c179e\"],[0.4444444444444444,\"#bd3786\"],[0.5555555555555556,\"#d8576b\"],[0.6666666666666666,\"#ed7953\"],[0.7777777777777778,\"#fb9f3a\"],[0.8888888888888888,\"#fdca26\"],[1.0,\"#f0f921\"]],\"type\":\"contour\"}],\"heatmapgl\":[{\"colorbar\":{\"outlinewidth\":0,\"ticks\":\"\"},\"colorscale\":[[0.0,\"#0d0887\"],[0.1111111111111111,\"#46039f\"],[0.2222222222222222,\"#7201a8\"],[0.3333333333333333,\"#9c179e\"],[0.4444444444444444,\"#bd3786\"],[0.5555555555555556,\"#d8576b\"],[0.6666666666666666,\"#ed7953\"],[0.7777777777777778,\"#fb9f3a\"],[0.8888888888888888,\"#fdca26\"],[1.0,\"#f0f921\"]],\"type\":\"heatmapgl\"}],\"heatmap\":[{\"colorbar\":{\"outlinewidth\":0,\"ticks\":\"\"},\"colorscale\":[[0.0,\"#0d0887\"],[0.1111111111111111,\"#46039f\"],[0.2222222222222222,\"#7201a8\"],[0.3333333333333333,\"#9c179e\"],[0.4444444444444444,\"#bd3786\"],[0.5555555555555556,\"#d8576b\"],[0.6666666666666666,\"#ed7953\"],[0.7777777777777778,\"#fb9f3a\"],[0.8888888888888888,\"#fdca26\"],[1.0,\"#f0f921\"]],\"type\":\"heatmap\"}],\"histogram2dcontour\":[{\"colorbar\":{\"outlinewidth\":0,\"ticks\":\"\"},\"colorscale\":[[0.0,\"#0d0887\"],[0.1111111111111111,\"#46039f\"],[0.2222222222222222,\"#7201a8\"],[0.3333333333333333,\"#9c179e\"],[0.4444444444444444,\"#bd3786\"],[0.5555555555555556,\"#d8576b\"],[0.6666666666666666,\"#ed7953\"],[0.7777777777777778,\"#fb9f3a\"],[0.8888888888888888,\"#fdca26\"],[1.0,\"#f0f921\"]],\"type\":\"histogram2dcontour\"}],\"histogram2d\":[{\"colorbar\":{\"outlinewidth\":0,\"ticks\":\"\"},\"colorscale\":[[0.0,\"#0d0887\"],[0.1111111111111111,\"#46039f\"],[0.2222222222222222,\"#7201a8\"],[0.3333333333333333,\"#9c179e\"],[0.4444444444444444,\"#bd3786\"],[0.5555555555555556,\"#d8576b\"],[0.6666666666666666,\"#ed7953\"],[0.7777777777777778,\"#fb9f3a\"],[0.8888888888888888,\"#fdca26\"],[1.0,\"#f0f921\"]],\"type\":\"histogram2d\"}],\"histogram\":[{\"marker\":{\"pattern\":{\"fillmode\":\"overlay\",\"size\":10,\"solidity\":0.2}},\"type\":\"histogram\"}],\"mesh3d\":[{\"colorbar\":{\"outlinewidth\":0,\"ticks\":\"\"},\"type\":\"mesh3d\"}],\"parcoords\":[{\"line\":{\"colorbar\":{\"outlinewidth\":0,\"ticks\":\"\"}},\"type\":\"parcoords\"}],\"pie\":[{\"automargin\":true,\"type\":\"pie\"}],\"scatter3d\":[{\"line\":{\"colorbar\":{\"outlinewidth\":0,\"ticks\":\"\"}},\"marker\":{\"colorbar\":{\"outlinewidth\":0,\"ticks\":\"\"}},\"type\":\"scatter3d\"}],\"scattercarpet\":[{\"marker\":{\"colorbar\":{\"outlinewidth\":0,\"ticks\":\"\"}},\"type\":\"scattercarpet\"}],\"scattergeo\":[{\"marker\":{\"colorbar\":{\"outlinewidth\":0,\"ticks\":\"\"}},\"type\":\"scattergeo\"}],\"scattergl\":[{\"marker\":{\"colorbar\":{\"outlinewidth\":0,\"ticks\":\"\"}},\"type\":\"scattergl\"}],\"scattermapbox\":[{\"marker\":{\"colorbar\":{\"outlinewidth\":0,\"ticks\":\"\"}},\"type\":\"scattermapbox\"}],\"scatterpolargl\":[{\"marker\":{\"colorbar\":{\"outlinewidth\":0,\"ticks\":\"\"}},\"type\":\"scatterpolargl\"}],\"scatterpolar\":[{\"marker\":{\"colorbar\":{\"outlinewidth\":0,\"ticks\":\"\"}},\"type\":\"scatterpolar\"}],\"scatter\":[{\"fillpattern\":{\"fillmode\":\"overlay\",\"size\":10,\"solidity\":0.2},\"type\":\"scatter\"}],\"scatterternary\":[{\"marker\":{\"colorbar\":{\"outlinewidth\":0,\"ticks\":\"\"}},\"type\":\"scatterternary\"}],\"surface\":[{\"colorbar\":{\"outlinewidth\":0,\"ticks\":\"\"},\"colorscale\":[[0.0,\"#0d0887\"],[0.1111111111111111,\"#46039f\"],[0.2222222222222222,\"#7201a8\"],[0.3333333333333333,\"#9c179e\"],[0.4444444444444444,\"#bd3786\"],[0.5555555555555556,\"#d8576b\"],[0.6666666666666666,\"#ed7953\"],[0.7777777777777778,\"#fb9f3a\"],[0.8888888888888888,\"#fdca26\"],[1.0,\"#f0f921\"]],\"type\":\"surface\"}],\"table\":[{\"cells\":{\"fill\":{\"color\":\"#EBF0F8\"},\"line\":{\"color\":\"white\"}},\"header\":{\"fill\":{\"color\":\"#C8D4E3\"},\"line\":{\"color\":\"white\"}},\"type\":\"table\"}]},\"layout\":{\"annotationdefaults\":{\"arrowcolor\":\"#2a3f5f\",\"arrowhead\":0,\"arrowwidth\":1},\"autotypenumbers\":\"strict\",\"coloraxis\":{\"colorbar\":{\"outlinewidth\":0,\"ticks\":\"\"}},\"colorscale\":{\"diverging\":[[0,\"#8e0152\"],[0.1,\"#c51b7d\"],[0.2,\"#de77ae\"],[0.3,\"#f1b6da\"],[0.4,\"#fde0ef\"],[0.5,\"#f7f7f7\"],[0.6,\"#e6f5d0\"],[0.7,\"#b8e186\"],[0.8,\"#7fbc41\"],[0.9,\"#4d9221\"],[1,\"#276419\"]],\"sequential\":[[0.0,\"#0d0887\"],[0.1111111111111111,\"#46039f\"],[0.2222222222222222,\"#7201a8\"],[0.3333333333333333,\"#9c179e\"],[0.4444444444444444,\"#bd3786\"],[0.5555555555555556,\"#d8576b\"],[0.6666666666666666,\"#ed7953\"],[0.7777777777777778,\"#fb9f3a\"],[0.8888888888888888,\"#fdca26\"],[1.0,\"#f0f921\"]],\"sequentialminus\":[[0.0,\"#0d0887\"],[0.1111111111111111,\"#46039f\"],[0.2222222222222222,\"#7201a8\"],[0.3333333333333333,\"#9c179e\"],[0.4444444444444444,\"#bd3786\"],[0.5555555555555556,\"#d8576b\"],[0.6666666666666666,\"#ed7953\"],[0.7777777777777778,\"#fb9f3a\"],[0.8888888888888888,\"#fdca26\"],[1.0,\"#f0f921\"]]},\"colorway\":[\"#636efa\",\"#EF553B\",\"#00cc96\",\"#ab63fa\",\"#FFA15A\",\"#19d3f3\",\"#FF6692\",\"#B6E880\",\"#FF97FF\",\"#FECB52\"],\"font\":{\"color\":\"#2a3f5f\"},\"geo\":{\"bgcolor\":\"white\",\"lakecolor\":\"white\",\"landcolor\":\"#E5ECF6\",\"showlakes\":true,\"showland\":true,\"subunitcolor\":\"white\"},\"hoverlabel\":{\"align\":\"left\"},\"hovermode\":\"closest\",\"mapbox\":{\"style\":\"light\"},\"paper_bgcolor\":\"white\",\"plot_bgcolor\":\"#E5ECF6\",\"polar\":{\"angularaxis\":{\"gridcolor\":\"white\",\"linecolor\":\"white\",\"ticks\":\"\"},\"bgcolor\":\"#E5ECF6\",\"radialaxis\":{\"gridcolor\":\"white\",\"linecolor\":\"white\",\"ticks\":\"\"}},\"scene\":{\"xaxis\":{\"backgroundcolor\":\"#E5ECF6\",\"gridcolor\":\"white\",\"gridwidth\":2,\"linecolor\":\"white\",\"showbackground\":true,\"ticks\":\"\",\"zerolinecolor\":\"white\"},\"yaxis\":{\"backgroundcolor\":\"#E5ECF6\",\"gridcolor\":\"white\",\"gridwidth\":2,\"linecolor\":\"white\",\"showbackground\":true,\"ticks\":\"\",\"zerolinecolor\":\"white\"},\"zaxis\":{\"backgroundcolor\":\"#E5ECF6\",\"gridcolor\":\"white\",\"gridwidth\":2,\"linecolor\":\"white\",\"showbackground\":true,\"ticks\":\"\",\"zerolinecolor\":\"white\"}},\"shapedefaults\":{\"line\":{\"color\":\"#2a3f5f\"}},\"ternary\":{\"aaxis\":{\"gridcolor\":\"white\",\"linecolor\":\"white\",\"ticks\":\"\"},\"baxis\":{\"gridcolor\":\"white\",\"linecolor\":\"white\",\"ticks\":\"\"},\"bgcolor\":\"#E5ECF6\",\"caxis\":{\"gridcolor\":\"white\",\"linecolor\":\"white\",\"ticks\":\"\"}},\"title\":{\"x\":0.05},\"xaxis\":{\"automargin\":true,\"gridcolor\":\"white\",\"linecolor\":\"white\",\"ticks\":\"\",\"title\":{\"standoff\":15},\"zerolinecolor\":\"white\",\"zerolinewidth\":2},\"yaxis\":{\"automargin\":true,\"gridcolor\":\"white\",\"linecolor\":\"white\",\"ticks\":\"\",\"title\":{\"standoff\":15},\"zerolinecolor\":\"white\",\"zerolinewidth\":2}}},\"title\":{\"font\":{\"color\":\"#4D5663\"}},\"xaxis\":{\"gridcolor\":\"#E1E5ED\",\"showgrid\":true,\"tickfont\":{\"color\":\"#4D5663\"},\"title\":{\"font\":{\"color\":\"#4D5663\"},\"text\":\"\"},\"zerolinecolor\":\"#E1E5ED\"},\"yaxis\":{\"gridcolor\":\"#E1E5ED\",\"showgrid\":true,\"tickfont\":{\"color\":\"#4D5663\"},\"title\":{\"font\":{\"color\":\"#4D5663\"},\"text\":\"\"},\"zerolinecolor\":\"#E1E5ED\"}},                        {\"showLink\": true, \"linkText\": \"Export to plot.ly\", \"plotlyServerURL\": \"https://plot.ly\", \"responsive\": true}                    ).then(function(){\n",
       "                            \n",
       "var gd = document.getElementById('1bacca7a-39c6-4768-8c2f-88388d829461');\n",
       "var x = new MutationObserver(function (mutations, observer) {{\n",
       "        var display = window.getComputedStyle(gd).display;\n",
       "        if (!display || display === 'none') {{\n",
       "            console.log([gd, 'removed!']);\n",
       "            Plotly.purge(gd);\n",
       "            observer.disconnect();\n",
       "        }}\n",
       "}});\n",
       "\n",
       "// Listen for the removal of the full notebook cells\n",
       "var notebookContainer = gd.closest('#notebook-container');\n",
       "if (notebookContainer) {{\n",
       "    x.observe(notebookContainer, {childList: true});\n",
       "}}\n",
       "\n",
       "// Listen for the clearing of the current output cell\n",
       "var outputEl = gd.closest('.output');\n",
       "if (outputEl) {{\n",
       "    x.observe(outputEl, {childList: true});\n",
       "}}\n",
       "\n",
       "                        })                };                });            </script>        </div>"
      ]
     },
     "metadata": {},
     "output_type": "display_data"
    }
   ],
   "source": [
    "df.iplot()"
   ]
  },
  {
   "cell_type": "code",
   "execution_count": 59,
   "id": "ee2c68a7",
   "metadata": {
    "scrolled": false
   },
   "outputs": [
    {
     "data": {
      "application/vnd.plotly.v1+json": {
       "config": {
        "linkText": "Export to plot.ly",
        "plotlyServerURL": "https://plot.ly",
        "showLink": true
       },
       "data": [
        {
         "line": {
          "color": "rgba(255, 153, 51, 1.0)",
          "dash": "solid",
          "shape": "linear",
          "width": 1.3
         },
         "marker": {
          "size": 12,
          "symbol": "circle"
         },
         "mode": "markers",
         "name": "B",
         "text": "",
         "type": "scatter",
         "x": [
          -2.0245678545620653,
          -0.70000967402194,
          0.4923011266211667,
          -0.1721337617162361,
          0.1300772047032601,
          -0.8333704434524496,
          0.34121462467065816,
          0.9677726356756655,
          1.0120891924486815,
          1.2232183702754578,
          -0.8427421789582358,
          0.18819096793209314,
          -1.6095005021892217,
          0.41339125775669555,
          -0.8948518562686107,
          -0.1843957684237995,
          1.6860920350330262,
          1.7966629201710838,
          0.7059434946092662,
          -0.4638431276336962,
          0.8335385969736977,
          -0.7338353757187845,
          0.29198786778577684,
          0.7621576857108744,
          -1.2797389810464925,
          1.0297527504257031,
          0.9625278654239828,
          -1.7851418437008166,
          -1.0954108369089715,
          -2.8084934964522676,
          1.3198883643750479,
          0.39999831444598893,
          -1.141518084638812,
          -0.553833400359158,
          -0.5021357042202531,
          -1.7747620990430988,
          -0.7471339649507993,
          -1.680236866891475,
          0.16800536415649148,
          0.9624777623645401,
          0.7327131001167891,
          0.8596062243117514,
          0.9170009008811542,
          -0.8909419630348943,
          0.2427255664521905,
          -0.6065451458740814,
          0.2482809249447097,
          -1.8535909031151525,
          -0.09750333812372164,
          -0.8798749960318651,
          0.217800590401041,
          0.8029760466725708,
          0.6653151750366897,
          -0.3084497006647018,
          0.36768824082733653,
          -0.3339365462425808,
          0.13868616976000864,
          -0.714301240067701,
          0.5588471774554243,
          0.0069681037932292815,
          0.2403401185362488,
          0.47347545555015974,
          -1.1164580146104586,
          -1.3765949888678477,
          0.21828959853628632,
          0.2983118598338089,
          1.4624051256412518,
          -1.294335785990532,
          -1.1891868148706493,
          0.4480021923135863,
          0.12578697802044325,
          0.5113765435650498,
          0.1285909603816634,
          -0.6806646507469855,
          -0.28554355498000167,
          1.8309719250363772,
          -0.7378615237977918,
          0.8487554269717219,
          -0.22845770363282245,
          -1.3198777526010914,
          -1.7164357576246156,
          -0.8565176465067136,
          1.5973041294004924,
          1.2230412199308058,
          -0.7866323189888544,
          -1.3609919026164312,
          0.06459817804490998,
          0.921998675958377,
          2.1608332100400616,
          -0.44158263770700196,
          0.16697383520246797,
          0.15215444987588211,
          0.32083154833677463,
          -0.4768739422051255,
          0.15539672302809196,
          0.5132262797726742,
          0.5812646979598842,
          0.3999652636768709,
          -0.2552657391538536,
          0.09731861511588642
         ],
         "y": [
          -0.6382408485860838,
          -0.26445161392310296,
          -0.23213667337437718,
          0.5180176758815382,
          -1.1248049522097245,
          -0.380272960362963,
          -0.2932209551832816,
          -0.2983349399546075,
          0.8352757748805898,
          0.19767795485653444,
          -0.25848078585870043,
          0.6572601167502129,
          0.4792315672286233,
          -0.7297409216849485,
          0.4046424846202565,
          1.2968971276167458,
          0.13935965106348322,
          -0.6594484341435785,
          -0.02418590218582255,
          -2.5239897567978575,
          1.5346822177409631,
          -0.044687567248630725,
          1.6231383581412073,
          0.40026551057354326,
          -1.346220027753875,
          0.16491814429374466,
          0.9065722606320102,
          0.6700483963411383,
          -0.05104018162539486,
          1.1707146916736622,
          0.27196909622293,
          -0.823741868413821,
          -1.071654380390136,
          1.611845565479155,
          -0.6358684090521775,
          0.12088690562135754,
          -0.4238076744306274,
          0.30761109667202036,
          0.10090276567627783,
          -0.934825817248883,
          -0.11477621970946751,
          -0.25626272220601465,
          -2.2618111698047243,
          0.47059504469409547,
          0.3384630374158783,
          1.1429078856709527,
          1.039266887625021,
          -0.9967830206402708,
          -0.6202045714826442,
          0.22079305993745846,
          0.9115135718961257,
          -1.2122517475675738,
          1.0560300708411399,
          -1.9090176950054356,
          2.028179416010953,
          0.2831970755448901,
          0.6241028603371211,
          1.0407268957495415,
          -0.26224266816482766,
          0.5298657981252108,
          -2.0965098648132012,
          1.5130229822141446,
          -1.7078071537312842,
          -0.2720326625194213,
          1.5419814719954992,
          -0.3403798338394972,
          -0.2607484877893845,
          1.613613022678893,
          0.015346417608684809,
          0.8193595059346083,
          0.28400196804539557,
          0.23640271970560556,
          0.9643162048376709,
          -0.604459368826204,
          -1.2825284995959614,
          -0.3851992746376785,
          -0.2698997452038915,
          -0.1806119563245644,
          0.03316776563581451,
          -0.2064180896765948,
          0.5557810546207436,
          -0.9395511240801336,
          -0.3738586334196706,
          0.719627463803325,
          -1.1552010934966621,
          0.18725547161413295,
          -1.8598061078955381,
          -0.31999462379920496,
          -1.8573069884412665,
          0.5833843253960496,
          0.7005904412031791,
          -0.592374288827152,
          -0.32071254126644355,
          0.7437217160339742,
          -0.6523371315325809,
          -0.14606736635054363,
          -1.0609890385279603,
          -1.397175646717783,
          -0.4182909179317061,
          1.3303804152695233
         ]
        }
       ],
       "layout": {
        "legend": {
         "bgcolor": "#F5F6F9",
         "font": {
          "color": "#4D5663"
         }
        },
        "paper_bgcolor": "#F5F6F9",
        "plot_bgcolor": "#F5F6F9",
        "template": {
         "data": {
          "bar": [
           {
            "error_x": {
             "color": "#2a3f5f"
            },
            "error_y": {
             "color": "#2a3f5f"
            },
            "marker": {
             "line": {
              "color": "#E5ECF6",
              "width": 0.5
             },
             "pattern": {
              "fillmode": "overlay",
              "size": 10,
              "solidity": 0.2
             }
            },
            "type": "bar"
           }
          ],
          "barpolar": [
           {
            "marker": {
             "line": {
              "color": "#E5ECF6",
              "width": 0.5
             },
             "pattern": {
              "fillmode": "overlay",
              "size": 10,
              "solidity": 0.2
             }
            },
            "type": "barpolar"
           }
          ],
          "carpet": [
           {
            "aaxis": {
             "endlinecolor": "#2a3f5f",
             "gridcolor": "white",
             "linecolor": "white",
             "minorgridcolor": "white",
             "startlinecolor": "#2a3f5f"
            },
            "baxis": {
             "endlinecolor": "#2a3f5f",
             "gridcolor": "white",
             "linecolor": "white",
             "minorgridcolor": "white",
             "startlinecolor": "#2a3f5f"
            },
            "type": "carpet"
           }
          ],
          "choropleth": [
           {
            "colorbar": {
             "outlinewidth": 0,
             "ticks": ""
            },
            "type": "choropleth"
           }
          ],
          "contour": [
           {
            "colorbar": {
             "outlinewidth": 0,
             "ticks": ""
            },
            "colorscale": [
             [
              0,
              "#0d0887"
             ],
             [
              0.1111111111111111,
              "#46039f"
             ],
             [
              0.2222222222222222,
              "#7201a8"
             ],
             [
              0.3333333333333333,
              "#9c179e"
             ],
             [
              0.4444444444444444,
              "#bd3786"
             ],
             [
              0.5555555555555556,
              "#d8576b"
             ],
             [
              0.6666666666666666,
              "#ed7953"
             ],
             [
              0.7777777777777778,
              "#fb9f3a"
             ],
             [
              0.8888888888888888,
              "#fdca26"
             ],
             [
              1,
              "#f0f921"
             ]
            ],
            "type": "contour"
           }
          ],
          "contourcarpet": [
           {
            "colorbar": {
             "outlinewidth": 0,
             "ticks": ""
            },
            "type": "contourcarpet"
           }
          ],
          "heatmap": [
           {
            "colorbar": {
             "outlinewidth": 0,
             "ticks": ""
            },
            "colorscale": [
             [
              0,
              "#0d0887"
             ],
             [
              0.1111111111111111,
              "#46039f"
             ],
             [
              0.2222222222222222,
              "#7201a8"
             ],
             [
              0.3333333333333333,
              "#9c179e"
             ],
             [
              0.4444444444444444,
              "#bd3786"
             ],
             [
              0.5555555555555556,
              "#d8576b"
             ],
             [
              0.6666666666666666,
              "#ed7953"
             ],
             [
              0.7777777777777778,
              "#fb9f3a"
             ],
             [
              0.8888888888888888,
              "#fdca26"
             ],
             [
              1,
              "#f0f921"
             ]
            ],
            "type": "heatmap"
           }
          ],
          "heatmapgl": [
           {
            "colorbar": {
             "outlinewidth": 0,
             "ticks": ""
            },
            "colorscale": [
             [
              0,
              "#0d0887"
             ],
             [
              0.1111111111111111,
              "#46039f"
             ],
             [
              0.2222222222222222,
              "#7201a8"
             ],
             [
              0.3333333333333333,
              "#9c179e"
             ],
             [
              0.4444444444444444,
              "#bd3786"
             ],
             [
              0.5555555555555556,
              "#d8576b"
             ],
             [
              0.6666666666666666,
              "#ed7953"
             ],
             [
              0.7777777777777778,
              "#fb9f3a"
             ],
             [
              0.8888888888888888,
              "#fdca26"
             ],
             [
              1,
              "#f0f921"
             ]
            ],
            "type": "heatmapgl"
           }
          ],
          "histogram": [
           {
            "marker": {
             "pattern": {
              "fillmode": "overlay",
              "size": 10,
              "solidity": 0.2
             }
            },
            "type": "histogram"
           }
          ],
          "histogram2d": [
           {
            "colorbar": {
             "outlinewidth": 0,
             "ticks": ""
            },
            "colorscale": [
             [
              0,
              "#0d0887"
             ],
             [
              0.1111111111111111,
              "#46039f"
             ],
             [
              0.2222222222222222,
              "#7201a8"
             ],
             [
              0.3333333333333333,
              "#9c179e"
             ],
             [
              0.4444444444444444,
              "#bd3786"
             ],
             [
              0.5555555555555556,
              "#d8576b"
             ],
             [
              0.6666666666666666,
              "#ed7953"
             ],
             [
              0.7777777777777778,
              "#fb9f3a"
             ],
             [
              0.8888888888888888,
              "#fdca26"
             ],
             [
              1,
              "#f0f921"
             ]
            ],
            "type": "histogram2d"
           }
          ],
          "histogram2dcontour": [
           {
            "colorbar": {
             "outlinewidth": 0,
             "ticks": ""
            },
            "colorscale": [
             [
              0,
              "#0d0887"
             ],
             [
              0.1111111111111111,
              "#46039f"
             ],
             [
              0.2222222222222222,
              "#7201a8"
             ],
             [
              0.3333333333333333,
              "#9c179e"
             ],
             [
              0.4444444444444444,
              "#bd3786"
             ],
             [
              0.5555555555555556,
              "#d8576b"
             ],
             [
              0.6666666666666666,
              "#ed7953"
             ],
             [
              0.7777777777777778,
              "#fb9f3a"
             ],
             [
              0.8888888888888888,
              "#fdca26"
             ],
             [
              1,
              "#f0f921"
             ]
            ],
            "type": "histogram2dcontour"
           }
          ],
          "mesh3d": [
           {
            "colorbar": {
             "outlinewidth": 0,
             "ticks": ""
            },
            "type": "mesh3d"
           }
          ],
          "parcoords": [
           {
            "line": {
             "colorbar": {
              "outlinewidth": 0,
              "ticks": ""
             }
            },
            "type": "parcoords"
           }
          ],
          "pie": [
           {
            "automargin": true,
            "type": "pie"
           }
          ],
          "scatter": [
           {
            "fillpattern": {
             "fillmode": "overlay",
             "size": 10,
             "solidity": 0.2
            },
            "type": "scatter"
           }
          ],
          "scatter3d": [
           {
            "line": {
             "colorbar": {
              "outlinewidth": 0,
              "ticks": ""
             }
            },
            "marker": {
             "colorbar": {
              "outlinewidth": 0,
              "ticks": ""
             }
            },
            "type": "scatter3d"
           }
          ],
          "scattercarpet": [
           {
            "marker": {
             "colorbar": {
              "outlinewidth": 0,
              "ticks": ""
             }
            },
            "type": "scattercarpet"
           }
          ],
          "scattergeo": [
           {
            "marker": {
             "colorbar": {
              "outlinewidth": 0,
              "ticks": ""
             }
            },
            "type": "scattergeo"
           }
          ],
          "scattergl": [
           {
            "marker": {
             "colorbar": {
              "outlinewidth": 0,
              "ticks": ""
             }
            },
            "type": "scattergl"
           }
          ],
          "scattermapbox": [
           {
            "marker": {
             "colorbar": {
              "outlinewidth": 0,
              "ticks": ""
             }
            },
            "type": "scattermapbox"
           }
          ],
          "scatterpolar": [
           {
            "marker": {
             "colorbar": {
              "outlinewidth": 0,
              "ticks": ""
             }
            },
            "type": "scatterpolar"
           }
          ],
          "scatterpolargl": [
           {
            "marker": {
             "colorbar": {
              "outlinewidth": 0,
              "ticks": ""
             }
            },
            "type": "scatterpolargl"
           }
          ],
          "scatterternary": [
           {
            "marker": {
             "colorbar": {
              "outlinewidth": 0,
              "ticks": ""
             }
            },
            "type": "scatterternary"
           }
          ],
          "surface": [
           {
            "colorbar": {
             "outlinewidth": 0,
             "ticks": ""
            },
            "colorscale": [
             [
              0,
              "#0d0887"
             ],
             [
              0.1111111111111111,
              "#46039f"
             ],
             [
              0.2222222222222222,
              "#7201a8"
             ],
             [
              0.3333333333333333,
              "#9c179e"
             ],
             [
              0.4444444444444444,
              "#bd3786"
             ],
             [
              0.5555555555555556,
              "#d8576b"
             ],
             [
              0.6666666666666666,
              "#ed7953"
             ],
             [
              0.7777777777777778,
              "#fb9f3a"
             ],
             [
              0.8888888888888888,
              "#fdca26"
             ],
             [
              1,
              "#f0f921"
             ]
            ],
            "type": "surface"
           }
          ],
          "table": [
           {
            "cells": {
             "fill": {
              "color": "#EBF0F8"
             },
             "line": {
              "color": "white"
             }
            },
            "header": {
             "fill": {
              "color": "#C8D4E3"
             },
             "line": {
              "color": "white"
             }
            },
            "type": "table"
           }
          ]
         },
         "layout": {
          "annotationdefaults": {
           "arrowcolor": "#2a3f5f",
           "arrowhead": 0,
           "arrowwidth": 1
          },
          "autotypenumbers": "strict",
          "coloraxis": {
           "colorbar": {
            "outlinewidth": 0,
            "ticks": ""
           }
          },
          "colorscale": {
           "diverging": [
            [
             0,
             "#8e0152"
            ],
            [
             0.1,
             "#c51b7d"
            ],
            [
             0.2,
             "#de77ae"
            ],
            [
             0.3,
             "#f1b6da"
            ],
            [
             0.4,
             "#fde0ef"
            ],
            [
             0.5,
             "#f7f7f7"
            ],
            [
             0.6,
             "#e6f5d0"
            ],
            [
             0.7,
             "#b8e186"
            ],
            [
             0.8,
             "#7fbc41"
            ],
            [
             0.9,
             "#4d9221"
            ],
            [
             1,
             "#276419"
            ]
           ],
           "sequential": [
            [
             0,
             "#0d0887"
            ],
            [
             0.1111111111111111,
             "#46039f"
            ],
            [
             0.2222222222222222,
             "#7201a8"
            ],
            [
             0.3333333333333333,
             "#9c179e"
            ],
            [
             0.4444444444444444,
             "#bd3786"
            ],
            [
             0.5555555555555556,
             "#d8576b"
            ],
            [
             0.6666666666666666,
             "#ed7953"
            ],
            [
             0.7777777777777778,
             "#fb9f3a"
            ],
            [
             0.8888888888888888,
             "#fdca26"
            ],
            [
             1,
             "#f0f921"
            ]
           ],
           "sequentialminus": [
            [
             0,
             "#0d0887"
            ],
            [
             0.1111111111111111,
             "#46039f"
            ],
            [
             0.2222222222222222,
             "#7201a8"
            ],
            [
             0.3333333333333333,
             "#9c179e"
            ],
            [
             0.4444444444444444,
             "#bd3786"
            ],
            [
             0.5555555555555556,
             "#d8576b"
            ],
            [
             0.6666666666666666,
             "#ed7953"
            ],
            [
             0.7777777777777778,
             "#fb9f3a"
            ],
            [
             0.8888888888888888,
             "#fdca26"
            ],
            [
             1,
             "#f0f921"
            ]
           ]
          },
          "colorway": [
           "#636efa",
           "#EF553B",
           "#00cc96",
           "#ab63fa",
           "#FFA15A",
           "#19d3f3",
           "#FF6692",
           "#B6E880",
           "#FF97FF",
           "#FECB52"
          ],
          "font": {
           "color": "#2a3f5f"
          },
          "geo": {
           "bgcolor": "white",
           "lakecolor": "white",
           "landcolor": "#E5ECF6",
           "showlakes": true,
           "showland": true,
           "subunitcolor": "white"
          },
          "hoverlabel": {
           "align": "left"
          },
          "hovermode": "closest",
          "mapbox": {
           "style": "light"
          },
          "paper_bgcolor": "white",
          "plot_bgcolor": "#E5ECF6",
          "polar": {
           "angularaxis": {
            "gridcolor": "white",
            "linecolor": "white",
            "ticks": ""
           },
           "bgcolor": "#E5ECF6",
           "radialaxis": {
            "gridcolor": "white",
            "linecolor": "white",
            "ticks": ""
           }
          },
          "scene": {
           "xaxis": {
            "backgroundcolor": "#E5ECF6",
            "gridcolor": "white",
            "gridwidth": 2,
            "linecolor": "white",
            "showbackground": true,
            "ticks": "",
            "zerolinecolor": "white"
           },
           "yaxis": {
            "backgroundcolor": "#E5ECF6",
            "gridcolor": "white",
            "gridwidth": 2,
            "linecolor": "white",
            "showbackground": true,
            "ticks": "",
            "zerolinecolor": "white"
           },
           "zaxis": {
            "backgroundcolor": "#E5ECF6",
            "gridcolor": "white",
            "gridwidth": 2,
            "linecolor": "white",
            "showbackground": true,
            "ticks": "",
            "zerolinecolor": "white"
           }
          },
          "shapedefaults": {
           "line": {
            "color": "#2a3f5f"
           }
          },
          "ternary": {
           "aaxis": {
            "gridcolor": "white",
            "linecolor": "white",
            "ticks": ""
           },
           "baxis": {
            "gridcolor": "white",
            "linecolor": "white",
            "ticks": ""
           },
           "bgcolor": "#E5ECF6",
           "caxis": {
            "gridcolor": "white",
            "linecolor": "white",
            "ticks": ""
           }
          },
          "title": {
           "x": 0.05
          },
          "xaxis": {
           "automargin": true,
           "gridcolor": "white",
           "linecolor": "white",
           "ticks": "",
           "title": {
            "standoff": 15
           },
           "zerolinecolor": "white",
           "zerolinewidth": 2
          },
          "yaxis": {
           "automargin": true,
           "gridcolor": "white",
           "linecolor": "white",
           "ticks": "",
           "title": {
            "standoff": 15
           },
           "zerolinecolor": "white",
           "zerolinewidth": 2
          }
         }
        },
        "title": {
         "font": {
          "color": "#4D5663"
         }
        },
        "xaxis": {
         "gridcolor": "#E1E5ED",
         "showgrid": true,
         "tickfont": {
          "color": "#4D5663"
         },
         "title": {
          "font": {
           "color": "#4D5663"
          },
          "text": ""
         },
         "zerolinecolor": "#E1E5ED"
        },
        "yaxis": {
         "gridcolor": "#E1E5ED",
         "showgrid": true,
         "tickfont": {
          "color": "#4D5663"
         },
         "title": {
          "font": {
           "color": "#4D5663"
          },
          "text": ""
         },
         "zerolinecolor": "#E1E5ED"
        }
       }
      },
      "text/html": [
       "<div>                            <div id=\"3d283295-998d-4dec-be33-82b9a8839643\" class=\"plotly-graph-div\" style=\"height:525px; width:100%;\"></div>            <script type=\"text/javascript\">                require([\"plotly\"], function(Plotly) {                    window.PLOTLYENV=window.PLOTLYENV || {};\n",
       "                    window.PLOTLYENV.BASE_URL='https://plot.ly';                                    if (document.getElementById(\"3d283295-998d-4dec-be33-82b9a8839643\")) {                    Plotly.newPlot(                        \"3d283295-998d-4dec-be33-82b9a8839643\",                        [{\"line\":{\"color\":\"rgba(255, 153, 51, 1.0)\",\"dash\":\"solid\",\"shape\":\"linear\",\"width\":1.3},\"marker\":{\"size\":12,\"symbol\":\"circle\"},\"mode\":\"markers\",\"name\":\"B\",\"text\":\"\",\"x\":[-2.0245678545620653,-0.70000967402194,0.4923011266211667,-0.1721337617162361,0.1300772047032601,-0.8333704434524496,0.34121462467065816,0.9677726356756655,1.0120891924486815,1.2232183702754578,-0.8427421789582358,0.18819096793209314,-1.6095005021892217,0.41339125775669555,-0.8948518562686107,-0.1843957684237995,1.6860920350330262,1.7966629201710838,0.7059434946092662,-0.4638431276336962,0.8335385969736977,-0.7338353757187845,0.29198786778577684,0.7621576857108744,-1.2797389810464925,1.0297527504257031,0.9625278654239828,-1.7851418437008166,-1.0954108369089715,-2.8084934964522676,1.3198883643750479,0.39999831444598893,-1.141518084638812,-0.553833400359158,-0.5021357042202531,-1.7747620990430988,-0.7471339649507993,-1.680236866891475,0.16800536415649148,0.9624777623645401,0.7327131001167891,0.8596062243117514,0.9170009008811542,-0.8909419630348943,0.2427255664521905,-0.6065451458740814,0.2482809249447097,-1.8535909031151525,-0.09750333812372164,-0.8798749960318651,0.217800590401041,0.8029760466725708,0.6653151750366897,-0.3084497006647018,0.36768824082733653,-0.3339365462425808,0.13868616976000864,-0.714301240067701,0.5588471774554243,0.0069681037932292815,0.2403401185362488,0.47347545555015974,-1.1164580146104586,-1.3765949888678477,0.21828959853628632,0.2983118598338089,1.4624051256412518,-1.294335785990532,-1.1891868148706493,0.4480021923135863,0.12578697802044325,0.5113765435650498,0.1285909603816634,-0.6806646507469855,-0.28554355498000167,1.8309719250363772,-0.7378615237977918,0.8487554269717219,-0.22845770363282245,-1.3198777526010914,-1.7164357576246156,-0.8565176465067136,1.5973041294004924,1.2230412199308058,-0.7866323189888544,-1.3609919026164312,0.06459817804490998,0.921998675958377,2.1608332100400616,-0.44158263770700196,0.16697383520246797,0.15215444987588211,0.32083154833677463,-0.4768739422051255,0.15539672302809196,0.5132262797726742,0.5812646979598842,0.3999652636768709,-0.2552657391538536,0.09731861511588642],\"y\":[-0.6382408485860838,-0.26445161392310296,-0.23213667337437718,0.5180176758815382,-1.1248049522097245,-0.380272960362963,-0.2932209551832816,-0.2983349399546075,0.8352757748805898,0.19767795485653444,-0.25848078585870043,0.6572601167502129,0.4792315672286233,-0.7297409216849485,0.4046424846202565,1.2968971276167458,0.13935965106348322,-0.6594484341435785,-0.02418590218582255,-2.5239897567978575,1.5346822177409631,-0.044687567248630725,1.6231383581412073,0.40026551057354326,-1.346220027753875,0.16491814429374466,0.9065722606320102,0.6700483963411383,-0.05104018162539486,1.1707146916736622,0.27196909622293,-0.823741868413821,-1.071654380390136,1.611845565479155,-0.6358684090521775,0.12088690562135754,-0.4238076744306274,0.30761109667202036,0.10090276567627783,-0.934825817248883,-0.11477621970946751,-0.25626272220601465,-2.2618111698047243,0.47059504469409547,0.3384630374158783,1.1429078856709527,1.039266887625021,-0.9967830206402708,-0.6202045714826442,0.22079305993745846,0.9115135718961257,-1.2122517475675738,1.0560300708411399,-1.9090176950054356,2.028179416010953,0.2831970755448901,0.6241028603371211,1.0407268957495415,-0.26224266816482766,0.5298657981252108,-2.0965098648132012,1.5130229822141446,-1.7078071537312842,-0.2720326625194213,1.5419814719954992,-0.3403798338394972,-0.2607484877893845,1.613613022678893,0.015346417608684809,0.8193595059346083,0.28400196804539557,0.23640271970560556,0.9643162048376709,-0.604459368826204,-1.2825284995959614,-0.3851992746376785,-0.2698997452038915,-0.1806119563245644,0.03316776563581451,-0.2064180896765948,0.5557810546207436,-0.9395511240801336,-0.3738586334196706,0.719627463803325,-1.1552010934966621,0.18725547161413295,-1.8598061078955381,-0.31999462379920496,-1.8573069884412665,0.5833843253960496,0.7005904412031791,-0.592374288827152,-0.32071254126644355,0.7437217160339742,-0.6523371315325809,-0.14606736635054363,-1.0609890385279603,-1.397175646717783,-0.4182909179317061,1.3303804152695233],\"type\":\"scatter\"}],                        {\"legend\":{\"bgcolor\":\"#F5F6F9\",\"font\":{\"color\":\"#4D5663\"}},\"paper_bgcolor\":\"#F5F6F9\",\"plot_bgcolor\":\"#F5F6F9\",\"template\":{\"data\":{\"barpolar\":[{\"marker\":{\"line\":{\"color\":\"#E5ECF6\",\"width\":0.5},\"pattern\":{\"fillmode\":\"overlay\",\"size\":10,\"solidity\":0.2}},\"type\":\"barpolar\"}],\"bar\":[{\"error_x\":{\"color\":\"#2a3f5f\"},\"error_y\":{\"color\":\"#2a3f5f\"},\"marker\":{\"line\":{\"color\":\"#E5ECF6\",\"width\":0.5},\"pattern\":{\"fillmode\":\"overlay\",\"size\":10,\"solidity\":0.2}},\"type\":\"bar\"}],\"carpet\":[{\"aaxis\":{\"endlinecolor\":\"#2a3f5f\",\"gridcolor\":\"white\",\"linecolor\":\"white\",\"minorgridcolor\":\"white\",\"startlinecolor\":\"#2a3f5f\"},\"baxis\":{\"endlinecolor\":\"#2a3f5f\",\"gridcolor\":\"white\",\"linecolor\":\"white\",\"minorgridcolor\":\"white\",\"startlinecolor\":\"#2a3f5f\"},\"type\":\"carpet\"}],\"choropleth\":[{\"colorbar\":{\"outlinewidth\":0,\"ticks\":\"\"},\"type\":\"choropleth\"}],\"contourcarpet\":[{\"colorbar\":{\"outlinewidth\":0,\"ticks\":\"\"},\"type\":\"contourcarpet\"}],\"contour\":[{\"colorbar\":{\"outlinewidth\":0,\"ticks\":\"\"},\"colorscale\":[[0.0,\"#0d0887\"],[0.1111111111111111,\"#46039f\"],[0.2222222222222222,\"#7201a8\"],[0.3333333333333333,\"#9c179e\"],[0.4444444444444444,\"#bd3786\"],[0.5555555555555556,\"#d8576b\"],[0.6666666666666666,\"#ed7953\"],[0.7777777777777778,\"#fb9f3a\"],[0.8888888888888888,\"#fdca26\"],[1.0,\"#f0f921\"]],\"type\":\"contour\"}],\"heatmapgl\":[{\"colorbar\":{\"outlinewidth\":0,\"ticks\":\"\"},\"colorscale\":[[0.0,\"#0d0887\"],[0.1111111111111111,\"#46039f\"],[0.2222222222222222,\"#7201a8\"],[0.3333333333333333,\"#9c179e\"],[0.4444444444444444,\"#bd3786\"],[0.5555555555555556,\"#d8576b\"],[0.6666666666666666,\"#ed7953\"],[0.7777777777777778,\"#fb9f3a\"],[0.8888888888888888,\"#fdca26\"],[1.0,\"#f0f921\"]],\"type\":\"heatmapgl\"}],\"heatmap\":[{\"colorbar\":{\"outlinewidth\":0,\"ticks\":\"\"},\"colorscale\":[[0.0,\"#0d0887\"],[0.1111111111111111,\"#46039f\"],[0.2222222222222222,\"#7201a8\"],[0.3333333333333333,\"#9c179e\"],[0.4444444444444444,\"#bd3786\"],[0.5555555555555556,\"#d8576b\"],[0.6666666666666666,\"#ed7953\"],[0.7777777777777778,\"#fb9f3a\"],[0.8888888888888888,\"#fdca26\"],[1.0,\"#f0f921\"]],\"type\":\"heatmap\"}],\"histogram2dcontour\":[{\"colorbar\":{\"outlinewidth\":0,\"ticks\":\"\"},\"colorscale\":[[0.0,\"#0d0887\"],[0.1111111111111111,\"#46039f\"],[0.2222222222222222,\"#7201a8\"],[0.3333333333333333,\"#9c179e\"],[0.4444444444444444,\"#bd3786\"],[0.5555555555555556,\"#d8576b\"],[0.6666666666666666,\"#ed7953\"],[0.7777777777777778,\"#fb9f3a\"],[0.8888888888888888,\"#fdca26\"],[1.0,\"#f0f921\"]],\"type\":\"histogram2dcontour\"}],\"histogram2d\":[{\"colorbar\":{\"outlinewidth\":0,\"ticks\":\"\"},\"colorscale\":[[0.0,\"#0d0887\"],[0.1111111111111111,\"#46039f\"],[0.2222222222222222,\"#7201a8\"],[0.3333333333333333,\"#9c179e\"],[0.4444444444444444,\"#bd3786\"],[0.5555555555555556,\"#d8576b\"],[0.6666666666666666,\"#ed7953\"],[0.7777777777777778,\"#fb9f3a\"],[0.8888888888888888,\"#fdca26\"],[1.0,\"#f0f921\"]],\"type\":\"histogram2d\"}],\"histogram\":[{\"marker\":{\"pattern\":{\"fillmode\":\"overlay\",\"size\":10,\"solidity\":0.2}},\"type\":\"histogram\"}],\"mesh3d\":[{\"colorbar\":{\"outlinewidth\":0,\"ticks\":\"\"},\"type\":\"mesh3d\"}],\"parcoords\":[{\"line\":{\"colorbar\":{\"outlinewidth\":0,\"ticks\":\"\"}},\"type\":\"parcoords\"}],\"pie\":[{\"automargin\":true,\"type\":\"pie\"}],\"scatter3d\":[{\"line\":{\"colorbar\":{\"outlinewidth\":0,\"ticks\":\"\"}},\"marker\":{\"colorbar\":{\"outlinewidth\":0,\"ticks\":\"\"}},\"type\":\"scatter3d\"}],\"scattercarpet\":[{\"marker\":{\"colorbar\":{\"outlinewidth\":0,\"ticks\":\"\"}},\"type\":\"scattercarpet\"}],\"scattergeo\":[{\"marker\":{\"colorbar\":{\"outlinewidth\":0,\"ticks\":\"\"}},\"type\":\"scattergeo\"}],\"scattergl\":[{\"marker\":{\"colorbar\":{\"outlinewidth\":0,\"ticks\":\"\"}},\"type\":\"scattergl\"}],\"scattermapbox\":[{\"marker\":{\"colorbar\":{\"outlinewidth\":0,\"ticks\":\"\"}},\"type\":\"scattermapbox\"}],\"scatterpolargl\":[{\"marker\":{\"colorbar\":{\"outlinewidth\":0,\"ticks\":\"\"}},\"type\":\"scatterpolargl\"}],\"scatterpolar\":[{\"marker\":{\"colorbar\":{\"outlinewidth\":0,\"ticks\":\"\"}},\"type\":\"scatterpolar\"}],\"scatter\":[{\"fillpattern\":{\"fillmode\":\"overlay\",\"size\":10,\"solidity\":0.2},\"type\":\"scatter\"}],\"scatterternary\":[{\"marker\":{\"colorbar\":{\"outlinewidth\":0,\"ticks\":\"\"}},\"type\":\"scatterternary\"}],\"surface\":[{\"colorbar\":{\"outlinewidth\":0,\"ticks\":\"\"},\"colorscale\":[[0.0,\"#0d0887\"],[0.1111111111111111,\"#46039f\"],[0.2222222222222222,\"#7201a8\"],[0.3333333333333333,\"#9c179e\"],[0.4444444444444444,\"#bd3786\"],[0.5555555555555556,\"#d8576b\"],[0.6666666666666666,\"#ed7953\"],[0.7777777777777778,\"#fb9f3a\"],[0.8888888888888888,\"#fdca26\"],[1.0,\"#f0f921\"]],\"type\":\"surface\"}],\"table\":[{\"cells\":{\"fill\":{\"color\":\"#EBF0F8\"},\"line\":{\"color\":\"white\"}},\"header\":{\"fill\":{\"color\":\"#C8D4E3\"},\"line\":{\"color\":\"white\"}},\"type\":\"table\"}]},\"layout\":{\"annotationdefaults\":{\"arrowcolor\":\"#2a3f5f\",\"arrowhead\":0,\"arrowwidth\":1},\"autotypenumbers\":\"strict\",\"coloraxis\":{\"colorbar\":{\"outlinewidth\":0,\"ticks\":\"\"}},\"colorscale\":{\"diverging\":[[0,\"#8e0152\"],[0.1,\"#c51b7d\"],[0.2,\"#de77ae\"],[0.3,\"#f1b6da\"],[0.4,\"#fde0ef\"],[0.5,\"#f7f7f7\"],[0.6,\"#e6f5d0\"],[0.7,\"#b8e186\"],[0.8,\"#7fbc41\"],[0.9,\"#4d9221\"],[1,\"#276419\"]],\"sequential\":[[0.0,\"#0d0887\"],[0.1111111111111111,\"#46039f\"],[0.2222222222222222,\"#7201a8\"],[0.3333333333333333,\"#9c179e\"],[0.4444444444444444,\"#bd3786\"],[0.5555555555555556,\"#d8576b\"],[0.6666666666666666,\"#ed7953\"],[0.7777777777777778,\"#fb9f3a\"],[0.8888888888888888,\"#fdca26\"],[1.0,\"#f0f921\"]],\"sequentialminus\":[[0.0,\"#0d0887\"],[0.1111111111111111,\"#46039f\"],[0.2222222222222222,\"#7201a8\"],[0.3333333333333333,\"#9c179e\"],[0.4444444444444444,\"#bd3786\"],[0.5555555555555556,\"#d8576b\"],[0.6666666666666666,\"#ed7953\"],[0.7777777777777778,\"#fb9f3a\"],[0.8888888888888888,\"#fdca26\"],[1.0,\"#f0f921\"]]},\"colorway\":[\"#636efa\",\"#EF553B\",\"#00cc96\",\"#ab63fa\",\"#FFA15A\",\"#19d3f3\",\"#FF6692\",\"#B6E880\",\"#FF97FF\",\"#FECB52\"],\"font\":{\"color\":\"#2a3f5f\"},\"geo\":{\"bgcolor\":\"white\",\"lakecolor\":\"white\",\"landcolor\":\"#E5ECF6\",\"showlakes\":true,\"showland\":true,\"subunitcolor\":\"white\"},\"hoverlabel\":{\"align\":\"left\"},\"hovermode\":\"closest\",\"mapbox\":{\"style\":\"light\"},\"paper_bgcolor\":\"white\",\"plot_bgcolor\":\"#E5ECF6\",\"polar\":{\"angularaxis\":{\"gridcolor\":\"white\",\"linecolor\":\"white\",\"ticks\":\"\"},\"bgcolor\":\"#E5ECF6\",\"radialaxis\":{\"gridcolor\":\"white\",\"linecolor\":\"white\",\"ticks\":\"\"}},\"scene\":{\"xaxis\":{\"backgroundcolor\":\"#E5ECF6\",\"gridcolor\":\"white\",\"gridwidth\":2,\"linecolor\":\"white\",\"showbackground\":true,\"ticks\":\"\",\"zerolinecolor\":\"white\"},\"yaxis\":{\"backgroundcolor\":\"#E5ECF6\",\"gridcolor\":\"white\",\"gridwidth\":2,\"linecolor\":\"white\",\"showbackground\":true,\"ticks\":\"\",\"zerolinecolor\":\"white\"},\"zaxis\":{\"backgroundcolor\":\"#E5ECF6\",\"gridcolor\":\"white\",\"gridwidth\":2,\"linecolor\":\"white\",\"showbackground\":true,\"ticks\":\"\",\"zerolinecolor\":\"white\"}},\"shapedefaults\":{\"line\":{\"color\":\"#2a3f5f\"}},\"ternary\":{\"aaxis\":{\"gridcolor\":\"white\",\"linecolor\":\"white\",\"ticks\":\"\"},\"baxis\":{\"gridcolor\":\"white\",\"linecolor\":\"white\",\"ticks\":\"\"},\"bgcolor\":\"#E5ECF6\",\"caxis\":{\"gridcolor\":\"white\",\"linecolor\":\"white\",\"ticks\":\"\"}},\"title\":{\"x\":0.05},\"xaxis\":{\"automargin\":true,\"gridcolor\":\"white\",\"linecolor\":\"white\",\"ticks\":\"\",\"title\":{\"standoff\":15},\"zerolinecolor\":\"white\",\"zerolinewidth\":2},\"yaxis\":{\"automargin\":true,\"gridcolor\":\"white\",\"linecolor\":\"white\",\"ticks\":\"\",\"title\":{\"standoff\":15},\"zerolinecolor\":\"white\",\"zerolinewidth\":2}}},\"title\":{\"font\":{\"color\":\"#4D5663\"}},\"xaxis\":{\"gridcolor\":\"#E1E5ED\",\"showgrid\":true,\"tickfont\":{\"color\":\"#4D5663\"},\"title\":{\"font\":{\"color\":\"#4D5663\"},\"text\":\"\"},\"zerolinecolor\":\"#E1E5ED\"},\"yaxis\":{\"gridcolor\":\"#E1E5ED\",\"showgrid\":true,\"tickfont\":{\"color\":\"#4D5663\"},\"title\":{\"font\":{\"color\":\"#4D5663\"},\"text\":\"\"},\"zerolinecolor\":\"#E1E5ED\"}},                        {\"showLink\": true, \"linkText\": \"Export to plot.ly\", \"plotlyServerURL\": \"https://plot.ly\", \"responsive\": true}                    ).then(function(){\n",
       "                            \n",
       "var gd = document.getElementById('3d283295-998d-4dec-be33-82b9a8839643');\n",
       "var x = new MutationObserver(function (mutations, observer) {{\n",
       "        var display = window.getComputedStyle(gd).display;\n",
       "        if (!display || display === 'none') {{\n",
       "            console.log([gd, 'removed!']);\n",
       "            Plotly.purge(gd);\n",
       "            observer.disconnect();\n",
       "        }}\n",
       "}});\n",
       "\n",
       "// Listen for the removal of the full notebook cells\n",
       "var notebookContainer = gd.closest('#notebook-container');\n",
       "if (notebookContainer) {{\n",
       "    x.observe(notebookContainer, {childList: true});\n",
       "}}\n",
       "\n",
       "// Listen for the clearing of the current output cell\n",
       "var outputEl = gd.closest('.output');\n",
       "if (outputEl) {{\n",
       "    x.observe(outputEl, {childList: true});\n",
       "}}\n",
       "\n",
       "                        })                };                });            </script>        </div>"
      ]
     },
     "metadata": {},
     "output_type": "display_data"
    }
   ],
   "source": [
    "df.iplot(kind='scatter',x='A',y='B',mode='markers')"
   ]
  },
  {
   "cell_type": "code",
   "execution_count": 63,
   "id": "0063135c",
   "metadata": {},
   "outputs": [
    {
     "data": {
      "application/vnd.plotly.v1+json": {
       "config": {
        "linkText": "Export to plot.ly",
        "plotlyServerURL": "https://plot.ly",
        "showLink": true
       },
       "data": [
        {
         "marker": {
          "color": "rgba(255, 153, 51, 0.6)",
          "line": {
           "color": "rgba(255, 153, 51, 1.0)",
           "width": 1
          }
         },
         "name": "Values",
         "orientation": "v",
         "text": "",
         "type": "bar",
         "x": [
          "A",
          "B",
          "C"
         ],
         "y": [
          32,
          43,
          50
         ]
        }
       ],
       "layout": {
        "legend": {
         "bgcolor": "#F5F6F9",
         "font": {
          "color": "#4D5663"
         }
        },
        "paper_bgcolor": "#F5F6F9",
        "plot_bgcolor": "#F5F6F9",
        "template": {
         "data": {
          "bar": [
           {
            "error_x": {
             "color": "#2a3f5f"
            },
            "error_y": {
             "color": "#2a3f5f"
            },
            "marker": {
             "line": {
              "color": "#E5ECF6",
              "width": 0.5
             },
             "pattern": {
              "fillmode": "overlay",
              "size": 10,
              "solidity": 0.2
             }
            },
            "type": "bar"
           }
          ],
          "barpolar": [
           {
            "marker": {
             "line": {
              "color": "#E5ECF6",
              "width": 0.5
             },
             "pattern": {
              "fillmode": "overlay",
              "size": 10,
              "solidity": 0.2
             }
            },
            "type": "barpolar"
           }
          ],
          "carpet": [
           {
            "aaxis": {
             "endlinecolor": "#2a3f5f",
             "gridcolor": "white",
             "linecolor": "white",
             "minorgridcolor": "white",
             "startlinecolor": "#2a3f5f"
            },
            "baxis": {
             "endlinecolor": "#2a3f5f",
             "gridcolor": "white",
             "linecolor": "white",
             "minorgridcolor": "white",
             "startlinecolor": "#2a3f5f"
            },
            "type": "carpet"
           }
          ],
          "choropleth": [
           {
            "colorbar": {
             "outlinewidth": 0,
             "ticks": ""
            },
            "type": "choropleth"
           }
          ],
          "contour": [
           {
            "colorbar": {
             "outlinewidth": 0,
             "ticks": ""
            },
            "colorscale": [
             [
              0,
              "#0d0887"
             ],
             [
              0.1111111111111111,
              "#46039f"
             ],
             [
              0.2222222222222222,
              "#7201a8"
             ],
             [
              0.3333333333333333,
              "#9c179e"
             ],
             [
              0.4444444444444444,
              "#bd3786"
             ],
             [
              0.5555555555555556,
              "#d8576b"
             ],
             [
              0.6666666666666666,
              "#ed7953"
             ],
             [
              0.7777777777777778,
              "#fb9f3a"
             ],
             [
              0.8888888888888888,
              "#fdca26"
             ],
             [
              1,
              "#f0f921"
             ]
            ],
            "type": "contour"
           }
          ],
          "contourcarpet": [
           {
            "colorbar": {
             "outlinewidth": 0,
             "ticks": ""
            },
            "type": "contourcarpet"
           }
          ],
          "heatmap": [
           {
            "colorbar": {
             "outlinewidth": 0,
             "ticks": ""
            },
            "colorscale": [
             [
              0,
              "#0d0887"
             ],
             [
              0.1111111111111111,
              "#46039f"
             ],
             [
              0.2222222222222222,
              "#7201a8"
             ],
             [
              0.3333333333333333,
              "#9c179e"
             ],
             [
              0.4444444444444444,
              "#bd3786"
             ],
             [
              0.5555555555555556,
              "#d8576b"
             ],
             [
              0.6666666666666666,
              "#ed7953"
             ],
             [
              0.7777777777777778,
              "#fb9f3a"
             ],
             [
              0.8888888888888888,
              "#fdca26"
             ],
             [
              1,
              "#f0f921"
             ]
            ],
            "type": "heatmap"
           }
          ],
          "heatmapgl": [
           {
            "colorbar": {
             "outlinewidth": 0,
             "ticks": ""
            },
            "colorscale": [
             [
              0,
              "#0d0887"
             ],
             [
              0.1111111111111111,
              "#46039f"
             ],
             [
              0.2222222222222222,
              "#7201a8"
             ],
             [
              0.3333333333333333,
              "#9c179e"
             ],
             [
              0.4444444444444444,
              "#bd3786"
             ],
             [
              0.5555555555555556,
              "#d8576b"
             ],
             [
              0.6666666666666666,
              "#ed7953"
             ],
             [
              0.7777777777777778,
              "#fb9f3a"
             ],
             [
              0.8888888888888888,
              "#fdca26"
             ],
             [
              1,
              "#f0f921"
             ]
            ],
            "type": "heatmapgl"
           }
          ],
          "histogram": [
           {
            "marker": {
             "pattern": {
              "fillmode": "overlay",
              "size": 10,
              "solidity": 0.2
             }
            },
            "type": "histogram"
           }
          ],
          "histogram2d": [
           {
            "colorbar": {
             "outlinewidth": 0,
             "ticks": ""
            },
            "colorscale": [
             [
              0,
              "#0d0887"
             ],
             [
              0.1111111111111111,
              "#46039f"
             ],
             [
              0.2222222222222222,
              "#7201a8"
             ],
             [
              0.3333333333333333,
              "#9c179e"
             ],
             [
              0.4444444444444444,
              "#bd3786"
             ],
             [
              0.5555555555555556,
              "#d8576b"
             ],
             [
              0.6666666666666666,
              "#ed7953"
             ],
             [
              0.7777777777777778,
              "#fb9f3a"
             ],
             [
              0.8888888888888888,
              "#fdca26"
             ],
             [
              1,
              "#f0f921"
             ]
            ],
            "type": "histogram2d"
           }
          ],
          "histogram2dcontour": [
           {
            "colorbar": {
             "outlinewidth": 0,
             "ticks": ""
            },
            "colorscale": [
             [
              0,
              "#0d0887"
             ],
             [
              0.1111111111111111,
              "#46039f"
             ],
             [
              0.2222222222222222,
              "#7201a8"
             ],
             [
              0.3333333333333333,
              "#9c179e"
             ],
             [
              0.4444444444444444,
              "#bd3786"
             ],
             [
              0.5555555555555556,
              "#d8576b"
             ],
             [
              0.6666666666666666,
              "#ed7953"
             ],
             [
              0.7777777777777778,
              "#fb9f3a"
             ],
             [
              0.8888888888888888,
              "#fdca26"
             ],
             [
              1,
              "#f0f921"
             ]
            ],
            "type": "histogram2dcontour"
           }
          ],
          "mesh3d": [
           {
            "colorbar": {
             "outlinewidth": 0,
             "ticks": ""
            },
            "type": "mesh3d"
           }
          ],
          "parcoords": [
           {
            "line": {
             "colorbar": {
              "outlinewidth": 0,
              "ticks": ""
             }
            },
            "type": "parcoords"
           }
          ],
          "pie": [
           {
            "automargin": true,
            "type": "pie"
           }
          ],
          "scatter": [
           {
            "fillpattern": {
             "fillmode": "overlay",
             "size": 10,
             "solidity": 0.2
            },
            "type": "scatter"
           }
          ],
          "scatter3d": [
           {
            "line": {
             "colorbar": {
              "outlinewidth": 0,
              "ticks": ""
             }
            },
            "marker": {
             "colorbar": {
              "outlinewidth": 0,
              "ticks": ""
             }
            },
            "type": "scatter3d"
           }
          ],
          "scattercarpet": [
           {
            "marker": {
             "colorbar": {
              "outlinewidth": 0,
              "ticks": ""
             }
            },
            "type": "scattercarpet"
           }
          ],
          "scattergeo": [
           {
            "marker": {
             "colorbar": {
              "outlinewidth": 0,
              "ticks": ""
             }
            },
            "type": "scattergeo"
           }
          ],
          "scattergl": [
           {
            "marker": {
             "colorbar": {
              "outlinewidth": 0,
              "ticks": ""
             }
            },
            "type": "scattergl"
           }
          ],
          "scattermapbox": [
           {
            "marker": {
             "colorbar": {
              "outlinewidth": 0,
              "ticks": ""
             }
            },
            "type": "scattermapbox"
           }
          ],
          "scatterpolar": [
           {
            "marker": {
             "colorbar": {
              "outlinewidth": 0,
              "ticks": ""
             }
            },
            "type": "scatterpolar"
           }
          ],
          "scatterpolargl": [
           {
            "marker": {
             "colorbar": {
              "outlinewidth": 0,
              "ticks": ""
             }
            },
            "type": "scatterpolargl"
           }
          ],
          "scatterternary": [
           {
            "marker": {
             "colorbar": {
              "outlinewidth": 0,
              "ticks": ""
             }
            },
            "type": "scatterternary"
           }
          ],
          "surface": [
           {
            "colorbar": {
             "outlinewidth": 0,
             "ticks": ""
            },
            "colorscale": [
             [
              0,
              "#0d0887"
             ],
             [
              0.1111111111111111,
              "#46039f"
             ],
             [
              0.2222222222222222,
              "#7201a8"
             ],
             [
              0.3333333333333333,
              "#9c179e"
             ],
             [
              0.4444444444444444,
              "#bd3786"
             ],
             [
              0.5555555555555556,
              "#d8576b"
             ],
             [
              0.6666666666666666,
              "#ed7953"
             ],
             [
              0.7777777777777778,
              "#fb9f3a"
             ],
             [
              0.8888888888888888,
              "#fdca26"
             ],
             [
              1,
              "#f0f921"
             ]
            ],
            "type": "surface"
           }
          ],
          "table": [
           {
            "cells": {
             "fill": {
              "color": "#EBF0F8"
             },
             "line": {
              "color": "white"
             }
            },
            "header": {
             "fill": {
              "color": "#C8D4E3"
             },
             "line": {
              "color": "white"
             }
            },
            "type": "table"
           }
          ]
         },
         "layout": {
          "annotationdefaults": {
           "arrowcolor": "#2a3f5f",
           "arrowhead": 0,
           "arrowwidth": 1
          },
          "autotypenumbers": "strict",
          "coloraxis": {
           "colorbar": {
            "outlinewidth": 0,
            "ticks": ""
           }
          },
          "colorscale": {
           "diverging": [
            [
             0,
             "#8e0152"
            ],
            [
             0.1,
             "#c51b7d"
            ],
            [
             0.2,
             "#de77ae"
            ],
            [
             0.3,
             "#f1b6da"
            ],
            [
             0.4,
             "#fde0ef"
            ],
            [
             0.5,
             "#f7f7f7"
            ],
            [
             0.6,
             "#e6f5d0"
            ],
            [
             0.7,
             "#b8e186"
            ],
            [
             0.8,
             "#7fbc41"
            ],
            [
             0.9,
             "#4d9221"
            ],
            [
             1,
             "#276419"
            ]
           ],
           "sequential": [
            [
             0,
             "#0d0887"
            ],
            [
             0.1111111111111111,
             "#46039f"
            ],
            [
             0.2222222222222222,
             "#7201a8"
            ],
            [
             0.3333333333333333,
             "#9c179e"
            ],
            [
             0.4444444444444444,
             "#bd3786"
            ],
            [
             0.5555555555555556,
             "#d8576b"
            ],
            [
             0.6666666666666666,
             "#ed7953"
            ],
            [
             0.7777777777777778,
             "#fb9f3a"
            ],
            [
             0.8888888888888888,
             "#fdca26"
            ],
            [
             1,
             "#f0f921"
            ]
           ],
           "sequentialminus": [
            [
             0,
             "#0d0887"
            ],
            [
             0.1111111111111111,
             "#46039f"
            ],
            [
             0.2222222222222222,
             "#7201a8"
            ],
            [
             0.3333333333333333,
             "#9c179e"
            ],
            [
             0.4444444444444444,
             "#bd3786"
            ],
            [
             0.5555555555555556,
             "#d8576b"
            ],
            [
             0.6666666666666666,
             "#ed7953"
            ],
            [
             0.7777777777777778,
             "#fb9f3a"
            ],
            [
             0.8888888888888888,
             "#fdca26"
            ],
            [
             1,
             "#f0f921"
            ]
           ]
          },
          "colorway": [
           "#636efa",
           "#EF553B",
           "#00cc96",
           "#ab63fa",
           "#FFA15A",
           "#19d3f3",
           "#FF6692",
           "#B6E880",
           "#FF97FF",
           "#FECB52"
          ],
          "font": {
           "color": "#2a3f5f"
          },
          "geo": {
           "bgcolor": "white",
           "lakecolor": "white",
           "landcolor": "#E5ECF6",
           "showlakes": true,
           "showland": true,
           "subunitcolor": "white"
          },
          "hoverlabel": {
           "align": "left"
          },
          "hovermode": "closest",
          "mapbox": {
           "style": "light"
          },
          "paper_bgcolor": "white",
          "plot_bgcolor": "#E5ECF6",
          "polar": {
           "angularaxis": {
            "gridcolor": "white",
            "linecolor": "white",
            "ticks": ""
           },
           "bgcolor": "#E5ECF6",
           "radialaxis": {
            "gridcolor": "white",
            "linecolor": "white",
            "ticks": ""
           }
          },
          "scene": {
           "xaxis": {
            "backgroundcolor": "#E5ECF6",
            "gridcolor": "white",
            "gridwidth": 2,
            "linecolor": "white",
            "showbackground": true,
            "ticks": "",
            "zerolinecolor": "white"
           },
           "yaxis": {
            "backgroundcolor": "#E5ECF6",
            "gridcolor": "white",
            "gridwidth": 2,
            "linecolor": "white",
            "showbackground": true,
            "ticks": "",
            "zerolinecolor": "white"
           },
           "zaxis": {
            "backgroundcolor": "#E5ECF6",
            "gridcolor": "white",
            "gridwidth": 2,
            "linecolor": "white",
            "showbackground": true,
            "ticks": "",
            "zerolinecolor": "white"
           }
          },
          "shapedefaults": {
           "line": {
            "color": "#2a3f5f"
           }
          },
          "ternary": {
           "aaxis": {
            "gridcolor": "white",
            "linecolor": "white",
            "ticks": ""
           },
           "baxis": {
            "gridcolor": "white",
            "linecolor": "white",
            "ticks": ""
           },
           "bgcolor": "#E5ECF6",
           "caxis": {
            "gridcolor": "white",
            "linecolor": "white",
            "ticks": ""
           }
          },
          "title": {
           "x": 0.05
          },
          "xaxis": {
           "automargin": true,
           "gridcolor": "white",
           "linecolor": "white",
           "ticks": "",
           "title": {
            "standoff": 15
           },
           "zerolinecolor": "white",
           "zerolinewidth": 2
          },
          "yaxis": {
           "automargin": true,
           "gridcolor": "white",
           "linecolor": "white",
           "ticks": "",
           "title": {
            "standoff": 15
           },
           "zerolinecolor": "white",
           "zerolinewidth": 2
          }
         }
        },
        "title": {
         "font": {
          "color": "#4D5663"
         }
        },
        "xaxis": {
         "gridcolor": "#E1E5ED",
         "showgrid": true,
         "tickfont": {
          "color": "#4D5663"
         },
         "title": {
          "font": {
           "color": "#4D5663"
          },
          "text": ""
         },
         "zerolinecolor": "#E1E5ED"
        },
        "yaxis": {
         "gridcolor": "#E1E5ED",
         "showgrid": true,
         "tickfont": {
          "color": "#4D5663"
         },
         "title": {
          "font": {
           "color": "#4D5663"
          },
          "text": ""
         },
         "zerolinecolor": "#E1E5ED"
        }
       }
      },
      "text/html": [
       "<div>                            <div id=\"0e0c2f4a-b55e-41f9-8f18-8346e6ca1e88\" class=\"plotly-graph-div\" style=\"height:525px; width:100%;\"></div>            <script type=\"text/javascript\">                require([\"plotly\"], function(Plotly) {                    window.PLOTLYENV=window.PLOTLYENV || {};\n",
       "                    window.PLOTLYENV.BASE_URL='https://plot.ly';                                    if (document.getElementById(\"0e0c2f4a-b55e-41f9-8f18-8346e6ca1e88\")) {                    Plotly.newPlot(                        \"0e0c2f4a-b55e-41f9-8f18-8346e6ca1e88\",                        [{\"marker\":{\"color\":\"rgba(255, 153, 51, 0.6)\",\"line\":{\"color\":\"rgba(255, 153, 51, 1.0)\",\"width\":1}},\"name\":\"Values\",\"orientation\":\"v\",\"text\":\"\",\"x\":[\"A\",\"B\",\"C\"],\"y\":[32,43,50],\"type\":\"bar\"}],                        {\"legend\":{\"bgcolor\":\"#F5F6F9\",\"font\":{\"color\":\"#4D5663\"}},\"paper_bgcolor\":\"#F5F6F9\",\"plot_bgcolor\":\"#F5F6F9\",\"template\":{\"data\":{\"barpolar\":[{\"marker\":{\"line\":{\"color\":\"#E5ECF6\",\"width\":0.5},\"pattern\":{\"fillmode\":\"overlay\",\"size\":10,\"solidity\":0.2}},\"type\":\"barpolar\"}],\"bar\":[{\"error_x\":{\"color\":\"#2a3f5f\"},\"error_y\":{\"color\":\"#2a3f5f\"},\"marker\":{\"line\":{\"color\":\"#E5ECF6\",\"width\":0.5},\"pattern\":{\"fillmode\":\"overlay\",\"size\":10,\"solidity\":0.2}},\"type\":\"bar\"}],\"carpet\":[{\"aaxis\":{\"endlinecolor\":\"#2a3f5f\",\"gridcolor\":\"white\",\"linecolor\":\"white\",\"minorgridcolor\":\"white\",\"startlinecolor\":\"#2a3f5f\"},\"baxis\":{\"endlinecolor\":\"#2a3f5f\",\"gridcolor\":\"white\",\"linecolor\":\"white\",\"minorgridcolor\":\"white\",\"startlinecolor\":\"#2a3f5f\"},\"type\":\"carpet\"}],\"choropleth\":[{\"colorbar\":{\"outlinewidth\":0,\"ticks\":\"\"},\"type\":\"choropleth\"}],\"contourcarpet\":[{\"colorbar\":{\"outlinewidth\":0,\"ticks\":\"\"},\"type\":\"contourcarpet\"}],\"contour\":[{\"colorbar\":{\"outlinewidth\":0,\"ticks\":\"\"},\"colorscale\":[[0.0,\"#0d0887\"],[0.1111111111111111,\"#46039f\"],[0.2222222222222222,\"#7201a8\"],[0.3333333333333333,\"#9c179e\"],[0.4444444444444444,\"#bd3786\"],[0.5555555555555556,\"#d8576b\"],[0.6666666666666666,\"#ed7953\"],[0.7777777777777778,\"#fb9f3a\"],[0.8888888888888888,\"#fdca26\"],[1.0,\"#f0f921\"]],\"type\":\"contour\"}],\"heatmapgl\":[{\"colorbar\":{\"outlinewidth\":0,\"ticks\":\"\"},\"colorscale\":[[0.0,\"#0d0887\"],[0.1111111111111111,\"#46039f\"],[0.2222222222222222,\"#7201a8\"],[0.3333333333333333,\"#9c179e\"],[0.4444444444444444,\"#bd3786\"],[0.5555555555555556,\"#d8576b\"],[0.6666666666666666,\"#ed7953\"],[0.7777777777777778,\"#fb9f3a\"],[0.8888888888888888,\"#fdca26\"],[1.0,\"#f0f921\"]],\"type\":\"heatmapgl\"}],\"heatmap\":[{\"colorbar\":{\"outlinewidth\":0,\"ticks\":\"\"},\"colorscale\":[[0.0,\"#0d0887\"],[0.1111111111111111,\"#46039f\"],[0.2222222222222222,\"#7201a8\"],[0.3333333333333333,\"#9c179e\"],[0.4444444444444444,\"#bd3786\"],[0.5555555555555556,\"#d8576b\"],[0.6666666666666666,\"#ed7953\"],[0.7777777777777778,\"#fb9f3a\"],[0.8888888888888888,\"#fdca26\"],[1.0,\"#f0f921\"]],\"type\":\"heatmap\"}],\"histogram2dcontour\":[{\"colorbar\":{\"outlinewidth\":0,\"ticks\":\"\"},\"colorscale\":[[0.0,\"#0d0887\"],[0.1111111111111111,\"#46039f\"],[0.2222222222222222,\"#7201a8\"],[0.3333333333333333,\"#9c179e\"],[0.4444444444444444,\"#bd3786\"],[0.5555555555555556,\"#d8576b\"],[0.6666666666666666,\"#ed7953\"],[0.7777777777777778,\"#fb9f3a\"],[0.8888888888888888,\"#fdca26\"],[1.0,\"#f0f921\"]],\"type\":\"histogram2dcontour\"}],\"histogram2d\":[{\"colorbar\":{\"outlinewidth\":0,\"ticks\":\"\"},\"colorscale\":[[0.0,\"#0d0887\"],[0.1111111111111111,\"#46039f\"],[0.2222222222222222,\"#7201a8\"],[0.3333333333333333,\"#9c179e\"],[0.4444444444444444,\"#bd3786\"],[0.5555555555555556,\"#d8576b\"],[0.6666666666666666,\"#ed7953\"],[0.7777777777777778,\"#fb9f3a\"],[0.8888888888888888,\"#fdca26\"],[1.0,\"#f0f921\"]],\"type\":\"histogram2d\"}],\"histogram\":[{\"marker\":{\"pattern\":{\"fillmode\":\"overlay\",\"size\":10,\"solidity\":0.2}},\"type\":\"histogram\"}],\"mesh3d\":[{\"colorbar\":{\"outlinewidth\":0,\"ticks\":\"\"},\"type\":\"mesh3d\"}],\"parcoords\":[{\"line\":{\"colorbar\":{\"outlinewidth\":0,\"ticks\":\"\"}},\"type\":\"parcoords\"}],\"pie\":[{\"automargin\":true,\"type\":\"pie\"}],\"scatter3d\":[{\"line\":{\"colorbar\":{\"outlinewidth\":0,\"ticks\":\"\"}},\"marker\":{\"colorbar\":{\"outlinewidth\":0,\"ticks\":\"\"}},\"type\":\"scatter3d\"}],\"scattercarpet\":[{\"marker\":{\"colorbar\":{\"outlinewidth\":0,\"ticks\":\"\"}},\"type\":\"scattercarpet\"}],\"scattergeo\":[{\"marker\":{\"colorbar\":{\"outlinewidth\":0,\"ticks\":\"\"}},\"type\":\"scattergeo\"}],\"scattergl\":[{\"marker\":{\"colorbar\":{\"outlinewidth\":0,\"ticks\":\"\"}},\"type\":\"scattergl\"}],\"scattermapbox\":[{\"marker\":{\"colorbar\":{\"outlinewidth\":0,\"ticks\":\"\"}},\"type\":\"scattermapbox\"}],\"scatterpolargl\":[{\"marker\":{\"colorbar\":{\"outlinewidth\":0,\"ticks\":\"\"}},\"type\":\"scatterpolargl\"}],\"scatterpolar\":[{\"marker\":{\"colorbar\":{\"outlinewidth\":0,\"ticks\":\"\"}},\"type\":\"scatterpolar\"}],\"scatter\":[{\"fillpattern\":{\"fillmode\":\"overlay\",\"size\":10,\"solidity\":0.2},\"type\":\"scatter\"}],\"scatterternary\":[{\"marker\":{\"colorbar\":{\"outlinewidth\":0,\"ticks\":\"\"}},\"type\":\"scatterternary\"}],\"surface\":[{\"colorbar\":{\"outlinewidth\":0,\"ticks\":\"\"},\"colorscale\":[[0.0,\"#0d0887\"],[0.1111111111111111,\"#46039f\"],[0.2222222222222222,\"#7201a8\"],[0.3333333333333333,\"#9c179e\"],[0.4444444444444444,\"#bd3786\"],[0.5555555555555556,\"#d8576b\"],[0.6666666666666666,\"#ed7953\"],[0.7777777777777778,\"#fb9f3a\"],[0.8888888888888888,\"#fdca26\"],[1.0,\"#f0f921\"]],\"type\":\"surface\"}],\"table\":[{\"cells\":{\"fill\":{\"color\":\"#EBF0F8\"},\"line\":{\"color\":\"white\"}},\"header\":{\"fill\":{\"color\":\"#C8D4E3\"},\"line\":{\"color\":\"white\"}},\"type\":\"table\"}]},\"layout\":{\"annotationdefaults\":{\"arrowcolor\":\"#2a3f5f\",\"arrowhead\":0,\"arrowwidth\":1},\"autotypenumbers\":\"strict\",\"coloraxis\":{\"colorbar\":{\"outlinewidth\":0,\"ticks\":\"\"}},\"colorscale\":{\"diverging\":[[0,\"#8e0152\"],[0.1,\"#c51b7d\"],[0.2,\"#de77ae\"],[0.3,\"#f1b6da\"],[0.4,\"#fde0ef\"],[0.5,\"#f7f7f7\"],[0.6,\"#e6f5d0\"],[0.7,\"#b8e186\"],[0.8,\"#7fbc41\"],[0.9,\"#4d9221\"],[1,\"#276419\"]],\"sequential\":[[0.0,\"#0d0887\"],[0.1111111111111111,\"#46039f\"],[0.2222222222222222,\"#7201a8\"],[0.3333333333333333,\"#9c179e\"],[0.4444444444444444,\"#bd3786\"],[0.5555555555555556,\"#d8576b\"],[0.6666666666666666,\"#ed7953\"],[0.7777777777777778,\"#fb9f3a\"],[0.8888888888888888,\"#fdca26\"],[1.0,\"#f0f921\"]],\"sequentialminus\":[[0.0,\"#0d0887\"],[0.1111111111111111,\"#46039f\"],[0.2222222222222222,\"#7201a8\"],[0.3333333333333333,\"#9c179e\"],[0.4444444444444444,\"#bd3786\"],[0.5555555555555556,\"#d8576b\"],[0.6666666666666666,\"#ed7953\"],[0.7777777777777778,\"#fb9f3a\"],[0.8888888888888888,\"#fdca26\"],[1.0,\"#f0f921\"]]},\"colorway\":[\"#636efa\",\"#EF553B\",\"#00cc96\",\"#ab63fa\",\"#FFA15A\",\"#19d3f3\",\"#FF6692\",\"#B6E880\",\"#FF97FF\",\"#FECB52\"],\"font\":{\"color\":\"#2a3f5f\"},\"geo\":{\"bgcolor\":\"white\",\"lakecolor\":\"white\",\"landcolor\":\"#E5ECF6\",\"showlakes\":true,\"showland\":true,\"subunitcolor\":\"white\"},\"hoverlabel\":{\"align\":\"left\"},\"hovermode\":\"closest\",\"mapbox\":{\"style\":\"light\"},\"paper_bgcolor\":\"white\",\"plot_bgcolor\":\"#E5ECF6\",\"polar\":{\"angularaxis\":{\"gridcolor\":\"white\",\"linecolor\":\"white\",\"ticks\":\"\"},\"bgcolor\":\"#E5ECF6\",\"radialaxis\":{\"gridcolor\":\"white\",\"linecolor\":\"white\",\"ticks\":\"\"}},\"scene\":{\"xaxis\":{\"backgroundcolor\":\"#E5ECF6\",\"gridcolor\":\"white\",\"gridwidth\":2,\"linecolor\":\"white\",\"showbackground\":true,\"ticks\":\"\",\"zerolinecolor\":\"white\"},\"yaxis\":{\"backgroundcolor\":\"#E5ECF6\",\"gridcolor\":\"white\",\"gridwidth\":2,\"linecolor\":\"white\",\"showbackground\":true,\"ticks\":\"\",\"zerolinecolor\":\"white\"},\"zaxis\":{\"backgroundcolor\":\"#E5ECF6\",\"gridcolor\":\"white\",\"gridwidth\":2,\"linecolor\":\"white\",\"showbackground\":true,\"ticks\":\"\",\"zerolinecolor\":\"white\"}},\"shapedefaults\":{\"line\":{\"color\":\"#2a3f5f\"}},\"ternary\":{\"aaxis\":{\"gridcolor\":\"white\",\"linecolor\":\"white\",\"ticks\":\"\"},\"baxis\":{\"gridcolor\":\"white\",\"linecolor\":\"white\",\"ticks\":\"\"},\"bgcolor\":\"#E5ECF6\",\"caxis\":{\"gridcolor\":\"white\",\"linecolor\":\"white\",\"ticks\":\"\"}},\"title\":{\"x\":0.05},\"xaxis\":{\"automargin\":true,\"gridcolor\":\"white\",\"linecolor\":\"white\",\"ticks\":\"\",\"title\":{\"standoff\":15},\"zerolinecolor\":\"white\",\"zerolinewidth\":2},\"yaxis\":{\"automargin\":true,\"gridcolor\":\"white\",\"linecolor\":\"white\",\"ticks\":\"\",\"title\":{\"standoff\":15},\"zerolinecolor\":\"white\",\"zerolinewidth\":2}}},\"title\":{\"font\":{\"color\":\"#4D5663\"}},\"xaxis\":{\"gridcolor\":\"#E1E5ED\",\"showgrid\":true,\"tickfont\":{\"color\":\"#4D5663\"},\"title\":{\"font\":{\"color\":\"#4D5663\"},\"text\":\"\"},\"zerolinecolor\":\"#E1E5ED\"},\"yaxis\":{\"gridcolor\":\"#E1E5ED\",\"showgrid\":true,\"tickfont\":{\"color\":\"#4D5663\"},\"title\":{\"font\":{\"color\":\"#4D5663\"},\"text\":\"\"},\"zerolinecolor\":\"#E1E5ED\"}},                        {\"showLink\": true, \"linkText\": \"Export to plot.ly\", \"plotlyServerURL\": \"https://plot.ly\", \"responsive\": true}                    ).then(function(){\n",
       "                            \n",
       "var gd = document.getElementById('0e0c2f4a-b55e-41f9-8f18-8346e6ca1e88');\n",
       "var x = new MutationObserver(function (mutations, observer) {{\n",
       "        var display = window.getComputedStyle(gd).display;\n",
       "        if (!display || display === 'none') {{\n",
       "            console.log([gd, 'removed!']);\n",
       "            Plotly.purge(gd);\n",
       "            observer.disconnect();\n",
       "        }}\n",
       "}});\n",
       "\n",
       "// Listen for the removal of the full notebook cells\n",
       "var notebookContainer = gd.closest('#notebook-container');\n",
       "if (notebookContainer) {{\n",
       "    x.observe(notebookContainer, {childList: true});\n",
       "}}\n",
       "\n",
       "// Listen for the clearing of the current output cell\n",
       "var outputEl = gd.closest('.output');\n",
       "if (outputEl) {{\n",
       "    x.observe(outputEl, {childList: true});\n",
       "}}\n",
       "\n",
       "                        })                };                });            </script>        </div>"
      ]
     },
     "metadata": {},
     "output_type": "display_data"
    }
   ],
   "source": [
    "df2.iplot(kind='bar',x='Category',y='Values')"
   ]
  },
  {
   "cell_type": "code",
   "execution_count": 64,
   "id": "b3ec4c7c",
   "metadata": {},
   "outputs": [
    {
     "data": {
      "application/vnd.plotly.v1+json": {
       "config": {
        "linkText": "Export to plot.ly",
        "plotlyServerURL": "https://plot.ly",
        "showLink": true
       },
       "data": [
        {
         "boxpoints": false,
         "line": {
          "width": 1.3
         },
         "marker": {
          "color": "rgba(255, 153, 51, 1.0)"
         },
         "name": "A",
         "orientation": "v",
         "type": "box",
         "y": [
          -2.0245678545620653,
          -0.70000967402194,
          0.4923011266211667,
          -0.1721337617162361,
          0.1300772047032601,
          -0.8333704434524496,
          0.34121462467065816,
          0.9677726356756655,
          1.0120891924486815,
          1.2232183702754578,
          -0.8427421789582358,
          0.18819096793209314,
          -1.6095005021892217,
          0.41339125775669555,
          -0.8948518562686107,
          -0.1843957684237995,
          1.6860920350330262,
          1.7966629201710838,
          0.7059434946092662,
          -0.4638431276336962,
          0.8335385969736977,
          -0.7338353757187845,
          0.29198786778577684,
          0.7621576857108744,
          -1.2797389810464925,
          1.0297527504257031,
          0.9625278654239828,
          -1.7851418437008166,
          -1.0954108369089715,
          -2.8084934964522676,
          1.3198883643750479,
          0.39999831444598893,
          -1.141518084638812,
          -0.553833400359158,
          -0.5021357042202531,
          -1.7747620990430988,
          -0.7471339649507993,
          -1.680236866891475,
          0.16800536415649148,
          0.9624777623645401,
          0.7327131001167891,
          0.8596062243117514,
          0.9170009008811542,
          -0.8909419630348943,
          0.2427255664521905,
          -0.6065451458740814,
          0.2482809249447097,
          -1.8535909031151525,
          -0.09750333812372164,
          -0.8798749960318651,
          0.217800590401041,
          0.8029760466725708,
          0.6653151750366897,
          -0.3084497006647018,
          0.36768824082733653,
          -0.3339365462425808,
          0.13868616976000864,
          -0.714301240067701,
          0.5588471774554243,
          0.0069681037932292815,
          0.2403401185362488,
          0.47347545555015974,
          -1.1164580146104586,
          -1.3765949888678477,
          0.21828959853628632,
          0.2983118598338089,
          1.4624051256412518,
          -1.294335785990532,
          -1.1891868148706493,
          0.4480021923135863,
          0.12578697802044325,
          0.5113765435650498,
          0.1285909603816634,
          -0.6806646507469855,
          -0.28554355498000167,
          1.8309719250363772,
          -0.7378615237977918,
          0.8487554269717219,
          -0.22845770363282245,
          -1.3198777526010914,
          -1.7164357576246156,
          -0.8565176465067136,
          1.5973041294004924,
          1.2230412199308058,
          -0.7866323189888544,
          -1.3609919026164312,
          0.06459817804490998,
          0.921998675958377,
          2.1608332100400616,
          -0.44158263770700196,
          0.16697383520246797,
          0.15215444987588211,
          0.32083154833677463,
          -0.4768739422051255,
          0.15539672302809196,
          0.5132262797726742,
          0.5812646979598842,
          0.3999652636768709,
          -0.2552657391538536,
          0.09731861511588642
         ]
        },
        {
         "boxpoints": false,
         "line": {
          "width": 1.3
         },
         "marker": {
          "color": "rgba(55, 128, 191, 1.0)"
         },
         "name": "B",
         "orientation": "v",
         "type": "box",
         "y": [
          -0.6382408485860838,
          -0.26445161392310296,
          -0.23213667337437718,
          0.5180176758815382,
          -1.1248049522097245,
          -0.380272960362963,
          -0.2932209551832816,
          -0.2983349399546075,
          0.8352757748805898,
          0.19767795485653444,
          -0.25848078585870043,
          0.6572601167502129,
          0.4792315672286233,
          -0.7297409216849485,
          0.4046424846202565,
          1.2968971276167458,
          0.13935965106348322,
          -0.6594484341435785,
          -0.02418590218582255,
          -2.5239897567978575,
          1.5346822177409631,
          -0.044687567248630725,
          1.6231383581412073,
          0.40026551057354326,
          -1.346220027753875,
          0.16491814429374466,
          0.9065722606320102,
          0.6700483963411383,
          -0.05104018162539486,
          1.1707146916736622,
          0.27196909622293,
          -0.823741868413821,
          -1.071654380390136,
          1.611845565479155,
          -0.6358684090521775,
          0.12088690562135754,
          -0.4238076744306274,
          0.30761109667202036,
          0.10090276567627783,
          -0.934825817248883,
          -0.11477621970946751,
          -0.25626272220601465,
          -2.2618111698047243,
          0.47059504469409547,
          0.3384630374158783,
          1.1429078856709527,
          1.039266887625021,
          -0.9967830206402708,
          -0.6202045714826442,
          0.22079305993745846,
          0.9115135718961257,
          -1.2122517475675738,
          1.0560300708411399,
          -1.9090176950054356,
          2.028179416010953,
          0.2831970755448901,
          0.6241028603371211,
          1.0407268957495415,
          -0.26224266816482766,
          0.5298657981252108,
          -2.0965098648132012,
          1.5130229822141446,
          -1.7078071537312842,
          -0.2720326625194213,
          1.5419814719954992,
          -0.3403798338394972,
          -0.2607484877893845,
          1.613613022678893,
          0.015346417608684809,
          0.8193595059346083,
          0.28400196804539557,
          0.23640271970560556,
          0.9643162048376709,
          -0.604459368826204,
          -1.2825284995959614,
          -0.3851992746376785,
          -0.2698997452038915,
          -0.1806119563245644,
          0.03316776563581451,
          -0.2064180896765948,
          0.5557810546207436,
          -0.9395511240801336,
          -0.3738586334196706,
          0.719627463803325,
          -1.1552010934966621,
          0.18725547161413295,
          -1.8598061078955381,
          -0.31999462379920496,
          -1.8573069884412665,
          0.5833843253960496,
          0.7005904412031791,
          -0.592374288827152,
          -0.32071254126644355,
          0.7437217160339742,
          -0.6523371315325809,
          -0.14606736635054363,
          -1.0609890385279603,
          -1.397175646717783,
          -0.4182909179317061,
          1.3303804152695233
         ]
        },
        {
         "boxpoints": false,
         "line": {
          "width": 1.3
         },
         "marker": {
          "color": "rgba(50, 171, 96, 1.0)"
         },
         "name": "C",
         "orientation": "v",
         "type": "box",
         "y": [
          -0.224893079246173,
          1.2503815642723262,
          -0.009751551125147586,
          0.16527703916918052,
          -0.3745090835527552,
          0.515662283296908,
          1.0547154138277266,
          -0.22067757188991727,
          -0.6498584802383204,
          -2.07908895587237,
          2.1403465577961116,
          1.6445158565680038,
          -1.0175955610791787,
          -0.17251980686788723,
          -0.19414925926115856,
          0.9311926054750844,
          0.24273553610203655,
          -0.8953402123461103,
          -0.3387964991908508,
          0.36389088884917165,
          0.4405868040137417,
          -0.21012156100866447,
          -2.788900751431851,
          1.198143626275225,
          -0.4127880365061836,
          -0.238621684631133,
          0.4371715805619799,
          1.256886884011327,
          -0.060193643202252595,
          0.3059995769855611,
          -0.4158291391773987,
          2.1475559417541734,
          -0.6243802744709012,
          0.5817247352369509,
          0.39266255814740997,
          0.5649256027013886,
          0.8061396519459106,
          0.6195039399742812,
          0.02177467231854164,
          -1.319899574991042,
          -0.3356450667412887,
          0.03748262752761676,
          0.21357396085531327,
          0.1224416437776951,
          -0.2197873964063419,
          -1.0600124514378158,
          -0.3345568122382559,
          -0.5769051564609712,
          2.8592353822054193,
          0.9402264092354687,
          1.1170894271622458,
          1.1025825408160912,
          1.4589599777641047,
          -0.00559822897158635,
          0.649167046273083,
          0.5962648454476672,
          2.1015783595893724,
          -1.0004967709798152,
          -0.794419492093333,
          0.8507876014851588,
          -0.43312010038274834,
          -0.25549192361797196,
          0.3408418093354243,
          -1.3140065306556812,
          -0.892627715873621,
          0.2800577801511644,
          -1.8190732690240992,
          0.7071155509495465,
          -1.2699887648430062,
          1.1691192931392227,
          0.11665823912731504,
          -0.5073035259374067,
          -1.0932263125943875,
          0.20275177216827314,
          -0.11142118650757836,
          0.02910736140493556,
          0.9342531709146351,
          0.16746231525434202,
          -0.4608568591137009,
          -0.3901894838095558,
          0.6092957626506681,
          -0.5557513480847908,
          -0.21909070450172796,
          -0.537747844859767,
          -0.672824530162349,
          2.6124495827756866,
          1.6013530267662324,
          -0.10470803359208224,
          -0.48551242090787217,
          -0.36798474127000314,
          0.4582902064494334,
          1.2426685607553631,
          1.1506367383501355,
          -0.48916011980898466,
          -2.311296255514442,
          1.1525036060530027,
          0.18302057139365044,
          -0.13978553105887837,
          -0.04229289544270978,
          0.04282490464750087
         ]
        },
        {
         "boxpoints": false,
         "line": {
          "width": 1.3
         },
         "marker": {
          "color": "rgba(128, 0, 128, 1.0)"
         },
         "name": "D",
         "orientation": "v",
         "type": "box",
         "y": [
          1.298015485089696,
          -0.23339096447922594,
          1.1037728080136389,
          0.19806209294100593,
          2.549860056192145,
          -0.9061470055249541,
          -1.6191346355086136,
          -0.6402695199792406,
          0.5301304795188629,
          0.10826973860060203,
          -0.03096417152728443,
          -1.333260776229409,
          -0.5106018658222338,
          -1.2602161142365913,
          1.0541069690486944,
          -0.5360890299819138,
          1.2919783215192175,
          -0.06548767963927178,
          1.292524371037477,
          0.4704853470988679,
          -0.01271146868624112,
          -1.6469302468272102,
          -0.48917579782210724,
          0.37733382079878897,
          -1.1976258256123749,
          0.20879853261299658,
          0.2444678967514823,
          0.16870241860798135,
          1.6006255420901228,
          -0.028579174827799286,
          1.3256317621847986,
          -1.3605698101646098,
          0.8195467855949271,
          -0.9808516343193202,
          -0.6390064981962895,
          -1.245203809566456,
          0.4337270017046839,
          1.234528835493931,
          -0.4104457369366574,
          0.5665420894986996,
          -0.7449291411997484,
          -1.2267447902634088,
          1.1227345594966862,
          -0.12979808400976459,
          -0.6269374526327316,
          0.292703498655163,
          0.6257393332073456,
          0.45996788432615043,
          0.5043667581526481,
          2.237293213159649,
          -1.4060039933788429,
          0.1788743528339559,
          -1.134521652233473,
          -0.015399492226502463,
          -0.9684748530238916,
          -1.4820224914118059,
          0.1715902804964764,
          -0.42039750746697546,
          0.8498256250305002,
          -0.2453748541806391,
          -0.8775939924189635,
          -2.9231849271662522,
          -0.9748902362208998,
          0.20637640117167275,
          0.5947071928430647,
          -0.30435577684235404,
          -2.1039353759161292,
          1.115513771005786,
          -0.5120600168812814,
          -2.075411098303332,
          2.253424939189268,
          0.7288262548169948,
          -0.7438074474356711,
          1.4919452591038689,
          1.3918176520913537,
          0.23639510290963997,
          -2.294323561421982,
          1.5561353538714506,
          -1.1615335890268663,
          -0.6852963592356053,
          0.08255655206476742,
          -1.6276212209267913,
          1.5138596525635728,
          0.3988950310224964,
          -0.5596997640137246,
          0.8127648867817936,
          -0.9090456772154684,
          -0.2023741303876413,
          -1.0759692892756814,
          -1.0116840652689627,
          -0.5956950303753511,
          0.6474080682588678,
          0.7648410756169055,
          1.5983143212427664,
          -1.2084704597596465,
          -1.187085251520976,
          -0.7207177114828895,
          -1.1365632858321943,
          1.1963260943489973,
          -1.9694894606706348
         ]
        }
       ],
       "layout": {
        "legend": {
         "bgcolor": "#F5F6F9",
         "font": {
          "color": "#4D5663"
         }
        },
        "paper_bgcolor": "#F5F6F9",
        "plot_bgcolor": "#F5F6F9",
        "template": {
         "data": {
          "bar": [
           {
            "error_x": {
             "color": "#2a3f5f"
            },
            "error_y": {
             "color": "#2a3f5f"
            },
            "marker": {
             "line": {
              "color": "#E5ECF6",
              "width": 0.5
             },
             "pattern": {
              "fillmode": "overlay",
              "size": 10,
              "solidity": 0.2
             }
            },
            "type": "bar"
           }
          ],
          "barpolar": [
           {
            "marker": {
             "line": {
              "color": "#E5ECF6",
              "width": 0.5
             },
             "pattern": {
              "fillmode": "overlay",
              "size": 10,
              "solidity": 0.2
             }
            },
            "type": "barpolar"
           }
          ],
          "carpet": [
           {
            "aaxis": {
             "endlinecolor": "#2a3f5f",
             "gridcolor": "white",
             "linecolor": "white",
             "minorgridcolor": "white",
             "startlinecolor": "#2a3f5f"
            },
            "baxis": {
             "endlinecolor": "#2a3f5f",
             "gridcolor": "white",
             "linecolor": "white",
             "minorgridcolor": "white",
             "startlinecolor": "#2a3f5f"
            },
            "type": "carpet"
           }
          ],
          "choropleth": [
           {
            "colorbar": {
             "outlinewidth": 0,
             "ticks": ""
            },
            "type": "choropleth"
           }
          ],
          "contour": [
           {
            "colorbar": {
             "outlinewidth": 0,
             "ticks": ""
            },
            "colorscale": [
             [
              0,
              "#0d0887"
             ],
             [
              0.1111111111111111,
              "#46039f"
             ],
             [
              0.2222222222222222,
              "#7201a8"
             ],
             [
              0.3333333333333333,
              "#9c179e"
             ],
             [
              0.4444444444444444,
              "#bd3786"
             ],
             [
              0.5555555555555556,
              "#d8576b"
             ],
             [
              0.6666666666666666,
              "#ed7953"
             ],
             [
              0.7777777777777778,
              "#fb9f3a"
             ],
             [
              0.8888888888888888,
              "#fdca26"
             ],
             [
              1,
              "#f0f921"
             ]
            ],
            "type": "contour"
           }
          ],
          "contourcarpet": [
           {
            "colorbar": {
             "outlinewidth": 0,
             "ticks": ""
            },
            "type": "contourcarpet"
           }
          ],
          "heatmap": [
           {
            "colorbar": {
             "outlinewidth": 0,
             "ticks": ""
            },
            "colorscale": [
             [
              0,
              "#0d0887"
             ],
             [
              0.1111111111111111,
              "#46039f"
             ],
             [
              0.2222222222222222,
              "#7201a8"
             ],
             [
              0.3333333333333333,
              "#9c179e"
             ],
             [
              0.4444444444444444,
              "#bd3786"
             ],
             [
              0.5555555555555556,
              "#d8576b"
             ],
             [
              0.6666666666666666,
              "#ed7953"
             ],
             [
              0.7777777777777778,
              "#fb9f3a"
             ],
             [
              0.8888888888888888,
              "#fdca26"
             ],
             [
              1,
              "#f0f921"
             ]
            ],
            "type": "heatmap"
           }
          ],
          "heatmapgl": [
           {
            "colorbar": {
             "outlinewidth": 0,
             "ticks": ""
            },
            "colorscale": [
             [
              0,
              "#0d0887"
             ],
             [
              0.1111111111111111,
              "#46039f"
             ],
             [
              0.2222222222222222,
              "#7201a8"
             ],
             [
              0.3333333333333333,
              "#9c179e"
             ],
             [
              0.4444444444444444,
              "#bd3786"
             ],
             [
              0.5555555555555556,
              "#d8576b"
             ],
             [
              0.6666666666666666,
              "#ed7953"
             ],
             [
              0.7777777777777778,
              "#fb9f3a"
             ],
             [
              0.8888888888888888,
              "#fdca26"
             ],
             [
              1,
              "#f0f921"
             ]
            ],
            "type": "heatmapgl"
           }
          ],
          "histogram": [
           {
            "marker": {
             "pattern": {
              "fillmode": "overlay",
              "size": 10,
              "solidity": 0.2
             }
            },
            "type": "histogram"
           }
          ],
          "histogram2d": [
           {
            "colorbar": {
             "outlinewidth": 0,
             "ticks": ""
            },
            "colorscale": [
             [
              0,
              "#0d0887"
             ],
             [
              0.1111111111111111,
              "#46039f"
             ],
             [
              0.2222222222222222,
              "#7201a8"
             ],
             [
              0.3333333333333333,
              "#9c179e"
             ],
             [
              0.4444444444444444,
              "#bd3786"
             ],
             [
              0.5555555555555556,
              "#d8576b"
             ],
             [
              0.6666666666666666,
              "#ed7953"
             ],
             [
              0.7777777777777778,
              "#fb9f3a"
             ],
             [
              0.8888888888888888,
              "#fdca26"
             ],
             [
              1,
              "#f0f921"
             ]
            ],
            "type": "histogram2d"
           }
          ],
          "histogram2dcontour": [
           {
            "colorbar": {
             "outlinewidth": 0,
             "ticks": ""
            },
            "colorscale": [
             [
              0,
              "#0d0887"
             ],
             [
              0.1111111111111111,
              "#46039f"
             ],
             [
              0.2222222222222222,
              "#7201a8"
             ],
             [
              0.3333333333333333,
              "#9c179e"
             ],
             [
              0.4444444444444444,
              "#bd3786"
             ],
             [
              0.5555555555555556,
              "#d8576b"
             ],
             [
              0.6666666666666666,
              "#ed7953"
             ],
             [
              0.7777777777777778,
              "#fb9f3a"
             ],
             [
              0.8888888888888888,
              "#fdca26"
             ],
             [
              1,
              "#f0f921"
             ]
            ],
            "type": "histogram2dcontour"
           }
          ],
          "mesh3d": [
           {
            "colorbar": {
             "outlinewidth": 0,
             "ticks": ""
            },
            "type": "mesh3d"
           }
          ],
          "parcoords": [
           {
            "line": {
             "colorbar": {
              "outlinewidth": 0,
              "ticks": ""
             }
            },
            "type": "parcoords"
           }
          ],
          "pie": [
           {
            "automargin": true,
            "type": "pie"
           }
          ],
          "scatter": [
           {
            "fillpattern": {
             "fillmode": "overlay",
             "size": 10,
             "solidity": 0.2
            },
            "type": "scatter"
           }
          ],
          "scatter3d": [
           {
            "line": {
             "colorbar": {
              "outlinewidth": 0,
              "ticks": ""
             }
            },
            "marker": {
             "colorbar": {
              "outlinewidth": 0,
              "ticks": ""
             }
            },
            "type": "scatter3d"
           }
          ],
          "scattercarpet": [
           {
            "marker": {
             "colorbar": {
              "outlinewidth": 0,
              "ticks": ""
             }
            },
            "type": "scattercarpet"
           }
          ],
          "scattergeo": [
           {
            "marker": {
             "colorbar": {
              "outlinewidth": 0,
              "ticks": ""
             }
            },
            "type": "scattergeo"
           }
          ],
          "scattergl": [
           {
            "marker": {
             "colorbar": {
              "outlinewidth": 0,
              "ticks": ""
             }
            },
            "type": "scattergl"
           }
          ],
          "scattermapbox": [
           {
            "marker": {
             "colorbar": {
              "outlinewidth": 0,
              "ticks": ""
             }
            },
            "type": "scattermapbox"
           }
          ],
          "scatterpolar": [
           {
            "marker": {
             "colorbar": {
              "outlinewidth": 0,
              "ticks": ""
             }
            },
            "type": "scatterpolar"
           }
          ],
          "scatterpolargl": [
           {
            "marker": {
             "colorbar": {
              "outlinewidth": 0,
              "ticks": ""
             }
            },
            "type": "scatterpolargl"
           }
          ],
          "scatterternary": [
           {
            "marker": {
             "colorbar": {
              "outlinewidth": 0,
              "ticks": ""
             }
            },
            "type": "scatterternary"
           }
          ],
          "surface": [
           {
            "colorbar": {
             "outlinewidth": 0,
             "ticks": ""
            },
            "colorscale": [
             [
              0,
              "#0d0887"
             ],
             [
              0.1111111111111111,
              "#46039f"
             ],
             [
              0.2222222222222222,
              "#7201a8"
             ],
             [
              0.3333333333333333,
              "#9c179e"
             ],
             [
              0.4444444444444444,
              "#bd3786"
             ],
             [
              0.5555555555555556,
              "#d8576b"
             ],
             [
              0.6666666666666666,
              "#ed7953"
             ],
             [
              0.7777777777777778,
              "#fb9f3a"
             ],
             [
              0.8888888888888888,
              "#fdca26"
             ],
             [
              1,
              "#f0f921"
             ]
            ],
            "type": "surface"
           }
          ],
          "table": [
           {
            "cells": {
             "fill": {
              "color": "#EBF0F8"
             },
             "line": {
              "color": "white"
             }
            },
            "header": {
             "fill": {
              "color": "#C8D4E3"
             },
             "line": {
              "color": "white"
             }
            },
            "type": "table"
           }
          ]
         },
         "layout": {
          "annotationdefaults": {
           "arrowcolor": "#2a3f5f",
           "arrowhead": 0,
           "arrowwidth": 1
          },
          "autotypenumbers": "strict",
          "coloraxis": {
           "colorbar": {
            "outlinewidth": 0,
            "ticks": ""
           }
          },
          "colorscale": {
           "diverging": [
            [
             0,
             "#8e0152"
            ],
            [
             0.1,
             "#c51b7d"
            ],
            [
             0.2,
             "#de77ae"
            ],
            [
             0.3,
             "#f1b6da"
            ],
            [
             0.4,
             "#fde0ef"
            ],
            [
             0.5,
             "#f7f7f7"
            ],
            [
             0.6,
             "#e6f5d0"
            ],
            [
             0.7,
             "#b8e186"
            ],
            [
             0.8,
             "#7fbc41"
            ],
            [
             0.9,
             "#4d9221"
            ],
            [
             1,
             "#276419"
            ]
           ],
           "sequential": [
            [
             0,
             "#0d0887"
            ],
            [
             0.1111111111111111,
             "#46039f"
            ],
            [
             0.2222222222222222,
             "#7201a8"
            ],
            [
             0.3333333333333333,
             "#9c179e"
            ],
            [
             0.4444444444444444,
             "#bd3786"
            ],
            [
             0.5555555555555556,
             "#d8576b"
            ],
            [
             0.6666666666666666,
             "#ed7953"
            ],
            [
             0.7777777777777778,
             "#fb9f3a"
            ],
            [
             0.8888888888888888,
             "#fdca26"
            ],
            [
             1,
             "#f0f921"
            ]
           ],
           "sequentialminus": [
            [
             0,
             "#0d0887"
            ],
            [
             0.1111111111111111,
             "#46039f"
            ],
            [
             0.2222222222222222,
             "#7201a8"
            ],
            [
             0.3333333333333333,
             "#9c179e"
            ],
            [
             0.4444444444444444,
             "#bd3786"
            ],
            [
             0.5555555555555556,
             "#d8576b"
            ],
            [
             0.6666666666666666,
             "#ed7953"
            ],
            [
             0.7777777777777778,
             "#fb9f3a"
            ],
            [
             0.8888888888888888,
             "#fdca26"
            ],
            [
             1,
             "#f0f921"
            ]
           ]
          },
          "colorway": [
           "#636efa",
           "#EF553B",
           "#00cc96",
           "#ab63fa",
           "#FFA15A",
           "#19d3f3",
           "#FF6692",
           "#B6E880",
           "#FF97FF",
           "#FECB52"
          ],
          "font": {
           "color": "#2a3f5f"
          },
          "geo": {
           "bgcolor": "white",
           "lakecolor": "white",
           "landcolor": "#E5ECF6",
           "showlakes": true,
           "showland": true,
           "subunitcolor": "white"
          },
          "hoverlabel": {
           "align": "left"
          },
          "hovermode": "closest",
          "mapbox": {
           "style": "light"
          },
          "paper_bgcolor": "white",
          "plot_bgcolor": "#E5ECF6",
          "polar": {
           "angularaxis": {
            "gridcolor": "white",
            "linecolor": "white",
            "ticks": ""
           },
           "bgcolor": "#E5ECF6",
           "radialaxis": {
            "gridcolor": "white",
            "linecolor": "white",
            "ticks": ""
           }
          },
          "scene": {
           "xaxis": {
            "backgroundcolor": "#E5ECF6",
            "gridcolor": "white",
            "gridwidth": 2,
            "linecolor": "white",
            "showbackground": true,
            "ticks": "",
            "zerolinecolor": "white"
           },
           "yaxis": {
            "backgroundcolor": "#E5ECF6",
            "gridcolor": "white",
            "gridwidth": 2,
            "linecolor": "white",
            "showbackground": true,
            "ticks": "",
            "zerolinecolor": "white"
           },
           "zaxis": {
            "backgroundcolor": "#E5ECF6",
            "gridcolor": "white",
            "gridwidth": 2,
            "linecolor": "white",
            "showbackground": true,
            "ticks": "",
            "zerolinecolor": "white"
           }
          },
          "shapedefaults": {
           "line": {
            "color": "#2a3f5f"
           }
          },
          "ternary": {
           "aaxis": {
            "gridcolor": "white",
            "linecolor": "white",
            "ticks": ""
           },
           "baxis": {
            "gridcolor": "white",
            "linecolor": "white",
            "ticks": ""
           },
           "bgcolor": "#E5ECF6",
           "caxis": {
            "gridcolor": "white",
            "linecolor": "white",
            "ticks": ""
           }
          },
          "title": {
           "x": 0.05
          },
          "xaxis": {
           "automargin": true,
           "gridcolor": "white",
           "linecolor": "white",
           "ticks": "",
           "title": {
            "standoff": 15
           },
           "zerolinecolor": "white",
           "zerolinewidth": 2
          },
          "yaxis": {
           "automargin": true,
           "gridcolor": "white",
           "linecolor": "white",
           "ticks": "",
           "title": {
            "standoff": 15
           },
           "zerolinecolor": "white",
           "zerolinewidth": 2
          }
         }
        },
        "title": {
         "font": {
          "color": "#4D5663"
         }
        },
        "xaxis": {
         "gridcolor": "#E1E5ED",
         "showgrid": true,
         "tickfont": {
          "color": "#4D5663"
         },
         "title": {
          "font": {
           "color": "#4D5663"
          },
          "text": ""
         },
         "zerolinecolor": "#E1E5ED"
        },
        "yaxis": {
         "gridcolor": "#E1E5ED",
         "showgrid": true,
         "tickfont": {
          "color": "#4D5663"
         },
         "title": {
          "font": {
           "color": "#4D5663"
          },
          "text": ""
         },
         "zerolinecolor": "#E1E5ED"
        }
       }
      },
      "text/html": [
       "<div>                            <div id=\"58f9b5dd-3b4c-43d0-9dfc-ed3760cc2e4c\" class=\"plotly-graph-div\" style=\"height:525px; width:100%;\"></div>            <script type=\"text/javascript\">                require([\"plotly\"], function(Plotly) {                    window.PLOTLYENV=window.PLOTLYENV || {};\n",
       "                    window.PLOTLYENV.BASE_URL='https://plot.ly';                                    if (document.getElementById(\"58f9b5dd-3b4c-43d0-9dfc-ed3760cc2e4c\")) {                    Plotly.newPlot(                        \"58f9b5dd-3b4c-43d0-9dfc-ed3760cc2e4c\",                        [{\"boxpoints\":false,\"line\":{\"width\":1.3},\"marker\":{\"color\":\"rgba(255, 153, 51, 1.0)\"},\"name\":\"A\",\"orientation\":\"v\",\"y\":[-2.0245678545620653,-0.70000967402194,0.4923011266211667,-0.1721337617162361,0.1300772047032601,-0.8333704434524496,0.34121462467065816,0.9677726356756655,1.0120891924486815,1.2232183702754578,-0.8427421789582358,0.18819096793209314,-1.6095005021892217,0.41339125775669555,-0.8948518562686107,-0.1843957684237995,1.6860920350330262,1.7966629201710838,0.7059434946092662,-0.4638431276336962,0.8335385969736977,-0.7338353757187845,0.29198786778577684,0.7621576857108744,-1.2797389810464925,1.0297527504257031,0.9625278654239828,-1.7851418437008166,-1.0954108369089715,-2.8084934964522676,1.3198883643750479,0.39999831444598893,-1.141518084638812,-0.553833400359158,-0.5021357042202531,-1.7747620990430988,-0.7471339649507993,-1.680236866891475,0.16800536415649148,0.9624777623645401,0.7327131001167891,0.8596062243117514,0.9170009008811542,-0.8909419630348943,0.2427255664521905,-0.6065451458740814,0.2482809249447097,-1.8535909031151525,-0.09750333812372164,-0.8798749960318651,0.217800590401041,0.8029760466725708,0.6653151750366897,-0.3084497006647018,0.36768824082733653,-0.3339365462425808,0.13868616976000864,-0.714301240067701,0.5588471774554243,0.0069681037932292815,0.2403401185362488,0.47347545555015974,-1.1164580146104586,-1.3765949888678477,0.21828959853628632,0.2983118598338089,1.4624051256412518,-1.294335785990532,-1.1891868148706493,0.4480021923135863,0.12578697802044325,0.5113765435650498,0.1285909603816634,-0.6806646507469855,-0.28554355498000167,1.8309719250363772,-0.7378615237977918,0.8487554269717219,-0.22845770363282245,-1.3198777526010914,-1.7164357576246156,-0.8565176465067136,1.5973041294004924,1.2230412199308058,-0.7866323189888544,-1.3609919026164312,0.06459817804490998,0.921998675958377,2.1608332100400616,-0.44158263770700196,0.16697383520246797,0.15215444987588211,0.32083154833677463,-0.4768739422051255,0.15539672302809196,0.5132262797726742,0.5812646979598842,0.3999652636768709,-0.2552657391538536,0.09731861511588642],\"type\":\"box\"},{\"boxpoints\":false,\"line\":{\"width\":1.3},\"marker\":{\"color\":\"rgba(55, 128, 191, 1.0)\"},\"name\":\"B\",\"orientation\":\"v\",\"y\":[-0.6382408485860838,-0.26445161392310296,-0.23213667337437718,0.5180176758815382,-1.1248049522097245,-0.380272960362963,-0.2932209551832816,-0.2983349399546075,0.8352757748805898,0.19767795485653444,-0.25848078585870043,0.6572601167502129,0.4792315672286233,-0.7297409216849485,0.4046424846202565,1.2968971276167458,0.13935965106348322,-0.6594484341435785,-0.02418590218582255,-2.5239897567978575,1.5346822177409631,-0.044687567248630725,1.6231383581412073,0.40026551057354326,-1.346220027753875,0.16491814429374466,0.9065722606320102,0.6700483963411383,-0.05104018162539486,1.1707146916736622,0.27196909622293,-0.823741868413821,-1.071654380390136,1.611845565479155,-0.6358684090521775,0.12088690562135754,-0.4238076744306274,0.30761109667202036,0.10090276567627783,-0.934825817248883,-0.11477621970946751,-0.25626272220601465,-2.2618111698047243,0.47059504469409547,0.3384630374158783,1.1429078856709527,1.039266887625021,-0.9967830206402708,-0.6202045714826442,0.22079305993745846,0.9115135718961257,-1.2122517475675738,1.0560300708411399,-1.9090176950054356,2.028179416010953,0.2831970755448901,0.6241028603371211,1.0407268957495415,-0.26224266816482766,0.5298657981252108,-2.0965098648132012,1.5130229822141446,-1.7078071537312842,-0.2720326625194213,1.5419814719954992,-0.3403798338394972,-0.2607484877893845,1.613613022678893,0.015346417608684809,0.8193595059346083,0.28400196804539557,0.23640271970560556,0.9643162048376709,-0.604459368826204,-1.2825284995959614,-0.3851992746376785,-0.2698997452038915,-0.1806119563245644,0.03316776563581451,-0.2064180896765948,0.5557810546207436,-0.9395511240801336,-0.3738586334196706,0.719627463803325,-1.1552010934966621,0.18725547161413295,-1.8598061078955381,-0.31999462379920496,-1.8573069884412665,0.5833843253960496,0.7005904412031791,-0.592374288827152,-0.32071254126644355,0.7437217160339742,-0.6523371315325809,-0.14606736635054363,-1.0609890385279603,-1.397175646717783,-0.4182909179317061,1.3303804152695233],\"type\":\"box\"},{\"boxpoints\":false,\"line\":{\"width\":1.3},\"marker\":{\"color\":\"rgba(50, 171, 96, 1.0)\"},\"name\":\"C\",\"orientation\":\"v\",\"y\":[-0.224893079246173,1.2503815642723262,-0.009751551125147586,0.16527703916918052,-0.3745090835527552,0.515662283296908,1.0547154138277266,-0.22067757188991727,-0.6498584802383204,-2.07908895587237,2.1403465577961116,1.6445158565680038,-1.0175955610791787,-0.17251980686788723,-0.19414925926115856,0.9311926054750844,0.24273553610203655,-0.8953402123461103,-0.3387964991908508,0.36389088884917165,0.4405868040137417,-0.21012156100866447,-2.788900751431851,1.198143626275225,-0.4127880365061836,-0.238621684631133,0.4371715805619799,1.256886884011327,-0.060193643202252595,0.3059995769855611,-0.4158291391773987,2.1475559417541734,-0.6243802744709012,0.5817247352369509,0.39266255814740997,0.5649256027013886,0.8061396519459106,0.6195039399742812,0.02177467231854164,-1.319899574991042,-0.3356450667412887,0.03748262752761676,0.21357396085531327,0.1224416437776951,-0.2197873964063419,-1.0600124514378158,-0.3345568122382559,-0.5769051564609712,2.8592353822054193,0.9402264092354687,1.1170894271622458,1.1025825408160912,1.4589599777641047,-0.00559822897158635,0.649167046273083,0.5962648454476672,2.1015783595893724,-1.0004967709798152,-0.794419492093333,0.8507876014851588,-0.43312010038274834,-0.25549192361797196,0.3408418093354243,-1.3140065306556812,-0.892627715873621,0.2800577801511644,-1.8190732690240992,0.7071155509495465,-1.2699887648430062,1.1691192931392227,0.11665823912731504,-0.5073035259374067,-1.0932263125943875,0.20275177216827314,-0.11142118650757836,0.02910736140493556,0.9342531709146351,0.16746231525434202,-0.4608568591137009,-0.3901894838095558,0.6092957626506681,-0.5557513480847908,-0.21909070450172796,-0.537747844859767,-0.672824530162349,2.6124495827756866,1.6013530267662324,-0.10470803359208224,-0.48551242090787217,-0.36798474127000314,0.4582902064494334,1.2426685607553631,1.1506367383501355,-0.48916011980898466,-2.311296255514442,1.1525036060530027,0.18302057139365044,-0.13978553105887837,-0.04229289544270978,0.04282490464750087],\"type\":\"box\"},{\"boxpoints\":false,\"line\":{\"width\":1.3},\"marker\":{\"color\":\"rgba(128, 0, 128, 1.0)\"},\"name\":\"D\",\"orientation\":\"v\",\"y\":[1.298015485089696,-0.23339096447922594,1.1037728080136389,0.19806209294100593,2.549860056192145,-0.9061470055249541,-1.6191346355086136,-0.6402695199792406,0.5301304795188629,0.10826973860060203,-0.03096417152728443,-1.333260776229409,-0.5106018658222338,-1.2602161142365913,1.0541069690486944,-0.5360890299819138,1.2919783215192175,-0.06548767963927178,1.292524371037477,0.4704853470988679,-0.01271146868624112,-1.6469302468272102,-0.48917579782210724,0.37733382079878897,-1.1976258256123749,0.20879853261299658,0.2444678967514823,0.16870241860798135,1.6006255420901228,-0.028579174827799286,1.3256317621847986,-1.3605698101646098,0.8195467855949271,-0.9808516343193202,-0.6390064981962895,-1.245203809566456,0.4337270017046839,1.234528835493931,-0.4104457369366574,0.5665420894986996,-0.7449291411997484,-1.2267447902634088,1.1227345594966862,-0.12979808400976459,-0.6269374526327316,0.292703498655163,0.6257393332073456,0.45996788432615043,0.5043667581526481,2.237293213159649,-1.4060039933788429,0.1788743528339559,-1.134521652233473,-0.015399492226502463,-0.9684748530238916,-1.4820224914118059,0.1715902804964764,-0.42039750746697546,0.8498256250305002,-0.2453748541806391,-0.8775939924189635,-2.9231849271662522,-0.9748902362208998,0.20637640117167275,0.5947071928430647,-0.30435577684235404,-2.1039353759161292,1.115513771005786,-0.5120600168812814,-2.075411098303332,2.253424939189268,0.7288262548169948,-0.7438074474356711,1.4919452591038689,1.3918176520913537,0.23639510290963997,-2.294323561421982,1.5561353538714506,-1.1615335890268663,-0.6852963592356053,0.08255655206476742,-1.6276212209267913,1.5138596525635728,0.3988950310224964,-0.5596997640137246,0.8127648867817936,-0.9090456772154684,-0.2023741303876413,-1.0759692892756814,-1.0116840652689627,-0.5956950303753511,0.6474080682588678,0.7648410756169055,1.5983143212427664,-1.2084704597596465,-1.187085251520976,-0.7207177114828895,-1.1365632858321943,1.1963260943489973,-1.9694894606706348],\"type\":\"box\"}],                        {\"legend\":{\"bgcolor\":\"#F5F6F9\",\"font\":{\"color\":\"#4D5663\"}},\"paper_bgcolor\":\"#F5F6F9\",\"plot_bgcolor\":\"#F5F6F9\",\"template\":{\"data\":{\"barpolar\":[{\"marker\":{\"line\":{\"color\":\"#E5ECF6\",\"width\":0.5},\"pattern\":{\"fillmode\":\"overlay\",\"size\":10,\"solidity\":0.2}},\"type\":\"barpolar\"}],\"bar\":[{\"error_x\":{\"color\":\"#2a3f5f\"},\"error_y\":{\"color\":\"#2a3f5f\"},\"marker\":{\"line\":{\"color\":\"#E5ECF6\",\"width\":0.5},\"pattern\":{\"fillmode\":\"overlay\",\"size\":10,\"solidity\":0.2}},\"type\":\"bar\"}],\"carpet\":[{\"aaxis\":{\"endlinecolor\":\"#2a3f5f\",\"gridcolor\":\"white\",\"linecolor\":\"white\",\"minorgridcolor\":\"white\",\"startlinecolor\":\"#2a3f5f\"},\"baxis\":{\"endlinecolor\":\"#2a3f5f\",\"gridcolor\":\"white\",\"linecolor\":\"white\",\"minorgridcolor\":\"white\",\"startlinecolor\":\"#2a3f5f\"},\"type\":\"carpet\"}],\"choropleth\":[{\"colorbar\":{\"outlinewidth\":0,\"ticks\":\"\"},\"type\":\"choropleth\"}],\"contourcarpet\":[{\"colorbar\":{\"outlinewidth\":0,\"ticks\":\"\"},\"type\":\"contourcarpet\"}],\"contour\":[{\"colorbar\":{\"outlinewidth\":0,\"ticks\":\"\"},\"colorscale\":[[0.0,\"#0d0887\"],[0.1111111111111111,\"#46039f\"],[0.2222222222222222,\"#7201a8\"],[0.3333333333333333,\"#9c179e\"],[0.4444444444444444,\"#bd3786\"],[0.5555555555555556,\"#d8576b\"],[0.6666666666666666,\"#ed7953\"],[0.7777777777777778,\"#fb9f3a\"],[0.8888888888888888,\"#fdca26\"],[1.0,\"#f0f921\"]],\"type\":\"contour\"}],\"heatmapgl\":[{\"colorbar\":{\"outlinewidth\":0,\"ticks\":\"\"},\"colorscale\":[[0.0,\"#0d0887\"],[0.1111111111111111,\"#46039f\"],[0.2222222222222222,\"#7201a8\"],[0.3333333333333333,\"#9c179e\"],[0.4444444444444444,\"#bd3786\"],[0.5555555555555556,\"#d8576b\"],[0.6666666666666666,\"#ed7953\"],[0.7777777777777778,\"#fb9f3a\"],[0.8888888888888888,\"#fdca26\"],[1.0,\"#f0f921\"]],\"type\":\"heatmapgl\"}],\"heatmap\":[{\"colorbar\":{\"outlinewidth\":0,\"ticks\":\"\"},\"colorscale\":[[0.0,\"#0d0887\"],[0.1111111111111111,\"#46039f\"],[0.2222222222222222,\"#7201a8\"],[0.3333333333333333,\"#9c179e\"],[0.4444444444444444,\"#bd3786\"],[0.5555555555555556,\"#d8576b\"],[0.6666666666666666,\"#ed7953\"],[0.7777777777777778,\"#fb9f3a\"],[0.8888888888888888,\"#fdca26\"],[1.0,\"#f0f921\"]],\"type\":\"heatmap\"}],\"histogram2dcontour\":[{\"colorbar\":{\"outlinewidth\":0,\"ticks\":\"\"},\"colorscale\":[[0.0,\"#0d0887\"],[0.1111111111111111,\"#46039f\"],[0.2222222222222222,\"#7201a8\"],[0.3333333333333333,\"#9c179e\"],[0.4444444444444444,\"#bd3786\"],[0.5555555555555556,\"#d8576b\"],[0.6666666666666666,\"#ed7953\"],[0.7777777777777778,\"#fb9f3a\"],[0.8888888888888888,\"#fdca26\"],[1.0,\"#f0f921\"]],\"type\":\"histogram2dcontour\"}],\"histogram2d\":[{\"colorbar\":{\"outlinewidth\":0,\"ticks\":\"\"},\"colorscale\":[[0.0,\"#0d0887\"],[0.1111111111111111,\"#46039f\"],[0.2222222222222222,\"#7201a8\"],[0.3333333333333333,\"#9c179e\"],[0.4444444444444444,\"#bd3786\"],[0.5555555555555556,\"#d8576b\"],[0.6666666666666666,\"#ed7953\"],[0.7777777777777778,\"#fb9f3a\"],[0.8888888888888888,\"#fdca26\"],[1.0,\"#f0f921\"]],\"type\":\"histogram2d\"}],\"histogram\":[{\"marker\":{\"pattern\":{\"fillmode\":\"overlay\",\"size\":10,\"solidity\":0.2}},\"type\":\"histogram\"}],\"mesh3d\":[{\"colorbar\":{\"outlinewidth\":0,\"ticks\":\"\"},\"type\":\"mesh3d\"}],\"parcoords\":[{\"line\":{\"colorbar\":{\"outlinewidth\":0,\"ticks\":\"\"}},\"type\":\"parcoords\"}],\"pie\":[{\"automargin\":true,\"type\":\"pie\"}],\"scatter3d\":[{\"line\":{\"colorbar\":{\"outlinewidth\":0,\"ticks\":\"\"}},\"marker\":{\"colorbar\":{\"outlinewidth\":0,\"ticks\":\"\"}},\"type\":\"scatter3d\"}],\"scattercarpet\":[{\"marker\":{\"colorbar\":{\"outlinewidth\":0,\"ticks\":\"\"}},\"type\":\"scattercarpet\"}],\"scattergeo\":[{\"marker\":{\"colorbar\":{\"outlinewidth\":0,\"ticks\":\"\"}},\"type\":\"scattergeo\"}],\"scattergl\":[{\"marker\":{\"colorbar\":{\"outlinewidth\":0,\"ticks\":\"\"}},\"type\":\"scattergl\"}],\"scattermapbox\":[{\"marker\":{\"colorbar\":{\"outlinewidth\":0,\"ticks\":\"\"}},\"type\":\"scattermapbox\"}],\"scatterpolargl\":[{\"marker\":{\"colorbar\":{\"outlinewidth\":0,\"ticks\":\"\"}},\"type\":\"scatterpolargl\"}],\"scatterpolar\":[{\"marker\":{\"colorbar\":{\"outlinewidth\":0,\"ticks\":\"\"}},\"type\":\"scatterpolar\"}],\"scatter\":[{\"fillpattern\":{\"fillmode\":\"overlay\",\"size\":10,\"solidity\":0.2},\"type\":\"scatter\"}],\"scatterternary\":[{\"marker\":{\"colorbar\":{\"outlinewidth\":0,\"ticks\":\"\"}},\"type\":\"scatterternary\"}],\"surface\":[{\"colorbar\":{\"outlinewidth\":0,\"ticks\":\"\"},\"colorscale\":[[0.0,\"#0d0887\"],[0.1111111111111111,\"#46039f\"],[0.2222222222222222,\"#7201a8\"],[0.3333333333333333,\"#9c179e\"],[0.4444444444444444,\"#bd3786\"],[0.5555555555555556,\"#d8576b\"],[0.6666666666666666,\"#ed7953\"],[0.7777777777777778,\"#fb9f3a\"],[0.8888888888888888,\"#fdca26\"],[1.0,\"#f0f921\"]],\"type\":\"surface\"}],\"table\":[{\"cells\":{\"fill\":{\"color\":\"#EBF0F8\"},\"line\":{\"color\":\"white\"}},\"header\":{\"fill\":{\"color\":\"#C8D4E3\"},\"line\":{\"color\":\"white\"}},\"type\":\"table\"}]},\"layout\":{\"annotationdefaults\":{\"arrowcolor\":\"#2a3f5f\",\"arrowhead\":0,\"arrowwidth\":1},\"autotypenumbers\":\"strict\",\"coloraxis\":{\"colorbar\":{\"outlinewidth\":0,\"ticks\":\"\"}},\"colorscale\":{\"diverging\":[[0,\"#8e0152\"],[0.1,\"#c51b7d\"],[0.2,\"#de77ae\"],[0.3,\"#f1b6da\"],[0.4,\"#fde0ef\"],[0.5,\"#f7f7f7\"],[0.6,\"#e6f5d0\"],[0.7,\"#b8e186\"],[0.8,\"#7fbc41\"],[0.9,\"#4d9221\"],[1,\"#276419\"]],\"sequential\":[[0.0,\"#0d0887\"],[0.1111111111111111,\"#46039f\"],[0.2222222222222222,\"#7201a8\"],[0.3333333333333333,\"#9c179e\"],[0.4444444444444444,\"#bd3786\"],[0.5555555555555556,\"#d8576b\"],[0.6666666666666666,\"#ed7953\"],[0.7777777777777778,\"#fb9f3a\"],[0.8888888888888888,\"#fdca26\"],[1.0,\"#f0f921\"]],\"sequentialminus\":[[0.0,\"#0d0887\"],[0.1111111111111111,\"#46039f\"],[0.2222222222222222,\"#7201a8\"],[0.3333333333333333,\"#9c179e\"],[0.4444444444444444,\"#bd3786\"],[0.5555555555555556,\"#d8576b\"],[0.6666666666666666,\"#ed7953\"],[0.7777777777777778,\"#fb9f3a\"],[0.8888888888888888,\"#fdca26\"],[1.0,\"#f0f921\"]]},\"colorway\":[\"#636efa\",\"#EF553B\",\"#00cc96\",\"#ab63fa\",\"#FFA15A\",\"#19d3f3\",\"#FF6692\",\"#B6E880\",\"#FF97FF\",\"#FECB52\"],\"font\":{\"color\":\"#2a3f5f\"},\"geo\":{\"bgcolor\":\"white\",\"lakecolor\":\"white\",\"landcolor\":\"#E5ECF6\",\"showlakes\":true,\"showland\":true,\"subunitcolor\":\"white\"},\"hoverlabel\":{\"align\":\"left\"},\"hovermode\":\"closest\",\"mapbox\":{\"style\":\"light\"},\"paper_bgcolor\":\"white\",\"plot_bgcolor\":\"#E5ECF6\",\"polar\":{\"angularaxis\":{\"gridcolor\":\"white\",\"linecolor\":\"white\",\"ticks\":\"\"},\"bgcolor\":\"#E5ECF6\",\"radialaxis\":{\"gridcolor\":\"white\",\"linecolor\":\"white\",\"ticks\":\"\"}},\"scene\":{\"xaxis\":{\"backgroundcolor\":\"#E5ECF6\",\"gridcolor\":\"white\",\"gridwidth\":2,\"linecolor\":\"white\",\"showbackground\":true,\"ticks\":\"\",\"zerolinecolor\":\"white\"},\"yaxis\":{\"backgroundcolor\":\"#E5ECF6\",\"gridcolor\":\"white\",\"gridwidth\":2,\"linecolor\":\"white\",\"showbackground\":true,\"ticks\":\"\",\"zerolinecolor\":\"white\"},\"zaxis\":{\"backgroundcolor\":\"#E5ECF6\",\"gridcolor\":\"white\",\"gridwidth\":2,\"linecolor\":\"white\",\"showbackground\":true,\"ticks\":\"\",\"zerolinecolor\":\"white\"}},\"shapedefaults\":{\"line\":{\"color\":\"#2a3f5f\"}},\"ternary\":{\"aaxis\":{\"gridcolor\":\"white\",\"linecolor\":\"white\",\"ticks\":\"\"},\"baxis\":{\"gridcolor\":\"white\",\"linecolor\":\"white\",\"ticks\":\"\"},\"bgcolor\":\"#E5ECF6\",\"caxis\":{\"gridcolor\":\"white\",\"linecolor\":\"white\",\"ticks\":\"\"}},\"title\":{\"x\":0.05},\"xaxis\":{\"automargin\":true,\"gridcolor\":\"white\",\"linecolor\":\"white\",\"ticks\":\"\",\"title\":{\"standoff\":15},\"zerolinecolor\":\"white\",\"zerolinewidth\":2},\"yaxis\":{\"automargin\":true,\"gridcolor\":\"white\",\"linecolor\":\"white\",\"ticks\":\"\",\"title\":{\"standoff\":15},\"zerolinecolor\":\"white\",\"zerolinewidth\":2}}},\"title\":{\"font\":{\"color\":\"#4D5663\"}},\"xaxis\":{\"gridcolor\":\"#E1E5ED\",\"showgrid\":true,\"tickfont\":{\"color\":\"#4D5663\"},\"title\":{\"font\":{\"color\":\"#4D5663\"},\"text\":\"\"},\"zerolinecolor\":\"#E1E5ED\"},\"yaxis\":{\"gridcolor\":\"#E1E5ED\",\"showgrid\":true,\"tickfont\":{\"color\":\"#4D5663\"},\"title\":{\"font\":{\"color\":\"#4D5663\"},\"text\":\"\"},\"zerolinecolor\":\"#E1E5ED\"}},                        {\"showLink\": true, \"linkText\": \"Export to plot.ly\", \"plotlyServerURL\": \"https://plot.ly\", \"responsive\": true}                    ).then(function(){\n",
       "                            \n",
       "var gd = document.getElementById('58f9b5dd-3b4c-43d0-9dfc-ed3760cc2e4c');\n",
       "var x = new MutationObserver(function (mutations, observer) {{\n",
       "        var display = window.getComputedStyle(gd).display;\n",
       "        if (!display || display === 'none') {{\n",
       "            console.log([gd, 'removed!']);\n",
       "            Plotly.purge(gd);\n",
       "            observer.disconnect();\n",
       "        }}\n",
       "}});\n",
       "\n",
       "// Listen for the removal of the full notebook cells\n",
       "var notebookContainer = gd.closest('#notebook-container');\n",
       "if (notebookContainer) {{\n",
       "    x.observe(notebookContainer, {childList: true});\n",
       "}}\n",
       "\n",
       "// Listen for the clearing of the current output cell\n",
       "var outputEl = gd.closest('.output');\n",
       "if (outputEl) {{\n",
       "    x.observe(outputEl, {childList: true});\n",
       "}}\n",
       "\n",
       "                        })                };                });            </script>        </div>"
      ]
     },
     "metadata": {},
     "output_type": "display_data"
    }
   ],
   "source": [
    "df.iplot(kind='box')"
   ]
  },
  {
   "cell_type": "code",
   "execution_count": 67,
   "id": "98abde44",
   "metadata": {},
   "outputs": [],
   "source": [
    "df3 = pd.DataFrame({'x':[1,2,3,4,5],'y':[10,20,30,20,10],'z':[500,400,300,200,100]})"
   ]
  },
  {
   "cell_type": "code",
   "execution_count": 71,
   "id": "3a6bf469",
   "metadata": {},
   "outputs": [
    {
     "data": {
      "application/vnd.plotly.v1+json": {
       "config": {
        "linkText": "Export to plot.ly",
        "plotlyServerURL": "https://plot.ly",
        "showLink": true
       },
       "data": [
        {
         "colorscale": [
          [
           0,
           "rgb(165,0,38)"
          ],
          [
           0.1,
           "rgb(215,48,39)"
          ],
          [
           0.2,
           "rgb(244,109,67)"
          ],
          [
           0.3,
           "rgb(253,174,97)"
          ],
          [
           0.4,
           "rgb(254,224,144)"
          ],
          [
           0.5,
           "rgb(255,255,191)"
          ],
          [
           0.6,
           "rgb(224,243,248)"
          ],
          [
           0.7,
           "rgb(171,217,233)"
          ],
          [
           0.8,
           "rgb(116,173,209)"
          ],
          [
           0.9,
           "rgb(69,117,180)"
          ],
          [
           1,
           "rgb(49,54,149)"
          ]
         ],
         "type": "surface",
         "x": [
          0,
          1,
          2,
          3,
          4
         ],
         "y": [
          "x",
          "y",
          "z"
         ],
         "z": [
          [
           1,
           2,
           3,
           4,
           5
          ],
          [
           10,
           20,
           30,
           20,
           10
          ],
          [
           500,
           400,
           300,
           200,
           100
          ]
         ]
        }
       ],
       "layout": {
        "legend": {
         "bgcolor": "#F5F6F9",
         "font": {
          "color": "#4D5663"
         }
        },
        "paper_bgcolor": "#F5F6F9",
        "plot_bgcolor": "#F5F6F9",
        "template": {
         "data": {
          "bar": [
           {
            "error_x": {
             "color": "#2a3f5f"
            },
            "error_y": {
             "color": "#2a3f5f"
            },
            "marker": {
             "line": {
              "color": "#E5ECF6",
              "width": 0.5
             },
             "pattern": {
              "fillmode": "overlay",
              "size": 10,
              "solidity": 0.2
             }
            },
            "type": "bar"
           }
          ],
          "barpolar": [
           {
            "marker": {
             "line": {
              "color": "#E5ECF6",
              "width": 0.5
             },
             "pattern": {
              "fillmode": "overlay",
              "size": 10,
              "solidity": 0.2
             }
            },
            "type": "barpolar"
           }
          ],
          "carpet": [
           {
            "aaxis": {
             "endlinecolor": "#2a3f5f",
             "gridcolor": "white",
             "linecolor": "white",
             "minorgridcolor": "white",
             "startlinecolor": "#2a3f5f"
            },
            "baxis": {
             "endlinecolor": "#2a3f5f",
             "gridcolor": "white",
             "linecolor": "white",
             "minorgridcolor": "white",
             "startlinecolor": "#2a3f5f"
            },
            "type": "carpet"
           }
          ],
          "choropleth": [
           {
            "colorbar": {
             "outlinewidth": 0,
             "ticks": ""
            },
            "type": "choropleth"
           }
          ],
          "contour": [
           {
            "colorbar": {
             "outlinewidth": 0,
             "ticks": ""
            },
            "colorscale": [
             [
              0,
              "#0d0887"
             ],
             [
              0.1111111111111111,
              "#46039f"
             ],
             [
              0.2222222222222222,
              "#7201a8"
             ],
             [
              0.3333333333333333,
              "#9c179e"
             ],
             [
              0.4444444444444444,
              "#bd3786"
             ],
             [
              0.5555555555555556,
              "#d8576b"
             ],
             [
              0.6666666666666666,
              "#ed7953"
             ],
             [
              0.7777777777777778,
              "#fb9f3a"
             ],
             [
              0.8888888888888888,
              "#fdca26"
             ],
             [
              1,
              "#f0f921"
             ]
            ],
            "type": "contour"
           }
          ],
          "contourcarpet": [
           {
            "colorbar": {
             "outlinewidth": 0,
             "ticks": ""
            },
            "type": "contourcarpet"
           }
          ],
          "heatmap": [
           {
            "colorbar": {
             "outlinewidth": 0,
             "ticks": ""
            },
            "colorscale": [
             [
              0,
              "#0d0887"
             ],
             [
              0.1111111111111111,
              "#46039f"
             ],
             [
              0.2222222222222222,
              "#7201a8"
             ],
             [
              0.3333333333333333,
              "#9c179e"
             ],
             [
              0.4444444444444444,
              "#bd3786"
             ],
             [
              0.5555555555555556,
              "#d8576b"
             ],
             [
              0.6666666666666666,
              "#ed7953"
             ],
             [
              0.7777777777777778,
              "#fb9f3a"
             ],
             [
              0.8888888888888888,
              "#fdca26"
             ],
             [
              1,
              "#f0f921"
             ]
            ],
            "type": "heatmap"
           }
          ],
          "heatmapgl": [
           {
            "colorbar": {
             "outlinewidth": 0,
             "ticks": ""
            },
            "colorscale": [
             [
              0,
              "#0d0887"
             ],
             [
              0.1111111111111111,
              "#46039f"
             ],
             [
              0.2222222222222222,
              "#7201a8"
             ],
             [
              0.3333333333333333,
              "#9c179e"
             ],
             [
              0.4444444444444444,
              "#bd3786"
             ],
             [
              0.5555555555555556,
              "#d8576b"
             ],
             [
              0.6666666666666666,
              "#ed7953"
             ],
             [
              0.7777777777777778,
              "#fb9f3a"
             ],
             [
              0.8888888888888888,
              "#fdca26"
             ],
             [
              1,
              "#f0f921"
             ]
            ],
            "type": "heatmapgl"
           }
          ],
          "histogram": [
           {
            "marker": {
             "pattern": {
              "fillmode": "overlay",
              "size": 10,
              "solidity": 0.2
             }
            },
            "type": "histogram"
           }
          ],
          "histogram2d": [
           {
            "colorbar": {
             "outlinewidth": 0,
             "ticks": ""
            },
            "colorscale": [
             [
              0,
              "#0d0887"
             ],
             [
              0.1111111111111111,
              "#46039f"
             ],
             [
              0.2222222222222222,
              "#7201a8"
             ],
             [
              0.3333333333333333,
              "#9c179e"
             ],
             [
              0.4444444444444444,
              "#bd3786"
             ],
             [
              0.5555555555555556,
              "#d8576b"
             ],
             [
              0.6666666666666666,
              "#ed7953"
             ],
             [
              0.7777777777777778,
              "#fb9f3a"
             ],
             [
              0.8888888888888888,
              "#fdca26"
             ],
             [
              1,
              "#f0f921"
             ]
            ],
            "type": "histogram2d"
           }
          ],
          "histogram2dcontour": [
           {
            "colorbar": {
             "outlinewidth": 0,
             "ticks": ""
            },
            "colorscale": [
             [
              0,
              "#0d0887"
             ],
             [
              0.1111111111111111,
              "#46039f"
             ],
             [
              0.2222222222222222,
              "#7201a8"
             ],
             [
              0.3333333333333333,
              "#9c179e"
             ],
             [
              0.4444444444444444,
              "#bd3786"
             ],
             [
              0.5555555555555556,
              "#d8576b"
             ],
             [
              0.6666666666666666,
              "#ed7953"
             ],
             [
              0.7777777777777778,
              "#fb9f3a"
             ],
             [
              0.8888888888888888,
              "#fdca26"
             ],
             [
              1,
              "#f0f921"
             ]
            ],
            "type": "histogram2dcontour"
           }
          ],
          "mesh3d": [
           {
            "colorbar": {
             "outlinewidth": 0,
             "ticks": ""
            },
            "type": "mesh3d"
           }
          ],
          "parcoords": [
           {
            "line": {
             "colorbar": {
              "outlinewidth": 0,
              "ticks": ""
             }
            },
            "type": "parcoords"
           }
          ],
          "pie": [
           {
            "automargin": true,
            "type": "pie"
           }
          ],
          "scatter": [
           {
            "fillpattern": {
             "fillmode": "overlay",
             "size": 10,
             "solidity": 0.2
            },
            "type": "scatter"
           }
          ],
          "scatter3d": [
           {
            "line": {
             "colorbar": {
              "outlinewidth": 0,
              "ticks": ""
             }
            },
            "marker": {
             "colorbar": {
              "outlinewidth": 0,
              "ticks": ""
             }
            },
            "type": "scatter3d"
           }
          ],
          "scattercarpet": [
           {
            "marker": {
             "colorbar": {
              "outlinewidth": 0,
              "ticks": ""
             }
            },
            "type": "scattercarpet"
           }
          ],
          "scattergeo": [
           {
            "marker": {
             "colorbar": {
              "outlinewidth": 0,
              "ticks": ""
             }
            },
            "type": "scattergeo"
           }
          ],
          "scattergl": [
           {
            "marker": {
             "colorbar": {
              "outlinewidth": 0,
              "ticks": ""
             }
            },
            "type": "scattergl"
           }
          ],
          "scattermapbox": [
           {
            "marker": {
             "colorbar": {
              "outlinewidth": 0,
              "ticks": ""
             }
            },
            "type": "scattermapbox"
           }
          ],
          "scatterpolar": [
           {
            "marker": {
             "colorbar": {
              "outlinewidth": 0,
              "ticks": ""
             }
            },
            "type": "scatterpolar"
           }
          ],
          "scatterpolargl": [
           {
            "marker": {
             "colorbar": {
              "outlinewidth": 0,
              "ticks": ""
             }
            },
            "type": "scatterpolargl"
           }
          ],
          "scatterternary": [
           {
            "marker": {
             "colorbar": {
              "outlinewidth": 0,
              "ticks": ""
             }
            },
            "type": "scatterternary"
           }
          ],
          "surface": [
           {
            "colorbar": {
             "outlinewidth": 0,
             "ticks": ""
            },
            "colorscale": [
             [
              0,
              "#0d0887"
             ],
             [
              0.1111111111111111,
              "#46039f"
             ],
             [
              0.2222222222222222,
              "#7201a8"
             ],
             [
              0.3333333333333333,
              "#9c179e"
             ],
             [
              0.4444444444444444,
              "#bd3786"
             ],
             [
              0.5555555555555556,
              "#d8576b"
             ],
             [
              0.6666666666666666,
              "#ed7953"
             ],
             [
              0.7777777777777778,
              "#fb9f3a"
             ],
             [
              0.8888888888888888,
              "#fdca26"
             ],
             [
              1,
              "#f0f921"
             ]
            ],
            "type": "surface"
           }
          ],
          "table": [
           {
            "cells": {
             "fill": {
              "color": "#EBF0F8"
             },
             "line": {
              "color": "white"
             }
            },
            "header": {
             "fill": {
              "color": "#C8D4E3"
             },
             "line": {
              "color": "white"
             }
            },
            "type": "table"
           }
          ]
         },
         "layout": {
          "annotationdefaults": {
           "arrowcolor": "#2a3f5f",
           "arrowhead": 0,
           "arrowwidth": 1
          },
          "autotypenumbers": "strict",
          "coloraxis": {
           "colorbar": {
            "outlinewidth": 0,
            "ticks": ""
           }
          },
          "colorscale": {
           "diverging": [
            [
             0,
             "#8e0152"
            ],
            [
             0.1,
             "#c51b7d"
            ],
            [
             0.2,
             "#de77ae"
            ],
            [
             0.3,
             "#f1b6da"
            ],
            [
             0.4,
             "#fde0ef"
            ],
            [
             0.5,
             "#f7f7f7"
            ],
            [
             0.6,
             "#e6f5d0"
            ],
            [
             0.7,
             "#b8e186"
            ],
            [
             0.8,
             "#7fbc41"
            ],
            [
             0.9,
             "#4d9221"
            ],
            [
             1,
             "#276419"
            ]
           ],
           "sequential": [
            [
             0,
             "#0d0887"
            ],
            [
             0.1111111111111111,
             "#46039f"
            ],
            [
             0.2222222222222222,
             "#7201a8"
            ],
            [
             0.3333333333333333,
             "#9c179e"
            ],
            [
             0.4444444444444444,
             "#bd3786"
            ],
            [
             0.5555555555555556,
             "#d8576b"
            ],
            [
             0.6666666666666666,
             "#ed7953"
            ],
            [
             0.7777777777777778,
             "#fb9f3a"
            ],
            [
             0.8888888888888888,
             "#fdca26"
            ],
            [
             1,
             "#f0f921"
            ]
           ],
           "sequentialminus": [
            [
             0,
             "#0d0887"
            ],
            [
             0.1111111111111111,
             "#46039f"
            ],
            [
             0.2222222222222222,
             "#7201a8"
            ],
            [
             0.3333333333333333,
             "#9c179e"
            ],
            [
             0.4444444444444444,
             "#bd3786"
            ],
            [
             0.5555555555555556,
             "#d8576b"
            ],
            [
             0.6666666666666666,
             "#ed7953"
            ],
            [
             0.7777777777777778,
             "#fb9f3a"
            ],
            [
             0.8888888888888888,
             "#fdca26"
            ],
            [
             1,
             "#f0f921"
            ]
           ]
          },
          "colorway": [
           "#636efa",
           "#EF553B",
           "#00cc96",
           "#ab63fa",
           "#FFA15A",
           "#19d3f3",
           "#FF6692",
           "#B6E880",
           "#FF97FF",
           "#FECB52"
          ],
          "font": {
           "color": "#2a3f5f"
          },
          "geo": {
           "bgcolor": "white",
           "lakecolor": "white",
           "landcolor": "#E5ECF6",
           "showlakes": true,
           "showland": true,
           "subunitcolor": "white"
          },
          "hoverlabel": {
           "align": "left"
          },
          "hovermode": "closest",
          "mapbox": {
           "style": "light"
          },
          "paper_bgcolor": "white",
          "plot_bgcolor": "#E5ECF6",
          "polar": {
           "angularaxis": {
            "gridcolor": "white",
            "linecolor": "white",
            "ticks": ""
           },
           "bgcolor": "#E5ECF6",
           "radialaxis": {
            "gridcolor": "white",
            "linecolor": "white",
            "ticks": ""
           }
          },
          "scene": {
           "xaxis": {
            "backgroundcolor": "#E5ECF6",
            "gridcolor": "white",
            "gridwidth": 2,
            "linecolor": "white",
            "showbackground": true,
            "ticks": "",
            "zerolinecolor": "white"
           },
           "yaxis": {
            "backgroundcolor": "#E5ECF6",
            "gridcolor": "white",
            "gridwidth": 2,
            "linecolor": "white",
            "showbackground": true,
            "ticks": "",
            "zerolinecolor": "white"
           },
           "zaxis": {
            "backgroundcolor": "#E5ECF6",
            "gridcolor": "white",
            "gridwidth": 2,
            "linecolor": "white",
            "showbackground": true,
            "ticks": "",
            "zerolinecolor": "white"
           }
          },
          "shapedefaults": {
           "line": {
            "color": "#2a3f5f"
           }
          },
          "ternary": {
           "aaxis": {
            "gridcolor": "white",
            "linecolor": "white",
            "ticks": ""
           },
           "baxis": {
            "gridcolor": "white",
            "linecolor": "white",
            "ticks": ""
           },
           "bgcolor": "#E5ECF6",
           "caxis": {
            "gridcolor": "white",
            "linecolor": "white",
            "ticks": ""
           }
          },
          "title": {
           "x": 0.05
          },
          "xaxis": {
           "automargin": true,
           "gridcolor": "white",
           "linecolor": "white",
           "ticks": "",
           "title": {
            "standoff": 15
           },
           "zerolinecolor": "white",
           "zerolinewidth": 2
          },
          "yaxis": {
           "automargin": true,
           "gridcolor": "white",
           "linecolor": "white",
           "ticks": "",
           "title": {
            "standoff": 15
           },
           "zerolinecolor": "white",
           "zerolinewidth": 2
          }
         }
        },
        "title": {
         "font": {
          "color": "#4D5663"
         }
        },
        "xaxis": {
         "gridcolor": "#E1E5ED",
         "showgrid": true,
         "tickfont": {
          "color": "#4D5663"
         },
         "title": {
          "font": {
           "color": "#4D5663"
          },
          "text": ""
         },
         "zerolinecolor": "#E1E5ED"
        },
        "yaxis": {
         "gridcolor": "#E1E5ED",
         "showgrid": true,
         "tickfont": {
          "color": "#4D5663"
         },
         "title": {
          "font": {
           "color": "#4D5663"
          },
          "text": ""
         },
         "zerolinecolor": "#E1E5ED"
        }
       }
      },
      "text/html": [
       "<div>                            <div id=\"c08116f1-ce68-4ee6-9601-4df795d80cea\" class=\"plotly-graph-div\" style=\"height:525px; width:100%;\"></div>            <script type=\"text/javascript\">                require([\"plotly\"], function(Plotly) {                    window.PLOTLYENV=window.PLOTLYENV || {};\n",
       "                    window.PLOTLYENV.BASE_URL='https://plot.ly';                                    if (document.getElementById(\"c08116f1-ce68-4ee6-9601-4df795d80cea\")) {                    Plotly.newPlot(                        \"c08116f1-ce68-4ee6-9601-4df795d80cea\",                        [{\"colorscale\":[[0.0,\"rgb(165,0,38)\"],[0.1,\"rgb(215,48,39)\"],[0.2,\"rgb(244,109,67)\"],[0.3,\"rgb(253,174,97)\"],[0.4,\"rgb(254,224,144)\"],[0.5,\"rgb(255,255,191)\"],[0.6,\"rgb(224,243,248)\"],[0.7,\"rgb(171,217,233)\"],[0.8,\"rgb(116,173,209)\"],[0.9,\"rgb(69,117,180)\"],[1.0,\"rgb(49,54,149)\"]],\"x\":[0,1,2,3,4],\"y\":[\"x\",\"y\",\"z\"],\"z\":[[1,2,3,4,5],[10,20,30,20,10],[500,400,300,200,100]],\"type\":\"surface\"}],                        {\"legend\":{\"bgcolor\":\"#F5F6F9\",\"font\":{\"color\":\"#4D5663\"}},\"paper_bgcolor\":\"#F5F6F9\",\"plot_bgcolor\":\"#F5F6F9\",\"template\":{\"data\":{\"barpolar\":[{\"marker\":{\"line\":{\"color\":\"#E5ECF6\",\"width\":0.5},\"pattern\":{\"fillmode\":\"overlay\",\"size\":10,\"solidity\":0.2}},\"type\":\"barpolar\"}],\"bar\":[{\"error_x\":{\"color\":\"#2a3f5f\"},\"error_y\":{\"color\":\"#2a3f5f\"},\"marker\":{\"line\":{\"color\":\"#E5ECF6\",\"width\":0.5},\"pattern\":{\"fillmode\":\"overlay\",\"size\":10,\"solidity\":0.2}},\"type\":\"bar\"}],\"carpet\":[{\"aaxis\":{\"endlinecolor\":\"#2a3f5f\",\"gridcolor\":\"white\",\"linecolor\":\"white\",\"minorgridcolor\":\"white\",\"startlinecolor\":\"#2a3f5f\"},\"baxis\":{\"endlinecolor\":\"#2a3f5f\",\"gridcolor\":\"white\",\"linecolor\":\"white\",\"minorgridcolor\":\"white\",\"startlinecolor\":\"#2a3f5f\"},\"type\":\"carpet\"}],\"choropleth\":[{\"colorbar\":{\"outlinewidth\":0,\"ticks\":\"\"},\"type\":\"choropleth\"}],\"contourcarpet\":[{\"colorbar\":{\"outlinewidth\":0,\"ticks\":\"\"},\"type\":\"contourcarpet\"}],\"contour\":[{\"colorbar\":{\"outlinewidth\":0,\"ticks\":\"\"},\"colorscale\":[[0.0,\"#0d0887\"],[0.1111111111111111,\"#46039f\"],[0.2222222222222222,\"#7201a8\"],[0.3333333333333333,\"#9c179e\"],[0.4444444444444444,\"#bd3786\"],[0.5555555555555556,\"#d8576b\"],[0.6666666666666666,\"#ed7953\"],[0.7777777777777778,\"#fb9f3a\"],[0.8888888888888888,\"#fdca26\"],[1.0,\"#f0f921\"]],\"type\":\"contour\"}],\"heatmapgl\":[{\"colorbar\":{\"outlinewidth\":0,\"ticks\":\"\"},\"colorscale\":[[0.0,\"#0d0887\"],[0.1111111111111111,\"#46039f\"],[0.2222222222222222,\"#7201a8\"],[0.3333333333333333,\"#9c179e\"],[0.4444444444444444,\"#bd3786\"],[0.5555555555555556,\"#d8576b\"],[0.6666666666666666,\"#ed7953\"],[0.7777777777777778,\"#fb9f3a\"],[0.8888888888888888,\"#fdca26\"],[1.0,\"#f0f921\"]],\"type\":\"heatmapgl\"}],\"heatmap\":[{\"colorbar\":{\"outlinewidth\":0,\"ticks\":\"\"},\"colorscale\":[[0.0,\"#0d0887\"],[0.1111111111111111,\"#46039f\"],[0.2222222222222222,\"#7201a8\"],[0.3333333333333333,\"#9c179e\"],[0.4444444444444444,\"#bd3786\"],[0.5555555555555556,\"#d8576b\"],[0.6666666666666666,\"#ed7953\"],[0.7777777777777778,\"#fb9f3a\"],[0.8888888888888888,\"#fdca26\"],[1.0,\"#f0f921\"]],\"type\":\"heatmap\"}],\"histogram2dcontour\":[{\"colorbar\":{\"outlinewidth\":0,\"ticks\":\"\"},\"colorscale\":[[0.0,\"#0d0887\"],[0.1111111111111111,\"#46039f\"],[0.2222222222222222,\"#7201a8\"],[0.3333333333333333,\"#9c179e\"],[0.4444444444444444,\"#bd3786\"],[0.5555555555555556,\"#d8576b\"],[0.6666666666666666,\"#ed7953\"],[0.7777777777777778,\"#fb9f3a\"],[0.8888888888888888,\"#fdca26\"],[1.0,\"#f0f921\"]],\"type\":\"histogram2dcontour\"}],\"histogram2d\":[{\"colorbar\":{\"outlinewidth\":0,\"ticks\":\"\"},\"colorscale\":[[0.0,\"#0d0887\"],[0.1111111111111111,\"#46039f\"],[0.2222222222222222,\"#7201a8\"],[0.3333333333333333,\"#9c179e\"],[0.4444444444444444,\"#bd3786\"],[0.5555555555555556,\"#d8576b\"],[0.6666666666666666,\"#ed7953\"],[0.7777777777777778,\"#fb9f3a\"],[0.8888888888888888,\"#fdca26\"],[1.0,\"#f0f921\"]],\"type\":\"histogram2d\"}],\"histogram\":[{\"marker\":{\"pattern\":{\"fillmode\":\"overlay\",\"size\":10,\"solidity\":0.2}},\"type\":\"histogram\"}],\"mesh3d\":[{\"colorbar\":{\"outlinewidth\":0,\"ticks\":\"\"},\"type\":\"mesh3d\"}],\"parcoords\":[{\"line\":{\"colorbar\":{\"outlinewidth\":0,\"ticks\":\"\"}},\"type\":\"parcoords\"}],\"pie\":[{\"automargin\":true,\"type\":\"pie\"}],\"scatter3d\":[{\"line\":{\"colorbar\":{\"outlinewidth\":0,\"ticks\":\"\"}},\"marker\":{\"colorbar\":{\"outlinewidth\":0,\"ticks\":\"\"}},\"type\":\"scatter3d\"}],\"scattercarpet\":[{\"marker\":{\"colorbar\":{\"outlinewidth\":0,\"ticks\":\"\"}},\"type\":\"scattercarpet\"}],\"scattergeo\":[{\"marker\":{\"colorbar\":{\"outlinewidth\":0,\"ticks\":\"\"}},\"type\":\"scattergeo\"}],\"scattergl\":[{\"marker\":{\"colorbar\":{\"outlinewidth\":0,\"ticks\":\"\"}},\"type\":\"scattergl\"}],\"scattermapbox\":[{\"marker\":{\"colorbar\":{\"outlinewidth\":0,\"ticks\":\"\"}},\"type\":\"scattermapbox\"}],\"scatterpolargl\":[{\"marker\":{\"colorbar\":{\"outlinewidth\":0,\"ticks\":\"\"}},\"type\":\"scatterpolargl\"}],\"scatterpolar\":[{\"marker\":{\"colorbar\":{\"outlinewidth\":0,\"ticks\":\"\"}},\"type\":\"scatterpolar\"}],\"scatter\":[{\"fillpattern\":{\"fillmode\":\"overlay\",\"size\":10,\"solidity\":0.2},\"type\":\"scatter\"}],\"scatterternary\":[{\"marker\":{\"colorbar\":{\"outlinewidth\":0,\"ticks\":\"\"}},\"type\":\"scatterternary\"}],\"surface\":[{\"colorbar\":{\"outlinewidth\":0,\"ticks\":\"\"},\"colorscale\":[[0.0,\"#0d0887\"],[0.1111111111111111,\"#46039f\"],[0.2222222222222222,\"#7201a8\"],[0.3333333333333333,\"#9c179e\"],[0.4444444444444444,\"#bd3786\"],[0.5555555555555556,\"#d8576b\"],[0.6666666666666666,\"#ed7953\"],[0.7777777777777778,\"#fb9f3a\"],[0.8888888888888888,\"#fdca26\"],[1.0,\"#f0f921\"]],\"type\":\"surface\"}],\"table\":[{\"cells\":{\"fill\":{\"color\":\"#EBF0F8\"},\"line\":{\"color\":\"white\"}},\"header\":{\"fill\":{\"color\":\"#C8D4E3\"},\"line\":{\"color\":\"white\"}},\"type\":\"table\"}]},\"layout\":{\"annotationdefaults\":{\"arrowcolor\":\"#2a3f5f\",\"arrowhead\":0,\"arrowwidth\":1},\"autotypenumbers\":\"strict\",\"coloraxis\":{\"colorbar\":{\"outlinewidth\":0,\"ticks\":\"\"}},\"colorscale\":{\"diverging\":[[0,\"#8e0152\"],[0.1,\"#c51b7d\"],[0.2,\"#de77ae\"],[0.3,\"#f1b6da\"],[0.4,\"#fde0ef\"],[0.5,\"#f7f7f7\"],[0.6,\"#e6f5d0\"],[0.7,\"#b8e186\"],[0.8,\"#7fbc41\"],[0.9,\"#4d9221\"],[1,\"#276419\"]],\"sequential\":[[0.0,\"#0d0887\"],[0.1111111111111111,\"#46039f\"],[0.2222222222222222,\"#7201a8\"],[0.3333333333333333,\"#9c179e\"],[0.4444444444444444,\"#bd3786\"],[0.5555555555555556,\"#d8576b\"],[0.6666666666666666,\"#ed7953\"],[0.7777777777777778,\"#fb9f3a\"],[0.8888888888888888,\"#fdca26\"],[1.0,\"#f0f921\"]],\"sequentialminus\":[[0.0,\"#0d0887\"],[0.1111111111111111,\"#46039f\"],[0.2222222222222222,\"#7201a8\"],[0.3333333333333333,\"#9c179e\"],[0.4444444444444444,\"#bd3786\"],[0.5555555555555556,\"#d8576b\"],[0.6666666666666666,\"#ed7953\"],[0.7777777777777778,\"#fb9f3a\"],[0.8888888888888888,\"#fdca26\"],[1.0,\"#f0f921\"]]},\"colorway\":[\"#636efa\",\"#EF553B\",\"#00cc96\",\"#ab63fa\",\"#FFA15A\",\"#19d3f3\",\"#FF6692\",\"#B6E880\",\"#FF97FF\",\"#FECB52\"],\"font\":{\"color\":\"#2a3f5f\"},\"geo\":{\"bgcolor\":\"white\",\"lakecolor\":\"white\",\"landcolor\":\"#E5ECF6\",\"showlakes\":true,\"showland\":true,\"subunitcolor\":\"white\"},\"hoverlabel\":{\"align\":\"left\"},\"hovermode\":\"closest\",\"mapbox\":{\"style\":\"light\"},\"paper_bgcolor\":\"white\",\"plot_bgcolor\":\"#E5ECF6\",\"polar\":{\"angularaxis\":{\"gridcolor\":\"white\",\"linecolor\":\"white\",\"ticks\":\"\"},\"bgcolor\":\"#E5ECF6\",\"radialaxis\":{\"gridcolor\":\"white\",\"linecolor\":\"white\",\"ticks\":\"\"}},\"scene\":{\"xaxis\":{\"backgroundcolor\":\"#E5ECF6\",\"gridcolor\":\"white\",\"gridwidth\":2,\"linecolor\":\"white\",\"showbackground\":true,\"ticks\":\"\",\"zerolinecolor\":\"white\"},\"yaxis\":{\"backgroundcolor\":\"#E5ECF6\",\"gridcolor\":\"white\",\"gridwidth\":2,\"linecolor\":\"white\",\"showbackground\":true,\"ticks\":\"\",\"zerolinecolor\":\"white\"},\"zaxis\":{\"backgroundcolor\":\"#E5ECF6\",\"gridcolor\":\"white\",\"gridwidth\":2,\"linecolor\":\"white\",\"showbackground\":true,\"ticks\":\"\",\"zerolinecolor\":\"white\"}},\"shapedefaults\":{\"line\":{\"color\":\"#2a3f5f\"}},\"ternary\":{\"aaxis\":{\"gridcolor\":\"white\",\"linecolor\":\"white\",\"ticks\":\"\"},\"baxis\":{\"gridcolor\":\"white\",\"linecolor\":\"white\",\"ticks\":\"\"},\"bgcolor\":\"#E5ECF6\",\"caxis\":{\"gridcolor\":\"white\",\"linecolor\":\"white\",\"ticks\":\"\"}},\"title\":{\"x\":0.05},\"xaxis\":{\"automargin\":true,\"gridcolor\":\"white\",\"linecolor\":\"white\",\"ticks\":\"\",\"title\":{\"standoff\":15},\"zerolinecolor\":\"white\",\"zerolinewidth\":2},\"yaxis\":{\"automargin\":true,\"gridcolor\":\"white\",\"linecolor\":\"white\",\"ticks\":\"\",\"title\":{\"standoff\":15},\"zerolinecolor\":\"white\",\"zerolinewidth\":2}}},\"title\":{\"font\":{\"color\":\"#4D5663\"}},\"xaxis\":{\"gridcolor\":\"#E1E5ED\",\"showgrid\":true,\"tickfont\":{\"color\":\"#4D5663\"},\"title\":{\"font\":{\"color\":\"#4D5663\"},\"text\":\"\"},\"zerolinecolor\":\"#E1E5ED\"},\"yaxis\":{\"gridcolor\":\"#E1E5ED\",\"showgrid\":true,\"tickfont\":{\"color\":\"#4D5663\"},\"title\":{\"font\":{\"color\":\"#4D5663\"},\"text\":\"\"},\"zerolinecolor\":\"#E1E5ED\"}},                        {\"showLink\": true, \"linkText\": \"Export to plot.ly\", \"plotlyServerURL\": \"https://plot.ly\", \"responsive\": true}                    ).then(function(){\n",
       "                            \n",
       "var gd = document.getElementById('c08116f1-ce68-4ee6-9601-4df795d80cea');\n",
       "var x = new MutationObserver(function (mutations, observer) {{\n",
       "        var display = window.getComputedStyle(gd).display;\n",
       "        if (!display || display === 'none') {{\n",
       "            console.log([gd, 'removed!']);\n",
       "            Plotly.purge(gd);\n",
       "            observer.disconnect();\n",
       "        }}\n",
       "}});\n",
       "\n",
       "// Listen for the removal of the full notebook cells\n",
       "var notebookContainer = gd.closest('#notebook-container');\n",
       "if (notebookContainer) {{\n",
       "    x.observe(notebookContainer, {childList: true});\n",
       "}}\n",
       "\n",
       "// Listen for the clearing of the current output cell\n",
       "var outputEl = gd.closest('.output');\n",
       "if (outputEl) {{\n",
       "    x.observe(outputEl, {childList: true});\n",
       "}}\n",
       "\n",
       "                        })                };                });            </script>        </div>"
      ]
     },
     "metadata": {},
     "output_type": "display_data"
    }
   ],
   "source": [
    "df3.iplot(kind='surface',colorscale='rdylbu')"
   ]
  },
  {
   "cell_type": "code",
   "execution_count": 73,
   "id": "477518f0",
   "metadata": {},
   "outputs": [
    {
     "data": {
      "application/vnd.plotly.v1+json": {
       "config": {
        "linkText": "Export to plot.ly",
        "plotlyServerURL": "https://plot.ly",
        "showLink": true
       },
       "data": [
        {
         "histfunc": "count",
         "histnorm": "",
         "marker": {
          "color": "rgba(255, 153, 51, 1.0)",
          "line": {
           "color": "#4D5663",
           "width": 1.3
          }
         },
         "name": "A",
         "nbinsx": 25,
         "opacity": 0.8,
         "orientation": "v",
         "type": "histogram",
         "x": [
          -2.0245678545620653,
          -0.70000967402194,
          0.4923011266211667,
          -0.1721337617162361,
          0.1300772047032601,
          -0.8333704434524496,
          0.34121462467065816,
          0.9677726356756655,
          1.0120891924486815,
          1.2232183702754578,
          -0.8427421789582358,
          0.18819096793209314,
          -1.6095005021892217,
          0.41339125775669555,
          -0.8948518562686107,
          -0.1843957684237995,
          1.6860920350330262,
          1.7966629201710838,
          0.7059434946092662,
          -0.4638431276336962,
          0.8335385969736977,
          -0.7338353757187845,
          0.29198786778577684,
          0.7621576857108744,
          -1.2797389810464925,
          1.0297527504257031,
          0.9625278654239828,
          -1.7851418437008166,
          -1.0954108369089715,
          -2.8084934964522676,
          1.3198883643750479,
          0.39999831444598893,
          -1.141518084638812,
          -0.553833400359158,
          -0.5021357042202531,
          -1.7747620990430988,
          -0.7471339649507993,
          -1.680236866891475,
          0.16800536415649148,
          0.9624777623645401,
          0.7327131001167891,
          0.8596062243117514,
          0.9170009008811542,
          -0.8909419630348943,
          0.2427255664521905,
          -0.6065451458740814,
          0.2482809249447097,
          -1.8535909031151525,
          -0.09750333812372164,
          -0.8798749960318651,
          0.217800590401041,
          0.8029760466725708,
          0.6653151750366897,
          -0.3084497006647018,
          0.36768824082733653,
          -0.3339365462425808,
          0.13868616976000864,
          -0.714301240067701,
          0.5588471774554243,
          0.0069681037932292815,
          0.2403401185362488,
          0.47347545555015974,
          -1.1164580146104586,
          -1.3765949888678477,
          0.21828959853628632,
          0.2983118598338089,
          1.4624051256412518,
          -1.294335785990532,
          -1.1891868148706493,
          0.4480021923135863,
          0.12578697802044325,
          0.5113765435650498,
          0.1285909603816634,
          -0.6806646507469855,
          -0.28554355498000167,
          1.8309719250363772,
          -0.7378615237977918,
          0.8487554269717219,
          -0.22845770363282245,
          -1.3198777526010914,
          -1.7164357576246156,
          -0.8565176465067136,
          1.5973041294004924,
          1.2230412199308058,
          -0.7866323189888544,
          -1.3609919026164312,
          0.06459817804490998,
          0.921998675958377,
          2.1608332100400616,
          -0.44158263770700196,
          0.16697383520246797,
          0.15215444987588211,
          0.32083154833677463,
          -0.4768739422051255,
          0.15539672302809196,
          0.5132262797726742,
          0.5812646979598842,
          0.3999652636768709,
          -0.2552657391538536,
          0.09731861511588642
         ]
        },
        {
         "histfunc": "count",
         "histnorm": "",
         "marker": {
          "color": "rgba(55, 128, 191, 1.0)",
          "line": {
           "color": "#4D5663",
           "width": 1.3
          }
         },
         "name": "B",
         "nbinsx": 25,
         "opacity": 0.8,
         "orientation": "v",
         "type": "histogram",
         "x": [
          -0.6382408485860838,
          -0.26445161392310296,
          -0.23213667337437718,
          0.5180176758815382,
          -1.1248049522097245,
          -0.380272960362963,
          -0.2932209551832816,
          -0.2983349399546075,
          0.8352757748805898,
          0.19767795485653444,
          -0.25848078585870043,
          0.6572601167502129,
          0.4792315672286233,
          -0.7297409216849485,
          0.4046424846202565,
          1.2968971276167458,
          0.13935965106348322,
          -0.6594484341435785,
          -0.02418590218582255,
          -2.5239897567978575,
          1.5346822177409631,
          -0.044687567248630725,
          1.6231383581412073,
          0.40026551057354326,
          -1.346220027753875,
          0.16491814429374466,
          0.9065722606320102,
          0.6700483963411383,
          -0.05104018162539486,
          1.1707146916736622,
          0.27196909622293,
          -0.823741868413821,
          -1.071654380390136,
          1.611845565479155,
          -0.6358684090521775,
          0.12088690562135754,
          -0.4238076744306274,
          0.30761109667202036,
          0.10090276567627783,
          -0.934825817248883,
          -0.11477621970946751,
          -0.25626272220601465,
          -2.2618111698047243,
          0.47059504469409547,
          0.3384630374158783,
          1.1429078856709527,
          1.039266887625021,
          -0.9967830206402708,
          -0.6202045714826442,
          0.22079305993745846,
          0.9115135718961257,
          -1.2122517475675738,
          1.0560300708411399,
          -1.9090176950054356,
          2.028179416010953,
          0.2831970755448901,
          0.6241028603371211,
          1.0407268957495415,
          -0.26224266816482766,
          0.5298657981252108,
          -2.0965098648132012,
          1.5130229822141446,
          -1.7078071537312842,
          -0.2720326625194213,
          1.5419814719954992,
          -0.3403798338394972,
          -0.2607484877893845,
          1.613613022678893,
          0.015346417608684809,
          0.8193595059346083,
          0.28400196804539557,
          0.23640271970560556,
          0.9643162048376709,
          -0.604459368826204,
          -1.2825284995959614,
          -0.3851992746376785,
          -0.2698997452038915,
          -0.1806119563245644,
          0.03316776563581451,
          -0.2064180896765948,
          0.5557810546207436,
          -0.9395511240801336,
          -0.3738586334196706,
          0.719627463803325,
          -1.1552010934966621,
          0.18725547161413295,
          -1.8598061078955381,
          -0.31999462379920496,
          -1.8573069884412665,
          0.5833843253960496,
          0.7005904412031791,
          -0.592374288827152,
          -0.32071254126644355,
          0.7437217160339742,
          -0.6523371315325809,
          -0.14606736635054363,
          -1.0609890385279603,
          -1.397175646717783,
          -0.4182909179317061,
          1.3303804152695233
         ]
        },
        {
         "histfunc": "count",
         "histnorm": "",
         "marker": {
          "color": "rgba(50, 171, 96, 1.0)",
          "line": {
           "color": "#4D5663",
           "width": 1.3
          }
         },
         "name": "C",
         "nbinsx": 25,
         "opacity": 0.8,
         "orientation": "v",
         "type": "histogram",
         "x": [
          -0.224893079246173,
          1.2503815642723262,
          -0.009751551125147586,
          0.16527703916918052,
          -0.3745090835527552,
          0.515662283296908,
          1.0547154138277266,
          -0.22067757188991727,
          -0.6498584802383204,
          -2.07908895587237,
          2.1403465577961116,
          1.6445158565680038,
          -1.0175955610791787,
          -0.17251980686788723,
          -0.19414925926115856,
          0.9311926054750844,
          0.24273553610203655,
          -0.8953402123461103,
          -0.3387964991908508,
          0.36389088884917165,
          0.4405868040137417,
          -0.21012156100866447,
          -2.788900751431851,
          1.198143626275225,
          -0.4127880365061836,
          -0.238621684631133,
          0.4371715805619799,
          1.256886884011327,
          -0.060193643202252595,
          0.3059995769855611,
          -0.4158291391773987,
          2.1475559417541734,
          -0.6243802744709012,
          0.5817247352369509,
          0.39266255814740997,
          0.5649256027013886,
          0.8061396519459106,
          0.6195039399742812,
          0.02177467231854164,
          -1.319899574991042,
          -0.3356450667412887,
          0.03748262752761676,
          0.21357396085531327,
          0.1224416437776951,
          -0.2197873964063419,
          -1.0600124514378158,
          -0.3345568122382559,
          -0.5769051564609712,
          2.8592353822054193,
          0.9402264092354687,
          1.1170894271622458,
          1.1025825408160912,
          1.4589599777641047,
          -0.00559822897158635,
          0.649167046273083,
          0.5962648454476672,
          2.1015783595893724,
          -1.0004967709798152,
          -0.794419492093333,
          0.8507876014851588,
          -0.43312010038274834,
          -0.25549192361797196,
          0.3408418093354243,
          -1.3140065306556812,
          -0.892627715873621,
          0.2800577801511644,
          -1.8190732690240992,
          0.7071155509495465,
          -1.2699887648430062,
          1.1691192931392227,
          0.11665823912731504,
          -0.5073035259374067,
          -1.0932263125943875,
          0.20275177216827314,
          -0.11142118650757836,
          0.02910736140493556,
          0.9342531709146351,
          0.16746231525434202,
          -0.4608568591137009,
          -0.3901894838095558,
          0.6092957626506681,
          -0.5557513480847908,
          -0.21909070450172796,
          -0.537747844859767,
          -0.672824530162349,
          2.6124495827756866,
          1.6013530267662324,
          -0.10470803359208224,
          -0.48551242090787217,
          -0.36798474127000314,
          0.4582902064494334,
          1.2426685607553631,
          1.1506367383501355,
          -0.48916011980898466,
          -2.311296255514442,
          1.1525036060530027,
          0.18302057139365044,
          -0.13978553105887837,
          -0.04229289544270978,
          0.04282490464750087
         ]
        },
        {
         "histfunc": "count",
         "histnorm": "",
         "marker": {
          "color": "rgba(128, 0, 128, 1.0)",
          "line": {
           "color": "#4D5663",
           "width": 1.3
          }
         },
         "name": "D",
         "nbinsx": 25,
         "opacity": 0.8,
         "orientation": "v",
         "type": "histogram",
         "x": [
          1.298015485089696,
          -0.23339096447922594,
          1.1037728080136389,
          0.19806209294100593,
          2.549860056192145,
          -0.9061470055249541,
          -1.6191346355086136,
          -0.6402695199792406,
          0.5301304795188629,
          0.10826973860060203,
          -0.03096417152728443,
          -1.333260776229409,
          -0.5106018658222338,
          -1.2602161142365913,
          1.0541069690486944,
          -0.5360890299819138,
          1.2919783215192175,
          -0.06548767963927178,
          1.292524371037477,
          0.4704853470988679,
          -0.01271146868624112,
          -1.6469302468272102,
          -0.48917579782210724,
          0.37733382079878897,
          -1.1976258256123749,
          0.20879853261299658,
          0.2444678967514823,
          0.16870241860798135,
          1.6006255420901228,
          -0.028579174827799286,
          1.3256317621847986,
          -1.3605698101646098,
          0.8195467855949271,
          -0.9808516343193202,
          -0.6390064981962895,
          -1.245203809566456,
          0.4337270017046839,
          1.234528835493931,
          -0.4104457369366574,
          0.5665420894986996,
          -0.7449291411997484,
          -1.2267447902634088,
          1.1227345594966862,
          -0.12979808400976459,
          -0.6269374526327316,
          0.292703498655163,
          0.6257393332073456,
          0.45996788432615043,
          0.5043667581526481,
          2.237293213159649,
          -1.4060039933788429,
          0.1788743528339559,
          -1.134521652233473,
          -0.015399492226502463,
          -0.9684748530238916,
          -1.4820224914118059,
          0.1715902804964764,
          -0.42039750746697546,
          0.8498256250305002,
          -0.2453748541806391,
          -0.8775939924189635,
          -2.9231849271662522,
          -0.9748902362208998,
          0.20637640117167275,
          0.5947071928430647,
          -0.30435577684235404,
          -2.1039353759161292,
          1.115513771005786,
          -0.5120600168812814,
          -2.075411098303332,
          2.253424939189268,
          0.7288262548169948,
          -0.7438074474356711,
          1.4919452591038689,
          1.3918176520913537,
          0.23639510290963997,
          -2.294323561421982,
          1.5561353538714506,
          -1.1615335890268663,
          -0.6852963592356053,
          0.08255655206476742,
          -1.6276212209267913,
          1.5138596525635728,
          0.3988950310224964,
          -0.5596997640137246,
          0.8127648867817936,
          -0.9090456772154684,
          -0.2023741303876413,
          -1.0759692892756814,
          -1.0116840652689627,
          -0.5956950303753511,
          0.6474080682588678,
          0.7648410756169055,
          1.5983143212427664,
          -1.2084704597596465,
          -1.187085251520976,
          -0.7207177114828895,
          -1.1365632858321943,
          1.1963260943489973,
          -1.9694894606706348
         ]
        }
       ],
       "layout": {
        "barmode": "overlay",
        "legend": {
         "bgcolor": "#F5F6F9",
         "font": {
          "color": "#4D5663"
         }
        },
        "paper_bgcolor": "#F5F6F9",
        "plot_bgcolor": "#F5F6F9",
        "template": {
         "data": {
          "bar": [
           {
            "error_x": {
             "color": "#2a3f5f"
            },
            "error_y": {
             "color": "#2a3f5f"
            },
            "marker": {
             "line": {
              "color": "#E5ECF6",
              "width": 0.5
             },
             "pattern": {
              "fillmode": "overlay",
              "size": 10,
              "solidity": 0.2
             }
            },
            "type": "bar"
           }
          ],
          "barpolar": [
           {
            "marker": {
             "line": {
              "color": "#E5ECF6",
              "width": 0.5
             },
             "pattern": {
              "fillmode": "overlay",
              "size": 10,
              "solidity": 0.2
             }
            },
            "type": "barpolar"
           }
          ],
          "carpet": [
           {
            "aaxis": {
             "endlinecolor": "#2a3f5f",
             "gridcolor": "white",
             "linecolor": "white",
             "minorgridcolor": "white",
             "startlinecolor": "#2a3f5f"
            },
            "baxis": {
             "endlinecolor": "#2a3f5f",
             "gridcolor": "white",
             "linecolor": "white",
             "minorgridcolor": "white",
             "startlinecolor": "#2a3f5f"
            },
            "type": "carpet"
           }
          ],
          "choropleth": [
           {
            "colorbar": {
             "outlinewidth": 0,
             "ticks": ""
            },
            "type": "choropleth"
           }
          ],
          "contour": [
           {
            "colorbar": {
             "outlinewidth": 0,
             "ticks": ""
            },
            "colorscale": [
             [
              0,
              "#0d0887"
             ],
             [
              0.1111111111111111,
              "#46039f"
             ],
             [
              0.2222222222222222,
              "#7201a8"
             ],
             [
              0.3333333333333333,
              "#9c179e"
             ],
             [
              0.4444444444444444,
              "#bd3786"
             ],
             [
              0.5555555555555556,
              "#d8576b"
             ],
             [
              0.6666666666666666,
              "#ed7953"
             ],
             [
              0.7777777777777778,
              "#fb9f3a"
             ],
             [
              0.8888888888888888,
              "#fdca26"
             ],
             [
              1,
              "#f0f921"
             ]
            ],
            "type": "contour"
           }
          ],
          "contourcarpet": [
           {
            "colorbar": {
             "outlinewidth": 0,
             "ticks": ""
            },
            "type": "contourcarpet"
           }
          ],
          "heatmap": [
           {
            "colorbar": {
             "outlinewidth": 0,
             "ticks": ""
            },
            "colorscale": [
             [
              0,
              "#0d0887"
             ],
             [
              0.1111111111111111,
              "#46039f"
             ],
             [
              0.2222222222222222,
              "#7201a8"
             ],
             [
              0.3333333333333333,
              "#9c179e"
             ],
             [
              0.4444444444444444,
              "#bd3786"
             ],
             [
              0.5555555555555556,
              "#d8576b"
             ],
             [
              0.6666666666666666,
              "#ed7953"
             ],
             [
              0.7777777777777778,
              "#fb9f3a"
             ],
             [
              0.8888888888888888,
              "#fdca26"
             ],
             [
              1,
              "#f0f921"
             ]
            ],
            "type": "heatmap"
           }
          ],
          "heatmapgl": [
           {
            "colorbar": {
             "outlinewidth": 0,
             "ticks": ""
            },
            "colorscale": [
             [
              0,
              "#0d0887"
             ],
             [
              0.1111111111111111,
              "#46039f"
             ],
             [
              0.2222222222222222,
              "#7201a8"
             ],
             [
              0.3333333333333333,
              "#9c179e"
             ],
             [
              0.4444444444444444,
              "#bd3786"
             ],
             [
              0.5555555555555556,
              "#d8576b"
             ],
             [
              0.6666666666666666,
              "#ed7953"
             ],
             [
              0.7777777777777778,
              "#fb9f3a"
             ],
             [
              0.8888888888888888,
              "#fdca26"
             ],
             [
              1,
              "#f0f921"
             ]
            ],
            "type": "heatmapgl"
           }
          ],
          "histogram": [
           {
            "marker": {
             "pattern": {
              "fillmode": "overlay",
              "size": 10,
              "solidity": 0.2
             }
            },
            "type": "histogram"
           }
          ],
          "histogram2d": [
           {
            "colorbar": {
             "outlinewidth": 0,
             "ticks": ""
            },
            "colorscale": [
             [
              0,
              "#0d0887"
             ],
             [
              0.1111111111111111,
              "#46039f"
             ],
             [
              0.2222222222222222,
              "#7201a8"
             ],
             [
              0.3333333333333333,
              "#9c179e"
             ],
             [
              0.4444444444444444,
              "#bd3786"
             ],
             [
              0.5555555555555556,
              "#d8576b"
             ],
             [
              0.6666666666666666,
              "#ed7953"
             ],
             [
              0.7777777777777778,
              "#fb9f3a"
             ],
             [
              0.8888888888888888,
              "#fdca26"
             ],
             [
              1,
              "#f0f921"
             ]
            ],
            "type": "histogram2d"
           }
          ],
          "histogram2dcontour": [
           {
            "colorbar": {
             "outlinewidth": 0,
             "ticks": ""
            },
            "colorscale": [
             [
              0,
              "#0d0887"
             ],
             [
              0.1111111111111111,
              "#46039f"
             ],
             [
              0.2222222222222222,
              "#7201a8"
             ],
             [
              0.3333333333333333,
              "#9c179e"
             ],
             [
              0.4444444444444444,
              "#bd3786"
             ],
             [
              0.5555555555555556,
              "#d8576b"
             ],
             [
              0.6666666666666666,
              "#ed7953"
             ],
             [
              0.7777777777777778,
              "#fb9f3a"
             ],
             [
              0.8888888888888888,
              "#fdca26"
             ],
             [
              1,
              "#f0f921"
             ]
            ],
            "type": "histogram2dcontour"
           }
          ],
          "mesh3d": [
           {
            "colorbar": {
             "outlinewidth": 0,
             "ticks": ""
            },
            "type": "mesh3d"
           }
          ],
          "parcoords": [
           {
            "line": {
             "colorbar": {
              "outlinewidth": 0,
              "ticks": ""
             }
            },
            "type": "parcoords"
           }
          ],
          "pie": [
           {
            "automargin": true,
            "type": "pie"
           }
          ],
          "scatter": [
           {
            "fillpattern": {
             "fillmode": "overlay",
             "size": 10,
             "solidity": 0.2
            },
            "type": "scatter"
           }
          ],
          "scatter3d": [
           {
            "line": {
             "colorbar": {
              "outlinewidth": 0,
              "ticks": ""
             }
            },
            "marker": {
             "colorbar": {
              "outlinewidth": 0,
              "ticks": ""
             }
            },
            "type": "scatter3d"
           }
          ],
          "scattercarpet": [
           {
            "marker": {
             "colorbar": {
              "outlinewidth": 0,
              "ticks": ""
             }
            },
            "type": "scattercarpet"
           }
          ],
          "scattergeo": [
           {
            "marker": {
             "colorbar": {
              "outlinewidth": 0,
              "ticks": ""
             }
            },
            "type": "scattergeo"
           }
          ],
          "scattergl": [
           {
            "marker": {
             "colorbar": {
              "outlinewidth": 0,
              "ticks": ""
             }
            },
            "type": "scattergl"
           }
          ],
          "scattermapbox": [
           {
            "marker": {
             "colorbar": {
              "outlinewidth": 0,
              "ticks": ""
             }
            },
            "type": "scattermapbox"
           }
          ],
          "scatterpolar": [
           {
            "marker": {
             "colorbar": {
              "outlinewidth": 0,
              "ticks": ""
             }
            },
            "type": "scatterpolar"
           }
          ],
          "scatterpolargl": [
           {
            "marker": {
             "colorbar": {
              "outlinewidth": 0,
              "ticks": ""
             }
            },
            "type": "scatterpolargl"
           }
          ],
          "scatterternary": [
           {
            "marker": {
             "colorbar": {
              "outlinewidth": 0,
              "ticks": ""
             }
            },
            "type": "scatterternary"
           }
          ],
          "surface": [
           {
            "colorbar": {
             "outlinewidth": 0,
             "ticks": ""
            },
            "colorscale": [
             [
              0,
              "#0d0887"
             ],
             [
              0.1111111111111111,
              "#46039f"
             ],
             [
              0.2222222222222222,
              "#7201a8"
             ],
             [
              0.3333333333333333,
              "#9c179e"
             ],
             [
              0.4444444444444444,
              "#bd3786"
             ],
             [
              0.5555555555555556,
              "#d8576b"
             ],
             [
              0.6666666666666666,
              "#ed7953"
             ],
             [
              0.7777777777777778,
              "#fb9f3a"
             ],
             [
              0.8888888888888888,
              "#fdca26"
             ],
             [
              1,
              "#f0f921"
             ]
            ],
            "type": "surface"
           }
          ],
          "table": [
           {
            "cells": {
             "fill": {
              "color": "#EBF0F8"
             },
             "line": {
              "color": "white"
             }
            },
            "header": {
             "fill": {
              "color": "#C8D4E3"
             },
             "line": {
              "color": "white"
             }
            },
            "type": "table"
           }
          ]
         },
         "layout": {
          "annotationdefaults": {
           "arrowcolor": "#2a3f5f",
           "arrowhead": 0,
           "arrowwidth": 1
          },
          "autotypenumbers": "strict",
          "coloraxis": {
           "colorbar": {
            "outlinewidth": 0,
            "ticks": ""
           }
          },
          "colorscale": {
           "diverging": [
            [
             0,
             "#8e0152"
            ],
            [
             0.1,
             "#c51b7d"
            ],
            [
             0.2,
             "#de77ae"
            ],
            [
             0.3,
             "#f1b6da"
            ],
            [
             0.4,
             "#fde0ef"
            ],
            [
             0.5,
             "#f7f7f7"
            ],
            [
             0.6,
             "#e6f5d0"
            ],
            [
             0.7,
             "#b8e186"
            ],
            [
             0.8,
             "#7fbc41"
            ],
            [
             0.9,
             "#4d9221"
            ],
            [
             1,
             "#276419"
            ]
           ],
           "sequential": [
            [
             0,
             "#0d0887"
            ],
            [
             0.1111111111111111,
             "#46039f"
            ],
            [
             0.2222222222222222,
             "#7201a8"
            ],
            [
             0.3333333333333333,
             "#9c179e"
            ],
            [
             0.4444444444444444,
             "#bd3786"
            ],
            [
             0.5555555555555556,
             "#d8576b"
            ],
            [
             0.6666666666666666,
             "#ed7953"
            ],
            [
             0.7777777777777778,
             "#fb9f3a"
            ],
            [
             0.8888888888888888,
             "#fdca26"
            ],
            [
             1,
             "#f0f921"
            ]
           ],
           "sequentialminus": [
            [
             0,
             "#0d0887"
            ],
            [
             0.1111111111111111,
             "#46039f"
            ],
            [
             0.2222222222222222,
             "#7201a8"
            ],
            [
             0.3333333333333333,
             "#9c179e"
            ],
            [
             0.4444444444444444,
             "#bd3786"
            ],
            [
             0.5555555555555556,
             "#d8576b"
            ],
            [
             0.6666666666666666,
             "#ed7953"
            ],
            [
             0.7777777777777778,
             "#fb9f3a"
            ],
            [
             0.8888888888888888,
             "#fdca26"
            ],
            [
             1,
             "#f0f921"
            ]
           ]
          },
          "colorway": [
           "#636efa",
           "#EF553B",
           "#00cc96",
           "#ab63fa",
           "#FFA15A",
           "#19d3f3",
           "#FF6692",
           "#B6E880",
           "#FF97FF",
           "#FECB52"
          ],
          "font": {
           "color": "#2a3f5f"
          },
          "geo": {
           "bgcolor": "white",
           "lakecolor": "white",
           "landcolor": "#E5ECF6",
           "showlakes": true,
           "showland": true,
           "subunitcolor": "white"
          },
          "hoverlabel": {
           "align": "left"
          },
          "hovermode": "closest",
          "mapbox": {
           "style": "light"
          },
          "paper_bgcolor": "white",
          "plot_bgcolor": "#E5ECF6",
          "polar": {
           "angularaxis": {
            "gridcolor": "white",
            "linecolor": "white",
            "ticks": ""
           },
           "bgcolor": "#E5ECF6",
           "radialaxis": {
            "gridcolor": "white",
            "linecolor": "white",
            "ticks": ""
           }
          },
          "scene": {
           "xaxis": {
            "backgroundcolor": "#E5ECF6",
            "gridcolor": "white",
            "gridwidth": 2,
            "linecolor": "white",
            "showbackground": true,
            "ticks": "",
            "zerolinecolor": "white"
           },
           "yaxis": {
            "backgroundcolor": "#E5ECF6",
            "gridcolor": "white",
            "gridwidth": 2,
            "linecolor": "white",
            "showbackground": true,
            "ticks": "",
            "zerolinecolor": "white"
           },
           "zaxis": {
            "backgroundcolor": "#E5ECF6",
            "gridcolor": "white",
            "gridwidth": 2,
            "linecolor": "white",
            "showbackground": true,
            "ticks": "",
            "zerolinecolor": "white"
           }
          },
          "shapedefaults": {
           "line": {
            "color": "#2a3f5f"
           }
          },
          "ternary": {
           "aaxis": {
            "gridcolor": "white",
            "linecolor": "white",
            "ticks": ""
           },
           "baxis": {
            "gridcolor": "white",
            "linecolor": "white",
            "ticks": ""
           },
           "bgcolor": "#E5ECF6",
           "caxis": {
            "gridcolor": "white",
            "linecolor": "white",
            "ticks": ""
           }
          },
          "title": {
           "x": 0.05
          },
          "xaxis": {
           "automargin": true,
           "gridcolor": "white",
           "linecolor": "white",
           "ticks": "",
           "title": {
            "standoff": 15
           },
           "zerolinecolor": "white",
           "zerolinewidth": 2
          },
          "yaxis": {
           "automargin": true,
           "gridcolor": "white",
           "linecolor": "white",
           "ticks": "",
           "title": {
            "standoff": 15
           },
           "zerolinecolor": "white",
           "zerolinewidth": 2
          }
         }
        },
        "title": {
         "font": {
          "color": "#4D5663"
         }
        },
        "xaxis": {
         "gridcolor": "#E1E5ED",
         "showgrid": true,
         "tickfont": {
          "color": "#4D5663"
         },
         "title": {
          "font": {
           "color": "#4D5663"
          },
          "text": ""
         },
         "zerolinecolor": "#E1E5ED"
        },
        "yaxis": {
         "gridcolor": "#E1E5ED",
         "showgrid": true,
         "tickfont": {
          "color": "#4D5663"
         },
         "title": {
          "font": {
           "color": "#4D5663"
          },
          "text": ""
         },
         "zerolinecolor": "#E1E5ED"
        }
       }
      },
      "text/html": [
       "<div>                            <div id=\"bc498199-eb58-400e-a6b7-25cd80ff3975\" class=\"plotly-graph-div\" style=\"height:525px; width:100%;\"></div>            <script type=\"text/javascript\">                require([\"plotly\"], function(Plotly) {                    window.PLOTLYENV=window.PLOTLYENV || {};\n",
       "                    window.PLOTLYENV.BASE_URL='https://plot.ly';                                    if (document.getElementById(\"bc498199-eb58-400e-a6b7-25cd80ff3975\")) {                    Plotly.newPlot(                        \"bc498199-eb58-400e-a6b7-25cd80ff3975\",                        [{\"histfunc\":\"count\",\"histnorm\":\"\",\"marker\":{\"color\":\"rgba(255, 153, 51, 1.0)\",\"line\":{\"color\":\"#4D5663\",\"width\":1.3}},\"name\":\"A\",\"nbinsx\":25,\"opacity\":0.8,\"orientation\":\"v\",\"x\":[-2.0245678545620653,-0.70000967402194,0.4923011266211667,-0.1721337617162361,0.1300772047032601,-0.8333704434524496,0.34121462467065816,0.9677726356756655,1.0120891924486815,1.2232183702754578,-0.8427421789582358,0.18819096793209314,-1.6095005021892217,0.41339125775669555,-0.8948518562686107,-0.1843957684237995,1.6860920350330262,1.7966629201710838,0.7059434946092662,-0.4638431276336962,0.8335385969736977,-0.7338353757187845,0.29198786778577684,0.7621576857108744,-1.2797389810464925,1.0297527504257031,0.9625278654239828,-1.7851418437008166,-1.0954108369089715,-2.8084934964522676,1.3198883643750479,0.39999831444598893,-1.141518084638812,-0.553833400359158,-0.5021357042202531,-1.7747620990430988,-0.7471339649507993,-1.680236866891475,0.16800536415649148,0.9624777623645401,0.7327131001167891,0.8596062243117514,0.9170009008811542,-0.8909419630348943,0.2427255664521905,-0.6065451458740814,0.2482809249447097,-1.8535909031151525,-0.09750333812372164,-0.8798749960318651,0.217800590401041,0.8029760466725708,0.6653151750366897,-0.3084497006647018,0.36768824082733653,-0.3339365462425808,0.13868616976000864,-0.714301240067701,0.5588471774554243,0.0069681037932292815,0.2403401185362488,0.47347545555015974,-1.1164580146104586,-1.3765949888678477,0.21828959853628632,0.2983118598338089,1.4624051256412518,-1.294335785990532,-1.1891868148706493,0.4480021923135863,0.12578697802044325,0.5113765435650498,0.1285909603816634,-0.6806646507469855,-0.28554355498000167,1.8309719250363772,-0.7378615237977918,0.8487554269717219,-0.22845770363282245,-1.3198777526010914,-1.7164357576246156,-0.8565176465067136,1.5973041294004924,1.2230412199308058,-0.7866323189888544,-1.3609919026164312,0.06459817804490998,0.921998675958377,2.1608332100400616,-0.44158263770700196,0.16697383520246797,0.15215444987588211,0.32083154833677463,-0.4768739422051255,0.15539672302809196,0.5132262797726742,0.5812646979598842,0.3999652636768709,-0.2552657391538536,0.09731861511588642],\"type\":\"histogram\"},{\"histfunc\":\"count\",\"histnorm\":\"\",\"marker\":{\"color\":\"rgba(55, 128, 191, 1.0)\",\"line\":{\"color\":\"#4D5663\",\"width\":1.3}},\"name\":\"B\",\"nbinsx\":25,\"opacity\":0.8,\"orientation\":\"v\",\"x\":[-0.6382408485860838,-0.26445161392310296,-0.23213667337437718,0.5180176758815382,-1.1248049522097245,-0.380272960362963,-0.2932209551832816,-0.2983349399546075,0.8352757748805898,0.19767795485653444,-0.25848078585870043,0.6572601167502129,0.4792315672286233,-0.7297409216849485,0.4046424846202565,1.2968971276167458,0.13935965106348322,-0.6594484341435785,-0.02418590218582255,-2.5239897567978575,1.5346822177409631,-0.044687567248630725,1.6231383581412073,0.40026551057354326,-1.346220027753875,0.16491814429374466,0.9065722606320102,0.6700483963411383,-0.05104018162539486,1.1707146916736622,0.27196909622293,-0.823741868413821,-1.071654380390136,1.611845565479155,-0.6358684090521775,0.12088690562135754,-0.4238076744306274,0.30761109667202036,0.10090276567627783,-0.934825817248883,-0.11477621970946751,-0.25626272220601465,-2.2618111698047243,0.47059504469409547,0.3384630374158783,1.1429078856709527,1.039266887625021,-0.9967830206402708,-0.6202045714826442,0.22079305993745846,0.9115135718961257,-1.2122517475675738,1.0560300708411399,-1.9090176950054356,2.028179416010953,0.2831970755448901,0.6241028603371211,1.0407268957495415,-0.26224266816482766,0.5298657981252108,-2.0965098648132012,1.5130229822141446,-1.7078071537312842,-0.2720326625194213,1.5419814719954992,-0.3403798338394972,-0.2607484877893845,1.613613022678893,0.015346417608684809,0.8193595059346083,0.28400196804539557,0.23640271970560556,0.9643162048376709,-0.604459368826204,-1.2825284995959614,-0.3851992746376785,-0.2698997452038915,-0.1806119563245644,0.03316776563581451,-0.2064180896765948,0.5557810546207436,-0.9395511240801336,-0.3738586334196706,0.719627463803325,-1.1552010934966621,0.18725547161413295,-1.8598061078955381,-0.31999462379920496,-1.8573069884412665,0.5833843253960496,0.7005904412031791,-0.592374288827152,-0.32071254126644355,0.7437217160339742,-0.6523371315325809,-0.14606736635054363,-1.0609890385279603,-1.397175646717783,-0.4182909179317061,1.3303804152695233],\"type\":\"histogram\"},{\"histfunc\":\"count\",\"histnorm\":\"\",\"marker\":{\"color\":\"rgba(50, 171, 96, 1.0)\",\"line\":{\"color\":\"#4D5663\",\"width\":1.3}},\"name\":\"C\",\"nbinsx\":25,\"opacity\":0.8,\"orientation\":\"v\",\"x\":[-0.224893079246173,1.2503815642723262,-0.009751551125147586,0.16527703916918052,-0.3745090835527552,0.515662283296908,1.0547154138277266,-0.22067757188991727,-0.6498584802383204,-2.07908895587237,2.1403465577961116,1.6445158565680038,-1.0175955610791787,-0.17251980686788723,-0.19414925926115856,0.9311926054750844,0.24273553610203655,-0.8953402123461103,-0.3387964991908508,0.36389088884917165,0.4405868040137417,-0.21012156100866447,-2.788900751431851,1.198143626275225,-0.4127880365061836,-0.238621684631133,0.4371715805619799,1.256886884011327,-0.060193643202252595,0.3059995769855611,-0.4158291391773987,2.1475559417541734,-0.6243802744709012,0.5817247352369509,0.39266255814740997,0.5649256027013886,0.8061396519459106,0.6195039399742812,0.02177467231854164,-1.319899574991042,-0.3356450667412887,0.03748262752761676,0.21357396085531327,0.1224416437776951,-0.2197873964063419,-1.0600124514378158,-0.3345568122382559,-0.5769051564609712,2.8592353822054193,0.9402264092354687,1.1170894271622458,1.1025825408160912,1.4589599777641047,-0.00559822897158635,0.649167046273083,0.5962648454476672,2.1015783595893724,-1.0004967709798152,-0.794419492093333,0.8507876014851588,-0.43312010038274834,-0.25549192361797196,0.3408418093354243,-1.3140065306556812,-0.892627715873621,0.2800577801511644,-1.8190732690240992,0.7071155509495465,-1.2699887648430062,1.1691192931392227,0.11665823912731504,-0.5073035259374067,-1.0932263125943875,0.20275177216827314,-0.11142118650757836,0.02910736140493556,0.9342531709146351,0.16746231525434202,-0.4608568591137009,-0.3901894838095558,0.6092957626506681,-0.5557513480847908,-0.21909070450172796,-0.537747844859767,-0.672824530162349,2.6124495827756866,1.6013530267662324,-0.10470803359208224,-0.48551242090787217,-0.36798474127000314,0.4582902064494334,1.2426685607553631,1.1506367383501355,-0.48916011980898466,-2.311296255514442,1.1525036060530027,0.18302057139365044,-0.13978553105887837,-0.04229289544270978,0.04282490464750087],\"type\":\"histogram\"},{\"histfunc\":\"count\",\"histnorm\":\"\",\"marker\":{\"color\":\"rgba(128, 0, 128, 1.0)\",\"line\":{\"color\":\"#4D5663\",\"width\":1.3}},\"name\":\"D\",\"nbinsx\":25,\"opacity\":0.8,\"orientation\":\"v\",\"x\":[1.298015485089696,-0.23339096447922594,1.1037728080136389,0.19806209294100593,2.549860056192145,-0.9061470055249541,-1.6191346355086136,-0.6402695199792406,0.5301304795188629,0.10826973860060203,-0.03096417152728443,-1.333260776229409,-0.5106018658222338,-1.2602161142365913,1.0541069690486944,-0.5360890299819138,1.2919783215192175,-0.06548767963927178,1.292524371037477,0.4704853470988679,-0.01271146868624112,-1.6469302468272102,-0.48917579782210724,0.37733382079878897,-1.1976258256123749,0.20879853261299658,0.2444678967514823,0.16870241860798135,1.6006255420901228,-0.028579174827799286,1.3256317621847986,-1.3605698101646098,0.8195467855949271,-0.9808516343193202,-0.6390064981962895,-1.245203809566456,0.4337270017046839,1.234528835493931,-0.4104457369366574,0.5665420894986996,-0.7449291411997484,-1.2267447902634088,1.1227345594966862,-0.12979808400976459,-0.6269374526327316,0.292703498655163,0.6257393332073456,0.45996788432615043,0.5043667581526481,2.237293213159649,-1.4060039933788429,0.1788743528339559,-1.134521652233473,-0.015399492226502463,-0.9684748530238916,-1.4820224914118059,0.1715902804964764,-0.42039750746697546,0.8498256250305002,-0.2453748541806391,-0.8775939924189635,-2.9231849271662522,-0.9748902362208998,0.20637640117167275,0.5947071928430647,-0.30435577684235404,-2.1039353759161292,1.115513771005786,-0.5120600168812814,-2.075411098303332,2.253424939189268,0.7288262548169948,-0.7438074474356711,1.4919452591038689,1.3918176520913537,0.23639510290963997,-2.294323561421982,1.5561353538714506,-1.1615335890268663,-0.6852963592356053,0.08255655206476742,-1.6276212209267913,1.5138596525635728,0.3988950310224964,-0.5596997640137246,0.8127648867817936,-0.9090456772154684,-0.2023741303876413,-1.0759692892756814,-1.0116840652689627,-0.5956950303753511,0.6474080682588678,0.7648410756169055,1.5983143212427664,-1.2084704597596465,-1.187085251520976,-0.7207177114828895,-1.1365632858321943,1.1963260943489973,-1.9694894606706348],\"type\":\"histogram\"}],                        {\"barmode\":\"overlay\",\"legend\":{\"bgcolor\":\"#F5F6F9\",\"font\":{\"color\":\"#4D5663\"}},\"paper_bgcolor\":\"#F5F6F9\",\"plot_bgcolor\":\"#F5F6F9\",\"template\":{\"data\":{\"barpolar\":[{\"marker\":{\"line\":{\"color\":\"#E5ECF6\",\"width\":0.5},\"pattern\":{\"fillmode\":\"overlay\",\"size\":10,\"solidity\":0.2}},\"type\":\"barpolar\"}],\"bar\":[{\"error_x\":{\"color\":\"#2a3f5f\"},\"error_y\":{\"color\":\"#2a3f5f\"},\"marker\":{\"line\":{\"color\":\"#E5ECF6\",\"width\":0.5},\"pattern\":{\"fillmode\":\"overlay\",\"size\":10,\"solidity\":0.2}},\"type\":\"bar\"}],\"carpet\":[{\"aaxis\":{\"endlinecolor\":\"#2a3f5f\",\"gridcolor\":\"white\",\"linecolor\":\"white\",\"minorgridcolor\":\"white\",\"startlinecolor\":\"#2a3f5f\"},\"baxis\":{\"endlinecolor\":\"#2a3f5f\",\"gridcolor\":\"white\",\"linecolor\":\"white\",\"minorgridcolor\":\"white\",\"startlinecolor\":\"#2a3f5f\"},\"type\":\"carpet\"}],\"choropleth\":[{\"colorbar\":{\"outlinewidth\":0,\"ticks\":\"\"},\"type\":\"choropleth\"}],\"contourcarpet\":[{\"colorbar\":{\"outlinewidth\":0,\"ticks\":\"\"},\"type\":\"contourcarpet\"}],\"contour\":[{\"colorbar\":{\"outlinewidth\":0,\"ticks\":\"\"},\"colorscale\":[[0.0,\"#0d0887\"],[0.1111111111111111,\"#46039f\"],[0.2222222222222222,\"#7201a8\"],[0.3333333333333333,\"#9c179e\"],[0.4444444444444444,\"#bd3786\"],[0.5555555555555556,\"#d8576b\"],[0.6666666666666666,\"#ed7953\"],[0.7777777777777778,\"#fb9f3a\"],[0.8888888888888888,\"#fdca26\"],[1.0,\"#f0f921\"]],\"type\":\"contour\"}],\"heatmapgl\":[{\"colorbar\":{\"outlinewidth\":0,\"ticks\":\"\"},\"colorscale\":[[0.0,\"#0d0887\"],[0.1111111111111111,\"#46039f\"],[0.2222222222222222,\"#7201a8\"],[0.3333333333333333,\"#9c179e\"],[0.4444444444444444,\"#bd3786\"],[0.5555555555555556,\"#d8576b\"],[0.6666666666666666,\"#ed7953\"],[0.7777777777777778,\"#fb9f3a\"],[0.8888888888888888,\"#fdca26\"],[1.0,\"#f0f921\"]],\"type\":\"heatmapgl\"}],\"heatmap\":[{\"colorbar\":{\"outlinewidth\":0,\"ticks\":\"\"},\"colorscale\":[[0.0,\"#0d0887\"],[0.1111111111111111,\"#46039f\"],[0.2222222222222222,\"#7201a8\"],[0.3333333333333333,\"#9c179e\"],[0.4444444444444444,\"#bd3786\"],[0.5555555555555556,\"#d8576b\"],[0.6666666666666666,\"#ed7953\"],[0.7777777777777778,\"#fb9f3a\"],[0.8888888888888888,\"#fdca26\"],[1.0,\"#f0f921\"]],\"type\":\"heatmap\"}],\"histogram2dcontour\":[{\"colorbar\":{\"outlinewidth\":0,\"ticks\":\"\"},\"colorscale\":[[0.0,\"#0d0887\"],[0.1111111111111111,\"#46039f\"],[0.2222222222222222,\"#7201a8\"],[0.3333333333333333,\"#9c179e\"],[0.4444444444444444,\"#bd3786\"],[0.5555555555555556,\"#d8576b\"],[0.6666666666666666,\"#ed7953\"],[0.7777777777777778,\"#fb9f3a\"],[0.8888888888888888,\"#fdca26\"],[1.0,\"#f0f921\"]],\"type\":\"histogram2dcontour\"}],\"histogram2d\":[{\"colorbar\":{\"outlinewidth\":0,\"ticks\":\"\"},\"colorscale\":[[0.0,\"#0d0887\"],[0.1111111111111111,\"#46039f\"],[0.2222222222222222,\"#7201a8\"],[0.3333333333333333,\"#9c179e\"],[0.4444444444444444,\"#bd3786\"],[0.5555555555555556,\"#d8576b\"],[0.6666666666666666,\"#ed7953\"],[0.7777777777777778,\"#fb9f3a\"],[0.8888888888888888,\"#fdca26\"],[1.0,\"#f0f921\"]],\"type\":\"histogram2d\"}],\"histogram\":[{\"marker\":{\"pattern\":{\"fillmode\":\"overlay\",\"size\":10,\"solidity\":0.2}},\"type\":\"histogram\"}],\"mesh3d\":[{\"colorbar\":{\"outlinewidth\":0,\"ticks\":\"\"},\"type\":\"mesh3d\"}],\"parcoords\":[{\"line\":{\"colorbar\":{\"outlinewidth\":0,\"ticks\":\"\"}},\"type\":\"parcoords\"}],\"pie\":[{\"automargin\":true,\"type\":\"pie\"}],\"scatter3d\":[{\"line\":{\"colorbar\":{\"outlinewidth\":0,\"ticks\":\"\"}},\"marker\":{\"colorbar\":{\"outlinewidth\":0,\"ticks\":\"\"}},\"type\":\"scatter3d\"}],\"scattercarpet\":[{\"marker\":{\"colorbar\":{\"outlinewidth\":0,\"ticks\":\"\"}},\"type\":\"scattercarpet\"}],\"scattergeo\":[{\"marker\":{\"colorbar\":{\"outlinewidth\":0,\"ticks\":\"\"}},\"type\":\"scattergeo\"}],\"scattergl\":[{\"marker\":{\"colorbar\":{\"outlinewidth\":0,\"ticks\":\"\"}},\"type\":\"scattergl\"}],\"scattermapbox\":[{\"marker\":{\"colorbar\":{\"outlinewidth\":0,\"ticks\":\"\"}},\"type\":\"scattermapbox\"}],\"scatterpolargl\":[{\"marker\":{\"colorbar\":{\"outlinewidth\":0,\"ticks\":\"\"}},\"type\":\"scatterpolargl\"}],\"scatterpolar\":[{\"marker\":{\"colorbar\":{\"outlinewidth\":0,\"ticks\":\"\"}},\"type\":\"scatterpolar\"}],\"scatter\":[{\"fillpattern\":{\"fillmode\":\"overlay\",\"size\":10,\"solidity\":0.2},\"type\":\"scatter\"}],\"scatterternary\":[{\"marker\":{\"colorbar\":{\"outlinewidth\":0,\"ticks\":\"\"}},\"type\":\"scatterternary\"}],\"surface\":[{\"colorbar\":{\"outlinewidth\":0,\"ticks\":\"\"},\"colorscale\":[[0.0,\"#0d0887\"],[0.1111111111111111,\"#46039f\"],[0.2222222222222222,\"#7201a8\"],[0.3333333333333333,\"#9c179e\"],[0.4444444444444444,\"#bd3786\"],[0.5555555555555556,\"#d8576b\"],[0.6666666666666666,\"#ed7953\"],[0.7777777777777778,\"#fb9f3a\"],[0.8888888888888888,\"#fdca26\"],[1.0,\"#f0f921\"]],\"type\":\"surface\"}],\"table\":[{\"cells\":{\"fill\":{\"color\":\"#EBF0F8\"},\"line\":{\"color\":\"white\"}},\"header\":{\"fill\":{\"color\":\"#C8D4E3\"},\"line\":{\"color\":\"white\"}},\"type\":\"table\"}]},\"layout\":{\"annotationdefaults\":{\"arrowcolor\":\"#2a3f5f\",\"arrowhead\":0,\"arrowwidth\":1},\"autotypenumbers\":\"strict\",\"coloraxis\":{\"colorbar\":{\"outlinewidth\":0,\"ticks\":\"\"}},\"colorscale\":{\"diverging\":[[0,\"#8e0152\"],[0.1,\"#c51b7d\"],[0.2,\"#de77ae\"],[0.3,\"#f1b6da\"],[0.4,\"#fde0ef\"],[0.5,\"#f7f7f7\"],[0.6,\"#e6f5d0\"],[0.7,\"#b8e186\"],[0.8,\"#7fbc41\"],[0.9,\"#4d9221\"],[1,\"#276419\"]],\"sequential\":[[0.0,\"#0d0887\"],[0.1111111111111111,\"#46039f\"],[0.2222222222222222,\"#7201a8\"],[0.3333333333333333,\"#9c179e\"],[0.4444444444444444,\"#bd3786\"],[0.5555555555555556,\"#d8576b\"],[0.6666666666666666,\"#ed7953\"],[0.7777777777777778,\"#fb9f3a\"],[0.8888888888888888,\"#fdca26\"],[1.0,\"#f0f921\"]],\"sequentialminus\":[[0.0,\"#0d0887\"],[0.1111111111111111,\"#46039f\"],[0.2222222222222222,\"#7201a8\"],[0.3333333333333333,\"#9c179e\"],[0.4444444444444444,\"#bd3786\"],[0.5555555555555556,\"#d8576b\"],[0.6666666666666666,\"#ed7953\"],[0.7777777777777778,\"#fb9f3a\"],[0.8888888888888888,\"#fdca26\"],[1.0,\"#f0f921\"]]},\"colorway\":[\"#636efa\",\"#EF553B\",\"#00cc96\",\"#ab63fa\",\"#FFA15A\",\"#19d3f3\",\"#FF6692\",\"#B6E880\",\"#FF97FF\",\"#FECB52\"],\"font\":{\"color\":\"#2a3f5f\"},\"geo\":{\"bgcolor\":\"white\",\"lakecolor\":\"white\",\"landcolor\":\"#E5ECF6\",\"showlakes\":true,\"showland\":true,\"subunitcolor\":\"white\"},\"hoverlabel\":{\"align\":\"left\"},\"hovermode\":\"closest\",\"mapbox\":{\"style\":\"light\"},\"paper_bgcolor\":\"white\",\"plot_bgcolor\":\"#E5ECF6\",\"polar\":{\"angularaxis\":{\"gridcolor\":\"white\",\"linecolor\":\"white\",\"ticks\":\"\"},\"bgcolor\":\"#E5ECF6\",\"radialaxis\":{\"gridcolor\":\"white\",\"linecolor\":\"white\",\"ticks\":\"\"}},\"scene\":{\"xaxis\":{\"backgroundcolor\":\"#E5ECF6\",\"gridcolor\":\"white\",\"gridwidth\":2,\"linecolor\":\"white\",\"showbackground\":true,\"ticks\":\"\",\"zerolinecolor\":\"white\"},\"yaxis\":{\"backgroundcolor\":\"#E5ECF6\",\"gridcolor\":\"white\",\"gridwidth\":2,\"linecolor\":\"white\",\"showbackground\":true,\"ticks\":\"\",\"zerolinecolor\":\"white\"},\"zaxis\":{\"backgroundcolor\":\"#E5ECF6\",\"gridcolor\":\"white\",\"gridwidth\":2,\"linecolor\":\"white\",\"showbackground\":true,\"ticks\":\"\",\"zerolinecolor\":\"white\"}},\"shapedefaults\":{\"line\":{\"color\":\"#2a3f5f\"}},\"ternary\":{\"aaxis\":{\"gridcolor\":\"white\",\"linecolor\":\"white\",\"ticks\":\"\"},\"baxis\":{\"gridcolor\":\"white\",\"linecolor\":\"white\",\"ticks\":\"\"},\"bgcolor\":\"#E5ECF6\",\"caxis\":{\"gridcolor\":\"white\",\"linecolor\":\"white\",\"ticks\":\"\"}},\"title\":{\"x\":0.05},\"xaxis\":{\"automargin\":true,\"gridcolor\":\"white\",\"linecolor\":\"white\",\"ticks\":\"\",\"title\":{\"standoff\":15},\"zerolinecolor\":\"white\",\"zerolinewidth\":2},\"yaxis\":{\"automargin\":true,\"gridcolor\":\"white\",\"linecolor\":\"white\",\"ticks\":\"\",\"title\":{\"standoff\":15},\"zerolinecolor\":\"white\",\"zerolinewidth\":2}}},\"title\":{\"font\":{\"color\":\"#4D5663\"}},\"xaxis\":{\"gridcolor\":\"#E1E5ED\",\"showgrid\":true,\"tickfont\":{\"color\":\"#4D5663\"},\"title\":{\"font\":{\"color\":\"#4D5663\"},\"text\":\"\"},\"zerolinecolor\":\"#E1E5ED\"},\"yaxis\":{\"gridcolor\":\"#E1E5ED\",\"showgrid\":true,\"tickfont\":{\"color\":\"#4D5663\"},\"title\":{\"font\":{\"color\":\"#4D5663\"},\"text\":\"\"},\"zerolinecolor\":\"#E1E5ED\"}},                        {\"showLink\": true, \"linkText\": \"Export to plot.ly\", \"plotlyServerURL\": \"https://plot.ly\", \"responsive\": true}                    ).then(function(){\n",
       "                            \n",
       "var gd = document.getElementById('bc498199-eb58-400e-a6b7-25cd80ff3975');\n",
       "var x = new MutationObserver(function (mutations, observer) {{\n",
       "        var display = window.getComputedStyle(gd).display;\n",
       "        if (!display || display === 'none') {{\n",
       "            console.log([gd, 'removed!']);\n",
       "            Plotly.purge(gd);\n",
       "            observer.disconnect();\n",
       "        }}\n",
       "}});\n",
       "\n",
       "// Listen for the removal of the full notebook cells\n",
       "var notebookContainer = gd.closest('#notebook-container');\n",
       "if (notebookContainer) {{\n",
       "    x.observe(notebookContainer, {childList: true});\n",
       "}}\n",
       "\n",
       "// Listen for the clearing of the current output cell\n",
       "var outputEl = gd.closest('.output');\n",
       "if (outputEl) {{\n",
       "    x.observe(outputEl, {childList: true});\n",
       "}}\n",
       "\n",
       "                        })                };                });            </script>        </div>"
      ]
     },
     "metadata": {},
     "output_type": "display_data"
    }
   ],
   "source": [
    "df.iplot(kind='hist',bins=25)"
   ]
  },
  {
   "cell_type": "code",
   "execution_count": 75,
   "id": "abd64106",
   "metadata": {},
   "outputs": [
    {
     "name": "stderr",
     "output_type": "stream",
     "text": [
      "/Users/conkey/anaconda3/lib/python3.10/site-packages/cufflinks/plotlytools.py:849: FutureWarning:\n",
      "\n",
      "The pandas.np module is deprecated and will be removed from pandas in a future version. Import numpy directly instead.\n",
      "\n",
      "/Users/conkey/anaconda3/lib/python3.10/site-packages/cufflinks/plotlytools.py:850: FutureWarning:\n",
      "\n",
      "The pandas.np module is deprecated and will be removed from pandas in a future version. Import numpy directly instead.\n",
      "\n"
     ]
    },
    {
     "data": {
      "application/vnd.plotly.v1+json": {
       "config": {
        "linkText": "Export to plot.ly",
        "plotlyServerURL": "https://plot.ly",
        "showLink": true
       },
       "data": [
        {
         "line": {
          "color": "rgba(255, 153, 51, 1.0)",
          "dash": "solid",
          "shape": "linear",
          "width": 1.3
         },
         "mode": "lines",
         "name": "A",
         "text": "",
         "type": "scatter",
         "x": [
          0,
          1,
          2,
          3,
          4,
          5,
          6,
          7,
          8,
          9,
          10,
          11,
          12,
          13,
          14,
          15,
          16,
          17,
          18,
          19,
          20,
          21,
          22,
          23,
          24,
          25,
          26,
          27,
          28,
          29,
          30,
          31,
          32,
          33,
          34,
          35,
          36,
          37,
          38,
          39,
          40,
          41,
          42,
          43,
          44,
          45,
          46,
          47,
          48,
          49,
          50,
          51,
          52,
          53,
          54,
          55,
          56,
          57,
          58,
          59,
          60,
          61,
          62,
          63,
          64,
          65,
          66,
          67,
          68,
          69,
          70,
          71,
          72,
          73,
          74,
          75,
          76,
          77,
          78,
          79,
          80,
          81,
          82,
          83,
          84,
          85,
          86,
          87,
          88,
          89,
          90,
          91,
          92,
          93,
          94,
          95,
          96,
          97,
          98,
          99
         ],
         "y": [
          -2.0245678545620653,
          -0.70000967402194,
          0.4923011266211667,
          -0.1721337617162361,
          0.1300772047032601,
          -0.8333704434524496,
          0.34121462467065816,
          0.9677726356756655,
          1.0120891924486815,
          1.2232183702754578,
          -0.8427421789582358,
          0.18819096793209314,
          -1.6095005021892217,
          0.41339125775669555,
          -0.8948518562686107,
          -0.1843957684237995,
          1.6860920350330262,
          1.7966629201710838,
          0.7059434946092662,
          -0.4638431276336962,
          0.8335385969736977,
          -0.7338353757187845,
          0.29198786778577684,
          0.7621576857108744,
          -1.2797389810464925,
          1.0297527504257031,
          0.9625278654239828,
          -1.7851418437008166,
          -1.0954108369089715,
          -2.8084934964522676,
          1.3198883643750479,
          0.39999831444598893,
          -1.141518084638812,
          -0.553833400359158,
          -0.5021357042202531,
          -1.7747620990430988,
          -0.7471339649507993,
          -1.680236866891475,
          0.16800536415649148,
          0.9624777623645401,
          0.7327131001167891,
          0.8596062243117514,
          0.9170009008811542,
          -0.8909419630348943,
          0.2427255664521905,
          -0.6065451458740814,
          0.2482809249447097,
          -1.8535909031151525,
          -0.09750333812372164,
          -0.8798749960318651,
          0.217800590401041,
          0.8029760466725708,
          0.6653151750366897,
          -0.3084497006647018,
          0.36768824082733653,
          -0.3339365462425808,
          0.13868616976000864,
          -0.714301240067701,
          0.5588471774554243,
          0.0069681037932292815,
          0.2403401185362488,
          0.47347545555015974,
          -1.1164580146104586,
          -1.3765949888678477,
          0.21828959853628632,
          0.2983118598338089,
          1.4624051256412518,
          -1.294335785990532,
          -1.1891868148706493,
          0.4480021923135863,
          0.12578697802044325,
          0.5113765435650498,
          0.1285909603816634,
          -0.6806646507469855,
          -0.28554355498000167,
          1.8309719250363772,
          -0.7378615237977918,
          0.8487554269717219,
          -0.22845770363282245,
          -1.3198777526010914,
          -1.7164357576246156,
          -0.8565176465067136,
          1.5973041294004924,
          1.2230412199308058,
          -0.7866323189888544,
          -1.3609919026164312,
          0.06459817804490998,
          0.921998675958377,
          2.1608332100400616,
          -0.44158263770700196,
          0.16697383520246797,
          0.15215444987588211,
          0.32083154833677463,
          -0.4768739422051255,
          0.15539672302809196,
          0.5132262797726742,
          0.5812646979598842,
          0.3999652636768709,
          -0.2552657391538536,
          0.09731861511588642
         ]
        },
        {
         "line": {
          "color": "rgba(55, 128, 191, 1.0)",
          "dash": "solid",
          "shape": "linear",
          "width": 1.3
         },
         "mode": "lines",
         "name": "B",
         "text": "",
         "type": "scatter",
         "x": [
          0,
          1,
          2,
          3,
          4,
          5,
          6,
          7,
          8,
          9,
          10,
          11,
          12,
          13,
          14,
          15,
          16,
          17,
          18,
          19,
          20,
          21,
          22,
          23,
          24,
          25,
          26,
          27,
          28,
          29,
          30,
          31,
          32,
          33,
          34,
          35,
          36,
          37,
          38,
          39,
          40,
          41,
          42,
          43,
          44,
          45,
          46,
          47,
          48,
          49,
          50,
          51,
          52,
          53,
          54,
          55,
          56,
          57,
          58,
          59,
          60,
          61,
          62,
          63,
          64,
          65,
          66,
          67,
          68,
          69,
          70,
          71,
          72,
          73,
          74,
          75,
          76,
          77,
          78,
          79,
          80,
          81,
          82,
          83,
          84,
          85,
          86,
          87,
          88,
          89,
          90,
          91,
          92,
          93,
          94,
          95,
          96,
          97,
          98,
          99
         ],
         "y": [
          -0.6382408485860838,
          -0.26445161392310296,
          -0.23213667337437718,
          0.5180176758815382,
          -1.1248049522097245,
          -0.380272960362963,
          -0.2932209551832816,
          -0.2983349399546075,
          0.8352757748805898,
          0.19767795485653444,
          -0.25848078585870043,
          0.6572601167502129,
          0.4792315672286233,
          -0.7297409216849485,
          0.4046424846202565,
          1.2968971276167458,
          0.13935965106348322,
          -0.6594484341435785,
          -0.02418590218582255,
          -2.5239897567978575,
          1.5346822177409631,
          -0.044687567248630725,
          1.6231383581412073,
          0.40026551057354326,
          -1.346220027753875,
          0.16491814429374466,
          0.9065722606320102,
          0.6700483963411383,
          -0.05104018162539486,
          1.1707146916736622,
          0.27196909622293,
          -0.823741868413821,
          -1.071654380390136,
          1.611845565479155,
          -0.6358684090521775,
          0.12088690562135754,
          -0.4238076744306274,
          0.30761109667202036,
          0.10090276567627783,
          -0.934825817248883,
          -0.11477621970946751,
          -0.25626272220601465,
          -2.2618111698047243,
          0.47059504469409547,
          0.3384630374158783,
          1.1429078856709527,
          1.039266887625021,
          -0.9967830206402708,
          -0.6202045714826442,
          0.22079305993745846,
          0.9115135718961257,
          -1.2122517475675738,
          1.0560300708411399,
          -1.9090176950054356,
          2.028179416010953,
          0.2831970755448901,
          0.6241028603371211,
          1.0407268957495415,
          -0.26224266816482766,
          0.5298657981252108,
          -2.0965098648132012,
          1.5130229822141446,
          -1.7078071537312842,
          -0.2720326625194213,
          1.5419814719954992,
          -0.3403798338394972,
          -0.2607484877893845,
          1.613613022678893,
          0.015346417608684809,
          0.8193595059346083,
          0.28400196804539557,
          0.23640271970560556,
          0.9643162048376709,
          -0.604459368826204,
          -1.2825284995959614,
          -0.3851992746376785,
          -0.2698997452038915,
          -0.1806119563245644,
          0.03316776563581451,
          -0.2064180896765948,
          0.5557810546207436,
          -0.9395511240801336,
          -0.3738586334196706,
          0.719627463803325,
          -1.1552010934966621,
          0.18725547161413295,
          -1.8598061078955381,
          -0.31999462379920496,
          -1.8573069884412665,
          0.5833843253960496,
          0.7005904412031791,
          -0.592374288827152,
          -0.32071254126644355,
          0.7437217160339742,
          -0.6523371315325809,
          -0.14606736635054363,
          -1.0609890385279603,
          -1.397175646717783,
          -0.4182909179317061,
          1.3303804152695233
         ]
        },
        {
         "connectgaps": false,
         "fill": "tozeroy",
         "line": {
          "color": "green",
          "dash": "solid",
          "shape": "linear",
          "width": 0.5
         },
         "mode": "lines",
         "name": "Spread",
         "showlegend": false,
         "type": "scatter",
         "x": [
          0,
          1,
          2,
          3,
          4,
          5,
          6,
          7,
          8,
          9,
          10,
          11,
          12,
          13,
          14,
          15,
          16,
          17,
          18,
          19,
          20,
          21,
          22,
          23,
          24,
          25,
          26,
          27,
          28,
          29,
          30,
          31,
          32,
          33,
          34,
          35,
          36,
          37,
          38,
          39,
          40,
          41,
          42,
          43,
          44,
          45,
          46,
          47,
          48,
          49,
          50,
          51,
          52,
          53,
          54,
          55,
          56,
          57,
          58,
          59,
          60,
          61,
          62,
          63,
          64,
          65,
          66,
          67,
          68,
          69,
          70,
          71,
          72,
          73,
          74,
          75,
          76,
          77,
          78,
          79,
          80,
          81,
          82,
          83,
          84,
          85,
          86,
          87,
          88,
          89,
          90,
          91,
          92,
          93,
          94,
          95,
          96,
          97,
          98,
          99
         ],
         "xaxis": "x2",
         "y": [
          "",
          "",
          0.7244377999955439,
          "",
          1.2548821569129847,
          "",
          0.6344355798539398,
          1.266107575630273,
          0.17681341756809166,
          1.0255404154189234,
          "",
          "",
          "",
          1.143132179441644,
          "",
          "",
          1.546732383969543,
          2.456111354314662,
          0.7301293967950887,
          2.0601466291641612,
          "",
          "",
          "",
          0.36189217513733113,
          0.06648104670738242,
          0.8648346061319585,
          0.05595560479197259,
          "",
          "",
          "",
          1.0479192681521179,
          1.22374018285981,
          "",
          "",
          0.13373270483192434,
          "",
          "",
          "",
          0.06710259848021365,
          1.897303579613423,
          0.8474893198262566,
          1.115868946517766,
          3.1788120706858782,
          "",
          "",
          "",
          "",
          "",
          0.5227012333589225,
          "",
          "",
          2.0152277942401446,
          "",
          1.6005679943407338,
          "",
          "",
          "",
          "",
          0.821089845620252,
          "",
          2.33684998334945,
          "",
          0.5913491391208257,
          "",
          "",
          0.6386916936733061,
          1.7231536134306362,
          "",
          "",
          "",
          "",
          0.27497382385944424,
          "",
          "",
          0.9969849446159598,
          2.2161711996740556,
          "",
          1.0293673832962864,
          "",
          "",
          "",
          0.08303347757342006,
          1.9711627628201631,
          0.5034137561274808,
          0.3685687745078077,
          "",
          1.9244042859404482,
          1.241993299757582,
          4.018140198481328,
          "",
          "",
          0.7445287387030342,
          0.6415440896032182,
          "",
          0.8077338545606728,
          0.6592936461232178,
          1.6422537364878447,
          1.7971409103946538,
          0.1630251787778525,
          ""
         ],
         "yaxis": "y2"
        },
        {
         "connectgaps": false,
         "fill": "tozeroy",
         "line": {
          "color": "red",
          "dash": "solid",
          "shape": "linear",
          "width": 0.5
         },
         "mode": "lines",
         "name": "Spread",
         "showlegend": false,
         "type": "scatter",
         "x": [
          0,
          1,
          2,
          3,
          4,
          5,
          6,
          7,
          8,
          9,
          10,
          11,
          12,
          13,
          14,
          15,
          16,
          17,
          18,
          19,
          20,
          21,
          22,
          23,
          24,
          25,
          26,
          27,
          28,
          29,
          30,
          31,
          32,
          33,
          34,
          35,
          36,
          37,
          38,
          39,
          40,
          41,
          42,
          43,
          44,
          45,
          46,
          47,
          48,
          49,
          50,
          51,
          52,
          53,
          54,
          55,
          56,
          57,
          58,
          59,
          60,
          61,
          62,
          63,
          64,
          65,
          66,
          67,
          68,
          69,
          70,
          71,
          72,
          73,
          74,
          75,
          76,
          77,
          78,
          79,
          80,
          81,
          82,
          83,
          84,
          85,
          86,
          87,
          88,
          89,
          90,
          91,
          92,
          93,
          94,
          95,
          96,
          97,
          98,
          99
         ],
         "xaxis": "x2",
         "y": [
          -1.3863270059759816,
          -0.4355580600988371,
          "",
          -0.6901514375977743,
          "",
          -0.4530974830894866,
          "",
          "",
          "",
          "",
          -0.5842613930995353,
          -0.4690691488181198,
          -2.088732069417845,
          "",
          -1.2994943408888673,
          -1.4812928960405454,
          "",
          "",
          "",
          "",
          -0.7011436207672654,
          -0.6891478084701538,
          -1.3311504903554305,
          "",
          "",
          "",
          "",
          -2.455190240041955,
          -1.0443706552835765,
          -3.97920818812593,
          "",
          "",
          -0.06986370424867605,
          -2.165678965838313,
          "",
          -1.8956490046644563,
          -0.3233262905201719,
          -1.9878479635634951,
          "",
          "",
          "",
          "",
          "",
          -1.3615370077289897,
          -0.09573747096368779,
          -1.749453031545034,
          -0.7909859626803113,
          -0.8568078824748817,
          "",
          -1.1006680559693236,
          -0.6937129814950846,
          "",
          -0.3907148958044502,
          "",
          -1.6604911751836164,
          -0.6171336217874709,
          -0.4854166905771125,
          -1.7550281358172426,
          "",
          -0.5228976943319815,
          "",
          -1.0395475266639849,
          "",
          -1.1045623263484263,
          -1.323691873459213,
          "",
          "",
          -2.907948808669425,
          -1.204533232479334,
          -0.371357313621022,
          -0.15821499002495232,
          "",
          -0.8357252444560075,
          -0.07620528192078146,
          "",
          "",
          -0.4679617785939003,
          "",
          -0.26162546926863695,
          -1.1134596629244966,
          -2.272216812245359,
          "",
          "",
          "",
          "",
          -1.5482473742305642,
          "",
          "",
          "",
          -1.0249669631030516,
          -0.5336166060007111,
          "",
          "",
          -1.2205956582390998,
          "",
          "",
          "",
          "",
          "",
          -1.2330618001536369
         ],
         "yaxis": "y2"
        }
       ],
       "layout": {
        "hovermode": "x",
        "legend": {
         "bgcolor": "#F5F6F9",
         "font": {
          "color": "#4D5663"
         }
        },
        "paper_bgcolor": "#F5F6F9",
        "plot_bgcolor": "#F5F6F9",
        "template": {
         "data": {
          "bar": [
           {
            "error_x": {
             "color": "#2a3f5f"
            },
            "error_y": {
             "color": "#2a3f5f"
            },
            "marker": {
             "line": {
              "color": "#E5ECF6",
              "width": 0.5
             },
             "pattern": {
              "fillmode": "overlay",
              "size": 10,
              "solidity": 0.2
             }
            },
            "type": "bar"
           }
          ],
          "barpolar": [
           {
            "marker": {
             "line": {
              "color": "#E5ECF6",
              "width": 0.5
             },
             "pattern": {
              "fillmode": "overlay",
              "size": 10,
              "solidity": 0.2
             }
            },
            "type": "barpolar"
           }
          ],
          "carpet": [
           {
            "aaxis": {
             "endlinecolor": "#2a3f5f",
             "gridcolor": "white",
             "linecolor": "white",
             "minorgridcolor": "white",
             "startlinecolor": "#2a3f5f"
            },
            "baxis": {
             "endlinecolor": "#2a3f5f",
             "gridcolor": "white",
             "linecolor": "white",
             "minorgridcolor": "white",
             "startlinecolor": "#2a3f5f"
            },
            "type": "carpet"
           }
          ],
          "choropleth": [
           {
            "colorbar": {
             "outlinewidth": 0,
             "ticks": ""
            },
            "type": "choropleth"
           }
          ],
          "contour": [
           {
            "colorbar": {
             "outlinewidth": 0,
             "ticks": ""
            },
            "colorscale": [
             [
              0,
              "#0d0887"
             ],
             [
              0.1111111111111111,
              "#46039f"
             ],
             [
              0.2222222222222222,
              "#7201a8"
             ],
             [
              0.3333333333333333,
              "#9c179e"
             ],
             [
              0.4444444444444444,
              "#bd3786"
             ],
             [
              0.5555555555555556,
              "#d8576b"
             ],
             [
              0.6666666666666666,
              "#ed7953"
             ],
             [
              0.7777777777777778,
              "#fb9f3a"
             ],
             [
              0.8888888888888888,
              "#fdca26"
             ],
             [
              1,
              "#f0f921"
             ]
            ],
            "type": "contour"
           }
          ],
          "contourcarpet": [
           {
            "colorbar": {
             "outlinewidth": 0,
             "ticks": ""
            },
            "type": "contourcarpet"
           }
          ],
          "heatmap": [
           {
            "colorbar": {
             "outlinewidth": 0,
             "ticks": ""
            },
            "colorscale": [
             [
              0,
              "#0d0887"
             ],
             [
              0.1111111111111111,
              "#46039f"
             ],
             [
              0.2222222222222222,
              "#7201a8"
             ],
             [
              0.3333333333333333,
              "#9c179e"
             ],
             [
              0.4444444444444444,
              "#bd3786"
             ],
             [
              0.5555555555555556,
              "#d8576b"
             ],
             [
              0.6666666666666666,
              "#ed7953"
             ],
             [
              0.7777777777777778,
              "#fb9f3a"
             ],
             [
              0.8888888888888888,
              "#fdca26"
             ],
             [
              1,
              "#f0f921"
             ]
            ],
            "type": "heatmap"
           }
          ],
          "heatmapgl": [
           {
            "colorbar": {
             "outlinewidth": 0,
             "ticks": ""
            },
            "colorscale": [
             [
              0,
              "#0d0887"
             ],
             [
              0.1111111111111111,
              "#46039f"
             ],
             [
              0.2222222222222222,
              "#7201a8"
             ],
             [
              0.3333333333333333,
              "#9c179e"
             ],
             [
              0.4444444444444444,
              "#bd3786"
             ],
             [
              0.5555555555555556,
              "#d8576b"
             ],
             [
              0.6666666666666666,
              "#ed7953"
             ],
             [
              0.7777777777777778,
              "#fb9f3a"
             ],
             [
              0.8888888888888888,
              "#fdca26"
             ],
             [
              1,
              "#f0f921"
             ]
            ],
            "type": "heatmapgl"
           }
          ],
          "histogram": [
           {
            "marker": {
             "pattern": {
              "fillmode": "overlay",
              "size": 10,
              "solidity": 0.2
             }
            },
            "type": "histogram"
           }
          ],
          "histogram2d": [
           {
            "colorbar": {
             "outlinewidth": 0,
             "ticks": ""
            },
            "colorscale": [
             [
              0,
              "#0d0887"
             ],
             [
              0.1111111111111111,
              "#46039f"
             ],
             [
              0.2222222222222222,
              "#7201a8"
             ],
             [
              0.3333333333333333,
              "#9c179e"
             ],
             [
              0.4444444444444444,
              "#bd3786"
             ],
             [
              0.5555555555555556,
              "#d8576b"
             ],
             [
              0.6666666666666666,
              "#ed7953"
             ],
             [
              0.7777777777777778,
              "#fb9f3a"
             ],
             [
              0.8888888888888888,
              "#fdca26"
             ],
             [
              1,
              "#f0f921"
             ]
            ],
            "type": "histogram2d"
           }
          ],
          "histogram2dcontour": [
           {
            "colorbar": {
             "outlinewidth": 0,
             "ticks": ""
            },
            "colorscale": [
             [
              0,
              "#0d0887"
             ],
             [
              0.1111111111111111,
              "#46039f"
             ],
             [
              0.2222222222222222,
              "#7201a8"
             ],
             [
              0.3333333333333333,
              "#9c179e"
             ],
             [
              0.4444444444444444,
              "#bd3786"
             ],
             [
              0.5555555555555556,
              "#d8576b"
             ],
             [
              0.6666666666666666,
              "#ed7953"
             ],
             [
              0.7777777777777778,
              "#fb9f3a"
             ],
             [
              0.8888888888888888,
              "#fdca26"
             ],
             [
              1,
              "#f0f921"
             ]
            ],
            "type": "histogram2dcontour"
           }
          ],
          "mesh3d": [
           {
            "colorbar": {
             "outlinewidth": 0,
             "ticks": ""
            },
            "type": "mesh3d"
           }
          ],
          "parcoords": [
           {
            "line": {
             "colorbar": {
              "outlinewidth": 0,
              "ticks": ""
             }
            },
            "type": "parcoords"
           }
          ],
          "pie": [
           {
            "automargin": true,
            "type": "pie"
           }
          ],
          "scatter": [
           {
            "fillpattern": {
             "fillmode": "overlay",
             "size": 10,
             "solidity": 0.2
            },
            "type": "scatter"
           }
          ],
          "scatter3d": [
           {
            "line": {
             "colorbar": {
              "outlinewidth": 0,
              "ticks": ""
             }
            },
            "marker": {
             "colorbar": {
              "outlinewidth": 0,
              "ticks": ""
             }
            },
            "type": "scatter3d"
           }
          ],
          "scattercarpet": [
           {
            "marker": {
             "colorbar": {
              "outlinewidth": 0,
              "ticks": ""
             }
            },
            "type": "scattercarpet"
           }
          ],
          "scattergeo": [
           {
            "marker": {
             "colorbar": {
              "outlinewidth": 0,
              "ticks": ""
             }
            },
            "type": "scattergeo"
           }
          ],
          "scattergl": [
           {
            "marker": {
             "colorbar": {
              "outlinewidth": 0,
              "ticks": ""
             }
            },
            "type": "scattergl"
           }
          ],
          "scattermapbox": [
           {
            "marker": {
             "colorbar": {
              "outlinewidth": 0,
              "ticks": ""
             }
            },
            "type": "scattermapbox"
           }
          ],
          "scatterpolar": [
           {
            "marker": {
             "colorbar": {
              "outlinewidth": 0,
              "ticks": ""
             }
            },
            "type": "scatterpolar"
           }
          ],
          "scatterpolargl": [
           {
            "marker": {
             "colorbar": {
              "outlinewidth": 0,
              "ticks": ""
             }
            },
            "type": "scatterpolargl"
           }
          ],
          "scatterternary": [
           {
            "marker": {
             "colorbar": {
              "outlinewidth": 0,
              "ticks": ""
             }
            },
            "type": "scatterternary"
           }
          ],
          "surface": [
           {
            "colorbar": {
             "outlinewidth": 0,
             "ticks": ""
            },
            "colorscale": [
             [
              0,
              "#0d0887"
             ],
             [
              0.1111111111111111,
              "#46039f"
             ],
             [
              0.2222222222222222,
              "#7201a8"
             ],
             [
              0.3333333333333333,
              "#9c179e"
             ],
             [
              0.4444444444444444,
              "#bd3786"
             ],
             [
              0.5555555555555556,
              "#d8576b"
             ],
             [
              0.6666666666666666,
              "#ed7953"
             ],
             [
              0.7777777777777778,
              "#fb9f3a"
             ],
             [
              0.8888888888888888,
              "#fdca26"
             ],
             [
              1,
              "#f0f921"
             ]
            ],
            "type": "surface"
           }
          ],
          "table": [
           {
            "cells": {
             "fill": {
              "color": "#EBF0F8"
             },
             "line": {
              "color": "white"
             }
            },
            "header": {
             "fill": {
              "color": "#C8D4E3"
             },
             "line": {
              "color": "white"
             }
            },
            "type": "table"
           }
          ]
         },
         "layout": {
          "annotationdefaults": {
           "arrowcolor": "#2a3f5f",
           "arrowhead": 0,
           "arrowwidth": 1
          },
          "autotypenumbers": "strict",
          "coloraxis": {
           "colorbar": {
            "outlinewidth": 0,
            "ticks": ""
           }
          },
          "colorscale": {
           "diverging": [
            [
             0,
             "#8e0152"
            ],
            [
             0.1,
             "#c51b7d"
            ],
            [
             0.2,
             "#de77ae"
            ],
            [
             0.3,
             "#f1b6da"
            ],
            [
             0.4,
             "#fde0ef"
            ],
            [
             0.5,
             "#f7f7f7"
            ],
            [
             0.6,
             "#e6f5d0"
            ],
            [
             0.7,
             "#b8e186"
            ],
            [
             0.8,
             "#7fbc41"
            ],
            [
             0.9,
             "#4d9221"
            ],
            [
             1,
             "#276419"
            ]
           ],
           "sequential": [
            [
             0,
             "#0d0887"
            ],
            [
             0.1111111111111111,
             "#46039f"
            ],
            [
             0.2222222222222222,
             "#7201a8"
            ],
            [
             0.3333333333333333,
             "#9c179e"
            ],
            [
             0.4444444444444444,
             "#bd3786"
            ],
            [
             0.5555555555555556,
             "#d8576b"
            ],
            [
             0.6666666666666666,
             "#ed7953"
            ],
            [
             0.7777777777777778,
             "#fb9f3a"
            ],
            [
             0.8888888888888888,
             "#fdca26"
            ],
            [
             1,
             "#f0f921"
            ]
           ],
           "sequentialminus": [
            [
             0,
             "#0d0887"
            ],
            [
             0.1111111111111111,
             "#46039f"
            ],
            [
             0.2222222222222222,
             "#7201a8"
            ],
            [
             0.3333333333333333,
             "#9c179e"
            ],
            [
             0.4444444444444444,
             "#bd3786"
            ],
            [
             0.5555555555555556,
             "#d8576b"
            ],
            [
             0.6666666666666666,
             "#ed7953"
            ],
            [
             0.7777777777777778,
             "#fb9f3a"
            ],
            [
             0.8888888888888888,
             "#fdca26"
            ],
            [
             1,
             "#f0f921"
            ]
           ]
          },
          "colorway": [
           "#636efa",
           "#EF553B",
           "#00cc96",
           "#ab63fa",
           "#FFA15A",
           "#19d3f3",
           "#FF6692",
           "#B6E880",
           "#FF97FF",
           "#FECB52"
          ],
          "font": {
           "color": "#2a3f5f"
          },
          "geo": {
           "bgcolor": "white",
           "lakecolor": "white",
           "landcolor": "#E5ECF6",
           "showlakes": true,
           "showland": true,
           "subunitcolor": "white"
          },
          "hoverlabel": {
           "align": "left"
          },
          "hovermode": "closest",
          "mapbox": {
           "style": "light"
          },
          "paper_bgcolor": "white",
          "plot_bgcolor": "#E5ECF6",
          "polar": {
           "angularaxis": {
            "gridcolor": "white",
            "linecolor": "white",
            "ticks": ""
           },
           "bgcolor": "#E5ECF6",
           "radialaxis": {
            "gridcolor": "white",
            "linecolor": "white",
            "ticks": ""
           }
          },
          "scene": {
           "xaxis": {
            "backgroundcolor": "#E5ECF6",
            "gridcolor": "white",
            "gridwidth": 2,
            "linecolor": "white",
            "showbackground": true,
            "ticks": "",
            "zerolinecolor": "white"
           },
           "yaxis": {
            "backgroundcolor": "#E5ECF6",
            "gridcolor": "white",
            "gridwidth": 2,
            "linecolor": "white",
            "showbackground": true,
            "ticks": "",
            "zerolinecolor": "white"
           },
           "zaxis": {
            "backgroundcolor": "#E5ECF6",
            "gridcolor": "white",
            "gridwidth": 2,
            "linecolor": "white",
            "showbackground": true,
            "ticks": "",
            "zerolinecolor": "white"
           }
          },
          "shapedefaults": {
           "line": {
            "color": "#2a3f5f"
           }
          },
          "ternary": {
           "aaxis": {
            "gridcolor": "white",
            "linecolor": "white",
            "ticks": ""
           },
           "baxis": {
            "gridcolor": "white",
            "linecolor": "white",
            "ticks": ""
           },
           "bgcolor": "#E5ECF6",
           "caxis": {
            "gridcolor": "white",
            "linecolor": "white",
            "ticks": ""
           }
          },
          "title": {
           "x": 0.05
          },
          "xaxis": {
           "automargin": true,
           "gridcolor": "white",
           "linecolor": "white",
           "ticks": "",
           "title": {
            "standoff": 15
           },
           "zerolinecolor": "white",
           "zerolinewidth": 2
          },
          "yaxis": {
           "automargin": true,
           "gridcolor": "white",
           "linecolor": "white",
           "ticks": "",
           "title": {
            "standoff": 15
           },
           "zerolinecolor": "white",
           "zerolinewidth": 2
          }
         }
        },
        "title": {
         "font": {
          "color": "#4D5663"
         }
        },
        "xaxis": {
         "gridcolor": "#E1E5ED",
         "showgrid": true,
         "tickfont": {
          "color": "#4D5663"
         },
         "title": {
          "font": {
           "color": "#4D5663"
          },
          "text": ""
         },
         "zerolinecolor": "#E1E5ED"
        },
        "xaxis2": {
         "anchor": "y2",
         "gridcolor": "#E1E5ED",
         "showgrid": true,
         "showticklabels": false,
         "tickfont": {
          "color": "#4D5663"
         },
         "title": {
          "font": {
           "color": "#4D5663"
          },
          "text": ""
         },
         "zerolinecolor": "#E1E5ED"
        },
        "yaxis": {
         "domain": [
          0.3,
          1
         ],
         "gridcolor": "#E1E5ED",
         "showgrid": true,
         "tickfont": {
          "color": "#4D5663"
         },
         "title": {
          "font": {
           "color": "#4D5663"
          },
          "text": ""
         },
         "zerolinecolor": "#E1E5ED"
        },
        "yaxis2": {
         "domain": [
          0,
          0.25
         ],
         "gridcolor": "#E1E5ED",
         "showgrid": true,
         "tickfont": {
          "color": "#4D5663"
         },
         "title": {
          "font": {
           "color": "#4D5663"
          },
          "text": "Spread"
         },
         "zerolinecolor": "#E1E5ED"
        }
       }
      },
      "text/html": [
       "<div>                            <div id=\"da2ed842-9436-46fa-9cea-e32540b625be\" class=\"plotly-graph-div\" style=\"height:525px; width:100%;\"></div>            <script type=\"text/javascript\">                require([\"plotly\"], function(Plotly) {                    window.PLOTLYENV=window.PLOTLYENV || {};\n",
       "                    window.PLOTLYENV.BASE_URL='https://plot.ly';                                    if (document.getElementById(\"da2ed842-9436-46fa-9cea-e32540b625be\")) {                    Plotly.newPlot(                        \"da2ed842-9436-46fa-9cea-e32540b625be\",                        [{\"line\":{\"color\":\"rgba(255, 153, 51, 1.0)\",\"dash\":\"solid\",\"shape\":\"linear\",\"width\":1.3},\"mode\":\"lines\",\"name\":\"A\",\"text\":\"\",\"x\":[0,1,2,3,4,5,6,7,8,9,10,11,12,13,14,15,16,17,18,19,20,21,22,23,24,25,26,27,28,29,30,31,32,33,34,35,36,37,38,39,40,41,42,43,44,45,46,47,48,49,50,51,52,53,54,55,56,57,58,59,60,61,62,63,64,65,66,67,68,69,70,71,72,73,74,75,76,77,78,79,80,81,82,83,84,85,86,87,88,89,90,91,92,93,94,95,96,97,98,99],\"y\":[-2.0245678545620653,-0.70000967402194,0.4923011266211667,-0.1721337617162361,0.1300772047032601,-0.8333704434524496,0.34121462467065816,0.9677726356756655,1.0120891924486815,1.2232183702754578,-0.8427421789582358,0.18819096793209314,-1.6095005021892217,0.41339125775669555,-0.8948518562686107,-0.1843957684237995,1.6860920350330262,1.7966629201710838,0.7059434946092662,-0.4638431276336962,0.8335385969736977,-0.7338353757187845,0.29198786778577684,0.7621576857108744,-1.2797389810464925,1.0297527504257031,0.9625278654239828,-1.7851418437008166,-1.0954108369089715,-2.8084934964522676,1.3198883643750479,0.39999831444598893,-1.141518084638812,-0.553833400359158,-0.5021357042202531,-1.7747620990430988,-0.7471339649507993,-1.680236866891475,0.16800536415649148,0.9624777623645401,0.7327131001167891,0.8596062243117514,0.9170009008811542,-0.8909419630348943,0.2427255664521905,-0.6065451458740814,0.2482809249447097,-1.8535909031151525,-0.09750333812372164,-0.8798749960318651,0.217800590401041,0.8029760466725708,0.6653151750366897,-0.3084497006647018,0.36768824082733653,-0.3339365462425808,0.13868616976000864,-0.714301240067701,0.5588471774554243,0.0069681037932292815,0.2403401185362488,0.47347545555015974,-1.1164580146104586,-1.3765949888678477,0.21828959853628632,0.2983118598338089,1.4624051256412518,-1.294335785990532,-1.1891868148706493,0.4480021923135863,0.12578697802044325,0.5113765435650498,0.1285909603816634,-0.6806646507469855,-0.28554355498000167,1.8309719250363772,-0.7378615237977918,0.8487554269717219,-0.22845770363282245,-1.3198777526010914,-1.7164357576246156,-0.8565176465067136,1.5973041294004924,1.2230412199308058,-0.7866323189888544,-1.3609919026164312,0.06459817804490998,0.921998675958377,2.1608332100400616,-0.44158263770700196,0.16697383520246797,0.15215444987588211,0.32083154833677463,-0.4768739422051255,0.15539672302809196,0.5132262797726742,0.5812646979598842,0.3999652636768709,-0.2552657391538536,0.09731861511588642],\"type\":\"scatter\"},{\"line\":{\"color\":\"rgba(55, 128, 191, 1.0)\",\"dash\":\"solid\",\"shape\":\"linear\",\"width\":1.3},\"mode\":\"lines\",\"name\":\"B\",\"text\":\"\",\"x\":[0,1,2,3,4,5,6,7,8,9,10,11,12,13,14,15,16,17,18,19,20,21,22,23,24,25,26,27,28,29,30,31,32,33,34,35,36,37,38,39,40,41,42,43,44,45,46,47,48,49,50,51,52,53,54,55,56,57,58,59,60,61,62,63,64,65,66,67,68,69,70,71,72,73,74,75,76,77,78,79,80,81,82,83,84,85,86,87,88,89,90,91,92,93,94,95,96,97,98,99],\"y\":[-0.6382408485860838,-0.26445161392310296,-0.23213667337437718,0.5180176758815382,-1.1248049522097245,-0.380272960362963,-0.2932209551832816,-0.2983349399546075,0.8352757748805898,0.19767795485653444,-0.25848078585870043,0.6572601167502129,0.4792315672286233,-0.7297409216849485,0.4046424846202565,1.2968971276167458,0.13935965106348322,-0.6594484341435785,-0.02418590218582255,-2.5239897567978575,1.5346822177409631,-0.044687567248630725,1.6231383581412073,0.40026551057354326,-1.346220027753875,0.16491814429374466,0.9065722606320102,0.6700483963411383,-0.05104018162539486,1.1707146916736622,0.27196909622293,-0.823741868413821,-1.071654380390136,1.611845565479155,-0.6358684090521775,0.12088690562135754,-0.4238076744306274,0.30761109667202036,0.10090276567627783,-0.934825817248883,-0.11477621970946751,-0.25626272220601465,-2.2618111698047243,0.47059504469409547,0.3384630374158783,1.1429078856709527,1.039266887625021,-0.9967830206402708,-0.6202045714826442,0.22079305993745846,0.9115135718961257,-1.2122517475675738,1.0560300708411399,-1.9090176950054356,2.028179416010953,0.2831970755448901,0.6241028603371211,1.0407268957495415,-0.26224266816482766,0.5298657981252108,-2.0965098648132012,1.5130229822141446,-1.7078071537312842,-0.2720326625194213,1.5419814719954992,-0.3403798338394972,-0.2607484877893845,1.613613022678893,0.015346417608684809,0.8193595059346083,0.28400196804539557,0.23640271970560556,0.9643162048376709,-0.604459368826204,-1.2825284995959614,-0.3851992746376785,-0.2698997452038915,-0.1806119563245644,0.03316776563581451,-0.2064180896765948,0.5557810546207436,-0.9395511240801336,-0.3738586334196706,0.719627463803325,-1.1552010934966621,0.18725547161413295,-1.8598061078955381,-0.31999462379920496,-1.8573069884412665,0.5833843253960496,0.7005904412031791,-0.592374288827152,-0.32071254126644355,0.7437217160339742,-0.6523371315325809,-0.14606736635054363,-1.0609890385279603,-1.397175646717783,-0.4182909179317061,1.3303804152695233],\"type\":\"scatter\"},{\"connectgaps\":false,\"fill\":\"tozeroy\",\"line\":{\"color\":\"green\",\"dash\":\"solid\",\"shape\":\"linear\",\"width\":0.5},\"mode\":\"lines\",\"name\":\"Spread\",\"showlegend\":false,\"x\":[0,1,2,3,4,5,6,7,8,9,10,11,12,13,14,15,16,17,18,19,20,21,22,23,24,25,26,27,28,29,30,31,32,33,34,35,36,37,38,39,40,41,42,43,44,45,46,47,48,49,50,51,52,53,54,55,56,57,58,59,60,61,62,63,64,65,66,67,68,69,70,71,72,73,74,75,76,77,78,79,80,81,82,83,84,85,86,87,88,89,90,91,92,93,94,95,96,97,98,99],\"xaxis\":\"x2\",\"y\":[\"\",\"\",0.7244377999955439,\"\",1.2548821569129847,\"\",0.6344355798539398,1.266107575630273,0.17681341756809166,1.0255404154189234,\"\",\"\",\"\",1.143132179441644,\"\",\"\",1.546732383969543,2.456111354314662,0.7301293967950887,2.0601466291641612,\"\",\"\",\"\",0.36189217513733113,0.06648104670738242,0.8648346061319585,0.05595560479197259,\"\",\"\",\"\",1.0479192681521179,1.22374018285981,\"\",\"\",0.13373270483192434,\"\",\"\",\"\",0.06710259848021365,1.897303579613423,0.8474893198262566,1.115868946517766,3.1788120706858782,\"\",\"\",\"\",\"\",\"\",0.5227012333589225,\"\",\"\",2.0152277942401446,\"\",1.6005679943407338,\"\",\"\",\"\",\"\",0.821089845620252,\"\",2.33684998334945,\"\",0.5913491391208257,\"\",\"\",0.6386916936733061,1.7231536134306362,\"\",\"\",\"\",\"\",0.27497382385944424,\"\",\"\",0.9969849446159598,2.2161711996740556,\"\",1.0293673832962864,\"\",\"\",\"\",0.08303347757342006,1.9711627628201631,0.5034137561274808,0.3685687745078077,\"\",1.9244042859404482,1.241993299757582,4.018140198481328,\"\",\"\",0.7445287387030342,0.6415440896032182,\"\",0.8077338545606728,0.6592936461232178,1.6422537364878447,1.7971409103946538,0.1630251787778525,\"\"],\"yaxis\":\"y2\",\"type\":\"scatter\"},{\"connectgaps\":false,\"fill\":\"tozeroy\",\"line\":{\"color\":\"red\",\"dash\":\"solid\",\"shape\":\"linear\",\"width\":0.5},\"mode\":\"lines\",\"name\":\"Spread\",\"showlegend\":false,\"x\":[0,1,2,3,4,5,6,7,8,9,10,11,12,13,14,15,16,17,18,19,20,21,22,23,24,25,26,27,28,29,30,31,32,33,34,35,36,37,38,39,40,41,42,43,44,45,46,47,48,49,50,51,52,53,54,55,56,57,58,59,60,61,62,63,64,65,66,67,68,69,70,71,72,73,74,75,76,77,78,79,80,81,82,83,84,85,86,87,88,89,90,91,92,93,94,95,96,97,98,99],\"xaxis\":\"x2\",\"y\":[-1.3863270059759816,-0.4355580600988371,\"\",-0.6901514375977743,\"\",-0.4530974830894866,\"\",\"\",\"\",\"\",-0.5842613930995353,-0.4690691488181198,-2.088732069417845,\"\",-1.2994943408888673,-1.4812928960405454,\"\",\"\",\"\",\"\",-0.7011436207672654,-0.6891478084701538,-1.3311504903554305,\"\",\"\",\"\",\"\",-2.455190240041955,-1.0443706552835765,-3.97920818812593,\"\",\"\",-0.06986370424867605,-2.165678965838313,\"\",-1.8956490046644563,-0.3233262905201719,-1.9878479635634951,\"\",\"\",\"\",\"\",\"\",-1.3615370077289897,-0.09573747096368779,-1.749453031545034,-0.7909859626803113,-0.8568078824748817,\"\",-1.1006680559693236,-0.6937129814950846,\"\",-0.3907148958044502,\"\",-1.6604911751836164,-0.6171336217874709,-0.4854166905771125,-1.7550281358172426,\"\",-0.5228976943319815,\"\",-1.0395475266639849,\"\",-1.1045623263484263,-1.323691873459213,\"\",\"\",-2.907948808669425,-1.204533232479334,-0.371357313621022,-0.15821499002495232,\"\",-0.8357252444560075,-0.07620528192078146,\"\",\"\",-0.4679617785939003,\"\",-0.26162546926863695,-1.1134596629244966,-2.272216812245359,\"\",\"\",\"\",\"\",-1.5482473742305642,\"\",\"\",\"\",-1.0249669631030516,-0.5336166060007111,\"\",\"\",-1.2205956582390998,\"\",\"\",\"\",\"\",\"\",-1.2330618001536369],\"yaxis\":\"y2\",\"type\":\"scatter\"}],                        {\"hovermode\":\"x\",\"legend\":{\"bgcolor\":\"#F5F6F9\",\"font\":{\"color\":\"#4D5663\"}},\"paper_bgcolor\":\"#F5F6F9\",\"plot_bgcolor\":\"#F5F6F9\",\"template\":{\"data\":{\"barpolar\":[{\"marker\":{\"line\":{\"color\":\"#E5ECF6\",\"width\":0.5},\"pattern\":{\"fillmode\":\"overlay\",\"size\":10,\"solidity\":0.2}},\"type\":\"barpolar\"}],\"bar\":[{\"error_x\":{\"color\":\"#2a3f5f\"},\"error_y\":{\"color\":\"#2a3f5f\"},\"marker\":{\"line\":{\"color\":\"#E5ECF6\",\"width\":0.5},\"pattern\":{\"fillmode\":\"overlay\",\"size\":10,\"solidity\":0.2}},\"type\":\"bar\"}],\"carpet\":[{\"aaxis\":{\"endlinecolor\":\"#2a3f5f\",\"gridcolor\":\"white\",\"linecolor\":\"white\",\"minorgridcolor\":\"white\",\"startlinecolor\":\"#2a3f5f\"},\"baxis\":{\"endlinecolor\":\"#2a3f5f\",\"gridcolor\":\"white\",\"linecolor\":\"white\",\"minorgridcolor\":\"white\",\"startlinecolor\":\"#2a3f5f\"},\"type\":\"carpet\"}],\"choropleth\":[{\"colorbar\":{\"outlinewidth\":0,\"ticks\":\"\"},\"type\":\"choropleth\"}],\"contourcarpet\":[{\"colorbar\":{\"outlinewidth\":0,\"ticks\":\"\"},\"type\":\"contourcarpet\"}],\"contour\":[{\"colorbar\":{\"outlinewidth\":0,\"ticks\":\"\"},\"colorscale\":[[0.0,\"#0d0887\"],[0.1111111111111111,\"#46039f\"],[0.2222222222222222,\"#7201a8\"],[0.3333333333333333,\"#9c179e\"],[0.4444444444444444,\"#bd3786\"],[0.5555555555555556,\"#d8576b\"],[0.6666666666666666,\"#ed7953\"],[0.7777777777777778,\"#fb9f3a\"],[0.8888888888888888,\"#fdca26\"],[1.0,\"#f0f921\"]],\"type\":\"contour\"}],\"heatmapgl\":[{\"colorbar\":{\"outlinewidth\":0,\"ticks\":\"\"},\"colorscale\":[[0.0,\"#0d0887\"],[0.1111111111111111,\"#46039f\"],[0.2222222222222222,\"#7201a8\"],[0.3333333333333333,\"#9c179e\"],[0.4444444444444444,\"#bd3786\"],[0.5555555555555556,\"#d8576b\"],[0.6666666666666666,\"#ed7953\"],[0.7777777777777778,\"#fb9f3a\"],[0.8888888888888888,\"#fdca26\"],[1.0,\"#f0f921\"]],\"type\":\"heatmapgl\"}],\"heatmap\":[{\"colorbar\":{\"outlinewidth\":0,\"ticks\":\"\"},\"colorscale\":[[0.0,\"#0d0887\"],[0.1111111111111111,\"#46039f\"],[0.2222222222222222,\"#7201a8\"],[0.3333333333333333,\"#9c179e\"],[0.4444444444444444,\"#bd3786\"],[0.5555555555555556,\"#d8576b\"],[0.6666666666666666,\"#ed7953\"],[0.7777777777777778,\"#fb9f3a\"],[0.8888888888888888,\"#fdca26\"],[1.0,\"#f0f921\"]],\"type\":\"heatmap\"}],\"histogram2dcontour\":[{\"colorbar\":{\"outlinewidth\":0,\"ticks\":\"\"},\"colorscale\":[[0.0,\"#0d0887\"],[0.1111111111111111,\"#46039f\"],[0.2222222222222222,\"#7201a8\"],[0.3333333333333333,\"#9c179e\"],[0.4444444444444444,\"#bd3786\"],[0.5555555555555556,\"#d8576b\"],[0.6666666666666666,\"#ed7953\"],[0.7777777777777778,\"#fb9f3a\"],[0.8888888888888888,\"#fdca26\"],[1.0,\"#f0f921\"]],\"type\":\"histogram2dcontour\"}],\"histogram2d\":[{\"colorbar\":{\"outlinewidth\":0,\"ticks\":\"\"},\"colorscale\":[[0.0,\"#0d0887\"],[0.1111111111111111,\"#46039f\"],[0.2222222222222222,\"#7201a8\"],[0.3333333333333333,\"#9c179e\"],[0.4444444444444444,\"#bd3786\"],[0.5555555555555556,\"#d8576b\"],[0.6666666666666666,\"#ed7953\"],[0.7777777777777778,\"#fb9f3a\"],[0.8888888888888888,\"#fdca26\"],[1.0,\"#f0f921\"]],\"type\":\"histogram2d\"}],\"histogram\":[{\"marker\":{\"pattern\":{\"fillmode\":\"overlay\",\"size\":10,\"solidity\":0.2}},\"type\":\"histogram\"}],\"mesh3d\":[{\"colorbar\":{\"outlinewidth\":0,\"ticks\":\"\"},\"type\":\"mesh3d\"}],\"parcoords\":[{\"line\":{\"colorbar\":{\"outlinewidth\":0,\"ticks\":\"\"}},\"type\":\"parcoords\"}],\"pie\":[{\"automargin\":true,\"type\":\"pie\"}],\"scatter3d\":[{\"line\":{\"colorbar\":{\"outlinewidth\":0,\"ticks\":\"\"}},\"marker\":{\"colorbar\":{\"outlinewidth\":0,\"ticks\":\"\"}},\"type\":\"scatter3d\"}],\"scattercarpet\":[{\"marker\":{\"colorbar\":{\"outlinewidth\":0,\"ticks\":\"\"}},\"type\":\"scattercarpet\"}],\"scattergeo\":[{\"marker\":{\"colorbar\":{\"outlinewidth\":0,\"ticks\":\"\"}},\"type\":\"scattergeo\"}],\"scattergl\":[{\"marker\":{\"colorbar\":{\"outlinewidth\":0,\"ticks\":\"\"}},\"type\":\"scattergl\"}],\"scattermapbox\":[{\"marker\":{\"colorbar\":{\"outlinewidth\":0,\"ticks\":\"\"}},\"type\":\"scattermapbox\"}],\"scatterpolargl\":[{\"marker\":{\"colorbar\":{\"outlinewidth\":0,\"ticks\":\"\"}},\"type\":\"scatterpolargl\"}],\"scatterpolar\":[{\"marker\":{\"colorbar\":{\"outlinewidth\":0,\"ticks\":\"\"}},\"type\":\"scatterpolar\"}],\"scatter\":[{\"fillpattern\":{\"fillmode\":\"overlay\",\"size\":10,\"solidity\":0.2},\"type\":\"scatter\"}],\"scatterternary\":[{\"marker\":{\"colorbar\":{\"outlinewidth\":0,\"ticks\":\"\"}},\"type\":\"scatterternary\"}],\"surface\":[{\"colorbar\":{\"outlinewidth\":0,\"ticks\":\"\"},\"colorscale\":[[0.0,\"#0d0887\"],[0.1111111111111111,\"#46039f\"],[0.2222222222222222,\"#7201a8\"],[0.3333333333333333,\"#9c179e\"],[0.4444444444444444,\"#bd3786\"],[0.5555555555555556,\"#d8576b\"],[0.6666666666666666,\"#ed7953\"],[0.7777777777777778,\"#fb9f3a\"],[0.8888888888888888,\"#fdca26\"],[1.0,\"#f0f921\"]],\"type\":\"surface\"}],\"table\":[{\"cells\":{\"fill\":{\"color\":\"#EBF0F8\"},\"line\":{\"color\":\"white\"}},\"header\":{\"fill\":{\"color\":\"#C8D4E3\"},\"line\":{\"color\":\"white\"}},\"type\":\"table\"}]},\"layout\":{\"annotationdefaults\":{\"arrowcolor\":\"#2a3f5f\",\"arrowhead\":0,\"arrowwidth\":1},\"autotypenumbers\":\"strict\",\"coloraxis\":{\"colorbar\":{\"outlinewidth\":0,\"ticks\":\"\"}},\"colorscale\":{\"diverging\":[[0,\"#8e0152\"],[0.1,\"#c51b7d\"],[0.2,\"#de77ae\"],[0.3,\"#f1b6da\"],[0.4,\"#fde0ef\"],[0.5,\"#f7f7f7\"],[0.6,\"#e6f5d0\"],[0.7,\"#b8e186\"],[0.8,\"#7fbc41\"],[0.9,\"#4d9221\"],[1,\"#276419\"]],\"sequential\":[[0.0,\"#0d0887\"],[0.1111111111111111,\"#46039f\"],[0.2222222222222222,\"#7201a8\"],[0.3333333333333333,\"#9c179e\"],[0.4444444444444444,\"#bd3786\"],[0.5555555555555556,\"#d8576b\"],[0.6666666666666666,\"#ed7953\"],[0.7777777777777778,\"#fb9f3a\"],[0.8888888888888888,\"#fdca26\"],[1.0,\"#f0f921\"]],\"sequentialminus\":[[0.0,\"#0d0887\"],[0.1111111111111111,\"#46039f\"],[0.2222222222222222,\"#7201a8\"],[0.3333333333333333,\"#9c179e\"],[0.4444444444444444,\"#bd3786\"],[0.5555555555555556,\"#d8576b\"],[0.6666666666666666,\"#ed7953\"],[0.7777777777777778,\"#fb9f3a\"],[0.8888888888888888,\"#fdca26\"],[1.0,\"#f0f921\"]]},\"colorway\":[\"#636efa\",\"#EF553B\",\"#00cc96\",\"#ab63fa\",\"#FFA15A\",\"#19d3f3\",\"#FF6692\",\"#B6E880\",\"#FF97FF\",\"#FECB52\"],\"font\":{\"color\":\"#2a3f5f\"},\"geo\":{\"bgcolor\":\"white\",\"lakecolor\":\"white\",\"landcolor\":\"#E5ECF6\",\"showlakes\":true,\"showland\":true,\"subunitcolor\":\"white\"},\"hoverlabel\":{\"align\":\"left\"},\"hovermode\":\"closest\",\"mapbox\":{\"style\":\"light\"},\"paper_bgcolor\":\"white\",\"plot_bgcolor\":\"#E5ECF6\",\"polar\":{\"angularaxis\":{\"gridcolor\":\"white\",\"linecolor\":\"white\",\"ticks\":\"\"},\"bgcolor\":\"#E5ECF6\",\"radialaxis\":{\"gridcolor\":\"white\",\"linecolor\":\"white\",\"ticks\":\"\"}},\"scene\":{\"xaxis\":{\"backgroundcolor\":\"#E5ECF6\",\"gridcolor\":\"white\",\"gridwidth\":2,\"linecolor\":\"white\",\"showbackground\":true,\"ticks\":\"\",\"zerolinecolor\":\"white\"},\"yaxis\":{\"backgroundcolor\":\"#E5ECF6\",\"gridcolor\":\"white\",\"gridwidth\":2,\"linecolor\":\"white\",\"showbackground\":true,\"ticks\":\"\",\"zerolinecolor\":\"white\"},\"zaxis\":{\"backgroundcolor\":\"#E5ECF6\",\"gridcolor\":\"white\",\"gridwidth\":2,\"linecolor\":\"white\",\"showbackground\":true,\"ticks\":\"\",\"zerolinecolor\":\"white\"}},\"shapedefaults\":{\"line\":{\"color\":\"#2a3f5f\"}},\"ternary\":{\"aaxis\":{\"gridcolor\":\"white\",\"linecolor\":\"white\",\"ticks\":\"\"},\"baxis\":{\"gridcolor\":\"white\",\"linecolor\":\"white\",\"ticks\":\"\"},\"bgcolor\":\"#E5ECF6\",\"caxis\":{\"gridcolor\":\"white\",\"linecolor\":\"white\",\"ticks\":\"\"}},\"title\":{\"x\":0.05},\"xaxis\":{\"automargin\":true,\"gridcolor\":\"white\",\"linecolor\":\"white\",\"ticks\":\"\",\"title\":{\"standoff\":15},\"zerolinecolor\":\"white\",\"zerolinewidth\":2},\"yaxis\":{\"automargin\":true,\"gridcolor\":\"white\",\"linecolor\":\"white\",\"ticks\":\"\",\"title\":{\"standoff\":15},\"zerolinecolor\":\"white\",\"zerolinewidth\":2}}},\"title\":{\"font\":{\"color\":\"#4D5663\"}},\"xaxis\":{\"gridcolor\":\"#E1E5ED\",\"showgrid\":true,\"tickfont\":{\"color\":\"#4D5663\"},\"title\":{\"font\":{\"color\":\"#4D5663\"},\"text\":\"\"},\"zerolinecolor\":\"#E1E5ED\"},\"yaxis\":{\"domain\":[0.3,1],\"gridcolor\":\"#E1E5ED\",\"showgrid\":true,\"tickfont\":{\"color\":\"#4D5663\"},\"title\":{\"font\":{\"color\":\"#4D5663\"},\"text\":\"\"},\"zerolinecolor\":\"#E1E5ED\"},\"yaxis2\":{\"domain\":[0,0.25],\"gridcolor\":\"#E1E5ED\",\"showgrid\":true,\"tickfont\":{\"color\":\"#4D5663\"},\"title\":{\"font\":{\"color\":\"#4D5663\"},\"text\":\"Spread\"},\"zerolinecolor\":\"#E1E5ED\"},\"xaxis2\":{\"anchor\":\"y2\",\"gridcolor\":\"#E1E5ED\",\"showgrid\":true,\"showticklabels\":false,\"tickfont\":{\"color\":\"#4D5663\"},\"title\":{\"font\":{\"color\":\"#4D5663\"},\"text\":\"\"},\"zerolinecolor\":\"#E1E5ED\"}},                        {\"showLink\": true, \"linkText\": \"Export to plot.ly\", \"plotlyServerURL\": \"https://plot.ly\", \"responsive\": true}                    ).then(function(){\n",
       "                            \n",
       "var gd = document.getElementById('da2ed842-9436-46fa-9cea-e32540b625be');\n",
       "var x = new MutationObserver(function (mutations, observer) {{\n",
       "        var display = window.getComputedStyle(gd).display;\n",
       "        if (!display || display === 'none') {{\n",
       "            console.log([gd, 'removed!']);\n",
       "            Plotly.purge(gd);\n",
       "            observer.disconnect();\n",
       "        }}\n",
       "}});\n",
       "\n",
       "// Listen for the removal of the full notebook cells\n",
       "var notebookContainer = gd.closest('#notebook-container');\n",
       "if (notebookContainer) {{\n",
       "    x.observe(notebookContainer, {childList: true});\n",
       "}}\n",
       "\n",
       "// Listen for the clearing of the current output cell\n",
       "var outputEl = gd.closest('.output');\n",
       "if (outputEl) {{\n",
       "    x.observe(outputEl, {childList: true});\n",
       "}}\n",
       "\n",
       "                        })                };                });            </script>        </div>"
      ]
     },
     "metadata": {},
     "output_type": "display_data"
    }
   ],
   "source": [
    "df[['A','B']].iplot(kind='spread')"
   ]
  },
  {
   "cell_type": "code",
   "execution_count": 79,
   "id": "318c318a",
   "metadata": {},
   "outputs": [
    {
     "data": {
      "application/vnd.plotly.v1+json": {
       "config": {
        "linkText": "Export to plot.ly",
        "plotlyServerURL": "https://plot.ly",
        "showLink": true
       },
       "data": [
        {
         "marker": {
          "color": [
           "rgb(255, 153, 51)",
           "rgb(55, 128, 191)",
           "rgb(50, 171, 96)",
           "rgb(128, 0, 128)",
           "rgb(219, 64, 82)",
           "rgb(0, 128, 128)",
           "rgb(255, 255, 51)",
           "rgb(128, 128, 0)",
           "rgb(251, 128, 114)",
           "rgb(128, 177, 211)"
          ],
          "line": {
           "width": 1.3
          },
          "size": [
           57,
           83,
           61,
           64,
           54,
           70,
           80,
           57,
           49,
           24,
           99,
           90,
           43,
           58,
           57,
           77,
           65,
           45,
           55,
           67,
           69,
           57,
           12,
           82,
           54,
           57,
           69,
           83,
           60,
           66,
           54,
           99,
           50,
           71,
           68,
           71,
           75,
           72,
           61,
           38,
           55,
           62,
           65,
           63,
           57,
           42,
           55,
           51,
           111,
           78,
           81,
           80,
           87,
           61,
           72,
           71,
           98,
           43,
           47,
           76,
           53,
           56,
           67,
           38,
           45,
           66,
           29,
           73,
           38,
           82,
           63,
           52,
           42,
           64,
           59,
           61,
           77,
           64,
           53,
           54,
           72,
           51,
           57,
           51,
           49,
           107,
           89,
           59,
           52,
           54,
           69,
           83,
           81,
           52,
           20,
           81,
           64,
           58,
           60,
           62
          ],
          "symbol": "circle"
         },
         "mode": "markers",
         "text": "",
         "type": "scatter",
         "x": [
          -2.0245678545620653,
          -0.70000967402194,
          0.4923011266211667,
          -0.1721337617162361,
          0.1300772047032601,
          -0.8333704434524496,
          0.34121462467065816,
          0.9677726356756655,
          1.0120891924486815,
          1.2232183702754578,
          -0.8427421789582358,
          0.18819096793209314,
          -1.6095005021892217,
          0.41339125775669555,
          -0.8948518562686107,
          -0.1843957684237995,
          1.6860920350330262,
          1.7966629201710838,
          0.7059434946092662,
          -0.4638431276336962,
          0.8335385969736977,
          -0.7338353757187845,
          0.29198786778577684,
          0.7621576857108744,
          -1.2797389810464925,
          1.0297527504257031,
          0.9625278654239828,
          -1.7851418437008166,
          -1.0954108369089715,
          -2.8084934964522676,
          1.3198883643750479,
          0.39999831444598893,
          -1.141518084638812,
          -0.553833400359158,
          -0.5021357042202531,
          -1.7747620990430988,
          -0.7471339649507993,
          -1.680236866891475,
          0.16800536415649148,
          0.9624777623645401,
          0.7327131001167891,
          0.8596062243117514,
          0.9170009008811542,
          -0.8909419630348943,
          0.2427255664521905,
          -0.6065451458740814,
          0.2482809249447097,
          -1.8535909031151525,
          -0.09750333812372164,
          -0.8798749960318651,
          0.217800590401041,
          0.8029760466725708,
          0.6653151750366897,
          -0.3084497006647018,
          0.36768824082733653,
          -0.3339365462425808,
          0.13868616976000864,
          -0.714301240067701,
          0.5588471774554243,
          0.0069681037932292815,
          0.2403401185362488,
          0.47347545555015974,
          -1.1164580146104586,
          -1.3765949888678477,
          0.21828959853628632,
          0.2983118598338089,
          1.4624051256412518,
          -1.294335785990532,
          -1.1891868148706493,
          0.4480021923135863,
          0.12578697802044325,
          0.5113765435650498,
          0.1285909603816634,
          -0.6806646507469855,
          -0.28554355498000167,
          1.8309719250363772,
          -0.7378615237977918,
          0.8487554269717219,
          -0.22845770363282245,
          -1.3198777526010914,
          -1.7164357576246156,
          -0.8565176465067136,
          1.5973041294004924,
          1.2230412199308058,
          -0.7866323189888544,
          -1.3609919026164312,
          0.06459817804490998,
          0.921998675958377,
          2.1608332100400616,
          -0.44158263770700196,
          0.16697383520246797,
          0.15215444987588211,
          0.32083154833677463,
          -0.4768739422051255,
          0.15539672302809196,
          0.5132262797726742,
          0.5812646979598842,
          0.3999652636768709,
          -0.2552657391538536,
          0.09731861511588642
         ],
         "y": [
          -0.6382408485860838,
          -0.26445161392310296,
          -0.23213667337437718,
          0.5180176758815382,
          -1.1248049522097245,
          -0.380272960362963,
          -0.2932209551832816,
          -0.2983349399546075,
          0.8352757748805898,
          0.19767795485653444,
          -0.25848078585870043,
          0.6572601167502129,
          0.4792315672286233,
          -0.7297409216849485,
          0.4046424846202565,
          1.2968971276167458,
          0.13935965106348322,
          -0.6594484341435785,
          -0.02418590218582255,
          -2.5239897567978575,
          1.5346822177409631,
          -0.044687567248630725,
          1.6231383581412073,
          0.40026551057354326,
          -1.346220027753875,
          0.16491814429374466,
          0.9065722606320102,
          0.6700483963411383,
          -0.05104018162539486,
          1.1707146916736622,
          0.27196909622293,
          -0.823741868413821,
          -1.071654380390136,
          1.611845565479155,
          -0.6358684090521775,
          0.12088690562135754,
          -0.4238076744306274,
          0.30761109667202036,
          0.10090276567627783,
          -0.934825817248883,
          -0.11477621970946751,
          -0.25626272220601465,
          -2.2618111698047243,
          0.47059504469409547,
          0.3384630374158783,
          1.1429078856709527,
          1.039266887625021,
          -0.9967830206402708,
          -0.6202045714826442,
          0.22079305993745846,
          0.9115135718961257,
          -1.2122517475675738,
          1.0560300708411399,
          -1.9090176950054356,
          2.028179416010953,
          0.2831970755448901,
          0.6241028603371211,
          1.0407268957495415,
          -0.26224266816482766,
          0.5298657981252108,
          -2.0965098648132012,
          1.5130229822141446,
          -1.7078071537312842,
          -0.2720326625194213,
          1.5419814719954992,
          -0.3403798338394972,
          -0.2607484877893845,
          1.613613022678893,
          0.015346417608684809,
          0.8193595059346083,
          0.28400196804539557,
          0.23640271970560556,
          0.9643162048376709,
          -0.604459368826204,
          -1.2825284995959614,
          -0.3851992746376785,
          -0.2698997452038915,
          -0.1806119563245644,
          0.03316776563581451,
          -0.2064180896765948,
          0.5557810546207436,
          -0.9395511240801336,
          -0.3738586334196706,
          0.719627463803325,
          -1.1552010934966621,
          0.18725547161413295,
          -1.8598061078955381,
          -0.31999462379920496,
          -1.8573069884412665,
          0.5833843253960496,
          0.7005904412031791,
          -0.592374288827152,
          -0.32071254126644355,
          0.7437217160339742,
          -0.6523371315325809,
          -0.14606736635054363,
          -1.0609890385279603,
          -1.397175646717783,
          -0.4182909179317061,
          1.3303804152695233
         ]
        }
       ],
       "layout": {
        "legend": {
         "bgcolor": "#F5F6F9",
         "font": {
          "color": "#4D5663"
         }
        },
        "paper_bgcolor": "#F5F6F9",
        "plot_bgcolor": "#F5F6F9",
        "template": {
         "data": {
          "bar": [
           {
            "error_x": {
             "color": "#2a3f5f"
            },
            "error_y": {
             "color": "#2a3f5f"
            },
            "marker": {
             "line": {
              "color": "#E5ECF6",
              "width": 0.5
             },
             "pattern": {
              "fillmode": "overlay",
              "size": 10,
              "solidity": 0.2
             }
            },
            "type": "bar"
           }
          ],
          "barpolar": [
           {
            "marker": {
             "line": {
              "color": "#E5ECF6",
              "width": 0.5
             },
             "pattern": {
              "fillmode": "overlay",
              "size": 10,
              "solidity": 0.2
             }
            },
            "type": "barpolar"
           }
          ],
          "carpet": [
           {
            "aaxis": {
             "endlinecolor": "#2a3f5f",
             "gridcolor": "white",
             "linecolor": "white",
             "minorgridcolor": "white",
             "startlinecolor": "#2a3f5f"
            },
            "baxis": {
             "endlinecolor": "#2a3f5f",
             "gridcolor": "white",
             "linecolor": "white",
             "minorgridcolor": "white",
             "startlinecolor": "#2a3f5f"
            },
            "type": "carpet"
           }
          ],
          "choropleth": [
           {
            "colorbar": {
             "outlinewidth": 0,
             "ticks": ""
            },
            "type": "choropleth"
           }
          ],
          "contour": [
           {
            "colorbar": {
             "outlinewidth": 0,
             "ticks": ""
            },
            "colorscale": [
             [
              0,
              "#0d0887"
             ],
             [
              0.1111111111111111,
              "#46039f"
             ],
             [
              0.2222222222222222,
              "#7201a8"
             ],
             [
              0.3333333333333333,
              "#9c179e"
             ],
             [
              0.4444444444444444,
              "#bd3786"
             ],
             [
              0.5555555555555556,
              "#d8576b"
             ],
             [
              0.6666666666666666,
              "#ed7953"
             ],
             [
              0.7777777777777778,
              "#fb9f3a"
             ],
             [
              0.8888888888888888,
              "#fdca26"
             ],
             [
              1,
              "#f0f921"
             ]
            ],
            "type": "contour"
           }
          ],
          "contourcarpet": [
           {
            "colorbar": {
             "outlinewidth": 0,
             "ticks": ""
            },
            "type": "contourcarpet"
           }
          ],
          "heatmap": [
           {
            "colorbar": {
             "outlinewidth": 0,
             "ticks": ""
            },
            "colorscale": [
             [
              0,
              "#0d0887"
             ],
             [
              0.1111111111111111,
              "#46039f"
             ],
             [
              0.2222222222222222,
              "#7201a8"
             ],
             [
              0.3333333333333333,
              "#9c179e"
             ],
             [
              0.4444444444444444,
              "#bd3786"
             ],
             [
              0.5555555555555556,
              "#d8576b"
             ],
             [
              0.6666666666666666,
              "#ed7953"
             ],
             [
              0.7777777777777778,
              "#fb9f3a"
             ],
             [
              0.8888888888888888,
              "#fdca26"
             ],
             [
              1,
              "#f0f921"
             ]
            ],
            "type": "heatmap"
           }
          ],
          "heatmapgl": [
           {
            "colorbar": {
             "outlinewidth": 0,
             "ticks": ""
            },
            "colorscale": [
             [
              0,
              "#0d0887"
             ],
             [
              0.1111111111111111,
              "#46039f"
             ],
             [
              0.2222222222222222,
              "#7201a8"
             ],
             [
              0.3333333333333333,
              "#9c179e"
             ],
             [
              0.4444444444444444,
              "#bd3786"
             ],
             [
              0.5555555555555556,
              "#d8576b"
             ],
             [
              0.6666666666666666,
              "#ed7953"
             ],
             [
              0.7777777777777778,
              "#fb9f3a"
             ],
             [
              0.8888888888888888,
              "#fdca26"
             ],
             [
              1,
              "#f0f921"
             ]
            ],
            "type": "heatmapgl"
           }
          ],
          "histogram": [
           {
            "marker": {
             "pattern": {
              "fillmode": "overlay",
              "size": 10,
              "solidity": 0.2
             }
            },
            "type": "histogram"
           }
          ],
          "histogram2d": [
           {
            "colorbar": {
             "outlinewidth": 0,
             "ticks": ""
            },
            "colorscale": [
             [
              0,
              "#0d0887"
             ],
             [
              0.1111111111111111,
              "#46039f"
             ],
             [
              0.2222222222222222,
              "#7201a8"
             ],
             [
              0.3333333333333333,
              "#9c179e"
             ],
             [
              0.4444444444444444,
              "#bd3786"
             ],
             [
              0.5555555555555556,
              "#d8576b"
             ],
             [
              0.6666666666666666,
              "#ed7953"
             ],
             [
              0.7777777777777778,
              "#fb9f3a"
             ],
             [
              0.8888888888888888,
              "#fdca26"
             ],
             [
              1,
              "#f0f921"
             ]
            ],
            "type": "histogram2d"
           }
          ],
          "histogram2dcontour": [
           {
            "colorbar": {
             "outlinewidth": 0,
             "ticks": ""
            },
            "colorscale": [
             [
              0,
              "#0d0887"
             ],
             [
              0.1111111111111111,
              "#46039f"
             ],
             [
              0.2222222222222222,
              "#7201a8"
             ],
             [
              0.3333333333333333,
              "#9c179e"
             ],
             [
              0.4444444444444444,
              "#bd3786"
             ],
             [
              0.5555555555555556,
              "#d8576b"
             ],
             [
              0.6666666666666666,
              "#ed7953"
             ],
             [
              0.7777777777777778,
              "#fb9f3a"
             ],
             [
              0.8888888888888888,
              "#fdca26"
             ],
             [
              1,
              "#f0f921"
             ]
            ],
            "type": "histogram2dcontour"
           }
          ],
          "mesh3d": [
           {
            "colorbar": {
             "outlinewidth": 0,
             "ticks": ""
            },
            "type": "mesh3d"
           }
          ],
          "parcoords": [
           {
            "line": {
             "colorbar": {
              "outlinewidth": 0,
              "ticks": ""
             }
            },
            "type": "parcoords"
           }
          ],
          "pie": [
           {
            "automargin": true,
            "type": "pie"
           }
          ],
          "scatter": [
           {
            "fillpattern": {
             "fillmode": "overlay",
             "size": 10,
             "solidity": 0.2
            },
            "type": "scatter"
           }
          ],
          "scatter3d": [
           {
            "line": {
             "colorbar": {
              "outlinewidth": 0,
              "ticks": ""
             }
            },
            "marker": {
             "colorbar": {
              "outlinewidth": 0,
              "ticks": ""
             }
            },
            "type": "scatter3d"
           }
          ],
          "scattercarpet": [
           {
            "marker": {
             "colorbar": {
              "outlinewidth": 0,
              "ticks": ""
             }
            },
            "type": "scattercarpet"
           }
          ],
          "scattergeo": [
           {
            "marker": {
             "colorbar": {
              "outlinewidth": 0,
              "ticks": ""
             }
            },
            "type": "scattergeo"
           }
          ],
          "scattergl": [
           {
            "marker": {
             "colorbar": {
              "outlinewidth": 0,
              "ticks": ""
             }
            },
            "type": "scattergl"
           }
          ],
          "scattermapbox": [
           {
            "marker": {
             "colorbar": {
              "outlinewidth": 0,
              "ticks": ""
             }
            },
            "type": "scattermapbox"
           }
          ],
          "scatterpolar": [
           {
            "marker": {
             "colorbar": {
              "outlinewidth": 0,
              "ticks": ""
             }
            },
            "type": "scatterpolar"
           }
          ],
          "scatterpolargl": [
           {
            "marker": {
             "colorbar": {
              "outlinewidth": 0,
              "ticks": ""
             }
            },
            "type": "scatterpolargl"
           }
          ],
          "scatterternary": [
           {
            "marker": {
             "colorbar": {
              "outlinewidth": 0,
              "ticks": ""
             }
            },
            "type": "scatterternary"
           }
          ],
          "surface": [
           {
            "colorbar": {
             "outlinewidth": 0,
             "ticks": ""
            },
            "colorscale": [
             [
              0,
              "#0d0887"
             ],
             [
              0.1111111111111111,
              "#46039f"
             ],
             [
              0.2222222222222222,
              "#7201a8"
             ],
             [
              0.3333333333333333,
              "#9c179e"
             ],
             [
              0.4444444444444444,
              "#bd3786"
             ],
             [
              0.5555555555555556,
              "#d8576b"
             ],
             [
              0.6666666666666666,
              "#ed7953"
             ],
             [
              0.7777777777777778,
              "#fb9f3a"
             ],
             [
              0.8888888888888888,
              "#fdca26"
             ],
             [
              1,
              "#f0f921"
             ]
            ],
            "type": "surface"
           }
          ],
          "table": [
           {
            "cells": {
             "fill": {
              "color": "#EBF0F8"
             },
             "line": {
              "color": "white"
             }
            },
            "header": {
             "fill": {
              "color": "#C8D4E3"
             },
             "line": {
              "color": "white"
             }
            },
            "type": "table"
           }
          ]
         },
         "layout": {
          "annotationdefaults": {
           "arrowcolor": "#2a3f5f",
           "arrowhead": 0,
           "arrowwidth": 1
          },
          "autotypenumbers": "strict",
          "coloraxis": {
           "colorbar": {
            "outlinewidth": 0,
            "ticks": ""
           }
          },
          "colorscale": {
           "diverging": [
            [
             0,
             "#8e0152"
            ],
            [
             0.1,
             "#c51b7d"
            ],
            [
             0.2,
             "#de77ae"
            ],
            [
             0.3,
             "#f1b6da"
            ],
            [
             0.4,
             "#fde0ef"
            ],
            [
             0.5,
             "#f7f7f7"
            ],
            [
             0.6,
             "#e6f5d0"
            ],
            [
             0.7,
             "#b8e186"
            ],
            [
             0.8,
             "#7fbc41"
            ],
            [
             0.9,
             "#4d9221"
            ],
            [
             1,
             "#276419"
            ]
           ],
           "sequential": [
            [
             0,
             "#0d0887"
            ],
            [
             0.1111111111111111,
             "#46039f"
            ],
            [
             0.2222222222222222,
             "#7201a8"
            ],
            [
             0.3333333333333333,
             "#9c179e"
            ],
            [
             0.4444444444444444,
             "#bd3786"
            ],
            [
             0.5555555555555556,
             "#d8576b"
            ],
            [
             0.6666666666666666,
             "#ed7953"
            ],
            [
             0.7777777777777778,
             "#fb9f3a"
            ],
            [
             0.8888888888888888,
             "#fdca26"
            ],
            [
             1,
             "#f0f921"
            ]
           ],
           "sequentialminus": [
            [
             0,
             "#0d0887"
            ],
            [
             0.1111111111111111,
             "#46039f"
            ],
            [
             0.2222222222222222,
             "#7201a8"
            ],
            [
             0.3333333333333333,
             "#9c179e"
            ],
            [
             0.4444444444444444,
             "#bd3786"
            ],
            [
             0.5555555555555556,
             "#d8576b"
            ],
            [
             0.6666666666666666,
             "#ed7953"
            ],
            [
             0.7777777777777778,
             "#fb9f3a"
            ],
            [
             0.8888888888888888,
             "#fdca26"
            ],
            [
             1,
             "#f0f921"
            ]
           ]
          },
          "colorway": [
           "#636efa",
           "#EF553B",
           "#00cc96",
           "#ab63fa",
           "#FFA15A",
           "#19d3f3",
           "#FF6692",
           "#B6E880",
           "#FF97FF",
           "#FECB52"
          ],
          "font": {
           "color": "#2a3f5f"
          },
          "geo": {
           "bgcolor": "white",
           "lakecolor": "white",
           "landcolor": "#E5ECF6",
           "showlakes": true,
           "showland": true,
           "subunitcolor": "white"
          },
          "hoverlabel": {
           "align": "left"
          },
          "hovermode": "closest",
          "mapbox": {
           "style": "light"
          },
          "paper_bgcolor": "white",
          "plot_bgcolor": "#E5ECF6",
          "polar": {
           "angularaxis": {
            "gridcolor": "white",
            "linecolor": "white",
            "ticks": ""
           },
           "bgcolor": "#E5ECF6",
           "radialaxis": {
            "gridcolor": "white",
            "linecolor": "white",
            "ticks": ""
           }
          },
          "scene": {
           "xaxis": {
            "backgroundcolor": "#E5ECF6",
            "gridcolor": "white",
            "gridwidth": 2,
            "linecolor": "white",
            "showbackground": true,
            "ticks": "",
            "zerolinecolor": "white"
           },
           "yaxis": {
            "backgroundcolor": "#E5ECF6",
            "gridcolor": "white",
            "gridwidth": 2,
            "linecolor": "white",
            "showbackground": true,
            "ticks": "",
            "zerolinecolor": "white"
           },
           "zaxis": {
            "backgroundcolor": "#E5ECF6",
            "gridcolor": "white",
            "gridwidth": 2,
            "linecolor": "white",
            "showbackground": true,
            "ticks": "",
            "zerolinecolor": "white"
           }
          },
          "shapedefaults": {
           "line": {
            "color": "#2a3f5f"
           }
          },
          "ternary": {
           "aaxis": {
            "gridcolor": "white",
            "linecolor": "white",
            "ticks": ""
           },
           "baxis": {
            "gridcolor": "white",
            "linecolor": "white",
            "ticks": ""
           },
           "bgcolor": "#E5ECF6",
           "caxis": {
            "gridcolor": "white",
            "linecolor": "white",
            "ticks": ""
           }
          },
          "title": {
           "x": 0.05
          },
          "xaxis": {
           "automargin": true,
           "gridcolor": "white",
           "linecolor": "white",
           "ticks": "",
           "title": {
            "standoff": 15
           },
           "zerolinecolor": "white",
           "zerolinewidth": 2
          },
          "yaxis": {
           "automargin": true,
           "gridcolor": "white",
           "linecolor": "white",
           "ticks": "",
           "title": {
            "standoff": 15
           },
           "zerolinecolor": "white",
           "zerolinewidth": 2
          }
         }
        },
        "title": {
         "font": {
          "color": "#4D5663"
         }
        },
        "xaxis": {
         "gridcolor": "#E1E5ED",
         "showgrid": true,
         "tickfont": {
          "color": "#4D5663"
         },
         "title": {
          "font": {
           "color": "#4D5663"
          },
          "text": ""
         },
         "zerolinecolor": "#E1E5ED"
        },
        "yaxis": {
         "gridcolor": "#E1E5ED",
         "showgrid": true,
         "tickfont": {
          "color": "#4D5663"
         },
         "title": {
          "font": {
           "color": "#4D5663"
          },
          "text": ""
         },
         "zerolinecolor": "#E1E5ED"
        }
       }
      },
      "text/html": [
       "<div>                            <div id=\"60c08c89-2f19-4361-8dfc-34f7d0ed2f83\" class=\"plotly-graph-div\" style=\"height:525px; width:100%;\"></div>            <script type=\"text/javascript\">                require([\"plotly\"], function(Plotly) {                    window.PLOTLYENV=window.PLOTLYENV || {};\n",
       "                    window.PLOTLYENV.BASE_URL='https://plot.ly';                                    if (document.getElementById(\"60c08c89-2f19-4361-8dfc-34f7d0ed2f83\")) {                    Plotly.newPlot(                        \"60c08c89-2f19-4361-8dfc-34f7d0ed2f83\",                        [{\"marker\":{\"color\":[\"rgb(255, 153, 51)\",\"rgb(55, 128, 191)\",\"rgb(50, 171, 96)\",\"rgb(128, 0, 128)\",\"rgb(219, 64, 82)\",\"rgb(0, 128, 128)\",\"rgb(255, 255, 51)\",\"rgb(128, 128, 0)\",\"rgb(251, 128, 114)\",\"rgb(128, 177, 211)\"],\"line\":{\"width\":1.3},\"size\":[57,83,61,64,54,70,80,57,49,24,99,90,43,58,57,77,65,45,55,67,69,57,12,82,54,57,69,83,60,66,54,99,50,71,68,71,75,72,61,38,55,62,65,63,57,42,55,51,111,78,81,80,87,61,72,71,98,43,47,76,53,56,67,38,45,66,29,73,38,82,63,52,42,64,59,61,77,64,53,54,72,51,57,51,49,107,89,59,52,54,69,83,81,52,20,81,64,58,60,62],\"symbol\":\"circle\"},\"mode\":\"markers\",\"text\":\"\",\"x\":[-2.0245678545620653,-0.70000967402194,0.4923011266211667,-0.1721337617162361,0.1300772047032601,-0.8333704434524496,0.34121462467065816,0.9677726356756655,1.0120891924486815,1.2232183702754578,-0.8427421789582358,0.18819096793209314,-1.6095005021892217,0.41339125775669555,-0.8948518562686107,-0.1843957684237995,1.6860920350330262,1.7966629201710838,0.7059434946092662,-0.4638431276336962,0.8335385969736977,-0.7338353757187845,0.29198786778577684,0.7621576857108744,-1.2797389810464925,1.0297527504257031,0.9625278654239828,-1.7851418437008166,-1.0954108369089715,-2.8084934964522676,1.3198883643750479,0.39999831444598893,-1.141518084638812,-0.553833400359158,-0.5021357042202531,-1.7747620990430988,-0.7471339649507993,-1.680236866891475,0.16800536415649148,0.9624777623645401,0.7327131001167891,0.8596062243117514,0.9170009008811542,-0.8909419630348943,0.2427255664521905,-0.6065451458740814,0.2482809249447097,-1.8535909031151525,-0.09750333812372164,-0.8798749960318651,0.217800590401041,0.8029760466725708,0.6653151750366897,-0.3084497006647018,0.36768824082733653,-0.3339365462425808,0.13868616976000864,-0.714301240067701,0.5588471774554243,0.0069681037932292815,0.2403401185362488,0.47347545555015974,-1.1164580146104586,-1.3765949888678477,0.21828959853628632,0.2983118598338089,1.4624051256412518,-1.294335785990532,-1.1891868148706493,0.4480021923135863,0.12578697802044325,0.5113765435650498,0.1285909603816634,-0.6806646507469855,-0.28554355498000167,1.8309719250363772,-0.7378615237977918,0.8487554269717219,-0.22845770363282245,-1.3198777526010914,-1.7164357576246156,-0.8565176465067136,1.5973041294004924,1.2230412199308058,-0.7866323189888544,-1.3609919026164312,0.06459817804490998,0.921998675958377,2.1608332100400616,-0.44158263770700196,0.16697383520246797,0.15215444987588211,0.32083154833677463,-0.4768739422051255,0.15539672302809196,0.5132262797726742,0.5812646979598842,0.3999652636768709,-0.2552657391538536,0.09731861511588642],\"y\":[-0.6382408485860838,-0.26445161392310296,-0.23213667337437718,0.5180176758815382,-1.1248049522097245,-0.380272960362963,-0.2932209551832816,-0.2983349399546075,0.8352757748805898,0.19767795485653444,-0.25848078585870043,0.6572601167502129,0.4792315672286233,-0.7297409216849485,0.4046424846202565,1.2968971276167458,0.13935965106348322,-0.6594484341435785,-0.02418590218582255,-2.5239897567978575,1.5346822177409631,-0.044687567248630725,1.6231383581412073,0.40026551057354326,-1.346220027753875,0.16491814429374466,0.9065722606320102,0.6700483963411383,-0.05104018162539486,1.1707146916736622,0.27196909622293,-0.823741868413821,-1.071654380390136,1.611845565479155,-0.6358684090521775,0.12088690562135754,-0.4238076744306274,0.30761109667202036,0.10090276567627783,-0.934825817248883,-0.11477621970946751,-0.25626272220601465,-2.2618111698047243,0.47059504469409547,0.3384630374158783,1.1429078856709527,1.039266887625021,-0.9967830206402708,-0.6202045714826442,0.22079305993745846,0.9115135718961257,-1.2122517475675738,1.0560300708411399,-1.9090176950054356,2.028179416010953,0.2831970755448901,0.6241028603371211,1.0407268957495415,-0.26224266816482766,0.5298657981252108,-2.0965098648132012,1.5130229822141446,-1.7078071537312842,-0.2720326625194213,1.5419814719954992,-0.3403798338394972,-0.2607484877893845,1.613613022678893,0.015346417608684809,0.8193595059346083,0.28400196804539557,0.23640271970560556,0.9643162048376709,-0.604459368826204,-1.2825284995959614,-0.3851992746376785,-0.2698997452038915,-0.1806119563245644,0.03316776563581451,-0.2064180896765948,0.5557810546207436,-0.9395511240801336,-0.3738586334196706,0.719627463803325,-1.1552010934966621,0.18725547161413295,-1.8598061078955381,-0.31999462379920496,-1.8573069884412665,0.5833843253960496,0.7005904412031791,-0.592374288827152,-0.32071254126644355,0.7437217160339742,-0.6523371315325809,-0.14606736635054363,-1.0609890385279603,-1.397175646717783,-0.4182909179317061,1.3303804152695233],\"type\":\"scatter\"}],                        {\"legend\":{\"bgcolor\":\"#F5F6F9\",\"font\":{\"color\":\"#4D5663\"}},\"paper_bgcolor\":\"#F5F6F9\",\"plot_bgcolor\":\"#F5F6F9\",\"template\":{\"data\":{\"barpolar\":[{\"marker\":{\"line\":{\"color\":\"#E5ECF6\",\"width\":0.5},\"pattern\":{\"fillmode\":\"overlay\",\"size\":10,\"solidity\":0.2}},\"type\":\"barpolar\"}],\"bar\":[{\"error_x\":{\"color\":\"#2a3f5f\"},\"error_y\":{\"color\":\"#2a3f5f\"},\"marker\":{\"line\":{\"color\":\"#E5ECF6\",\"width\":0.5},\"pattern\":{\"fillmode\":\"overlay\",\"size\":10,\"solidity\":0.2}},\"type\":\"bar\"}],\"carpet\":[{\"aaxis\":{\"endlinecolor\":\"#2a3f5f\",\"gridcolor\":\"white\",\"linecolor\":\"white\",\"minorgridcolor\":\"white\",\"startlinecolor\":\"#2a3f5f\"},\"baxis\":{\"endlinecolor\":\"#2a3f5f\",\"gridcolor\":\"white\",\"linecolor\":\"white\",\"minorgridcolor\":\"white\",\"startlinecolor\":\"#2a3f5f\"},\"type\":\"carpet\"}],\"choropleth\":[{\"colorbar\":{\"outlinewidth\":0,\"ticks\":\"\"},\"type\":\"choropleth\"}],\"contourcarpet\":[{\"colorbar\":{\"outlinewidth\":0,\"ticks\":\"\"},\"type\":\"contourcarpet\"}],\"contour\":[{\"colorbar\":{\"outlinewidth\":0,\"ticks\":\"\"},\"colorscale\":[[0.0,\"#0d0887\"],[0.1111111111111111,\"#46039f\"],[0.2222222222222222,\"#7201a8\"],[0.3333333333333333,\"#9c179e\"],[0.4444444444444444,\"#bd3786\"],[0.5555555555555556,\"#d8576b\"],[0.6666666666666666,\"#ed7953\"],[0.7777777777777778,\"#fb9f3a\"],[0.8888888888888888,\"#fdca26\"],[1.0,\"#f0f921\"]],\"type\":\"contour\"}],\"heatmapgl\":[{\"colorbar\":{\"outlinewidth\":0,\"ticks\":\"\"},\"colorscale\":[[0.0,\"#0d0887\"],[0.1111111111111111,\"#46039f\"],[0.2222222222222222,\"#7201a8\"],[0.3333333333333333,\"#9c179e\"],[0.4444444444444444,\"#bd3786\"],[0.5555555555555556,\"#d8576b\"],[0.6666666666666666,\"#ed7953\"],[0.7777777777777778,\"#fb9f3a\"],[0.8888888888888888,\"#fdca26\"],[1.0,\"#f0f921\"]],\"type\":\"heatmapgl\"}],\"heatmap\":[{\"colorbar\":{\"outlinewidth\":0,\"ticks\":\"\"},\"colorscale\":[[0.0,\"#0d0887\"],[0.1111111111111111,\"#46039f\"],[0.2222222222222222,\"#7201a8\"],[0.3333333333333333,\"#9c179e\"],[0.4444444444444444,\"#bd3786\"],[0.5555555555555556,\"#d8576b\"],[0.6666666666666666,\"#ed7953\"],[0.7777777777777778,\"#fb9f3a\"],[0.8888888888888888,\"#fdca26\"],[1.0,\"#f0f921\"]],\"type\":\"heatmap\"}],\"histogram2dcontour\":[{\"colorbar\":{\"outlinewidth\":0,\"ticks\":\"\"},\"colorscale\":[[0.0,\"#0d0887\"],[0.1111111111111111,\"#46039f\"],[0.2222222222222222,\"#7201a8\"],[0.3333333333333333,\"#9c179e\"],[0.4444444444444444,\"#bd3786\"],[0.5555555555555556,\"#d8576b\"],[0.6666666666666666,\"#ed7953\"],[0.7777777777777778,\"#fb9f3a\"],[0.8888888888888888,\"#fdca26\"],[1.0,\"#f0f921\"]],\"type\":\"histogram2dcontour\"}],\"histogram2d\":[{\"colorbar\":{\"outlinewidth\":0,\"ticks\":\"\"},\"colorscale\":[[0.0,\"#0d0887\"],[0.1111111111111111,\"#46039f\"],[0.2222222222222222,\"#7201a8\"],[0.3333333333333333,\"#9c179e\"],[0.4444444444444444,\"#bd3786\"],[0.5555555555555556,\"#d8576b\"],[0.6666666666666666,\"#ed7953\"],[0.7777777777777778,\"#fb9f3a\"],[0.8888888888888888,\"#fdca26\"],[1.0,\"#f0f921\"]],\"type\":\"histogram2d\"}],\"histogram\":[{\"marker\":{\"pattern\":{\"fillmode\":\"overlay\",\"size\":10,\"solidity\":0.2}},\"type\":\"histogram\"}],\"mesh3d\":[{\"colorbar\":{\"outlinewidth\":0,\"ticks\":\"\"},\"type\":\"mesh3d\"}],\"parcoords\":[{\"line\":{\"colorbar\":{\"outlinewidth\":0,\"ticks\":\"\"}},\"type\":\"parcoords\"}],\"pie\":[{\"automargin\":true,\"type\":\"pie\"}],\"scatter3d\":[{\"line\":{\"colorbar\":{\"outlinewidth\":0,\"ticks\":\"\"}},\"marker\":{\"colorbar\":{\"outlinewidth\":0,\"ticks\":\"\"}},\"type\":\"scatter3d\"}],\"scattercarpet\":[{\"marker\":{\"colorbar\":{\"outlinewidth\":0,\"ticks\":\"\"}},\"type\":\"scattercarpet\"}],\"scattergeo\":[{\"marker\":{\"colorbar\":{\"outlinewidth\":0,\"ticks\":\"\"}},\"type\":\"scattergeo\"}],\"scattergl\":[{\"marker\":{\"colorbar\":{\"outlinewidth\":0,\"ticks\":\"\"}},\"type\":\"scattergl\"}],\"scattermapbox\":[{\"marker\":{\"colorbar\":{\"outlinewidth\":0,\"ticks\":\"\"}},\"type\":\"scattermapbox\"}],\"scatterpolargl\":[{\"marker\":{\"colorbar\":{\"outlinewidth\":0,\"ticks\":\"\"}},\"type\":\"scatterpolargl\"}],\"scatterpolar\":[{\"marker\":{\"colorbar\":{\"outlinewidth\":0,\"ticks\":\"\"}},\"type\":\"scatterpolar\"}],\"scatter\":[{\"fillpattern\":{\"fillmode\":\"overlay\",\"size\":10,\"solidity\":0.2},\"type\":\"scatter\"}],\"scatterternary\":[{\"marker\":{\"colorbar\":{\"outlinewidth\":0,\"ticks\":\"\"}},\"type\":\"scatterternary\"}],\"surface\":[{\"colorbar\":{\"outlinewidth\":0,\"ticks\":\"\"},\"colorscale\":[[0.0,\"#0d0887\"],[0.1111111111111111,\"#46039f\"],[0.2222222222222222,\"#7201a8\"],[0.3333333333333333,\"#9c179e\"],[0.4444444444444444,\"#bd3786\"],[0.5555555555555556,\"#d8576b\"],[0.6666666666666666,\"#ed7953\"],[0.7777777777777778,\"#fb9f3a\"],[0.8888888888888888,\"#fdca26\"],[1.0,\"#f0f921\"]],\"type\":\"surface\"}],\"table\":[{\"cells\":{\"fill\":{\"color\":\"#EBF0F8\"},\"line\":{\"color\":\"white\"}},\"header\":{\"fill\":{\"color\":\"#C8D4E3\"},\"line\":{\"color\":\"white\"}},\"type\":\"table\"}]},\"layout\":{\"annotationdefaults\":{\"arrowcolor\":\"#2a3f5f\",\"arrowhead\":0,\"arrowwidth\":1},\"autotypenumbers\":\"strict\",\"coloraxis\":{\"colorbar\":{\"outlinewidth\":0,\"ticks\":\"\"}},\"colorscale\":{\"diverging\":[[0,\"#8e0152\"],[0.1,\"#c51b7d\"],[0.2,\"#de77ae\"],[0.3,\"#f1b6da\"],[0.4,\"#fde0ef\"],[0.5,\"#f7f7f7\"],[0.6,\"#e6f5d0\"],[0.7,\"#b8e186\"],[0.8,\"#7fbc41\"],[0.9,\"#4d9221\"],[1,\"#276419\"]],\"sequential\":[[0.0,\"#0d0887\"],[0.1111111111111111,\"#46039f\"],[0.2222222222222222,\"#7201a8\"],[0.3333333333333333,\"#9c179e\"],[0.4444444444444444,\"#bd3786\"],[0.5555555555555556,\"#d8576b\"],[0.6666666666666666,\"#ed7953\"],[0.7777777777777778,\"#fb9f3a\"],[0.8888888888888888,\"#fdca26\"],[1.0,\"#f0f921\"]],\"sequentialminus\":[[0.0,\"#0d0887\"],[0.1111111111111111,\"#46039f\"],[0.2222222222222222,\"#7201a8\"],[0.3333333333333333,\"#9c179e\"],[0.4444444444444444,\"#bd3786\"],[0.5555555555555556,\"#d8576b\"],[0.6666666666666666,\"#ed7953\"],[0.7777777777777778,\"#fb9f3a\"],[0.8888888888888888,\"#fdca26\"],[1.0,\"#f0f921\"]]},\"colorway\":[\"#636efa\",\"#EF553B\",\"#00cc96\",\"#ab63fa\",\"#FFA15A\",\"#19d3f3\",\"#FF6692\",\"#B6E880\",\"#FF97FF\",\"#FECB52\"],\"font\":{\"color\":\"#2a3f5f\"},\"geo\":{\"bgcolor\":\"white\",\"lakecolor\":\"white\",\"landcolor\":\"#E5ECF6\",\"showlakes\":true,\"showland\":true,\"subunitcolor\":\"white\"},\"hoverlabel\":{\"align\":\"left\"},\"hovermode\":\"closest\",\"mapbox\":{\"style\":\"light\"},\"paper_bgcolor\":\"white\",\"plot_bgcolor\":\"#E5ECF6\",\"polar\":{\"angularaxis\":{\"gridcolor\":\"white\",\"linecolor\":\"white\",\"ticks\":\"\"},\"bgcolor\":\"#E5ECF6\",\"radialaxis\":{\"gridcolor\":\"white\",\"linecolor\":\"white\",\"ticks\":\"\"}},\"scene\":{\"xaxis\":{\"backgroundcolor\":\"#E5ECF6\",\"gridcolor\":\"white\",\"gridwidth\":2,\"linecolor\":\"white\",\"showbackground\":true,\"ticks\":\"\",\"zerolinecolor\":\"white\"},\"yaxis\":{\"backgroundcolor\":\"#E5ECF6\",\"gridcolor\":\"white\",\"gridwidth\":2,\"linecolor\":\"white\",\"showbackground\":true,\"ticks\":\"\",\"zerolinecolor\":\"white\"},\"zaxis\":{\"backgroundcolor\":\"#E5ECF6\",\"gridcolor\":\"white\",\"gridwidth\":2,\"linecolor\":\"white\",\"showbackground\":true,\"ticks\":\"\",\"zerolinecolor\":\"white\"}},\"shapedefaults\":{\"line\":{\"color\":\"#2a3f5f\"}},\"ternary\":{\"aaxis\":{\"gridcolor\":\"white\",\"linecolor\":\"white\",\"ticks\":\"\"},\"baxis\":{\"gridcolor\":\"white\",\"linecolor\":\"white\",\"ticks\":\"\"},\"bgcolor\":\"#E5ECF6\",\"caxis\":{\"gridcolor\":\"white\",\"linecolor\":\"white\",\"ticks\":\"\"}},\"title\":{\"x\":0.05},\"xaxis\":{\"automargin\":true,\"gridcolor\":\"white\",\"linecolor\":\"white\",\"ticks\":\"\",\"title\":{\"standoff\":15},\"zerolinecolor\":\"white\",\"zerolinewidth\":2},\"yaxis\":{\"automargin\":true,\"gridcolor\":\"white\",\"linecolor\":\"white\",\"ticks\":\"\",\"title\":{\"standoff\":15},\"zerolinecolor\":\"white\",\"zerolinewidth\":2}}},\"title\":{\"font\":{\"color\":\"#4D5663\"}},\"xaxis\":{\"gridcolor\":\"#E1E5ED\",\"showgrid\":true,\"tickfont\":{\"color\":\"#4D5663\"},\"title\":{\"font\":{\"color\":\"#4D5663\"},\"text\":\"\"},\"zerolinecolor\":\"#E1E5ED\"},\"yaxis\":{\"gridcolor\":\"#E1E5ED\",\"showgrid\":true,\"tickfont\":{\"color\":\"#4D5663\"},\"title\":{\"font\":{\"color\":\"#4D5663\"},\"text\":\"\"},\"zerolinecolor\":\"#E1E5ED\"}},                        {\"showLink\": true, \"linkText\": \"Export to plot.ly\", \"plotlyServerURL\": \"https://plot.ly\", \"responsive\": true}                    ).then(function(){\n",
       "                            \n",
       "var gd = document.getElementById('60c08c89-2f19-4361-8dfc-34f7d0ed2f83');\n",
       "var x = new MutationObserver(function (mutations, observer) {{\n",
       "        var display = window.getComputedStyle(gd).display;\n",
       "        if (!display || display === 'none') {{\n",
       "            console.log([gd, 'removed!']);\n",
       "            Plotly.purge(gd);\n",
       "            observer.disconnect();\n",
       "        }}\n",
       "}});\n",
       "\n",
       "// Listen for the removal of the full notebook cells\n",
       "var notebookContainer = gd.closest('#notebook-container');\n",
       "if (notebookContainer) {{\n",
       "    x.observe(notebookContainer, {childList: true});\n",
       "}}\n",
       "\n",
       "// Listen for the clearing of the current output cell\n",
       "var outputEl = gd.closest('.output');\n",
       "if (outputEl) {{\n",
       "    x.observe(outputEl, {childList: true});\n",
       "}}\n",
       "\n",
       "                        })                };                });            </script>        </div>"
      ]
     },
     "metadata": {},
     "output_type": "display_data"
    }
   ],
   "source": [
    "df.iplot(kind='bubble',x='A',y='B',size='C')"
   ]
  },
  {
   "cell_type": "code",
   "execution_count": 80,
   "id": "8def873d",
   "metadata": {},
   "outputs": [
    {
     "data": {
      "application/vnd.plotly.v1+json": {
       "config": {
        "linkText": "Export to plot.ly",
        "plotlyServerURL": "https://plot.ly",
        "showLink": true
       },
       "data": [
        {
         "histfunc": "count",
         "histnorm": "",
         "marker": {
          "color": "rgba(255, 153, 51, 1.0)",
          "line": {
           "color": "#4D5663",
           "width": 1.3
          }
         },
         "name": "A",
         "nbinsx": 10,
         "opacity": 0.8,
         "orientation": "v",
         "type": "histogram",
         "x": [
          -2.0245678545620653,
          -0.70000967402194,
          0.4923011266211667,
          -0.1721337617162361,
          0.1300772047032601,
          -0.8333704434524496,
          0.34121462467065816,
          0.9677726356756655,
          1.0120891924486815,
          1.2232183702754578,
          -0.8427421789582358,
          0.18819096793209314,
          -1.6095005021892217,
          0.41339125775669555,
          -0.8948518562686107,
          -0.1843957684237995,
          1.6860920350330262,
          1.7966629201710838,
          0.7059434946092662,
          -0.4638431276336962,
          0.8335385969736977,
          -0.7338353757187845,
          0.29198786778577684,
          0.7621576857108744,
          -1.2797389810464925,
          1.0297527504257031,
          0.9625278654239828,
          -1.7851418437008166,
          -1.0954108369089715,
          -2.8084934964522676,
          1.3198883643750479,
          0.39999831444598893,
          -1.141518084638812,
          -0.553833400359158,
          -0.5021357042202531,
          -1.7747620990430988,
          -0.7471339649507993,
          -1.680236866891475,
          0.16800536415649148,
          0.9624777623645401,
          0.7327131001167891,
          0.8596062243117514,
          0.9170009008811542,
          -0.8909419630348943,
          0.2427255664521905,
          -0.6065451458740814,
          0.2482809249447097,
          -1.8535909031151525,
          -0.09750333812372164,
          -0.8798749960318651,
          0.217800590401041,
          0.8029760466725708,
          0.6653151750366897,
          -0.3084497006647018,
          0.36768824082733653,
          -0.3339365462425808,
          0.13868616976000864,
          -0.714301240067701,
          0.5588471774554243,
          0.0069681037932292815,
          0.2403401185362488,
          0.47347545555015974,
          -1.1164580146104586,
          -1.3765949888678477,
          0.21828959853628632,
          0.2983118598338089,
          1.4624051256412518,
          -1.294335785990532,
          -1.1891868148706493,
          0.4480021923135863,
          0.12578697802044325,
          0.5113765435650498,
          0.1285909603816634,
          -0.6806646507469855,
          -0.28554355498000167,
          1.8309719250363772,
          -0.7378615237977918,
          0.8487554269717219,
          -0.22845770363282245,
          -1.3198777526010914,
          -1.7164357576246156,
          -0.8565176465067136,
          1.5973041294004924,
          1.2230412199308058,
          -0.7866323189888544,
          -1.3609919026164312,
          0.06459817804490998,
          0.921998675958377,
          2.1608332100400616,
          -0.44158263770700196,
          0.16697383520246797,
          0.15215444987588211,
          0.32083154833677463,
          -0.4768739422051255,
          0.15539672302809196,
          0.5132262797726742,
          0.5812646979598842,
          0.3999652636768709,
          -0.2552657391538536,
          0.09731861511588642
         ],
         "xaxis": "x",
         "yaxis": "y"
        },
        {
         "line": {
          "color": "rgba(128, 128, 128, 1.0)",
          "dash": "solid",
          "shape": "linear",
          "width": 1.3
         },
         "marker": {
          "size": 2,
          "symbol": "circle"
         },
         "mode": "markers",
         "name": "A",
         "text": "",
         "type": "scatter",
         "x": [
          -0.6382408485860838,
          -0.26445161392310296,
          -0.23213667337437718,
          0.5180176758815382,
          -1.1248049522097245,
          -0.380272960362963,
          -0.2932209551832816,
          -0.2983349399546075,
          0.8352757748805898,
          0.19767795485653444,
          -0.25848078585870043,
          0.6572601167502129,
          0.4792315672286233,
          -0.7297409216849485,
          0.4046424846202565,
          1.2968971276167458,
          0.13935965106348322,
          -0.6594484341435785,
          -0.02418590218582255,
          -2.5239897567978575,
          1.5346822177409631,
          -0.044687567248630725,
          1.6231383581412073,
          0.40026551057354326,
          -1.346220027753875,
          0.16491814429374466,
          0.9065722606320102,
          0.6700483963411383,
          -0.05104018162539486,
          1.1707146916736622,
          0.27196909622293,
          -0.823741868413821,
          -1.071654380390136,
          1.611845565479155,
          -0.6358684090521775,
          0.12088690562135754,
          -0.4238076744306274,
          0.30761109667202036,
          0.10090276567627783,
          -0.934825817248883,
          -0.11477621970946751,
          -0.25626272220601465,
          -2.2618111698047243,
          0.47059504469409547,
          0.3384630374158783,
          1.1429078856709527,
          1.039266887625021,
          -0.9967830206402708,
          -0.6202045714826442,
          0.22079305993745846,
          0.9115135718961257,
          -1.2122517475675738,
          1.0560300708411399,
          -1.9090176950054356,
          2.028179416010953,
          0.2831970755448901,
          0.6241028603371211,
          1.0407268957495415,
          -0.26224266816482766,
          0.5298657981252108,
          -2.0965098648132012,
          1.5130229822141446,
          -1.7078071537312842,
          -0.2720326625194213,
          1.5419814719954992,
          -0.3403798338394972,
          -0.2607484877893845,
          1.613613022678893,
          0.015346417608684809,
          0.8193595059346083,
          0.28400196804539557,
          0.23640271970560556,
          0.9643162048376709,
          -0.604459368826204,
          -1.2825284995959614,
          -0.3851992746376785,
          -0.2698997452038915,
          -0.1806119563245644,
          0.03316776563581451,
          -0.2064180896765948,
          0.5557810546207436,
          -0.9395511240801336,
          -0.3738586334196706,
          0.719627463803325,
          -1.1552010934966621,
          0.18725547161413295,
          -1.8598061078955381,
          -0.31999462379920496,
          -1.8573069884412665,
          0.5833843253960496,
          0.7005904412031791,
          -0.592374288827152,
          -0.32071254126644355,
          0.7437217160339742,
          -0.6523371315325809,
          -0.14606736635054363,
          -1.0609890385279603,
          -1.397175646717783,
          -0.4182909179317061,
          1.3303804152695233
         ],
         "xaxis": "x2",
         "y": [
          -2.0245678545620653,
          -0.70000967402194,
          0.4923011266211667,
          -0.1721337617162361,
          0.1300772047032601,
          -0.8333704434524496,
          0.34121462467065816,
          0.9677726356756655,
          1.0120891924486815,
          1.2232183702754578,
          -0.8427421789582358,
          0.18819096793209314,
          -1.6095005021892217,
          0.41339125775669555,
          -0.8948518562686107,
          -0.1843957684237995,
          1.6860920350330262,
          1.7966629201710838,
          0.7059434946092662,
          -0.4638431276336962,
          0.8335385969736977,
          -0.7338353757187845,
          0.29198786778577684,
          0.7621576857108744,
          -1.2797389810464925,
          1.0297527504257031,
          0.9625278654239828,
          -1.7851418437008166,
          -1.0954108369089715,
          -2.8084934964522676,
          1.3198883643750479,
          0.39999831444598893,
          -1.141518084638812,
          -0.553833400359158,
          -0.5021357042202531,
          -1.7747620990430988,
          -0.7471339649507993,
          -1.680236866891475,
          0.16800536415649148,
          0.9624777623645401,
          0.7327131001167891,
          0.8596062243117514,
          0.9170009008811542,
          -0.8909419630348943,
          0.2427255664521905,
          -0.6065451458740814,
          0.2482809249447097,
          -1.8535909031151525,
          -0.09750333812372164,
          -0.8798749960318651,
          0.217800590401041,
          0.8029760466725708,
          0.6653151750366897,
          -0.3084497006647018,
          0.36768824082733653,
          -0.3339365462425808,
          0.13868616976000864,
          -0.714301240067701,
          0.5588471774554243,
          0.0069681037932292815,
          0.2403401185362488,
          0.47347545555015974,
          -1.1164580146104586,
          -1.3765949888678477,
          0.21828959853628632,
          0.2983118598338089,
          1.4624051256412518,
          -1.294335785990532,
          -1.1891868148706493,
          0.4480021923135863,
          0.12578697802044325,
          0.5113765435650498,
          0.1285909603816634,
          -0.6806646507469855,
          -0.28554355498000167,
          1.8309719250363772,
          -0.7378615237977918,
          0.8487554269717219,
          -0.22845770363282245,
          -1.3198777526010914,
          -1.7164357576246156,
          -0.8565176465067136,
          1.5973041294004924,
          1.2230412199308058,
          -0.7866323189888544,
          -1.3609919026164312,
          0.06459817804490998,
          0.921998675958377,
          2.1608332100400616,
          -0.44158263770700196,
          0.16697383520246797,
          0.15215444987588211,
          0.32083154833677463,
          -0.4768739422051255,
          0.15539672302809196,
          0.5132262797726742,
          0.5812646979598842,
          0.3999652636768709,
          -0.2552657391538536,
          0.09731861511588642
         ],
         "yaxis": "y2"
        },
        {
         "line": {
          "color": "rgba(128, 128, 128, 1.0)",
          "dash": "solid",
          "shape": "linear",
          "width": 1.3
         },
         "marker": {
          "size": 2,
          "symbol": "circle"
         },
         "mode": "markers",
         "name": "A",
         "text": "",
         "type": "scatter",
         "x": [
          -0.224893079246173,
          1.2503815642723262,
          -0.009751551125147586,
          0.16527703916918052,
          -0.3745090835527552,
          0.515662283296908,
          1.0547154138277266,
          -0.22067757188991727,
          -0.6498584802383204,
          -2.07908895587237,
          2.1403465577961116,
          1.6445158565680038,
          -1.0175955610791787,
          -0.17251980686788723,
          -0.19414925926115856,
          0.9311926054750844,
          0.24273553610203655,
          -0.8953402123461103,
          -0.3387964991908508,
          0.36389088884917165,
          0.4405868040137417,
          -0.21012156100866447,
          -2.788900751431851,
          1.198143626275225,
          -0.4127880365061836,
          -0.238621684631133,
          0.4371715805619799,
          1.256886884011327,
          -0.060193643202252595,
          0.3059995769855611,
          -0.4158291391773987,
          2.1475559417541734,
          -0.6243802744709012,
          0.5817247352369509,
          0.39266255814740997,
          0.5649256027013886,
          0.8061396519459106,
          0.6195039399742812,
          0.02177467231854164,
          -1.319899574991042,
          -0.3356450667412887,
          0.03748262752761676,
          0.21357396085531327,
          0.1224416437776951,
          -0.2197873964063419,
          -1.0600124514378158,
          -0.3345568122382559,
          -0.5769051564609712,
          2.8592353822054193,
          0.9402264092354687,
          1.1170894271622458,
          1.1025825408160912,
          1.4589599777641047,
          -0.00559822897158635,
          0.649167046273083,
          0.5962648454476672,
          2.1015783595893724,
          -1.0004967709798152,
          -0.794419492093333,
          0.8507876014851588,
          -0.43312010038274834,
          -0.25549192361797196,
          0.3408418093354243,
          -1.3140065306556812,
          -0.892627715873621,
          0.2800577801511644,
          -1.8190732690240992,
          0.7071155509495465,
          -1.2699887648430062,
          1.1691192931392227,
          0.11665823912731504,
          -0.5073035259374067,
          -1.0932263125943875,
          0.20275177216827314,
          -0.11142118650757836,
          0.02910736140493556,
          0.9342531709146351,
          0.16746231525434202,
          -0.4608568591137009,
          -0.3901894838095558,
          0.6092957626506681,
          -0.5557513480847908,
          -0.21909070450172796,
          -0.537747844859767,
          -0.672824530162349,
          2.6124495827756866,
          1.6013530267662324,
          -0.10470803359208224,
          -0.48551242090787217,
          -0.36798474127000314,
          0.4582902064494334,
          1.2426685607553631,
          1.1506367383501355,
          -0.48916011980898466,
          -2.311296255514442,
          1.1525036060530027,
          0.18302057139365044,
          -0.13978553105887837,
          -0.04229289544270978,
          0.04282490464750087
         ],
         "xaxis": "x3",
         "y": [
          -2.0245678545620653,
          -0.70000967402194,
          0.4923011266211667,
          -0.1721337617162361,
          0.1300772047032601,
          -0.8333704434524496,
          0.34121462467065816,
          0.9677726356756655,
          1.0120891924486815,
          1.2232183702754578,
          -0.8427421789582358,
          0.18819096793209314,
          -1.6095005021892217,
          0.41339125775669555,
          -0.8948518562686107,
          -0.1843957684237995,
          1.6860920350330262,
          1.7966629201710838,
          0.7059434946092662,
          -0.4638431276336962,
          0.8335385969736977,
          -0.7338353757187845,
          0.29198786778577684,
          0.7621576857108744,
          -1.2797389810464925,
          1.0297527504257031,
          0.9625278654239828,
          -1.7851418437008166,
          -1.0954108369089715,
          -2.8084934964522676,
          1.3198883643750479,
          0.39999831444598893,
          -1.141518084638812,
          -0.553833400359158,
          -0.5021357042202531,
          -1.7747620990430988,
          -0.7471339649507993,
          -1.680236866891475,
          0.16800536415649148,
          0.9624777623645401,
          0.7327131001167891,
          0.8596062243117514,
          0.9170009008811542,
          -0.8909419630348943,
          0.2427255664521905,
          -0.6065451458740814,
          0.2482809249447097,
          -1.8535909031151525,
          -0.09750333812372164,
          -0.8798749960318651,
          0.217800590401041,
          0.8029760466725708,
          0.6653151750366897,
          -0.3084497006647018,
          0.36768824082733653,
          -0.3339365462425808,
          0.13868616976000864,
          -0.714301240067701,
          0.5588471774554243,
          0.0069681037932292815,
          0.2403401185362488,
          0.47347545555015974,
          -1.1164580146104586,
          -1.3765949888678477,
          0.21828959853628632,
          0.2983118598338089,
          1.4624051256412518,
          -1.294335785990532,
          -1.1891868148706493,
          0.4480021923135863,
          0.12578697802044325,
          0.5113765435650498,
          0.1285909603816634,
          -0.6806646507469855,
          -0.28554355498000167,
          1.8309719250363772,
          -0.7378615237977918,
          0.8487554269717219,
          -0.22845770363282245,
          -1.3198777526010914,
          -1.7164357576246156,
          -0.8565176465067136,
          1.5973041294004924,
          1.2230412199308058,
          -0.7866323189888544,
          -1.3609919026164312,
          0.06459817804490998,
          0.921998675958377,
          2.1608332100400616,
          -0.44158263770700196,
          0.16697383520246797,
          0.15215444987588211,
          0.32083154833677463,
          -0.4768739422051255,
          0.15539672302809196,
          0.5132262797726742,
          0.5812646979598842,
          0.3999652636768709,
          -0.2552657391538536,
          0.09731861511588642
         ],
         "yaxis": "y3"
        },
        {
         "line": {
          "color": "rgba(128, 128, 128, 1.0)",
          "dash": "solid",
          "shape": "linear",
          "width": 1.3
         },
         "marker": {
          "size": 2,
          "symbol": "circle"
         },
         "mode": "markers",
         "name": "A",
         "text": "",
         "type": "scatter",
         "x": [
          1.298015485089696,
          -0.23339096447922594,
          1.1037728080136389,
          0.19806209294100593,
          2.549860056192145,
          -0.9061470055249541,
          -1.6191346355086136,
          -0.6402695199792406,
          0.5301304795188629,
          0.10826973860060203,
          -0.03096417152728443,
          -1.333260776229409,
          -0.5106018658222338,
          -1.2602161142365913,
          1.0541069690486944,
          -0.5360890299819138,
          1.2919783215192175,
          -0.06548767963927178,
          1.292524371037477,
          0.4704853470988679,
          -0.01271146868624112,
          -1.6469302468272102,
          -0.48917579782210724,
          0.37733382079878897,
          -1.1976258256123749,
          0.20879853261299658,
          0.2444678967514823,
          0.16870241860798135,
          1.6006255420901228,
          -0.028579174827799286,
          1.3256317621847986,
          -1.3605698101646098,
          0.8195467855949271,
          -0.9808516343193202,
          -0.6390064981962895,
          -1.245203809566456,
          0.4337270017046839,
          1.234528835493931,
          -0.4104457369366574,
          0.5665420894986996,
          -0.7449291411997484,
          -1.2267447902634088,
          1.1227345594966862,
          -0.12979808400976459,
          -0.6269374526327316,
          0.292703498655163,
          0.6257393332073456,
          0.45996788432615043,
          0.5043667581526481,
          2.237293213159649,
          -1.4060039933788429,
          0.1788743528339559,
          -1.134521652233473,
          -0.015399492226502463,
          -0.9684748530238916,
          -1.4820224914118059,
          0.1715902804964764,
          -0.42039750746697546,
          0.8498256250305002,
          -0.2453748541806391,
          -0.8775939924189635,
          -2.9231849271662522,
          -0.9748902362208998,
          0.20637640117167275,
          0.5947071928430647,
          -0.30435577684235404,
          -2.1039353759161292,
          1.115513771005786,
          -0.5120600168812814,
          -2.075411098303332,
          2.253424939189268,
          0.7288262548169948,
          -0.7438074474356711,
          1.4919452591038689,
          1.3918176520913537,
          0.23639510290963997,
          -2.294323561421982,
          1.5561353538714506,
          -1.1615335890268663,
          -0.6852963592356053,
          0.08255655206476742,
          -1.6276212209267913,
          1.5138596525635728,
          0.3988950310224964,
          -0.5596997640137246,
          0.8127648867817936,
          -0.9090456772154684,
          -0.2023741303876413,
          -1.0759692892756814,
          -1.0116840652689627,
          -0.5956950303753511,
          0.6474080682588678,
          0.7648410756169055,
          1.5983143212427664,
          -1.2084704597596465,
          -1.187085251520976,
          -0.7207177114828895,
          -1.1365632858321943,
          1.1963260943489973,
          -1.9694894606706348
         ],
         "xaxis": "x4",
         "y": [
          -2.0245678545620653,
          -0.70000967402194,
          0.4923011266211667,
          -0.1721337617162361,
          0.1300772047032601,
          -0.8333704434524496,
          0.34121462467065816,
          0.9677726356756655,
          1.0120891924486815,
          1.2232183702754578,
          -0.8427421789582358,
          0.18819096793209314,
          -1.6095005021892217,
          0.41339125775669555,
          -0.8948518562686107,
          -0.1843957684237995,
          1.6860920350330262,
          1.7966629201710838,
          0.7059434946092662,
          -0.4638431276336962,
          0.8335385969736977,
          -0.7338353757187845,
          0.29198786778577684,
          0.7621576857108744,
          -1.2797389810464925,
          1.0297527504257031,
          0.9625278654239828,
          -1.7851418437008166,
          -1.0954108369089715,
          -2.8084934964522676,
          1.3198883643750479,
          0.39999831444598893,
          -1.141518084638812,
          -0.553833400359158,
          -0.5021357042202531,
          -1.7747620990430988,
          -0.7471339649507993,
          -1.680236866891475,
          0.16800536415649148,
          0.9624777623645401,
          0.7327131001167891,
          0.8596062243117514,
          0.9170009008811542,
          -0.8909419630348943,
          0.2427255664521905,
          -0.6065451458740814,
          0.2482809249447097,
          -1.8535909031151525,
          -0.09750333812372164,
          -0.8798749960318651,
          0.217800590401041,
          0.8029760466725708,
          0.6653151750366897,
          -0.3084497006647018,
          0.36768824082733653,
          -0.3339365462425808,
          0.13868616976000864,
          -0.714301240067701,
          0.5588471774554243,
          0.0069681037932292815,
          0.2403401185362488,
          0.47347545555015974,
          -1.1164580146104586,
          -1.3765949888678477,
          0.21828959853628632,
          0.2983118598338089,
          1.4624051256412518,
          -1.294335785990532,
          -1.1891868148706493,
          0.4480021923135863,
          0.12578697802044325,
          0.5113765435650498,
          0.1285909603816634,
          -0.6806646507469855,
          -0.28554355498000167,
          1.8309719250363772,
          -0.7378615237977918,
          0.8487554269717219,
          -0.22845770363282245,
          -1.3198777526010914,
          -1.7164357576246156,
          -0.8565176465067136,
          1.5973041294004924,
          1.2230412199308058,
          -0.7866323189888544,
          -1.3609919026164312,
          0.06459817804490998,
          0.921998675958377,
          2.1608332100400616,
          -0.44158263770700196,
          0.16697383520246797,
          0.15215444987588211,
          0.32083154833677463,
          -0.4768739422051255,
          0.15539672302809196,
          0.5132262797726742,
          0.5812646979598842,
          0.3999652636768709,
          -0.2552657391538536,
          0.09731861511588642
         ],
         "yaxis": "y4"
        },
        {
         "line": {
          "color": "rgba(128, 128, 128, 1.0)",
          "dash": "solid",
          "shape": "linear",
          "width": 1.3
         },
         "marker": {
          "size": 2,
          "symbol": "circle"
         },
         "mode": "markers",
         "name": "B",
         "text": "",
         "type": "scatter",
         "x": [
          -2.0245678545620653,
          -0.70000967402194,
          0.4923011266211667,
          -0.1721337617162361,
          0.1300772047032601,
          -0.8333704434524496,
          0.34121462467065816,
          0.9677726356756655,
          1.0120891924486815,
          1.2232183702754578,
          -0.8427421789582358,
          0.18819096793209314,
          -1.6095005021892217,
          0.41339125775669555,
          -0.8948518562686107,
          -0.1843957684237995,
          1.6860920350330262,
          1.7966629201710838,
          0.7059434946092662,
          -0.4638431276336962,
          0.8335385969736977,
          -0.7338353757187845,
          0.29198786778577684,
          0.7621576857108744,
          -1.2797389810464925,
          1.0297527504257031,
          0.9625278654239828,
          -1.7851418437008166,
          -1.0954108369089715,
          -2.8084934964522676,
          1.3198883643750479,
          0.39999831444598893,
          -1.141518084638812,
          -0.553833400359158,
          -0.5021357042202531,
          -1.7747620990430988,
          -0.7471339649507993,
          -1.680236866891475,
          0.16800536415649148,
          0.9624777623645401,
          0.7327131001167891,
          0.8596062243117514,
          0.9170009008811542,
          -0.8909419630348943,
          0.2427255664521905,
          -0.6065451458740814,
          0.2482809249447097,
          -1.8535909031151525,
          -0.09750333812372164,
          -0.8798749960318651,
          0.217800590401041,
          0.8029760466725708,
          0.6653151750366897,
          -0.3084497006647018,
          0.36768824082733653,
          -0.3339365462425808,
          0.13868616976000864,
          -0.714301240067701,
          0.5588471774554243,
          0.0069681037932292815,
          0.2403401185362488,
          0.47347545555015974,
          -1.1164580146104586,
          -1.3765949888678477,
          0.21828959853628632,
          0.2983118598338089,
          1.4624051256412518,
          -1.294335785990532,
          -1.1891868148706493,
          0.4480021923135863,
          0.12578697802044325,
          0.5113765435650498,
          0.1285909603816634,
          -0.6806646507469855,
          -0.28554355498000167,
          1.8309719250363772,
          -0.7378615237977918,
          0.8487554269717219,
          -0.22845770363282245,
          -1.3198777526010914,
          -1.7164357576246156,
          -0.8565176465067136,
          1.5973041294004924,
          1.2230412199308058,
          -0.7866323189888544,
          -1.3609919026164312,
          0.06459817804490998,
          0.921998675958377,
          2.1608332100400616,
          -0.44158263770700196,
          0.16697383520246797,
          0.15215444987588211,
          0.32083154833677463,
          -0.4768739422051255,
          0.15539672302809196,
          0.5132262797726742,
          0.5812646979598842,
          0.3999652636768709,
          -0.2552657391538536,
          0.09731861511588642
         ],
         "xaxis": "x5",
         "y": [
          -0.6382408485860838,
          -0.26445161392310296,
          -0.23213667337437718,
          0.5180176758815382,
          -1.1248049522097245,
          -0.380272960362963,
          -0.2932209551832816,
          -0.2983349399546075,
          0.8352757748805898,
          0.19767795485653444,
          -0.25848078585870043,
          0.6572601167502129,
          0.4792315672286233,
          -0.7297409216849485,
          0.4046424846202565,
          1.2968971276167458,
          0.13935965106348322,
          -0.6594484341435785,
          -0.02418590218582255,
          -2.5239897567978575,
          1.5346822177409631,
          -0.044687567248630725,
          1.6231383581412073,
          0.40026551057354326,
          -1.346220027753875,
          0.16491814429374466,
          0.9065722606320102,
          0.6700483963411383,
          -0.05104018162539486,
          1.1707146916736622,
          0.27196909622293,
          -0.823741868413821,
          -1.071654380390136,
          1.611845565479155,
          -0.6358684090521775,
          0.12088690562135754,
          -0.4238076744306274,
          0.30761109667202036,
          0.10090276567627783,
          -0.934825817248883,
          -0.11477621970946751,
          -0.25626272220601465,
          -2.2618111698047243,
          0.47059504469409547,
          0.3384630374158783,
          1.1429078856709527,
          1.039266887625021,
          -0.9967830206402708,
          -0.6202045714826442,
          0.22079305993745846,
          0.9115135718961257,
          -1.2122517475675738,
          1.0560300708411399,
          -1.9090176950054356,
          2.028179416010953,
          0.2831970755448901,
          0.6241028603371211,
          1.0407268957495415,
          -0.26224266816482766,
          0.5298657981252108,
          -2.0965098648132012,
          1.5130229822141446,
          -1.7078071537312842,
          -0.2720326625194213,
          1.5419814719954992,
          -0.3403798338394972,
          -0.2607484877893845,
          1.613613022678893,
          0.015346417608684809,
          0.8193595059346083,
          0.28400196804539557,
          0.23640271970560556,
          0.9643162048376709,
          -0.604459368826204,
          -1.2825284995959614,
          -0.3851992746376785,
          -0.2698997452038915,
          -0.1806119563245644,
          0.03316776563581451,
          -0.2064180896765948,
          0.5557810546207436,
          -0.9395511240801336,
          -0.3738586334196706,
          0.719627463803325,
          -1.1552010934966621,
          0.18725547161413295,
          -1.8598061078955381,
          -0.31999462379920496,
          -1.8573069884412665,
          0.5833843253960496,
          0.7005904412031791,
          -0.592374288827152,
          -0.32071254126644355,
          0.7437217160339742,
          -0.6523371315325809,
          -0.14606736635054363,
          -1.0609890385279603,
          -1.397175646717783,
          -0.4182909179317061,
          1.3303804152695233
         ],
         "yaxis": "y5"
        },
        {
         "histfunc": "count",
         "histnorm": "",
         "marker": {
          "color": "rgba(55, 128, 191, 1.0)",
          "line": {
           "color": "#4D5663",
           "width": 1.3
          }
         },
         "name": "B",
         "nbinsx": 10,
         "opacity": 0.8,
         "orientation": "v",
         "type": "histogram",
         "x": [
          -0.6382408485860838,
          -0.26445161392310296,
          -0.23213667337437718,
          0.5180176758815382,
          -1.1248049522097245,
          -0.380272960362963,
          -0.2932209551832816,
          -0.2983349399546075,
          0.8352757748805898,
          0.19767795485653444,
          -0.25848078585870043,
          0.6572601167502129,
          0.4792315672286233,
          -0.7297409216849485,
          0.4046424846202565,
          1.2968971276167458,
          0.13935965106348322,
          -0.6594484341435785,
          -0.02418590218582255,
          -2.5239897567978575,
          1.5346822177409631,
          -0.044687567248630725,
          1.6231383581412073,
          0.40026551057354326,
          -1.346220027753875,
          0.16491814429374466,
          0.9065722606320102,
          0.6700483963411383,
          -0.05104018162539486,
          1.1707146916736622,
          0.27196909622293,
          -0.823741868413821,
          -1.071654380390136,
          1.611845565479155,
          -0.6358684090521775,
          0.12088690562135754,
          -0.4238076744306274,
          0.30761109667202036,
          0.10090276567627783,
          -0.934825817248883,
          -0.11477621970946751,
          -0.25626272220601465,
          -2.2618111698047243,
          0.47059504469409547,
          0.3384630374158783,
          1.1429078856709527,
          1.039266887625021,
          -0.9967830206402708,
          -0.6202045714826442,
          0.22079305993745846,
          0.9115135718961257,
          -1.2122517475675738,
          1.0560300708411399,
          -1.9090176950054356,
          2.028179416010953,
          0.2831970755448901,
          0.6241028603371211,
          1.0407268957495415,
          -0.26224266816482766,
          0.5298657981252108,
          -2.0965098648132012,
          1.5130229822141446,
          -1.7078071537312842,
          -0.2720326625194213,
          1.5419814719954992,
          -0.3403798338394972,
          -0.2607484877893845,
          1.613613022678893,
          0.015346417608684809,
          0.8193595059346083,
          0.28400196804539557,
          0.23640271970560556,
          0.9643162048376709,
          -0.604459368826204,
          -1.2825284995959614,
          -0.3851992746376785,
          -0.2698997452038915,
          -0.1806119563245644,
          0.03316776563581451,
          -0.2064180896765948,
          0.5557810546207436,
          -0.9395511240801336,
          -0.3738586334196706,
          0.719627463803325,
          -1.1552010934966621,
          0.18725547161413295,
          -1.8598061078955381,
          -0.31999462379920496,
          -1.8573069884412665,
          0.5833843253960496,
          0.7005904412031791,
          -0.592374288827152,
          -0.32071254126644355,
          0.7437217160339742,
          -0.6523371315325809,
          -0.14606736635054363,
          -1.0609890385279603,
          -1.397175646717783,
          -0.4182909179317061,
          1.3303804152695233
         ],
         "xaxis": "x6",
         "yaxis": "y6"
        },
        {
         "line": {
          "color": "rgba(128, 128, 128, 1.0)",
          "dash": "solid",
          "shape": "linear",
          "width": 1.3
         },
         "marker": {
          "size": 2,
          "symbol": "circle"
         },
         "mode": "markers",
         "name": "B",
         "text": "",
         "type": "scatter",
         "x": [
          -0.224893079246173,
          1.2503815642723262,
          -0.009751551125147586,
          0.16527703916918052,
          -0.3745090835527552,
          0.515662283296908,
          1.0547154138277266,
          -0.22067757188991727,
          -0.6498584802383204,
          -2.07908895587237,
          2.1403465577961116,
          1.6445158565680038,
          -1.0175955610791787,
          -0.17251980686788723,
          -0.19414925926115856,
          0.9311926054750844,
          0.24273553610203655,
          -0.8953402123461103,
          -0.3387964991908508,
          0.36389088884917165,
          0.4405868040137417,
          -0.21012156100866447,
          -2.788900751431851,
          1.198143626275225,
          -0.4127880365061836,
          -0.238621684631133,
          0.4371715805619799,
          1.256886884011327,
          -0.060193643202252595,
          0.3059995769855611,
          -0.4158291391773987,
          2.1475559417541734,
          -0.6243802744709012,
          0.5817247352369509,
          0.39266255814740997,
          0.5649256027013886,
          0.8061396519459106,
          0.6195039399742812,
          0.02177467231854164,
          -1.319899574991042,
          -0.3356450667412887,
          0.03748262752761676,
          0.21357396085531327,
          0.1224416437776951,
          -0.2197873964063419,
          -1.0600124514378158,
          -0.3345568122382559,
          -0.5769051564609712,
          2.8592353822054193,
          0.9402264092354687,
          1.1170894271622458,
          1.1025825408160912,
          1.4589599777641047,
          -0.00559822897158635,
          0.649167046273083,
          0.5962648454476672,
          2.1015783595893724,
          -1.0004967709798152,
          -0.794419492093333,
          0.8507876014851588,
          -0.43312010038274834,
          -0.25549192361797196,
          0.3408418093354243,
          -1.3140065306556812,
          -0.892627715873621,
          0.2800577801511644,
          -1.8190732690240992,
          0.7071155509495465,
          -1.2699887648430062,
          1.1691192931392227,
          0.11665823912731504,
          -0.5073035259374067,
          -1.0932263125943875,
          0.20275177216827314,
          -0.11142118650757836,
          0.02910736140493556,
          0.9342531709146351,
          0.16746231525434202,
          -0.4608568591137009,
          -0.3901894838095558,
          0.6092957626506681,
          -0.5557513480847908,
          -0.21909070450172796,
          -0.537747844859767,
          -0.672824530162349,
          2.6124495827756866,
          1.6013530267662324,
          -0.10470803359208224,
          -0.48551242090787217,
          -0.36798474127000314,
          0.4582902064494334,
          1.2426685607553631,
          1.1506367383501355,
          -0.48916011980898466,
          -2.311296255514442,
          1.1525036060530027,
          0.18302057139365044,
          -0.13978553105887837,
          -0.04229289544270978,
          0.04282490464750087
         ],
         "xaxis": "x7",
         "y": [
          -0.6382408485860838,
          -0.26445161392310296,
          -0.23213667337437718,
          0.5180176758815382,
          -1.1248049522097245,
          -0.380272960362963,
          -0.2932209551832816,
          -0.2983349399546075,
          0.8352757748805898,
          0.19767795485653444,
          -0.25848078585870043,
          0.6572601167502129,
          0.4792315672286233,
          -0.7297409216849485,
          0.4046424846202565,
          1.2968971276167458,
          0.13935965106348322,
          -0.6594484341435785,
          -0.02418590218582255,
          -2.5239897567978575,
          1.5346822177409631,
          -0.044687567248630725,
          1.6231383581412073,
          0.40026551057354326,
          -1.346220027753875,
          0.16491814429374466,
          0.9065722606320102,
          0.6700483963411383,
          -0.05104018162539486,
          1.1707146916736622,
          0.27196909622293,
          -0.823741868413821,
          -1.071654380390136,
          1.611845565479155,
          -0.6358684090521775,
          0.12088690562135754,
          -0.4238076744306274,
          0.30761109667202036,
          0.10090276567627783,
          -0.934825817248883,
          -0.11477621970946751,
          -0.25626272220601465,
          -2.2618111698047243,
          0.47059504469409547,
          0.3384630374158783,
          1.1429078856709527,
          1.039266887625021,
          -0.9967830206402708,
          -0.6202045714826442,
          0.22079305993745846,
          0.9115135718961257,
          -1.2122517475675738,
          1.0560300708411399,
          -1.9090176950054356,
          2.028179416010953,
          0.2831970755448901,
          0.6241028603371211,
          1.0407268957495415,
          -0.26224266816482766,
          0.5298657981252108,
          -2.0965098648132012,
          1.5130229822141446,
          -1.7078071537312842,
          -0.2720326625194213,
          1.5419814719954992,
          -0.3403798338394972,
          -0.2607484877893845,
          1.613613022678893,
          0.015346417608684809,
          0.8193595059346083,
          0.28400196804539557,
          0.23640271970560556,
          0.9643162048376709,
          -0.604459368826204,
          -1.2825284995959614,
          -0.3851992746376785,
          -0.2698997452038915,
          -0.1806119563245644,
          0.03316776563581451,
          -0.2064180896765948,
          0.5557810546207436,
          -0.9395511240801336,
          -0.3738586334196706,
          0.719627463803325,
          -1.1552010934966621,
          0.18725547161413295,
          -1.8598061078955381,
          -0.31999462379920496,
          -1.8573069884412665,
          0.5833843253960496,
          0.7005904412031791,
          -0.592374288827152,
          -0.32071254126644355,
          0.7437217160339742,
          -0.6523371315325809,
          -0.14606736635054363,
          -1.0609890385279603,
          -1.397175646717783,
          -0.4182909179317061,
          1.3303804152695233
         ],
         "yaxis": "y7"
        },
        {
         "line": {
          "color": "rgba(128, 128, 128, 1.0)",
          "dash": "solid",
          "shape": "linear",
          "width": 1.3
         },
         "marker": {
          "size": 2,
          "symbol": "circle"
         },
         "mode": "markers",
         "name": "B",
         "text": "",
         "type": "scatter",
         "x": [
          1.298015485089696,
          -0.23339096447922594,
          1.1037728080136389,
          0.19806209294100593,
          2.549860056192145,
          -0.9061470055249541,
          -1.6191346355086136,
          -0.6402695199792406,
          0.5301304795188629,
          0.10826973860060203,
          -0.03096417152728443,
          -1.333260776229409,
          -0.5106018658222338,
          -1.2602161142365913,
          1.0541069690486944,
          -0.5360890299819138,
          1.2919783215192175,
          -0.06548767963927178,
          1.292524371037477,
          0.4704853470988679,
          -0.01271146868624112,
          -1.6469302468272102,
          -0.48917579782210724,
          0.37733382079878897,
          -1.1976258256123749,
          0.20879853261299658,
          0.2444678967514823,
          0.16870241860798135,
          1.6006255420901228,
          -0.028579174827799286,
          1.3256317621847986,
          -1.3605698101646098,
          0.8195467855949271,
          -0.9808516343193202,
          -0.6390064981962895,
          -1.245203809566456,
          0.4337270017046839,
          1.234528835493931,
          -0.4104457369366574,
          0.5665420894986996,
          -0.7449291411997484,
          -1.2267447902634088,
          1.1227345594966862,
          -0.12979808400976459,
          -0.6269374526327316,
          0.292703498655163,
          0.6257393332073456,
          0.45996788432615043,
          0.5043667581526481,
          2.237293213159649,
          -1.4060039933788429,
          0.1788743528339559,
          -1.134521652233473,
          -0.015399492226502463,
          -0.9684748530238916,
          -1.4820224914118059,
          0.1715902804964764,
          -0.42039750746697546,
          0.8498256250305002,
          -0.2453748541806391,
          -0.8775939924189635,
          -2.9231849271662522,
          -0.9748902362208998,
          0.20637640117167275,
          0.5947071928430647,
          -0.30435577684235404,
          -2.1039353759161292,
          1.115513771005786,
          -0.5120600168812814,
          -2.075411098303332,
          2.253424939189268,
          0.7288262548169948,
          -0.7438074474356711,
          1.4919452591038689,
          1.3918176520913537,
          0.23639510290963997,
          -2.294323561421982,
          1.5561353538714506,
          -1.1615335890268663,
          -0.6852963592356053,
          0.08255655206476742,
          -1.6276212209267913,
          1.5138596525635728,
          0.3988950310224964,
          -0.5596997640137246,
          0.8127648867817936,
          -0.9090456772154684,
          -0.2023741303876413,
          -1.0759692892756814,
          -1.0116840652689627,
          -0.5956950303753511,
          0.6474080682588678,
          0.7648410756169055,
          1.5983143212427664,
          -1.2084704597596465,
          -1.187085251520976,
          -0.7207177114828895,
          -1.1365632858321943,
          1.1963260943489973,
          -1.9694894606706348
         ],
         "xaxis": "x8",
         "y": [
          -0.6382408485860838,
          -0.26445161392310296,
          -0.23213667337437718,
          0.5180176758815382,
          -1.1248049522097245,
          -0.380272960362963,
          -0.2932209551832816,
          -0.2983349399546075,
          0.8352757748805898,
          0.19767795485653444,
          -0.25848078585870043,
          0.6572601167502129,
          0.4792315672286233,
          -0.7297409216849485,
          0.4046424846202565,
          1.2968971276167458,
          0.13935965106348322,
          -0.6594484341435785,
          -0.02418590218582255,
          -2.5239897567978575,
          1.5346822177409631,
          -0.044687567248630725,
          1.6231383581412073,
          0.40026551057354326,
          -1.346220027753875,
          0.16491814429374466,
          0.9065722606320102,
          0.6700483963411383,
          -0.05104018162539486,
          1.1707146916736622,
          0.27196909622293,
          -0.823741868413821,
          -1.071654380390136,
          1.611845565479155,
          -0.6358684090521775,
          0.12088690562135754,
          -0.4238076744306274,
          0.30761109667202036,
          0.10090276567627783,
          -0.934825817248883,
          -0.11477621970946751,
          -0.25626272220601465,
          -2.2618111698047243,
          0.47059504469409547,
          0.3384630374158783,
          1.1429078856709527,
          1.039266887625021,
          -0.9967830206402708,
          -0.6202045714826442,
          0.22079305993745846,
          0.9115135718961257,
          -1.2122517475675738,
          1.0560300708411399,
          -1.9090176950054356,
          2.028179416010953,
          0.2831970755448901,
          0.6241028603371211,
          1.0407268957495415,
          -0.26224266816482766,
          0.5298657981252108,
          -2.0965098648132012,
          1.5130229822141446,
          -1.7078071537312842,
          -0.2720326625194213,
          1.5419814719954992,
          -0.3403798338394972,
          -0.2607484877893845,
          1.613613022678893,
          0.015346417608684809,
          0.8193595059346083,
          0.28400196804539557,
          0.23640271970560556,
          0.9643162048376709,
          -0.604459368826204,
          -1.2825284995959614,
          -0.3851992746376785,
          -0.2698997452038915,
          -0.1806119563245644,
          0.03316776563581451,
          -0.2064180896765948,
          0.5557810546207436,
          -0.9395511240801336,
          -0.3738586334196706,
          0.719627463803325,
          -1.1552010934966621,
          0.18725547161413295,
          -1.8598061078955381,
          -0.31999462379920496,
          -1.8573069884412665,
          0.5833843253960496,
          0.7005904412031791,
          -0.592374288827152,
          -0.32071254126644355,
          0.7437217160339742,
          -0.6523371315325809,
          -0.14606736635054363,
          -1.0609890385279603,
          -1.397175646717783,
          -0.4182909179317061,
          1.3303804152695233
         ],
         "yaxis": "y8"
        },
        {
         "line": {
          "color": "rgba(128, 128, 128, 1.0)",
          "dash": "solid",
          "shape": "linear",
          "width": 1.3
         },
         "marker": {
          "size": 2,
          "symbol": "circle"
         },
         "mode": "markers",
         "name": "C",
         "text": "",
         "type": "scatter",
         "x": [
          -2.0245678545620653,
          -0.70000967402194,
          0.4923011266211667,
          -0.1721337617162361,
          0.1300772047032601,
          -0.8333704434524496,
          0.34121462467065816,
          0.9677726356756655,
          1.0120891924486815,
          1.2232183702754578,
          -0.8427421789582358,
          0.18819096793209314,
          -1.6095005021892217,
          0.41339125775669555,
          -0.8948518562686107,
          -0.1843957684237995,
          1.6860920350330262,
          1.7966629201710838,
          0.7059434946092662,
          -0.4638431276336962,
          0.8335385969736977,
          -0.7338353757187845,
          0.29198786778577684,
          0.7621576857108744,
          -1.2797389810464925,
          1.0297527504257031,
          0.9625278654239828,
          -1.7851418437008166,
          -1.0954108369089715,
          -2.8084934964522676,
          1.3198883643750479,
          0.39999831444598893,
          -1.141518084638812,
          -0.553833400359158,
          -0.5021357042202531,
          -1.7747620990430988,
          -0.7471339649507993,
          -1.680236866891475,
          0.16800536415649148,
          0.9624777623645401,
          0.7327131001167891,
          0.8596062243117514,
          0.9170009008811542,
          -0.8909419630348943,
          0.2427255664521905,
          -0.6065451458740814,
          0.2482809249447097,
          -1.8535909031151525,
          -0.09750333812372164,
          -0.8798749960318651,
          0.217800590401041,
          0.8029760466725708,
          0.6653151750366897,
          -0.3084497006647018,
          0.36768824082733653,
          -0.3339365462425808,
          0.13868616976000864,
          -0.714301240067701,
          0.5588471774554243,
          0.0069681037932292815,
          0.2403401185362488,
          0.47347545555015974,
          -1.1164580146104586,
          -1.3765949888678477,
          0.21828959853628632,
          0.2983118598338089,
          1.4624051256412518,
          -1.294335785990532,
          -1.1891868148706493,
          0.4480021923135863,
          0.12578697802044325,
          0.5113765435650498,
          0.1285909603816634,
          -0.6806646507469855,
          -0.28554355498000167,
          1.8309719250363772,
          -0.7378615237977918,
          0.8487554269717219,
          -0.22845770363282245,
          -1.3198777526010914,
          -1.7164357576246156,
          -0.8565176465067136,
          1.5973041294004924,
          1.2230412199308058,
          -0.7866323189888544,
          -1.3609919026164312,
          0.06459817804490998,
          0.921998675958377,
          2.1608332100400616,
          -0.44158263770700196,
          0.16697383520246797,
          0.15215444987588211,
          0.32083154833677463,
          -0.4768739422051255,
          0.15539672302809196,
          0.5132262797726742,
          0.5812646979598842,
          0.3999652636768709,
          -0.2552657391538536,
          0.09731861511588642
         ],
         "xaxis": "x9",
         "y": [
          -0.224893079246173,
          1.2503815642723262,
          -0.009751551125147586,
          0.16527703916918052,
          -0.3745090835527552,
          0.515662283296908,
          1.0547154138277266,
          -0.22067757188991727,
          -0.6498584802383204,
          -2.07908895587237,
          2.1403465577961116,
          1.6445158565680038,
          -1.0175955610791787,
          -0.17251980686788723,
          -0.19414925926115856,
          0.9311926054750844,
          0.24273553610203655,
          -0.8953402123461103,
          -0.3387964991908508,
          0.36389088884917165,
          0.4405868040137417,
          -0.21012156100866447,
          -2.788900751431851,
          1.198143626275225,
          -0.4127880365061836,
          -0.238621684631133,
          0.4371715805619799,
          1.256886884011327,
          -0.060193643202252595,
          0.3059995769855611,
          -0.4158291391773987,
          2.1475559417541734,
          -0.6243802744709012,
          0.5817247352369509,
          0.39266255814740997,
          0.5649256027013886,
          0.8061396519459106,
          0.6195039399742812,
          0.02177467231854164,
          -1.319899574991042,
          -0.3356450667412887,
          0.03748262752761676,
          0.21357396085531327,
          0.1224416437776951,
          -0.2197873964063419,
          -1.0600124514378158,
          -0.3345568122382559,
          -0.5769051564609712,
          2.8592353822054193,
          0.9402264092354687,
          1.1170894271622458,
          1.1025825408160912,
          1.4589599777641047,
          -0.00559822897158635,
          0.649167046273083,
          0.5962648454476672,
          2.1015783595893724,
          -1.0004967709798152,
          -0.794419492093333,
          0.8507876014851588,
          -0.43312010038274834,
          -0.25549192361797196,
          0.3408418093354243,
          -1.3140065306556812,
          -0.892627715873621,
          0.2800577801511644,
          -1.8190732690240992,
          0.7071155509495465,
          -1.2699887648430062,
          1.1691192931392227,
          0.11665823912731504,
          -0.5073035259374067,
          -1.0932263125943875,
          0.20275177216827314,
          -0.11142118650757836,
          0.02910736140493556,
          0.9342531709146351,
          0.16746231525434202,
          -0.4608568591137009,
          -0.3901894838095558,
          0.6092957626506681,
          -0.5557513480847908,
          -0.21909070450172796,
          -0.537747844859767,
          -0.672824530162349,
          2.6124495827756866,
          1.6013530267662324,
          -0.10470803359208224,
          -0.48551242090787217,
          -0.36798474127000314,
          0.4582902064494334,
          1.2426685607553631,
          1.1506367383501355,
          -0.48916011980898466,
          -2.311296255514442,
          1.1525036060530027,
          0.18302057139365044,
          -0.13978553105887837,
          -0.04229289544270978,
          0.04282490464750087
         ],
         "yaxis": "y9"
        },
        {
         "line": {
          "color": "rgba(128, 128, 128, 1.0)",
          "dash": "solid",
          "shape": "linear",
          "width": 1.3
         },
         "marker": {
          "size": 2,
          "symbol": "circle"
         },
         "mode": "markers",
         "name": "C",
         "text": "",
         "type": "scatter",
         "x": [
          -0.6382408485860838,
          -0.26445161392310296,
          -0.23213667337437718,
          0.5180176758815382,
          -1.1248049522097245,
          -0.380272960362963,
          -0.2932209551832816,
          -0.2983349399546075,
          0.8352757748805898,
          0.19767795485653444,
          -0.25848078585870043,
          0.6572601167502129,
          0.4792315672286233,
          -0.7297409216849485,
          0.4046424846202565,
          1.2968971276167458,
          0.13935965106348322,
          -0.6594484341435785,
          -0.02418590218582255,
          -2.5239897567978575,
          1.5346822177409631,
          -0.044687567248630725,
          1.6231383581412073,
          0.40026551057354326,
          -1.346220027753875,
          0.16491814429374466,
          0.9065722606320102,
          0.6700483963411383,
          -0.05104018162539486,
          1.1707146916736622,
          0.27196909622293,
          -0.823741868413821,
          -1.071654380390136,
          1.611845565479155,
          -0.6358684090521775,
          0.12088690562135754,
          -0.4238076744306274,
          0.30761109667202036,
          0.10090276567627783,
          -0.934825817248883,
          -0.11477621970946751,
          -0.25626272220601465,
          -2.2618111698047243,
          0.47059504469409547,
          0.3384630374158783,
          1.1429078856709527,
          1.039266887625021,
          -0.9967830206402708,
          -0.6202045714826442,
          0.22079305993745846,
          0.9115135718961257,
          -1.2122517475675738,
          1.0560300708411399,
          -1.9090176950054356,
          2.028179416010953,
          0.2831970755448901,
          0.6241028603371211,
          1.0407268957495415,
          -0.26224266816482766,
          0.5298657981252108,
          -2.0965098648132012,
          1.5130229822141446,
          -1.7078071537312842,
          -0.2720326625194213,
          1.5419814719954992,
          -0.3403798338394972,
          -0.2607484877893845,
          1.613613022678893,
          0.015346417608684809,
          0.8193595059346083,
          0.28400196804539557,
          0.23640271970560556,
          0.9643162048376709,
          -0.604459368826204,
          -1.2825284995959614,
          -0.3851992746376785,
          -0.2698997452038915,
          -0.1806119563245644,
          0.03316776563581451,
          -0.2064180896765948,
          0.5557810546207436,
          -0.9395511240801336,
          -0.3738586334196706,
          0.719627463803325,
          -1.1552010934966621,
          0.18725547161413295,
          -1.8598061078955381,
          -0.31999462379920496,
          -1.8573069884412665,
          0.5833843253960496,
          0.7005904412031791,
          -0.592374288827152,
          -0.32071254126644355,
          0.7437217160339742,
          -0.6523371315325809,
          -0.14606736635054363,
          -1.0609890385279603,
          -1.397175646717783,
          -0.4182909179317061,
          1.3303804152695233
         ],
         "xaxis": "x10",
         "y": [
          -0.224893079246173,
          1.2503815642723262,
          -0.009751551125147586,
          0.16527703916918052,
          -0.3745090835527552,
          0.515662283296908,
          1.0547154138277266,
          -0.22067757188991727,
          -0.6498584802383204,
          -2.07908895587237,
          2.1403465577961116,
          1.6445158565680038,
          -1.0175955610791787,
          -0.17251980686788723,
          -0.19414925926115856,
          0.9311926054750844,
          0.24273553610203655,
          -0.8953402123461103,
          -0.3387964991908508,
          0.36389088884917165,
          0.4405868040137417,
          -0.21012156100866447,
          -2.788900751431851,
          1.198143626275225,
          -0.4127880365061836,
          -0.238621684631133,
          0.4371715805619799,
          1.256886884011327,
          -0.060193643202252595,
          0.3059995769855611,
          -0.4158291391773987,
          2.1475559417541734,
          -0.6243802744709012,
          0.5817247352369509,
          0.39266255814740997,
          0.5649256027013886,
          0.8061396519459106,
          0.6195039399742812,
          0.02177467231854164,
          -1.319899574991042,
          -0.3356450667412887,
          0.03748262752761676,
          0.21357396085531327,
          0.1224416437776951,
          -0.2197873964063419,
          -1.0600124514378158,
          -0.3345568122382559,
          -0.5769051564609712,
          2.8592353822054193,
          0.9402264092354687,
          1.1170894271622458,
          1.1025825408160912,
          1.4589599777641047,
          -0.00559822897158635,
          0.649167046273083,
          0.5962648454476672,
          2.1015783595893724,
          -1.0004967709798152,
          -0.794419492093333,
          0.8507876014851588,
          -0.43312010038274834,
          -0.25549192361797196,
          0.3408418093354243,
          -1.3140065306556812,
          -0.892627715873621,
          0.2800577801511644,
          -1.8190732690240992,
          0.7071155509495465,
          -1.2699887648430062,
          1.1691192931392227,
          0.11665823912731504,
          -0.5073035259374067,
          -1.0932263125943875,
          0.20275177216827314,
          -0.11142118650757836,
          0.02910736140493556,
          0.9342531709146351,
          0.16746231525434202,
          -0.4608568591137009,
          -0.3901894838095558,
          0.6092957626506681,
          -0.5557513480847908,
          -0.21909070450172796,
          -0.537747844859767,
          -0.672824530162349,
          2.6124495827756866,
          1.6013530267662324,
          -0.10470803359208224,
          -0.48551242090787217,
          -0.36798474127000314,
          0.4582902064494334,
          1.2426685607553631,
          1.1506367383501355,
          -0.48916011980898466,
          -2.311296255514442,
          1.1525036060530027,
          0.18302057139365044,
          -0.13978553105887837,
          -0.04229289544270978,
          0.04282490464750087
         ],
         "yaxis": "y10"
        },
        {
         "histfunc": "count",
         "histnorm": "",
         "marker": {
          "color": "rgba(50, 171, 96, 1.0)",
          "line": {
           "color": "#4D5663",
           "width": 1.3
          }
         },
         "name": "C",
         "nbinsx": 10,
         "opacity": 0.8,
         "orientation": "v",
         "type": "histogram",
         "x": [
          -0.224893079246173,
          1.2503815642723262,
          -0.009751551125147586,
          0.16527703916918052,
          -0.3745090835527552,
          0.515662283296908,
          1.0547154138277266,
          -0.22067757188991727,
          -0.6498584802383204,
          -2.07908895587237,
          2.1403465577961116,
          1.6445158565680038,
          -1.0175955610791787,
          -0.17251980686788723,
          -0.19414925926115856,
          0.9311926054750844,
          0.24273553610203655,
          -0.8953402123461103,
          -0.3387964991908508,
          0.36389088884917165,
          0.4405868040137417,
          -0.21012156100866447,
          -2.788900751431851,
          1.198143626275225,
          -0.4127880365061836,
          -0.238621684631133,
          0.4371715805619799,
          1.256886884011327,
          -0.060193643202252595,
          0.3059995769855611,
          -0.4158291391773987,
          2.1475559417541734,
          -0.6243802744709012,
          0.5817247352369509,
          0.39266255814740997,
          0.5649256027013886,
          0.8061396519459106,
          0.6195039399742812,
          0.02177467231854164,
          -1.319899574991042,
          -0.3356450667412887,
          0.03748262752761676,
          0.21357396085531327,
          0.1224416437776951,
          -0.2197873964063419,
          -1.0600124514378158,
          -0.3345568122382559,
          -0.5769051564609712,
          2.8592353822054193,
          0.9402264092354687,
          1.1170894271622458,
          1.1025825408160912,
          1.4589599777641047,
          -0.00559822897158635,
          0.649167046273083,
          0.5962648454476672,
          2.1015783595893724,
          -1.0004967709798152,
          -0.794419492093333,
          0.8507876014851588,
          -0.43312010038274834,
          -0.25549192361797196,
          0.3408418093354243,
          -1.3140065306556812,
          -0.892627715873621,
          0.2800577801511644,
          -1.8190732690240992,
          0.7071155509495465,
          -1.2699887648430062,
          1.1691192931392227,
          0.11665823912731504,
          -0.5073035259374067,
          -1.0932263125943875,
          0.20275177216827314,
          -0.11142118650757836,
          0.02910736140493556,
          0.9342531709146351,
          0.16746231525434202,
          -0.4608568591137009,
          -0.3901894838095558,
          0.6092957626506681,
          -0.5557513480847908,
          -0.21909070450172796,
          -0.537747844859767,
          -0.672824530162349,
          2.6124495827756866,
          1.6013530267662324,
          -0.10470803359208224,
          -0.48551242090787217,
          -0.36798474127000314,
          0.4582902064494334,
          1.2426685607553631,
          1.1506367383501355,
          -0.48916011980898466,
          -2.311296255514442,
          1.1525036060530027,
          0.18302057139365044,
          -0.13978553105887837,
          -0.04229289544270978,
          0.04282490464750087
         ],
         "xaxis": "x11",
         "yaxis": "y11"
        },
        {
         "line": {
          "color": "rgba(128, 128, 128, 1.0)",
          "dash": "solid",
          "shape": "linear",
          "width": 1.3
         },
         "marker": {
          "size": 2,
          "symbol": "circle"
         },
         "mode": "markers",
         "name": "C",
         "text": "",
         "type": "scatter",
         "x": [
          1.298015485089696,
          -0.23339096447922594,
          1.1037728080136389,
          0.19806209294100593,
          2.549860056192145,
          -0.9061470055249541,
          -1.6191346355086136,
          -0.6402695199792406,
          0.5301304795188629,
          0.10826973860060203,
          -0.03096417152728443,
          -1.333260776229409,
          -0.5106018658222338,
          -1.2602161142365913,
          1.0541069690486944,
          -0.5360890299819138,
          1.2919783215192175,
          -0.06548767963927178,
          1.292524371037477,
          0.4704853470988679,
          -0.01271146868624112,
          -1.6469302468272102,
          -0.48917579782210724,
          0.37733382079878897,
          -1.1976258256123749,
          0.20879853261299658,
          0.2444678967514823,
          0.16870241860798135,
          1.6006255420901228,
          -0.028579174827799286,
          1.3256317621847986,
          -1.3605698101646098,
          0.8195467855949271,
          -0.9808516343193202,
          -0.6390064981962895,
          -1.245203809566456,
          0.4337270017046839,
          1.234528835493931,
          -0.4104457369366574,
          0.5665420894986996,
          -0.7449291411997484,
          -1.2267447902634088,
          1.1227345594966862,
          -0.12979808400976459,
          -0.6269374526327316,
          0.292703498655163,
          0.6257393332073456,
          0.45996788432615043,
          0.5043667581526481,
          2.237293213159649,
          -1.4060039933788429,
          0.1788743528339559,
          -1.134521652233473,
          -0.015399492226502463,
          -0.9684748530238916,
          -1.4820224914118059,
          0.1715902804964764,
          -0.42039750746697546,
          0.8498256250305002,
          -0.2453748541806391,
          -0.8775939924189635,
          -2.9231849271662522,
          -0.9748902362208998,
          0.20637640117167275,
          0.5947071928430647,
          -0.30435577684235404,
          -2.1039353759161292,
          1.115513771005786,
          -0.5120600168812814,
          -2.075411098303332,
          2.253424939189268,
          0.7288262548169948,
          -0.7438074474356711,
          1.4919452591038689,
          1.3918176520913537,
          0.23639510290963997,
          -2.294323561421982,
          1.5561353538714506,
          -1.1615335890268663,
          -0.6852963592356053,
          0.08255655206476742,
          -1.6276212209267913,
          1.5138596525635728,
          0.3988950310224964,
          -0.5596997640137246,
          0.8127648867817936,
          -0.9090456772154684,
          -0.2023741303876413,
          -1.0759692892756814,
          -1.0116840652689627,
          -0.5956950303753511,
          0.6474080682588678,
          0.7648410756169055,
          1.5983143212427664,
          -1.2084704597596465,
          -1.187085251520976,
          -0.7207177114828895,
          -1.1365632858321943,
          1.1963260943489973,
          -1.9694894606706348
         ],
         "xaxis": "x12",
         "y": [
          -0.224893079246173,
          1.2503815642723262,
          -0.009751551125147586,
          0.16527703916918052,
          -0.3745090835527552,
          0.515662283296908,
          1.0547154138277266,
          -0.22067757188991727,
          -0.6498584802383204,
          -2.07908895587237,
          2.1403465577961116,
          1.6445158565680038,
          -1.0175955610791787,
          -0.17251980686788723,
          -0.19414925926115856,
          0.9311926054750844,
          0.24273553610203655,
          -0.8953402123461103,
          -0.3387964991908508,
          0.36389088884917165,
          0.4405868040137417,
          -0.21012156100866447,
          -2.788900751431851,
          1.198143626275225,
          -0.4127880365061836,
          -0.238621684631133,
          0.4371715805619799,
          1.256886884011327,
          -0.060193643202252595,
          0.3059995769855611,
          -0.4158291391773987,
          2.1475559417541734,
          -0.6243802744709012,
          0.5817247352369509,
          0.39266255814740997,
          0.5649256027013886,
          0.8061396519459106,
          0.6195039399742812,
          0.02177467231854164,
          -1.319899574991042,
          -0.3356450667412887,
          0.03748262752761676,
          0.21357396085531327,
          0.1224416437776951,
          -0.2197873964063419,
          -1.0600124514378158,
          -0.3345568122382559,
          -0.5769051564609712,
          2.8592353822054193,
          0.9402264092354687,
          1.1170894271622458,
          1.1025825408160912,
          1.4589599777641047,
          -0.00559822897158635,
          0.649167046273083,
          0.5962648454476672,
          2.1015783595893724,
          -1.0004967709798152,
          -0.794419492093333,
          0.8507876014851588,
          -0.43312010038274834,
          -0.25549192361797196,
          0.3408418093354243,
          -1.3140065306556812,
          -0.892627715873621,
          0.2800577801511644,
          -1.8190732690240992,
          0.7071155509495465,
          -1.2699887648430062,
          1.1691192931392227,
          0.11665823912731504,
          -0.5073035259374067,
          -1.0932263125943875,
          0.20275177216827314,
          -0.11142118650757836,
          0.02910736140493556,
          0.9342531709146351,
          0.16746231525434202,
          -0.4608568591137009,
          -0.3901894838095558,
          0.6092957626506681,
          -0.5557513480847908,
          -0.21909070450172796,
          -0.537747844859767,
          -0.672824530162349,
          2.6124495827756866,
          1.6013530267662324,
          -0.10470803359208224,
          -0.48551242090787217,
          -0.36798474127000314,
          0.4582902064494334,
          1.2426685607553631,
          1.1506367383501355,
          -0.48916011980898466,
          -2.311296255514442,
          1.1525036060530027,
          0.18302057139365044,
          -0.13978553105887837,
          -0.04229289544270978,
          0.04282490464750087
         ],
         "yaxis": "y12"
        },
        {
         "line": {
          "color": "rgba(128, 128, 128, 1.0)",
          "dash": "solid",
          "shape": "linear",
          "width": 1.3
         },
         "marker": {
          "size": 2,
          "symbol": "circle"
         },
         "mode": "markers",
         "name": "D",
         "text": "",
         "type": "scatter",
         "x": [
          -2.0245678545620653,
          -0.70000967402194,
          0.4923011266211667,
          -0.1721337617162361,
          0.1300772047032601,
          -0.8333704434524496,
          0.34121462467065816,
          0.9677726356756655,
          1.0120891924486815,
          1.2232183702754578,
          -0.8427421789582358,
          0.18819096793209314,
          -1.6095005021892217,
          0.41339125775669555,
          -0.8948518562686107,
          -0.1843957684237995,
          1.6860920350330262,
          1.7966629201710838,
          0.7059434946092662,
          -0.4638431276336962,
          0.8335385969736977,
          -0.7338353757187845,
          0.29198786778577684,
          0.7621576857108744,
          -1.2797389810464925,
          1.0297527504257031,
          0.9625278654239828,
          -1.7851418437008166,
          -1.0954108369089715,
          -2.8084934964522676,
          1.3198883643750479,
          0.39999831444598893,
          -1.141518084638812,
          -0.553833400359158,
          -0.5021357042202531,
          -1.7747620990430988,
          -0.7471339649507993,
          -1.680236866891475,
          0.16800536415649148,
          0.9624777623645401,
          0.7327131001167891,
          0.8596062243117514,
          0.9170009008811542,
          -0.8909419630348943,
          0.2427255664521905,
          -0.6065451458740814,
          0.2482809249447097,
          -1.8535909031151525,
          -0.09750333812372164,
          -0.8798749960318651,
          0.217800590401041,
          0.8029760466725708,
          0.6653151750366897,
          -0.3084497006647018,
          0.36768824082733653,
          -0.3339365462425808,
          0.13868616976000864,
          -0.714301240067701,
          0.5588471774554243,
          0.0069681037932292815,
          0.2403401185362488,
          0.47347545555015974,
          -1.1164580146104586,
          -1.3765949888678477,
          0.21828959853628632,
          0.2983118598338089,
          1.4624051256412518,
          -1.294335785990532,
          -1.1891868148706493,
          0.4480021923135863,
          0.12578697802044325,
          0.5113765435650498,
          0.1285909603816634,
          -0.6806646507469855,
          -0.28554355498000167,
          1.8309719250363772,
          -0.7378615237977918,
          0.8487554269717219,
          -0.22845770363282245,
          -1.3198777526010914,
          -1.7164357576246156,
          -0.8565176465067136,
          1.5973041294004924,
          1.2230412199308058,
          -0.7866323189888544,
          -1.3609919026164312,
          0.06459817804490998,
          0.921998675958377,
          2.1608332100400616,
          -0.44158263770700196,
          0.16697383520246797,
          0.15215444987588211,
          0.32083154833677463,
          -0.4768739422051255,
          0.15539672302809196,
          0.5132262797726742,
          0.5812646979598842,
          0.3999652636768709,
          -0.2552657391538536,
          0.09731861511588642
         ],
         "xaxis": "x13",
         "y": [
          1.298015485089696,
          -0.23339096447922594,
          1.1037728080136389,
          0.19806209294100593,
          2.549860056192145,
          -0.9061470055249541,
          -1.6191346355086136,
          -0.6402695199792406,
          0.5301304795188629,
          0.10826973860060203,
          -0.03096417152728443,
          -1.333260776229409,
          -0.5106018658222338,
          -1.2602161142365913,
          1.0541069690486944,
          -0.5360890299819138,
          1.2919783215192175,
          -0.06548767963927178,
          1.292524371037477,
          0.4704853470988679,
          -0.01271146868624112,
          -1.6469302468272102,
          -0.48917579782210724,
          0.37733382079878897,
          -1.1976258256123749,
          0.20879853261299658,
          0.2444678967514823,
          0.16870241860798135,
          1.6006255420901228,
          -0.028579174827799286,
          1.3256317621847986,
          -1.3605698101646098,
          0.8195467855949271,
          -0.9808516343193202,
          -0.6390064981962895,
          -1.245203809566456,
          0.4337270017046839,
          1.234528835493931,
          -0.4104457369366574,
          0.5665420894986996,
          -0.7449291411997484,
          -1.2267447902634088,
          1.1227345594966862,
          -0.12979808400976459,
          -0.6269374526327316,
          0.292703498655163,
          0.6257393332073456,
          0.45996788432615043,
          0.5043667581526481,
          2.237293213159649,
          -1.4060039933788429,
          0.1788743528339559,
          -1.134521652233473,
          -0.015399492226502463,
          -0.9684748530238916,
          -1.4820224914118059,
          0.1715902804964764,
          -0.42039750746697546,
          0.8498256250305002,
          -0.2453748541806391,
          -0.8775939924189635,
          -2.9231849271662522,
          -0.9748902362208998,
          0.20637640117167275,
          0.5947071928430647,
          -0.30435577684235404,
          -2.1039353759161292,
          1.115513771005786,
          -0.5120600168812814,
          -2.075411098303332,
          2.253424939189268,
          0.7288262548169948,
          -0.7438074474356711,
          1.4919452591038689,
          1.3918176520913537,
          0.23639510290963997,
          -2.294323561421982,
          1.5561353538714506,
          -1.1615335890268663,
          -0.6852963592356053,
          0.08255655206476742,
          -1.6276212209267913,
          1.5138596525635728,
          0.3988950310224964,
          -0.5596997640137246,
          0.8127648867817936,
          -0.9090456772154684,
          -0.2023741303876413,
          -1.0759692892756814,
          -1.0116840652689627,
          -0.5956950303753511,
          0.6474080682588678,
          0.7648410756169055,
          1.5983143212427664,
          -1.2084704597596465,
          -1.187085251520976,
          -0.7207177114828895,
          -1.1365632858321943,
          1.1963260943489973,
          -1.9694894606706348
         ],
         "yaxis": "y13"
        },
        {
         "line": {
          "color": "rgba(128, 128, 128, 1.0)",
          "dash": "solid",
          "shape": "linear",
          "width": 1.3
         },
         "marker": {
          "size": 2,
          "symbol": "circle"
         },
         "mode": "markers",
         "name": "D",
         "text": "",
         "type": "scatter",
         "x": [
          -0.6382408485860838,
          -0.26445161392310296,
          -0.23213667337437718,
          0.5180176758815382,
          -1.1248049522097245,
          -0.380272960362963,
          -0.2932209551832816,
          -0.2983349399546075,
          0.8352757748805898,
          0.19767795485653444,
          -0.25848078585870043,
          0.6572601167502129,
          0.4792315672286233,
          -0.7297409216849485,
          0.4046424846202565,
          1.2968971276167458,
          0.13935965106348322,
          -0.6594484341435785,
          -0.02418590218582255,
          -2.5239897567978575,
          1.5346822177409631,
          -0.044687567248630725,
          1.6231383581412073,
          0.40026551057354326,
          -1.346220027753875,
          0.16491814429374466,
          0.9065722606320102,
          0.6700483963411383,
          -0.05104018162539486,
          1.1707146916736622,
          0.27196909622293,
          -0.823741868413821,
          -1.071654380390136,
          1.611845565479155,
          -0.6358684090521775,
          0.12088690562135754,
          -0.4238076744306274,
          0.30761109667202036,
          0.10090276567627783,
          -0.934825817248883,
          -0.11477621970946751,
          -0.25626272220601465,
          -2.2618111698047243,
          0.47059504469409547,
          0.3384630374158783,
          1.1429078856709527,
          1.039266887625021,
          -0.9967830206402708,
          -0.6202045714826442,
          0.22079305993745846,
          0.9115135718961257,
          -1.2122517475675738,
          1.0560300708411399,
          -1.9090176950054356,
          2.028179416010953,
          0.2831970755448901,
          0.6241028603371211,
          1.0407268957495415,
          -0.26224266816482766,
          0.5298657981252108,
          -2.0965098648132012,
          1.5130229822141446,
          -1.7078071537312842,
          -0.2720326625194213,
          1.5419814719954992,
          -0.3403798338394972,
          -0.2607484877893845,
          1.613613022678893,
          0.015346417608684809,
          0.8193595059346083,
          0.28400196804539557,
          0.23640271970560556,
          0.9643162048376709,
          -0.604459368826204,
          -1.2825284995959614,
          -0.3851992746376785,
          -0.2698997452038915,
          -0.1806119563245644,
          0.03316776563581451,
          -0.2064180896765948,
          0.5557810546207436,
          -0.9395511240801336,
          -0.3738586334196706,
          0.719627463803325,
          -1.1552010934966621,
          0.18725547161413295,
          -1.8598061078955381,
          -0.31999462379920496,
          -1.8573069884412665,
          0.5833843253960496,
          0.7005904412031791,
          -0.592374288827152,
          -0.32071254126644355,
          0.7437217160339742,
          -0.6523371315325809,
          -0.14606736635054363,
          -1.0609890385279603,
          -1.397175646717783,
          -0.4182909179317061,
          1.3303804152695233
         ],
         "xaxis": "x14",
         "y": [
          1.298015485089696,
          -0.23339096447922594,
          1.1037728080136389,
          0.19806209294100593,
          2.549860056192145,
          -0.9061470055249541,
          -1.6191346355086136,
          -0.6402695199792406,
          0.5301304795188629,
          0.10826973860060203,
          -0.03096417152728443,
          -1.333260776229409,
          -0.5106018658222338,
          -1.2602161142365913,
          1.0541069690486944,
          -0.5360890299819138,
          1.2919783215192175,
          -0.06548767963927178,
          1.292524371037477,
          0.4704853470988679,
          -0.01271146868624112,
          -1.6469302468272102,
          -0.48917579782210724,
          0.37733382079878897,
          -1.1976258256123749,
          0.20879853261299658,
          0.2444678967514823,
          0.16870241860798135,
          1.6006255420901228,
          -0.028579174827799286,
          1.3256317621847986,
          -1.3605698101646098,
          0.8195467855949271,
          -0.9808516343193202,
          -0.6390064981962895,
          -1.245203809566456,
          0.4337270017046839,
          1.234528835493931,
          -0.4104457369366574,
          0.5665420894986996,
          -0.7449291411997484,
          -1.2267447902634088,
          1.1227345594966862,
          -0.12979808400976459,
          -0.6269374526327316,
          0.292703498655163,
          0.6257393332073456,
          0.45996788432615043,
          0.5043667581526481,
          2.237293213159649,
          -1.4060039933788429,
          0.1788743528339559,
          -1.134521652233473,
          -0.015399492226502463,
          -0.9684748530238916,
          -1.4820224914118059,
          0.1715902804964764,
          -0.42039750746697546,
          0.8498256250305002,
          -0.2453748541806391,
          -0.8775939924189635,
          -2.9231849271662522,
          -0.9748902362208998,
          0.20637640117167275,
          0.5947071928430647,
          -0.30435577684235404,
          -2.1039353759161292,
          1.115513771005786,
          -0.5120600168812814,
          -2.075411098303332,
          2.253424939189268,
          0.7288262548169948,
          -0.7438074474356711,
          1.4919452591038689,
          1.3918176520913537,
          0.23639510290963997,
          -2.294323561421982,
          1.5561353538714506,
          -1.1615335890268663,
          -0.6852963592356053,
          0.08255655206476742,
          -1.6276212209267913,
          1.5138596525635728,
          0.3988950310224964,
          -0.5596997640137246,
          0.8127648867817936,
          -0.9090456772154684,
          -0.2023741303876413,
          -1.0759692892756814,
          -1.0116840652689627,
          -0.5956950303753511,
          0.6474080682588678,
          0.7648410756169055,
          1.5983143212427664,
          -1.2084704597596465,
          -1.187085251520976,
          -0.7207177114828895,
          -1.1365632858321943,
          1.1963260943489973,
          -1.9694894606706348
         ],
         "yaxis": "y14"
        },
        {
         "line": {
          "color": "rgba(128, 128, 128, 1.0)",
          "dash": "solid",
          "shape": "linear",
          "width": 1.3
         },
         "marker": {
          "size": 2,
          "symbol": "circle"
         },
         "mode": "markers",
         "name": "D",
         "text": "",
         "type": "scatter",
         "x": [
          -0.224893079246173,
          1.2503815642723262,
          -0.009751551125147586,
          0.16527703916918052,
          -0.3745090835527552,
          0.515662283296908,
          1.0547154138277266,
          -0.22067757188991727,
          -0.6498584802383204,
          -2.07908895587237,
          2.1403465577961116,
          1.6445158565680038,
          -1.0175955610791787,
          -0.17251980686788723,
          -0.19414925926115856,
          0.9311926054750844,
          0.24273553610203655,
          -0.8953402123461103,
          -0.3387964991908508,
          0.36389088884917165,
          0.4405868040137417,
          -0.21012156100866447,
          -2.788900751431851,
          1.198143626275225,
          -0.4127880365061836,
          -0.238621684631133,
          0.4371715805619799,
          1.256886884011327,
          -0.060193643202252595,
          0.3059995769855611,
          -0.4158291391773987,
          2.1475559417541734,
          -0.6243802744709012,
          0.5817247352369509,
          0.39266255814740997,
          0.5649256027013886,
          0.8061396519459106,
          0.6195039399742812,
          0.02177467231854164,
          -1.319899574991042,
          -0.3356450667412887,
          0.03748262752761676,
          0.21357396085531327,
          0.1224416437776951,
          -0.2197873964063419,
          -1.0600124514378158,
          -0.3345568122382559,
          -0.5769051564609712,
          2.8592353822054193,
          0.9402264092354687,
          1.1170894271622458,
          1.1025825408160912,
          1.4589599777641047,
          -0.00559822897158635,
          0.649167046273083,
          0.5962648454476672,
          2.1015783595893724,
          -1.0004967709798152,
          -0.794419492093333,
          0.8507876014851588,
          -0.43312010038274834,
          -0.25549192361797196,
          0.3408418093354243,
          -1.3140065306556812,
          -0.892627715873621,
          0.2800577801511644,
          -1.8190732690240992,
          0.7071155509495465,
          -1.2699887648430062,
          1.1691192931392227,
          0.11665823912731504,
          -0.5073035259374067,
          -1.0932263125943875,
          0.20275177216827314,
          -0.11142118650757836,
          0.02910736140493556,
          0.9342531709146351,
          0.16746231525434202,
          -0.4608568591137009,
          -0.3901894838095558,
          0.6092957626506681,
          -0.5557513480847908,
          -0.21909070450172796,
          -0.537747844859767,
          -0.672824530162349,
          2.6124495827756866,
          1.6013530267662324,
          -0.10470803359208224,
          -0.48551242090787217,
          -0.36798474127000314,
          0.4582902064494334,
          1.2426685607553631,
          1.1506367383501355,
          -0.48916011980898466,
          -2.311296255514442,
          1.1525036060530027,
          0.18302057139365044,
          -0.13978553105887837,
          -0.04229289544270978,
          0.04282490464750087
         ],
         "xaxis": "x15",
         "y": [
          1.298015485089696,
          -0.23339096447922594,
          1.1037728080136389,
          0.19806209294100593,
          2.549860056192145,
          -0.9061470055249541,
          -1.6191346355086136,
          -0.6402695199792406,
          0.5301304795188629,
          0.10826973860060203,
          -0.03096417152728443,
          -1.333260776229409,
          -0.5106018658222338,
          -1.2602161142365913,
          1.0541069690486944,
          -0.5360890299819138,
          1.2919783215192175,
          -0.06548767963927178,
          1.292524371037477,
          0.4704853470988679,
          -0.01271146868624112,
          -1.6469302468272102,
          -0.48917579782210724,
          0.37733382079878897,
          -1.1976258256123749,
          0.20879853261299658,
          0.2444678967514823,
          0.16870241860798135,
          1.6006255420901228,
          -0.028579174827799286,
          1.3256317621847986,
          -1.3605698101646098,
          0.8195467855949271,
          -0.9808516343193202,
          -0.6390064981962895,
          -1.245203809566456,
          0.4337270017046839,
          1.234528835493931,
          -0.4104457369366574,
          0.5665420894986996,
          -0.7449291411997484,
          -1.2267447902634088,
          1.1227345594966862,
          -0.12979808400976459,
          -0.6269374526327316,
          0.292703498655163,
          0.6257393332073456,
          0.45996788432615043,
          0.5043667581526481,
          2.237293213159649,
          -1.4060039933788429,
          0.1788743528339559,
          -1.134521652233473,
          -0.015399492226502463,
          -0.9684748530238916,
          -1.4820224914118059,
          0.1715902804964764,
          -0.42039750746697546,
          0.8498256250305002,
          -0.2453748541806391,
          -0.8775939924189635,
          -2.9231849271662522,
          -0.9748902362208998,
          0.20637640117167275,
          0.5947071928430647,
          -0.30435577684235404,
          -2.1039353759161292,
          1.115513771005786,
          -0.5120600168812814,
          -2.075411098303332,
          2.253424939189268,
          0.7288262548169948,
          -0.7438074474356711,
          1.4919452591038689,
          1.3918176520913537,
          0.23639510290963997,
          -2.294323561421982,
          1.5561353538714506,
          -1.1615335890268663,
          -0.6852963592356053,
          0.08255655206476742,
          -1.6276212209267913,
          1.5138596525635728,
          0.3988950310224964,
          -0.5596997640137246,
          0.8127648867817936,
          -0.9090456772154684,
          -0.2023741303876413,
          -1.0759692892756814,
          -1.0116840652689627,
          -0.5956950303753511,
          0.6474080682588678,
          0.7648410756169055,
          1.5983143212427664,
          -1.2084704597596465,
          -1.187085251520976,
          -0.7207177114828895,
          -1.1365632858321943,
          1.1963260943489973,
          -1.9694894606706348
         ],
         "yaxis": "y15"
        },
        {
         "histfunc": "count",
         "histnorm": "",
         "marker": {
          "color": "rgba(128, 0, 128, 1.0)",
          "line": {
           "color": "#4D5663",
           "width": 1.3
          }
         },
         "name": "D",
         "nbinsx": 10,
         "opacity": 0.8,
         "orientation": "v",
         "type": "histogram",
         "x": [
          1.298015485089696,
          -0.23339096447922594,
          1.1037728080136389,
          0.19806209294100593,
          2.549860056192145,
          -0.9061470055249541,
          -1.6191346355086136,
          -0.6402695199792406,
          0.5301304795188629,
          0.10826973860060203,
          -0.03096417152728443,
          -1.333260776229409,
          -0.5106018658222338,
          -1.2602161142365913,
          1.0541069690486944,
          -0.5360890299819138,
          1.2919783215192175,
          -0.06548767963927178,
          1.292524371037477,
          0.4704853470988679,
          -0.01271146868624112,
          -1.6469302468272102,
          -0.48917579782210724,
          0.37733382079878897,
          -1.1976258256123749,
          0.20879853261299658,
          0.2444678967514823,
          0.16870241860798135,
          1.6006255420901228,
          -0.028579174827799286,
          1.3256317621847986,
          -1.3605698101646098,
          0.8195467855949271,
          -0.9808516343193202,
          -0.6390064981962895,
          -1.245203809566456,
          0.4337270017046839,
          1.234528835493931,
          -0.4104457369366574,
          0.5665420894986996,
          -0.7449291411997484,
          -1.2267447902634088,
          1.1227345594966862,
          -0.12979808400976459,
          -0.6269374526327316,
          0.292703498655163,
          0.6257393332073456,
          0.45996788432615043,
          0.5043667581526481,
          2.237293213159649,
          -1.4060039933788429,
          0.1788743528339559,
          -1.134521652233473,
          -0.015399492226502463,
          -0.9684748530238916,
          -1.4820224914118059,
          0.1715902804964764,
          -0.42039750746697546,
          0.8498256250305002,
          -0.2453748541806391,
          -0.8775939924189635,
          -2.9231849271662522,
          -0.9748902362208998,
          0.20637640117167275,
          0.5947071928430647,
          -0.30435577684235404,
          -2.1039353759161292,
          1.115513771005786,
          -0.5120600168812814,
          -2.075411098303332,
          2.253424939189268,
          0.7288262548169948,
          -0.7438074474356711,
          1.4919452591038689,
          1.3918176520913537,
          0.23639510290963997,
          -2.294323561421982,
          1.5561353538714506,
          -1.1615335890268663,
          -0.6852963592356053,
          0.08255655206476742,
          -1.6276212209267913,
          1.5138596525635728,
          0.3988950310224964,
          -0.5596997640137246,
          0.8127648867817936,
          -0.9090456772154684,
          -0.2023741303876413,
          -1.0759692892756814,
          -1.0116840652689627,
          -0.5956950303753511,
          0.6474080682588678,
          0.7648410756169055,
          1.5983143212427664,
          -1.2084704597596465,
          -1.187085251520976,
          -0.7207177114828895,
          -1.1365632858321943,
          1.1963260943489973,
          -1.9694894606706348
         ],
         "xaxis": "x16",
         "yaxis": "y16"
        }
       ],
       "layout": {
        "bargap": 0.02,
        "legend": {
         "bgcolor": "#F5F6F9",
         "font": {
          "color": "#4D5663"
         }
        },
        "paper_bgcolor": "#F5F6F9",
        "plot_bgcolor": "#F5F6F9",
        "showlegend": false,
        "template": {
         "data": {
          "bar": [
           {
            "error_x": {
             "color": "#2a3f5f"
            },
            "error_y": {
             "color": "#2a3f5f"
            },
            "marker": {
             "line": {
              "color": "#E5ECF6",
              "width": 0.5
             },
             "pattern": {
              "fillmode": "overlay",
              "size": 10,
              "solidity": 0.2
             }
            },
            "type": "bar"
           }
          ],
          "barpolar": [
           {
            "marker": {
             "line": {
              "color": "#E5ECF6",
              "width": 0.5
             },
             "pattern": {
              "fillmode": "overlay",
              "size": 10,
              "solidity": 0.2
             }
            },
            "type": "barpolar"
           }
          ],
          "carpet": [
           {
            "aaxis": {
             "endlinecolor": "#2a3f5f",
             "gridcolor": "white",
             "linecolor": "white",
             "minorgridcolor": "white",
             "startlinecolor": "#2a3f5f"
            },
            "baxis": {
             "endlinecolor": "#2a3f5f",
             "gridcolor": "white",
             "linecolor": "white",
             "minorgridcolor": "white",
             "startlinecolor": "#2a3f5f"
            },
            "type": "carpet"
           }
          ],
          "choropleth": [
           {
            "colorbar": {
             "outlinewidth": 0,
             "ticks": ""
            },
            "type": "choropleth"
           }
          ],
          "contour": [
           {
            "colorbar": {
             "outlinewidth": 0,
             "ticks": ""
            },
            "colorscale": [
             [
              0,
              "#0d0887"
             ],
             [
              0.1111111111111111,
              "#46039f"
             ],
             [
              0.2222222222222222,
              "#7201a8"
             ],
             [
              0.3333333333333333,
              "#9c179e"
             ],
             [
              0.4444444444444444,
              "#bd3786"
             ],
             [
              0.5555555555555556,
              "#d8576b"
             ],
             [
              0.6666666666666666,
              "#ed7953"
             ],
             [
              0.7777777777777778,
              "#fb9f3a"
             ],
             [
              0.8888888888888888,
              "#fdca26"
             ],
             [
              1,
              "#f0f921"
             ]
            ],
            "type": "contour"
           }
          ],
          "contourcarpet": [
           {
            "colorbar": {
             "outlinewidth": 0,
             "ticks": ""
            },
            "type": "contourcarpet"
           }
          ],
          "heatmap": [
           {
            "colorbar": {
             "outlinewidth": 0,
             "ticks": ""
            },
            "colorscale": [
             [
              0,
              "#0d0887"
             ],
             [
              0.1111111111111111,
              "#46039f"
             ],
             [
              0.2222222222222222,
              "#7201a8"
             ],
             [
              0.3333333333333333,
              "#9c179e"
             ],
             [
              0.4444444444444444,
              "#bd3786"
             ],
             [
              0.5555555555555556,
              "#d8576b"
             ],
             [
              0.6666666666666666,
              "#ed7953"
             ],
             [
              0.7777777777777778,
              "#fb9f3a"
             ],
             [
              0.8888888888888888,
              "#fdca26"
             ],
             [
              1,
              "#f0f921"
             ]
            ],
            "type": "heatmap"
           }
          ],
          "heatmapgl": [
           {
            "colorbar": {
             "outlinewidth": 0,
             "ticks": ""
            },
            "colorscale": [
             [
              0,
              "#0d0887"
             ],
             [
              0.1111111111111111,
              "#46039f"
             ],
             [
              0.2222222222222222,
              "#7201a8"
             ],
             [
              0.3333333333333333,
              "#9c179e"
             ],
             [
              0.4444444444444444,
              "#bd3786"
             ],
             [
              0.5555555555555556,
              "#d8576b"
             ],
             [
              0.6666666666666666,
              "#ed7953"
             ],
             [
              0.7777777777777778,
              "#fb9f3a"
             ],
             [
              0.8888888888888888,
              "#fdca26"
             ],
             [
              1,
              "#f0f921"
             ]
            ],
            "type": "heatmapgl"
           }
          ],
          "histogram": [
           {
            "marker": {
             "pattern": {
              "fillmode": "overlay",
              "size": 10,
              "solidity": 0.2
             }
            },
            "type": "histogram"
           }
          ],
          "histogram2d": [
           {
            "colorbar": {
             "outlinewidth": 0,
             "ticks": ""
            },
            "colorscale": [
             [
              0,
              "#0d0887"
             ],
             [
              0.1111111111111111,
              "#46039f"
             ],
             [
              0.2222222222222222,
              "#7201a8"
             ],
             [
              0.3333333333333333,
              "#9c179e"
             ],
             [
              0.4444444444444444,
              "#bd3786"
             ],
             [
              0.5555555555555556,
              "#d8576b"
             ],
             [
              0.6666666666666666,
              "#ed7953"
             ],
             [
              0.7777777777777778,
              "#fb9f3a"
             ],
             [
              0.8888888888888888,
              "#fdca26"
             ],
             [
              1,
              "#f0f921"
             ]
            ],
            "type": "histogram2d"
           }
          ],
          "histogram2dcontour": [
           {
            "colorbar": {
             "outlinewidth": 0,
             "ticks": ""
            },
            "colorscale": [
             [
              0,
              "#0d0887"
             ],
             [
              0.1111111111111111,
              "#46039f"
             ],
             [
              0.2222222222222222,
              "#7201a8"
             ],
             [
              0.3333333333333333,
              "#9c179e"
             ],
             [
              0.4444444444444444,
              "#bd3786"
             ],
             [
              0.5555555555555556,
              "#d8576b"
             ],
             [
              0.6666666666666666,
              "#ed7953"
             ],
             [
              0.7777777777777778,
              "#fb9f3a"
             ],
             [
              0.8888888888888888,
              "#fdca26"
             ],
             [
              1,
              "#f0f921"
             ]
            ],
            "type": "histogram2dcontour"
           }
          ],
          "mesh3d": [
           {
            "colorbar": {
             "outlinewidth": 0,
             "ticks": ""
            },
            "type": "mesh3d"
           }
          ],
          "parcoords": [
           {
            "line": {
             "colorbar": {
              "outlinewidth": 0,
              "ticks": ""
             }
            },
            "type": "parcoords"
           }
          ],
          "pie": [
           {
            "automargin": true,
            "type": "pie"
           }
          ],
          "scatter": [
           {
            "fillpattern": {
             "fillmode": "overlay",
             "size": 10,
             "solidity": 0.2
            },
            "type": "scatter"
           }
          ],
          "scatter3d": [
           {
            "line": {
             "colorbar": {
              "outlinewidth": 0,
              "ticks": ""
             }
            },
            "marker": {
             "colorbar": {
              "outlinewidth": 0,
              "ticks": ""
             }
            },
            "type": "scatter3d"
           }
          ],
          "scattercarpet": [
           {
            "marker": {
             "colorbar": {
              "outlinewidth": 0,
              "ticks": ""
             }
            },
            "type": "scattercarpet"
           }
          ],
          "scattergeo": [
           {
            "marker": {
             "colorbar": {
              "outlinewidth": 0,
              "ticks": ""
             }
            },
            "type": "scattergeo"
           }
          ],
          "scattergl": [
           {
            "marker": {
             "colorbar": {
              "outlinewidth": 0,
              "ticks": ""
             }
            },
            "type": "scattergl"
           }
          ],
          "scattermapbox": [
           {
            "marker": {
             "colorbar": {
              "outlinewidth": 0,
              "ticks": ""
             }
            },
            "type": "scattermapbox"
           }
          ],
          "scatterpolar": [
           {
            "marker": {
             "colorbar": {
              "outlinewidth": 0,
              "ticks": ""
             }
            },
            "type": "scatterpolar"
           }
          ],
          "scatterpolargl": [
           {
            "marker": {
             "colorbar": {
              "outlinewidth": 0,
              "ticks": ""
             }
            },
            "type": "scatterpolargl"
           }
          ],
          "scatterternary": [
           {
            "marker": {
             "colorbar": {
              "outlinewidth": 0,
              "ticks": ""
             }
            },
            "type": "scatterternary"
           }
          ],
          "surface": [
           {
            "colorbar": {
             "outlinewidth": 0,
             "ticks": ""
            },
            "colorscale": [
             [
              0,
              "#0d0887"
             ],
             [
              0.1111111111111111,
              "#46039f"
             ],
             [
              0.2222222222222222,
              "#7201a8"
             ],
             [
              0.3333333333333333,
              "#9c179e"
             ],
             [
              0.4444444444444444,
              "#bd3786"
             ],
             [
              0.5555555555555556,
              "#d8576b"
             ],
             [
              0.6666666666666666,
              "#ed7953"
             ],
             [
              0.7777777777777778,
              "#fb9f3a"
             ],
             [
              0.8888888888888888,
              "#fdca26"
             ],
             [
              1,
              "#f0f921"
             ]
            ],
            "type": "surface"
           }
          ],
          "table": [
           {
            "cells": {
             "fill": {
              "color": "#EBF0F8"
             },
             "line": {
              "color": "white"
             }
            },
            "header": {
             "fill": {
              "color": "#C8D4E3"
             },
             "line": {
              "color": "white"
             }
            },
            "type": "table"
           }
          ]
         },
         "layout": {
          "annotationdefaults": {
           "arrowcolor": "#2a3f5f",
           "arrowhead": 0,
           "arrowwidth": 1
          },
          "autotypenumbers": "strict",
          "coloraxis": {
           "colorbar": {
            "outlinewidth": 0,
            "ticks": ""
           }
          },
          "colorscale": {
           "diverging": [
            [
             0,
             "#8e0152"
            ],
            [
             0.1,
             "#c51b7d"
            ],
            [
             0.2,
             "#de77ae"
            ],
            [
             0.3,
             "#f1b6da"
            ],
            [
             0.4,
             "#fde0ef"
            ],
            [
             0.5,
             "#f7f7f7"
            ],
            [
             0.6,
             "#e6f5d0"
            ],
            [
             0.7,
             "#b8e186"
            ],
            [
             0.8,
             "#7fbc41"
            ],
            [
             0.9,
             "#4d9221"
            ],
            [
             1,
             "#276419"
            ]
           ],
           "sequential": [
            [
             0,
             "#0d0887"
            ],
            [
             0.1111111111111111,
             "#46039f"
            ],
            [
             0.2222222222222222,
             "#7201a8"
            ],
            [
             0.3333333333333333,
             "#9c179e"
            ],
            [
             0.4444444444444444,
             "#bd3786"
            ],
            [
             0.5555555555555556,
             "#d8576b"
            ],
            [
             0.6666666666666666,
             "#ed7953"
            ],
            [
             0.7777777777777778,
             "#fb9f3a"
            ],
            [
             0.8888888888888888,
             "#fdca26"
            ],
            [
             1,
             "#f0f921"
            ]
           ],
           "sequentialminus": [
            [
             0,
             "#0d0887"
            ],
            [
             0.1111111111111111,
             "#46039f"
            ],
            [
             0.2222222222222222,
             "#7201a8"
            ],
            [
             0.3333333333333333,
             "#9c179e"
            ],
            [
             0.4444444444444444,
             "#bd3786"
            ],
            [
             0.5555555555555556,
             "#d8576b"
            ],
            [
             0.6666666666666666,
             "#ed7953"
            ],
            [
             0.7777777777777778,
             "#fb9f3a"
            ],
            [
             0.8888888888888888,
             "#fdca26"
            ],
            [
             1,
             "#f0f921"
            ]
           ]
          },
          "colorway": [
           "#636efa",
           "#EF553B",
           "#00cc96",
           "#ab63fa",
           "#FFA15A",
           "#19d3f3",
           "#FF6692",
           "#B6E880",
           "#FF97FF",
           "#FECB52"
          ],
          "font": {
           "color": "#2a3f5f"
          },
          "geo": {
           "bgcolor": "white",
           "lakecolor": "white",
           "landcolor": "#E5ECF6",
           "showlakes": true,
           "showland": true,
           "subunitcolor": "white"
          },
          "hoverlabel": {
           "align": "left"
          },
          "hovermode": "closest",
          "mapbox": {
           "style": "light"
          },
          "paper_bgcolor": "white",
          "plot_bgcolor": "#E5ECF6",
          "polar": {
           "angularaxis": {
            "gridcolor": "white",
            "linecolor": "white",
            "ticks": ""
           },
           "bgcolor": "#E5ECF6",
           "radialaxis": {
            "gridcolor": "white",
            "linecolor": "white",
            "ticks": ""
           }
          },
          "scene": {
           "xaxis": {
            "backgroundcolor": "#E5ECF6",
            "gridcolor": "white",
            "gridwidth": 2,
            "linecolor": "white",
            "showbackground": true,
            "ticks": "",
            "zerolinecolor": "white"
           },
           "yaxis": {
            "backgroundcolor": "#E5ECF6",
            "gridcolor": "white",
            "gridwidth": 2,
            "linecolor": "white",
            "showbackground": true,
            "ticks": "",
            "zerolinecolor": "white"
           },
           "zaxis": {
            "backgroundcolor": "#E5ECF6",
            "gridcolor": "white",
            "gridwidth": 2,
            "linecolor": "white",
            "showbackground": true,
            "ticks": "",
            "zerolinecolor": "white"
           }
          },
          "shapedefaults": {
           "line": {
            "color": "#2a3f5f"
           }
          },
          "ternary": {
           "aaxis": {
            "gridcolor": "white",
            "linecolor": "white",
            "ticks": ""
           },
           "baxis": {
            "gridcolor": "white",
            "linecolor": "white",
            "ticks": ""
           },
           "bgcolor": "#E5ECF6",
           "caxis": {
            "gridcolor": "white",
            "linecolor": "white",
            "ticks": ""
           }
          },
          "title": {
           "x": 0.05
          },
          "xaxis": {
           "automargin": true,
           "gridcolor": "white",
           "linecolor": "white",
           "ticks": "",
           "title": {
            "standoff": 15
           },
           "zerolinecolor": "white",
           "zerolinewidth": 2
          },
          "yaxis": {
           "automargin": true,
           "gridcolor": "white",
           "linecolor": "white",
           "ticks": "",
           "title": {
            "standoff": 15
           },
           "zerolinecolor": "white",
           "zerolinewidth": 2
          }
         }
        },
        "title": {
         "font": {
          "color": "#4D5663"
         }
        },
        "xaxis": {
         "anchor": "y",
         "domain": [
          0,
          0.2125
         ],
         "gridcolor": "#E1E5ED",
         "showgrid": false,
         "tickfont": {
          "color": "#4D5663"
         },
         "title": {
          "font": {
           "color": "#4D5663"
          },
          "text": ""
         },
         "zerolinecolor": "#E1E5ED"
        },
        "xaxis10": {
         "anchor": "y10",
         "domain": [
          0.2625,
          0.475
         ],
         "gridcolor": "#E1E5ED",
         "showgrid": false,
         "tickfont": {
          "color": "#4D5663"
         },
         "title": {
          "font": {
           "color": "#4D5663"
          },
          "text": ""
         },
         "zerolinecolor": "#E1E5ED"
        },
        "xaxis11": {
         "anchor": "y11",
         "domain": [
          0.525,
          0.7375
         ],
         "gridcolor": "#E1E5ED",
         "showgrid": false,
         "tickfont": {
          "color": "#4D5663"
         },
         "title": {
          "font": {
           "color": "#4D5663"
          },
          "text": ""
         },
         "zerolinecolor": "#E1E5ED"
        },
        "xaxis12": {
         "anchor": "y12",
         "domain": [
          0.7875,
          1
         ],
         "gridcolor": "#E1E5ED",
         "showgrid": false,
         "tickfont": {
          "color": "#4D5663"
         },
         "title": {
          "font": {
           "color": "#4D5663"
          },
          "text": ""
         },
         "zerolinecolor": "#E1E5ED"
        },
        "xaxis13": {
         "anchor": "y13",
         "domain": [
          0,
          0.2125
         ],
         "gridcolor": "#E1E5ED",
         "showgrid": false,
         "tickfont": {
          "color": "#4D5663"
         },
         "title": {
          "font": {
           "color": "#4D5663"
          },
          "text": ""
         },
         "zerolinecolor": "#E1E5ED"
        },
        "xaxis14": {
         "anchor": "y14",
         "domain": [
          0.2625,
          0.475
         ],
         "gridcolor": "#E1E5ED",
         "showgrid": false,
         "tickfont": {
          "color": "#4D5663"
         },
         "title": {
          "font": {
           "color": "#4D5663"
          },
          "text": ""
         },
         "zerolinecolor": "#E1E5ED"
        },
        "xaxis15": {
         "anchor": "y15",
         "domain": [
          0.525,
          0.7375
         ],
         "gridcolor": "#E1E5ED",
         "showgrid": false,
         "tickfont": {
          "color": "#4D5663"
         },
         "title": {
          "font": {
           "color": "#4D5663"
          },
          "text": ""
         },
         "zerolinecolor": "#E1E5ED"
        },
        "xaxis16": {
         "anchor": "y16",
         "domain": [
          0.7875,
          1
         ],
         "gridcolor": "#E1E5ED",
         "showgrid": false,
         "tickfont": {
          "color": "#4D5663"
         },
         "title": {
          "font": {
           "color": "#4D5663"
          },
          "text": ""
         },
         "zerolinecolor": "#E1E5ED"
        },
        "xaxis2": {
         "anchor": "y2",
         "domain": [
          0.2625,
          0.475
         ],
         "gridcolor": "#E1E5ED",
         "showgrid": false,
         "tickfont": {
          "color": "#4D5663"
         },
         "title": {
          "font": {
           "color": "#4D5663"
          },
          "text": ""
         },
         "zerolinecolor": "#E1E5ED"
        },
        "xaxis3": {
         "anchor": "y3",
         "domain": [
          0.525,
          0.7375
         ],
         "gridcolor": "#E1E5ED",
         "showgrid": false,
         "tickfont": {
          "color": "#4D5663"
         },
         "title": {
          "font": {
           "color": "#4D5663"
          },
          "text": ""
         },
         "zerolinecolor": "#E1E5ED"
        },
        "xaxis4": {
         "anchor": "y4",
         "domain": [
          0.7875,
          1
         ],
         "gridcolor": "#E1E5ED",
         "showgrid": false,
         "tickfont": {
          "color": "#4D5663"
         },
         "title": {
          "font": {
           "color": "#4D5663"
          },
          "text": ""
         },
         "zerolinecolor": "#E1E5ED"
        },
        "xaxis5": {
         "anchor": "y5",
         "domain": [
          0,
          0.2125
         ],
         "gridcolor": "#E1E5ED",
         "showgrid": false,
         "tickfont": {
          "color": "#4D5663"
         },
         "title": {
          "font": {
           "color": "#4D5663"
          },
          "text": ""
         },
         "zerolinecolor": "#E1E5ED"
        },
        "xaxis6": {
         "anchor": "y6",
         "domain": [
          0.2625,
          0.475
         ],
         "gridcolor": "#E1E5ED",
         "showgrid": false,
         "tickfont": {
          "color": "#4D5663"
         },
         "title": {
          "font": {
           "color": "#4D5663"
          },
          "text": ""
         },
         "zerolinecolor": "#E1E5ED"
        },
        "xaxis7": {
         "anchor": "y7",
         "domain": [
          0.525,
          0.7375
         ],
         "gridcolor": "#E1E5ED",
         "showgrid": false,
         "tickfont": {
          "color": "#4D5663"
         },
         "title": {
          "font": {
           "color": "#4D5663"
          },
          "text": ""
         },
         "zerolinecolor": "#E1E5ED"
        },
        "xaxis8": {
         "anchor": "y8",
         "domain": [
          0.7875,
          1
         ],
         "gridcolor": "#E1E5ED",
         "showgrid": false,
         "tickfont": {
          "color": "#4D5663"
         },
         "title": {
          "font": {
           "color": "#4D5663"
          },
          "text": ""
         },
         "zerolinecolor": "#E1E5ED"
        },
        "xaxis9": {
         "anchor": "y9",
         "domain": [
          0,
          0.2125
         ],
         "gridcolor": "#E1E5ED",
         "showgrid": false,
         "tickfont": {
          "color": "#4D5663"
         },
         "title": {
          "font": {
           "color": "#4D5663"
          },
          "text": ""
         },
         "zerolinecolor": "#E1E5ED"
        },
        "yaxis": {
         "anchor": "x",
         "domain": [
          0.8025,
          1
         ],
         "gridcolor": "#E1E5ED",
         "showgrid": false,
         "tickfont": {
          "color": "#4D5663"
         },
         "title": {
          "font": {
           "color": "#4D5663"
          },
          "text": ""
         },
         "zerolinecolor": "#E1E5ED"
        },
        "yaxis10": {
         "anchor": "x10",
         "domain": [
          0.2675,
          0.465
         ],
         "gridcolor": "#E1E5ED",
         "showgrid": false,
         "tickfont": {
          "color": "#4D5663"
         },
         "title": {
          "font": {
           "color": "#4D5663"
          },
          "text": ""
         },
         "zerolinecolor": "#E1E5ED"
        },
        "yaxis11": {
         "anchor": "x11",
         "domain": [
          0.2675,
          0.465
         ],
         "gridcolor": "#E1E5ED",
         "showgrid": false,
         "tickfont": {
          "color": "#4D5663"
         },
         "title": {
          "font": {
           "color": "#4D5663"
          },
          "text": ""
         },
         "zerolinecolor": "#E1E5ED"
        },
        "yaxis12": {
         "anchor": "x12",
         "domain": [
          0.2675,
          0.465
         ],
         "gridcolor": "#E1E5ED",
         "showgrid": false,
         "tickfont": {
          "color": "#4D5663"
         },
         "title": {
          "font": {
           "color": "#4D5663"
          },
          "text": ""
         },
         "zerolinecolor": "#E1E5ED"
        },
        "yaxis13": {
         "anchor": "x13",
         "domain": [
          0,
          0.1975
         ],
         "gridcolor": "#E1E5ED",
         "showgrid": false,
         "tickfont": {
          "color": "#4D5663"
         },
         "title": {
          "font": {
           "color": "#4D5663"
          },
          "text": ""
         },
         "zerolinecolor": "#E1E5ED"
        },
        "yaxis14": {
         "anchor": "x14",
         "domain": [
          0,
          0.1975
         ],
         "gridcolor": "#E1E5ED",
         "showgrid": false,
         "tickfont": {
          "color": "#4D5663"
         },
         "title": {
          "font": {
           "color": "#4D5663"
          },
          "text": ""
         },
         "zerolinecolor": "#E1E5ED"
        },
        "yaxis15": {
         "anchor": "x15",
         "domain": [
          0,
          0.1975
         ],
         "gridcolor": "#E1E5ED",
         "showgrid": false,
         "tickfont": {
          "color": "#4D5663"
         },
         "title": {
          "font": {
           "color": "#4D5663"
          },
          "text": ""
         },
         "zerolinecolor": "#E1E5ED"
        },
        "yaxis16": {
         "anchor": "x16",
         "domain": [
          0,
          0.1975
         ],
         "gridcolor": "#E1E5ED",
         "showgrid": false,
         "tickfont": {
          "color": "#4D5663"
         },
         "title": {
          "font": {
           "color": "#4D5663"
          },
          "text": ""
         },
         "zerolinecolor": "#E1E5ED"
        },
        "yaxis2": {
         "anchor": "x2",
         "domain": [
          0.8025,
          1
         ],
         "gridcolor": "#E1E5ED",
         "showgrid": false,
         "tickfont": {
          "color": "#4D5663"
         },
         "title": {
          "font": {
           "color": "#4D5663"
          },
          "text": ""
         },
         "zerolinecolor": "#E1E5ED"
        },
        "yaxis3": {
         "anchor": "x3",
         "domain": [
          0.8025,
          1
         ],
         "gridcolor": "#E1E5ED",
         "showgrid": false,
         "tickfont": {
          "color": "#4D5663"
         },
         "title": {
          "font": {
           "color": "#4D5663"
          },
          "text": ""
         },
         "zerolinecolor": "#E1E5ED"
        },
        "yaxis4": {
         "anchor": "x4",
         "domain": [
          0.8025,
          1
         ],
         "gridcolor": "#E1E5ED",
         "showgrid": false,
         "tickfont": {
          "color": "#4D5663"
         },
         "title": {
          "font": {
           "color": "#4D5663"
          },
          "text": ""
         },
         "zerolinecolor": "#E1E5ED"
        },
        "yaxis5": {
         "anchor": "x5",
         "domain": [
          0.535,
          0.7325
         ],
         "gridcolor": "#E1E5ED",
         "showgrid": false,
         "tickfont": {
          "color": "#4D5663"
         },
         "title": {
          "font": {
           "color": "#4D5663"
          },
          "text": ""
         },
         "zerolinecolor": "#E1E5ED"
        },
        "yaxis6": {
         "anchor": "x6",
         "domain": [
          0.535,
          0.7325
         ],
         "gridcolor": "#E1E5ED",
         "showgrid": false,
         "tickfont": {
          "color": "#4D5663"
         },
         "title": {
          "font": {
           "color": "#4D5663"
          },
          "text": ""
         },
         "zerolinecolor": "#E1E5ED"
        },
        "yaxis7": {
         "anchor": "x7",
         "domain": [
          0.535,
          0.7325
         ],
         "gridcolor": "#E1E5ED",
         "showgrid": false,
         "tickfont": {
          "color": "#4D5663"
         },
         "title": {
          "font": {
           "color": "#4D5663"
          },
          "text": ""
         },
         "zerolinecolor": "#E1E5ED"
        },
        "yaxis8": {
         "anchor": "x8",
         "domain": [
          0.535,
          0.7325
         ],
         "gridcolor": "#E1E5ED",
         "showgrid": false,
         "tickfont": {
          "color": "#4D5663"
         },
         "title": {
          "font": {
           "color": "#4D5663"
          },
          "text": ""
         },
         "zerolinecolor": "#E1E5ED"
        },
        "yaxis9": {
         "anchor": "x9",
         "domain": [
          0.2675,
          0.465
         ],
         "gridcolor": "#E1E5ED",
         "showgrid": false,
         "tickfont": {
          "color": "#4D5663"
         },
         "title": {
          "font": {
           "color": "#4D5663"
          },
          "text": ""
         },
         "zerolinecolor": "#E1E5ED"
        }
       }
      },
      "text/html": [
       "<div>                            <div id=\"8a62b72e-f1a0-452a-92b7-e61160c6764b\" class=\"plotly-graph-div\" style=\"height:525px; width:100%;\"></div>            <script type=\"text/javascript\">                require([\"plotly\"], function(Plotly) {                    window.PLOTLYENV=window.PLOTLYENV || {};\n",
       "                    window.PLOTLYENV.BASE_URL='https://plot.ly';                                    if (document.getElementById(\"8a62b72e-f1a0-452a-92b7-e61160c6764b\")) {                    Plotly.newPlot(                        \"8a62b72e-f1a0-452a-92b7-e61160c6764b\",                        [{\"histfunc\":\"count\",\"histnorm\":\"\",\"marker\":{\"color\":\"rgba(255, 153, 51, 1.0)\",\"line\":{\"color\":\"#4D5663\",\"width\":1.3}},\"name\":\"A\",\"nbinsx\":10,\"opacity\":0.8,\"orientation\":\"v\",\"x\":[-2.0245678545620653,-0.70000967402194,0.4923011266211667,-0.1721337617162361,0.1300772047032601,-0.8333704434524496,0.34121462467065816,0.9677726356756655,1.0120891924486815,1.2232183702754578,-0.8427421789582358,0.18819096793209314,-1.6095005021892217,0.41339125775669555,-0.8948518562686107,-0.1843957684237995,1.6860920350330262,1.7966629201710838,0.7059434946092662,-0.4638431276336962,0.8335385969736977,-0.7338353757187845,0.29198786778577684,0.7621576857108744,-1.2797389810464925,1.0297527504257031,0.9625278654239828,-1.7851418437008166,-1.0954108369089715,-2.8084934964522676,1.3198883643750479,0.39999831444598893,-1.141518084638812,-0.553833400359158,-0.5021357042202531,-1.7747620990430988,-0.7471339649507993,-1.680236866891475,0.16800536415649148,0.9624777623645401,0.7327131001167891,0.8596062243117514,0.9170009008811542,-0.8909419630348943,0.2427255664521905,-0.6065451458740814,0.2482809249447097,-1.8535909031151525,-0.09750333812372164,-0.8798749960318651,0.217800590401041,0.8029760466725708,0.6653151750366897,-0.3084497006647018,0.36768824082733653,-0.3339365462425808,0.13868616976000864,-0.714301240067701,0.5588471774554243,0.0069681037932292815,0.2403401185362488,0.47347545555015974,-1.1164580146104586,-1.3765949888678477,0.21828959853628632,0.2983118598338089,1.4624051256412518,-1.294335785990532,-1.1891868148706493,0.4480021923135863,0.12578697802044325,0.5113765435650498,0.1285909603816634,-0.6806646507469855,-0.28554355498000167,1.8309719250363772,-0.7378615237977918,0.8487554269717219,-0.22845770363282245,-1.3198777526010914,-1.7164357576246156,-0.8565176465067136,1.5973041294004924,1.2230412199308058,-0.7866323189888544,-1.3609919026164312,0.06459817804490998,0.921998675958377,2.1608332100400616,-0.44158263770700196,0.16697383520246797,0.15215444987588211,0.32083154833677463,-0.4768739422051255,0.15539672302809196,0.5132262797726742,0.5812646979598842,0.3999652636768709,-0.2552657391538536,0.09731861511588642],\"xaxis\":\"x\",\"yaxis\":\"y\",\"type\":\"histogram\"},{\"line\":{\"color\":\"rgba(128, 128, 128, 1.0)\",\"dash\":\"solid\",\"shape\":\"linear\",\"width\":1.3},\"marker\":{\"size\":2,\"symbol\":\"circle\"},\"mode\":\"markers\",\"name\":\"A\",\"text\":\"\",\"x\":[-0.6382408485860838,-0.26445161392310296,-0.23213667337437718,0.5180176758815382,-1.1248049522097245,-0.380272960362963,-0.2932209551832816,-0.2983349399546075,0.8352757748805898,0.19767795485653444,-0.25848078585870043,0.6572601167502129,0.4792315672286233,-0.7297409216849485,0.4046424846202565,1.2968971276167458,0.13935965106348322,-0.6594484341435785,-0.02418590218582255,-2.5239897567978575,1.5346822177409631,-0.044687567248630725,1.6231383581412073,0.40026551057354326,-1.346220027753875,0.16491814429374466,0.9065722606320102,0.6700483963411383,-0.05104018162539486,1.1707146916736622,0.27196909622293,-0.823741868413821,-1.071654380390136,1.611845565479155,-0.6358684090521775,0.12088690562135754,-0.4238076744306274,0.30761109667202036,0.10090276567627783,-0.934825817248883,-0.11477621970946751,-0.25626272220601465,-2.2618111698047243,0.47059504469409547,0.3384630374158783,1.1429078856709527,1.039266887625021,-0.9967830206402708,-0.6202045714826442,0.22079305993745846,0.9115135718961257,-1.2122517475675738,1.0560300708411399,-1.9090176950054356,2.028179416010953,0.2831970755448901,0.6241028603371211,1.0407268957495415,-0.26224266816482766,0.5298657981252108,-2.0965098648132012,1.5130229822141446,-1.7078071537312842,-0.2720326625194213,1.5419814719954992,-0.3403798338394972,-0.2607484877893845,1.613613022678893,0.015346417608684809,0.8193595059346083,0.28400196804539557,0.23640271970560556,0.9643162048376709,-0.604459368826204,-1.2825284995959614,-0.3851992746376785,-0.2698997452038915,-0.1806119563245644,0.03316776563581451,-0.2064180896765948,0.5557810546207436,-0.9395511240801336,-0.3738586334196706,0.719627463803325,-1.1552010934966621,0.18725547161413295,-1.8598061078955381,-0.31999462379920496,-1.8573069884412665,0.5833843253960496,0.7005904412031791,-0.592374288827152,-0.32071254126644355,0.7437217160339742,-0.6523371315325809,-0.14606736635054363,-1.0609890385279603,-1.397175646717783,-0.4182909179317061,1.3303804152695233],\"xaxis\":\"x2\",\"y\":[-2.0245678545620653,-0.70000967402194,0.4923011266211667,-0.1721337617162361,0.1300772047032601,-0.8333704434524496,0.34121462467065816,0.9677726356756655,1.0120891924486815,1.2232183702754578,-0.8427421789582358,0.18819096793209314,-1.6095005021892217,0.41339125775669555,-0.8948518562686107,-0.1843957684237995,1.6860920350330262,1.7966629201710838,0.7059434946092662,-0.4638431276336962,0.8335385969736977,-0.7338353757187845,0.29198786778577684,0.7621576857108744,-1.2797389810464925,1.0297527504257031,0.9625278654239828,-1.7851418437008166,-1.0954108369089715,-2.8084934964522676,1.3198883643750479,0.39999831444598893,-1.141518084638812,-0.553833400359158,-0.5021357042202531,-1.7747620990430988,-0.7471339649507993,-1.680236866891475,0.16800536415649148,0.9624777623645401,0.7327131001167891,0.8596062243117514,0.9170009008811542,-0.8909419630348943,0.2427255664521905,-0.6065451458740814,0.2482809249447097,-1.8535909031151525,-0.09750333812372164,-0.8798749960318651,0.217800590401041,0.8029760466725708,0.6653151750366897,-0.3084497006647018,0.36768824082733653,-0.3339365462425808,0.13868616976000864,-0.714301240067701,0.5588471774554243,0.0069681037932292815,0.2403401185362488,0.47347545555015974,-1.1164580146104586,-1.3765949888678477,0.21828959853628632,0.2983118598338089,1.4624051256412518,-1.294335785990532,-1.1891868148706493,0.4480021923135863,0.12578697802044325,0.5113765435650498,0.1285909603816634,-0.6806646507469855,-0.28554355498000167,1.8309719250363772,-0.7378615237977918,0.8487554269717219,-0.22845770363282245,-1.3198777526010914,-1.7164357576246156,-0.8565176465067136,1.5973041294004924,1.2230412199308058,-0.7866323189888544,-1.3609919026164312,0.06459817804490998,0.921998675958377,2.1608332100400616,-0.44158263770700196,0.16697383520246797,0.15215444987588211,0.32083154833677463,-0.4768739422051255,0.15539672302809196,0.5132262797726742,0.5812646979598842,0.3999652636768709,-0.2552657391538536,0.09731861511588642],\"yaxis\":\"y2\",\"type\":\"scatter\"},{\"line\":{\"color\":\"rgba(128, 128, 128, 1.0)\",\"dash\":\"solid\",\"shape\":\"linear\",\"width\":1.3},\"marker\":{\"size\":2,\"symbol\":\"circle\"},\"mode\":\"markers\",\"name\":\"A\",\"text\":\"\",\"x\":[-0.224893079246173,1.2503815642723262,-0.009751551125147586,0.16527703916918052,-0.3745090835527552,0.515662283296908,1.0547154138277266,-0.22067757188991727,-0.6498584802383204,-2.07908895587237,2.1403465577961116,1.6445158565680038,-1.0175955610791787,-0.17251980686788723,-0.19414925926115856,0.9311926054750844,0.24273553610203655,-0.8953402123461103,-0.3387964991908508,0.36389088884917165,0.4405868040137417,-0.21012156100866447,-2.788900751431851,1.198143626275225,-0.4127880365061836,-0.238621684631133,0.4371715805619799,1.256886884011327,-0.060193643202252595,0.3059995769855611,-0.4158291391773987,2.1475559417541734,-0.6243802744709012,0.5817247352369509,0.39266255814740997,0.5649256027013886,0.8061396519459106,0.6195039399742812,0.02177467231854164,-1.319899574991042,-0.3356450667412887,0.03748262752761676,0.21357396085531327,0.1224416437776951,-0.2197873964063419,-1.0600124514378158,-0.3345568122382559,-0.5769051564609712,2.8592353822054193,0.9402264092354687,1.1170894271622458,1.1025825408160912,1.4589599777641047,-0.00559822897158635,0.649167046273083,0.5962648454476672,2.1015783595893724,-1.0004967709798152,-0.794419492093333,0.8507876014851588,-0.43312010038274834,-0.25549192361797196,0.3408418093354243,-1.3140065306556812,-0.892627715873621,0.2800577801511644,-1.8190732690240992,0.7071155509495465,-1.2699887648430062,1.1691192931392227,0.11665823912731504,-0.5073035259374067,-1.0932263125943875,0.20275177216827314,-0.11142118650757836,0.02910736140493556,0.9342531709146351,0.16746231525434202,-0.4608568591137009,-0.3901894838095558,0.6092957626506681,-0.5557513480847908,-0.21909070450172796,-0.537747844859767,-0.672824530162349,2.6124495827756866,1.6013530267662324,-0.10470803359208224,-0.48551242090787217,-0.36798474127000314,0.4582902064494334,1.2426685607553631,1.1506367383501355,-0.48916011980898466,-2.311296255514442,1.1525036060530027,0.18302057139365044,-0.13978553105887837,-0.04229289544270978,0.04282490464750087],\"xaxis\":\"x3\",\"y\":[-2.0245678545620653,-0.70000967402194,0.4923011266211667,-0.1721337617162361,0.1300772047032601,-0.8333704434524496,0.34121462467065816,0.9677726356756655,1.0120891924486815,1.2232183702754578,-0.8427421789582358,0.18819096793209314,-1.6095005021892217,0.41339125775669555,-0.8948518562686107,-0.1843957684237995,1.6860920350330262,1.7966629201710838,0.7059434946092662,-0.4638431276336962,0.8335385969736977,-0.7338353757187845,0.29198786778577684,0.7621576857108744,-1.2797389810464925,1.0297527504257031,0.9625278654239828,-1.7851418437008166,-1.0954108369089715,-2.8084934964522676,1.3198883643750479,0.39999831444598893,-1.141518084638812,-0.553833400359158,-0.5021357042202531,-1.7747620990430988,-0.7471339649507993,-1.680236866891475,0.16800536415649148,0.9624777623645401,0.7327131001167891,0.8596062243117514,0.9170009008811542,-0.8909419630348943,0.2427255664521905,-0.6065451458740814,0.2482809249447097,-1.8535909031151525,-0.09750333812372164,-0.8798749960318651,0.217800590401041,0.8029760466725708,0.6653151750366897,-0.3084497006647018,0.36768824082733653,-0.3339365462425808,0.13868616976000864,-0.714301240067701,0.5588471774554243,0.0069681037932292815,0.2403401185362488,0.47347545555015974,-1.1164580146104586,-1.3765949888678477,0.21828959853628632,0.2983118598338089,1.4624051256412518,-1.294335785990532,-1.1891868148706493,0.4480021923135863,0.12578697802044325,0.5113765435650498,0.1285909603816634,-0.6806646507469855,-0.28554355498000167,1.8309719250363772,-0.7378615237977918,0.8487554269717219,-0.22845770363282245,-1.3198777526010914,-1.7164357576246156,-0.8565176465067136,1.5973041294004924,1.2230412199308058,-0.7866323189888544,-1.3609919026164312,0.06459817804490998,0.921998675958377,2.1608332100400616,-0.44158263770700196,0.16697383520246797,0.15215444987588211,0.32083154833677463,-0.4768739422051255,0.15539672302809196,0.5132262797726742,0.5812646979598842,0.3999652636768709,-0.2552657391538536,0.09731861511588642],\"yaxis\":\"y3\",\"type\":\"scatter\"},{\"line\":{\"color\":\"rgba(128, 128, 128, 1.0)\",\"dash\":\"solid\",\"shape\":\"linear\",\"width\":1.3},\"marker\":{\"size\":2,\"symbol\":\"circle\"},\"mode\":\"markers\",\"name\":\"A\",\"text\":\"\",\"x\":[1.298015485089696,-0.23339096447922594,1.1037728080136389,0.19806209294100593,2.549860056192145,-0.9061470055249541,-1.6191346355086136,-0.6402695199792406,0.5301304795188629,0.10826973860060203,-0.03096417152728443,-1.333260776229409,-0.5106018658222338,-1.2602161142365913,1.0541069690486944,-0.5360890299819138,1.2919783215192175,-0.06548767963927178,1.292524371037477,0.4704853470988679,-0.01271146868624112,-1.6469302468272102,-0.48917579782210724,0.37733382079878897,-1.1976258256123749,0.20879853261299658,0.2444678967514823,0.16870241860798135,1.6006255420901228,-0.028579174827799286,1.3256317621847986,-1.3605698101646098,0.8195467855949271,-0.9808516343193202,-0.6390064981962895,-1.245203809566456,0.4337270017046839,1.234528835493931,-0.4104457369366574,0.5665420894986996,-0.7449291411997484,-1.2267447902634088,1.1227345594966862,-0.12979808400976459,-0.6269374526327316,0.292703498655163,0.6257393332073456,0.45996788432615043,0.5043667581526481,2.237293213159649,-1.4060039933788429,0.1788743528339559,-1.134521652233473,-0.015399492226502463,-0.9684748530238916,-1.4820224914118059,0.1715902804964764,-0.42039750746697546,0.8498256250305002,-0.2453748541806391,-0.8775939924189635,-2.9231849271662522,-0.9748902362208998,0.20637640117167275,0.5947071928430647,-0.30435577684235404,-2.1039353759161292,1.115513771005786,-0.5120600168812814,-2.075411098303332,2.253424939189268,0.7288262548169948,-0.7438074474356711,1.4919452591038689,1.3918176520913537,0.23639510290963997,-2.294323561421982,1.5561353538714506,-1.1615335890268663,-0.6852963592356053,0.08255655206476742,-1.6276212209267913,1.5138596525635728,0.3988950310224964,-0.5596997640137246,0.8127648867817936,-0.9090456772154684,-0.2023741303876413,-1.0759692892756814,-1.0116840652689627,-0.5956950303753511,0.6474080682588678,0.7648410756169055,1.5983143212427664,-1.2084704597596465,-1.187085251520976,-0.7207177114828895,-1.1365632858321943,1.1963260943489973,-1.9694894606706348],\"xaxis\":\"x4\",\"y\":[-2.0245678545620653,-0.70000967402194,0.4923011266211667,-0.1721337617162361,0.1300772047032601,-0.8333704434524496,0.34121462467065816,0.9677726356756655,1.0120891924486815,1.2232183702754578,-0.8427421789582358,0.18819096793209314,-1.6095005021892217,0.41339125775669555,-0.8948518562686107,-0.1843957684237995,1.6860920350330262,1.7966629201710838,0.7059434946092662,-0.4638431276336962,0.8335385969736977,-0.7338353757187845,0.29198786778577684,0.7621576857108744,-1.2797389810464925,1.0297527504257031,0.9625278654239828,-1.7851418437008166,-1.0954108369089715,-2.8084934964522676,1.3198883643750479,0.39999831444598893,-1.141518084638812,-0.553833400359158,-0.5021357042202531,-1.7747620990430988,-0.7471339649507993,-1.680236866891475,0.16800536415649148,0.9624777623645401,0.7327131001167891,0.8596062243117514,0.9170009008811542,-0.8909419630348943,0.2427255664521905,-0.6065451458740814,0.2482809249447097,-1.8535909031151525,-0.09750333812372164,-0.8798749960318651,0.217800590401041,0.8029760466725708,0.6653151750366897,-0.3084497006647018,0.36768824082733653,-0.3339365462425808,0.13868616976000864,-0.714301240067701,0.5588471774554243,0.0069681037932292815,0.2403401185362488,0.47347545555015974,-1.1164580146104586,-1.3765949888678477,0.21828959853628632,0.2983118598338089,1.4624051256412518,-1.294335785990532,-1.1891868148706493,0.4480021923135863,0.12578697802044325,0.5113765435650498,0.1285909603816634,-0.6806646507469855,-0.28554355498000167,1.8309719250363772,-0.7378615237977918,0.8487554269717219,-0.22845770363282245,-1.3198777526010914,-1.7164357576246156,-0.8565176465067136,1.5973041294004924,1.2230412199308058,-0.7866323189888544,-1.3609919026164312,0.06459817804490998,0.921998675958377,2.1608332100400616,-0.44158263770700196,0.16697383520246797,0.15215444987588211,0.32083154833677463,-0.4768739422051255,0.15539672302809196,0.5132262797726742,0.5812646979598842,0.3999652636768709,-0.2552657391538536,0.09731861511588642],\"yaxis\":\"y4\",\"type\":\"scatter\"},{\"line\":{\"color\":\"rgba(128, 128, 128, 1.0)\",\"dash\":\"solid\",\"shape\":\"linear\",\"width\":1.3},\"marker\":{\"size\":2,\"symbol\":\"circle\"},\"mode\":\"markers\",\"name\":\"B\",\"text\":\"\",\"x\":[-2.0245678545620653,-0.70000967402194,0.4923011266211667,-0.1721337617162361,0.1300772047032601,-0.8333704434524496,0.34121462467065816,0.9677726356756655,1.0120891924486815,1.2232183702754578,-0.8427421789582358,0.18819096793209314,-1.6095005021892217,0.41339125775669555,-0.8948518562686107,-0.1843957684237995,1.6860920350330262,1.7966629201710838,0.7059434946092662,-0.4638431276336962,0.8335385969736977,-0.7338353757187845,0.29198786778577684,0.7621576857108744,-1.2797389810464925,1.0297527504257031,0.9625278654239828,-1.7851418437008166,-1.0954108369089715,-2.8084934964522676,1.3198883643750479,0.39999831444598893,-1.141518084638812,-0.553833400359158,-0.5021357042202531,-1.7747620990430988,-0.7471339649507993,-1.680236866891475,0.16800536415649148,0.9624777623645401,0.7327131001167891,0.8596062243117514,0.9170009008811542,-0.8909419630348943,0.2427255664521905,-0.6065451458740814,0.2482809249447097,-1.8535909031151525,-0.09750333812372164,-0.8798749960318651,0.217800590401041,0.8029760466725708,0.6653151750366897,-0.3084497006647018,0.36768824082733653,-0.3339365462425808,0.13868616976000864,-0.714301240067701,0.5588471774554243,0.0069681037932292815,0.2403401185362488,0.47347545555015974,-1.1164580146104586,-1.3765949888678477,0.21828959853628632,0.2983118598338089,1.4624051256412518,-1.294335785990532,-1.1891868148706493,0.4480021923135863,0.12578697802044325,0.5113765435650498,0.1285909603816634,-0.6806646507469855,-0.28554355498000167,1.8309719250363772,-0.7378615237977918,0.8487554269717219,-0.22845770363282245,-1.3198777526010914,-1.7164357576246156,-0.8565176465067136,1.5973041294004924,1.2230412199308058,-0.7866323189888544,-1.3609919026164312,0.06459817804490998,0.921998675958377,2.1608332100400616,-0.44158263770700196,0.16697383520246797,0.15215444987588211,0.32083154833677463,-0.4768739422051255,0.15539672302809196,0.5132262797726742,0.5812646979598842,0.3999652636768709,-0.2552657391538536,0.09731861511588642],\"xaxis\":\"x5\",\"y\":[-0.6382408485860838,-0.26445161392310296,-0.23213667337437718,0.5180176758815382,-1.1248049522097245,-0.380272960362963,-0.2932209551832816,-0.2983349399546075,0.8352757748805898,0.19767795485653444,-0.25848078585870043,0.6572601167502129,0.4792315672286233,-0.7297409216849485,0.4046424846202565,1.2968971276167458,0.13935965106348322,-0.6594484341435785,-0.02418590218582255,-2.5239897567978575,1.5346822177409631,-0.044687567248630725,1.6231383581412073,0.40026551057354326,-1.346220027753875,0.16491814429374466,0.9065722606320102,0.6700483963411383,-0.05104018162539486,1.1707146916736622,0.27196909622293,-0.823741868413821,-1.071654380390136,1.611845565479155,-0.6358684090521775,0.12088690562135754,-0.4238076744306274,0.30761109667202036,0.10090276567627783,-0.934825817248883,-0.11477621970946751,-0.25626272220601465,-2.2618111698047243,0.47059504469409547,0.3384630374158783,1.1429078856709527,1.039266887625021,-0.9967830206402708,-0.6202045714826442,0.22079305993745846,0.9115135718961257,-1.2122517475675738,1.0560300708411399,-1.9090176950054356,2.028179416010953,0.2831970755448901,0.6241028603371211,1.0407268957495415,-0.26224266816482766,0.5298657981252108,-2.0965098648132012,1.5130229822141446,-1.7078071537312842,-0.2720326625194213,1.5419814719954992,-0.3403798338394972,-0.2607484877893845,1.613613022678893,0.015346417608684809,0.8193595059346083,0.28400196804539557,0.23640271970560556,0.9643162048376709,-0.604459368826204,-1.2825284995959614,-0.3851992746376785,-0.2698997452038915,-0.1806119563245644,0.03316776563581451,-0.2064180896765948,0.5557810546207436,-0.9395511240801336,-0.3738586334196706,0.719627463803325,-1.1552010934966621,0.18725547161413295,-1.8598061078955381,-0.31999462379920496,-1.8573069884412665,0.5833843253960496,0.7005904412031791,-0.592374288827152,-0.32071254126644355,0.7437217160339742,-0.6523371315325809,-0.14606736635054363,-1.0609890385279603,-1.397175646717783,-0.4182909179317061,1.3303804152695233],\"yaxis\":\"y5\",\"type\":\"scatter\"},{\"histfunc\":\"count\",\"histnorm\":\"\",\"marker\":{\"color\":\"rgba(55, 128, 191, 1.0)\",\"line\":{\"color\":\"#4D5663\",\"width\":1.3}},\"name\":\"B\",\"nbinsx\":10,\"opacity\":0.8,\"orientation\":\"v\",\"x\":[-0.6382408485860838,-0.26445161392310296,-0.23213667337437718,0.5180176758815382,-1.1248049522097245,-0.380272960362963,-0.2932209551832816,-0.2983349399546075,0.8352757748805898,0.19767795485653444,-0.25848078585870043,0.6572601167502129,0.4792315672286233,-0.7297409216849485,0.4046424846202565,1.2968971276167458,0.13935965106348322,-0.6594484341435785,-0.02418590218582255,-2.5239897567978575,1.5346822177409631,-0.044687567248630725,1.6231383581412073,0.40026551057354326,-1.346220027753875,0.16491814429374466,0.9065722606320102,0.6700483963411383,-0.05104018162539486,1.1707146916736622,0.27196909622293,-0.823741868413821,-1.071654380390136,1.611845565479155,-0.6358684090521775,0.12088690562135754,-0.4238076744306274,0.30761109667202036,0.10090276567627783,-0.934825817248883,-0.11477621970946751,-0.25626272220601465,-2.2618111698047243,0.47059504469409547,0.3384630374158783,1.1429078856709527,1.039266887625021,-0.9967830206402708,-0.6202045714826442,0.22079305993745846,0.9115135718961257,-1.2122517475675738,1.0560300708411399,-1.9090176950054356,2.028179416010953,0.2831970755448901,0.6241028603371211,1.0407268957495415,-0.26224266816482766,0.5298657981252108,-2.0965098648132012,1.5130229822141446,-1.7078071537312842,-0.2720326625194213,1.5419814719954992,-0.3403798338394972,-0.2607484877893845,1.613613022678893,0.015346417608684809,0.8193595059346083,0.28400196804539557,0.23640271970560556,0.9643162048376709,-0.604459368826204,-1.2825284995959614,-0.3851992746376785,-0.2698997452038915,-0.1806119563245644,0.03316776563581451,-0.2064180896765948,0.5557810546207436,-0.9395511240801336,-0.3738586334196706,0.719627463803325,-1.1552010934966621,0.18725547161413295,-1.8598061078955381,-0.31999462379920496,-1.8573069884412665,0.5833843253960496,0.7005904412031791,-0.592374288827152,-0.32071254126644355,0.7437217160339742,-0.6523371315325809,-0.14606736635054363,-1.0609890385279603,-1.397175646717783,-0.4182909179317061,1.3303804152695233],\"xaxis\":\"x6\",\"yaxis\":\"y6\",\"type\":\"histogram\"},{\"line\":{\"color\":\"rgba(128, 128, 128, 1.0)\",\"dash\":\"solid\",\"shape\":\"linear\",\"width\":1.3},\"marker\":{\"size\":2,\"symbol\":\"circle\"},\"mode\":\"markers\",\"name\":\"B\",\"text\":\"\",\"x\":[-0.224893079246173,1.2503815642723262,-0.009751551125147586,0.16527703916918052,-0.3745090835527552,0.515662283296908,1.0547154138277266,-0.22067757188991727,-0.6498584802383204,-2.07908895587237,2.1403465577961116,1.6445158565680038,-1.0175955610791787,-0.17251980686788723,-0.19414925926115856,0.9311926054750844,0.24273553610203655,-0.8953402123461103,-0.3387964991908508,0.36389088884917165,0.4405868040137417,-0.21012156100866447,-2.788900751431851,1.198143626275225,-0.4127880365061836,-0.238621684631133,0.4371715805619799,1.256886884011327,-0.060193643202252595,0.3059995769855611,-0.4158291391773987,2.1475559417541734,-0.6243802744709012,0.5817247352369509,0.39266255814740997,0.5649256027013886,0.8061396519459106,0.6195039399742812,0.02177467231854164,-1.319899574991042,-0.3356450667412887,0.03748262752761676,0.21357396085531327,0.1224416437776951,-0.2197873964063419,-1.0600124514378158,-0.3345568122382559,-0.5769051564609712,2.8592353822054193,0.9402264092354687,1.1170894271622458,1.1025825408160912,1.4589599777641047,-0.00559822897158635,0.649167046273083,0.5962648454476672,2.1015783595893724,-1.0004967709798152,-0.794419492093333,0.8507876014851588,-0.43312010038274834,-0.25549192361797196,0.3408418093354243,-1.3140065306556812,-0.892627715873621,0.2800577801511644,-1.8190732690240992,0.7071155509495465,-1.2699887648430062,1.1691192931392227,0.11665823912731504,-0.5073035259374067,-1.0932263125943875,0.20275177216827314,-0.11142118650757836,0.02910736140493556,0.9342531709146351,0.16746231525434202,-0.4608568591137009,-0.3901894838095558,0.6092957626506681,-0.5557513480847908,-0.21909070450172796,-0.537747844859767,-0.672824530162349,2.6124495827756866,1.6013530267662324,-0.10470803359208224,-0.48551242090787217,-0.36798474127000314,0.4582902064494334,1.2426685607553631,1.1506367383501355,-0.48916011980898466,-2.311296255514442,1.1525036060530027,0.18302057139365044,-0.13978553105887837,-0.04229289544270978,0.04282490464750087],\"xaxis\":\"x7\",\"y\":[-0.6382408485860838,-0.26445161392310296,-0.23213667337437718,0.5180176758815382,-1.1248049522097245,-0.380272960362963,-0.2932209551832816,-0.2983349399546075,0.8352757748805898,0.19767795485653444,-0.25848078585870043,0.6572601167502129,0.4792315672286233,-0.7297409216849485,0.4046424846202565,1.2968971276167458,0.13935965106348322,-0.6594484341435785,-0.02418590218582255,-2.5239897567978575,1.5346822177409631,-0.044687567248630725,1.6231383581412073,0.40026551057354326,-1.346220027753875,0.16491814429374466,0.9065722606320102,0.6700483963411383,-0.05104018162539486,1.1707146916736622,0.27196909622293,-0.823741868413821,-1.071654380390136,1.611845565479155,-0.6358684090521775,0.12088690562135754,-0.4238076744306274,0.30761109667202036,0.10090276567627783,-0.934825817248883,-0.11477621970946751,-0.25626272220601465,-2.2618111698047243,0.47059504469409547,0.3384630374158783,1.1429078856709527,1.039266887625021,-0.9967830206402708,-0.6202045714826442,0.22079305993745846,0.9115135718961257,-1.2122517475675738,1.0560300708411399,-1.9090176950054356,2.028179416010953,0.2831970755448901,0.6241028603371211,1.0407268957495415,-0.26224266816482766,0.5298657981252108,-2.0965098648132012,1.5130229822141446,-1.7078071537312842,-0.2720326625194213,1.5419814719954992,-0.3403798338394972,-0.2607484877893845,1.613613022678893,0.015346417608684809,0.8193595059346083,0.28400196804539557,0.23640271970560556,0.9643162048376709,-0.604459368826204,-1.2825284995959614,-0.3851992746376785,-0.2698997452038915,-0.1806119563245644,0.03316776563581451,-0.2064180896765948,0.5557810546207436,-0.9395511240801336,-0.3738586334196706,0.719627463803325,-1.1552010934966621,0.18725547161413295,-1.8598061078955381,-0.31999462379920496,-1.8573069884412665,0.5833843253960496,0.7005904412031791,-0.592374288827152,-0.32071254126644355,0.7437217160339742,-0.6523371315325809,-0.14606736635054363,-1.0609890385279603,-1.397175646717783,-0.4182909179317061,1.3303804152695233],\"yaxis\":\"y7\",\"type\":\"scatter\"},{\"line\":{\"color\":\"rgba(128, 128, 128, 1.0)\",\"dash\":\"solid\",\"shape\":\"linear\",\"width\":1.3},\"marker\":{\"size\":2,\"symbol\":\"circle\"},\"mode\":\"markers\",\"name\":\"B\",\"text\":\"\",\"x\":[1.298015485089696,-0.23339096447922594,1.1037728080136389,0.19806209294100593,2.549860056192145,-0.9061470055249541,-1.6191346355086136,-0.6402695199792406,0.5301304795188629,0.10826973860060203,-0.03096417152728443,-1.333260776229409,-0.5106018658222338,-1.2602161142365913,1.0541069690486944,-0.5360890299819138,1.2919783215192175,-0.06548767963927178,1.292524371037477,0.4704853470988679,-0.01271146868624112,-1.6469302468272102,-0.48917579782210724,0.37733382079878897,-1.1976258256123749,0.20879853261299658,0.2444678967514823,0.16870241860798135,1.6006255420901228,-0.028579174827799286,1.3256317621847986,-1.3605698101646098,0.8195467855949271,-0.9808516343193202,-0.6390064981962895,-1.245203809566456,0.4337270017046839,1.234528835493931,-0.4104457369366574,0.5665420894986996,-0.7449291411997484,-1.2267447902634088,1.1227345594966862,-0.12979808400976459,-0.6269374526327316,0.292703498655163,0.6257393332073456,0.45996788432615043,0.5043667581526481,2.237293213159649,-1.4060039933788429,0.1788743528339559,-1.134521652233473,-0.015399492226502463,-0.9684748530238916,-1.4820224914118059,0.1715902804964764,-0.42039750746697546,0.8498256250305002,-0.2453748541806391,-0.8775939924189635,-2.9231849271662522,-0.9748902362208998,0.20637640117167275,0.5947071928430647,-0.30435577684235404,-2.1039353759161292,1.115513771005786,-0.5120600168812814,-2.075411098303332,2.253424939189268,0.7288262548169948,-0.7438074474356711,1.4919452591038689,1.3918176520913537,0.23639510290963997,-2.294323561421982,1.5561353538714506,-1.1615335890268663,-0.6852963592356053,0.08255655206476742,-1.6276212209267913,1.5138596525635728,0.3988950310224964,-0.5596997640137246,0.8127648867817936,-0.9090456772154684,-0.2023741303876413,-1.0759692892756814,-1.0116840652689627,-0.5956950303753511,0.6474080682588678,0.7648410756169055,1.5983143212427664,-1.2084704597596465,-1.187085251520976,-0.7207177114828895,-1.1365632858321943,1.1963260943489973,-1.9694894606706348],\"xaxis\":\"x8\",\"y\":[-0.6382408485860838,-0.26445161392310296,-0.23213667337437718,0.5180176758815382,-1.1248049522097245,-0.380272960362963,-0.2932209551832816,-0.2983349399546075,0.8352757748805898,0.19767795485653444,-0.25848078585870043,0.6572601167502129,0.4792315672286233,-0.7297409216849485,0.4046424846202565,1.2968971276167458,0.13935965106348322,-0.6594484341435785,-0.02418590218582255,-2.5239897567978575,1.5346822177409631,-0.044687567248630725,1.6231383581412073,0.40026551057354326,-1.346220027753875,0.16491814429374466,0.9065722606320102,0.6700483963411383,-0.05104018162539486,1.1707146916736622,0.27196909622293,-0.823741868413821,-1.071654380390136,1.611845565479155,-0.6358684090521775,0.12088690562135754,-0.4238076744306274,0.30761109667202036,0.10090276567627783,-0.934825817248883,-0.11477621970946751,-0.25626272220601465,-2.2618111698047243,0.47059504469409547,0.3384630374158783,1.1429078856709527,1.039266887625021,-0.9967830206402708,-0.6202045714826442,0.22079305993745846,0.9115135718961257,-1.2122517475675738,1.0560300708411399,-1.9090176950054356,2.028179416010953,0.2831970755448901,0.6241028603371211,1.0407268957495415,-0.26224266816482766,0.5298657981252108,-2.0965098648132012,1.5130229822141446,-1.7078071537312842,-0.2720326625194213,1.5419814719954992,-0.3403798338394972,-0.2607484877893845,1.613613022678893,0.015346417608684809,0.8193595059346083,0.28400196804539557,0.23640271970560556,0.9643162048376709,-0.604459368826204,-1.2825284995959614,-0.3851992746376785,-0.2698997452038915,-0.1806119563245644,0.03316776563581451,-0.2064180896765948,0.5557810546207436,-0.9395511240801336,-0.3738586334196706,0.719627463803325,-1.1552010934966621,0.18725547161413295,-1.8598061078955381,-0.31999462379920496,-1.8573069884412665,0.5833843253960496,0.7005904412031791,-0.592374288827152,-0.32071254126644355,0.7437217160339742,-0.6523371315325809,-0.14606736635054363,-1.0609890385279603,-1.397175646717783,-0.4182909179317061,1.3303804152695233],\"yaxis\":\"y8\",\"type\":\"scatter\"},{\"line\":{\"color\":\"rgba(128, 128, 128, 1.0)\",\"dash\":\"solid\",\"shape\":\"linear\",\"width\":1.3},\"marker\":{\"size\":2,\"symbol\":\"circle\"},\"mode\":\"markers\",\"name\":\"C\",\"text\":\"\",\"x\":[-2.0245678545620653,-0.70000967402194,0.4923011266211667,-0.1721337617162361,0.1300772047032601,-0.8333704434524496,0.34121462467065816,0.9677726356756655,1.0120891924486815,1.2232183702754578,-0.8427421789582358,0.18819096793209314,-1.6095005021892217,0.41339125775669555,-0.8948518562686107,-0.1843957684237995,1.6860920350330262,1.7966629201710838,0.7059434946092662,-0.4638431276336962,0.8335385969736977,-0.7338353757187845,0.29198786778577684,0.7621576857108744,-1.2797389810464925,1.0297527504257031,0.9625278654239828,-1.7851418437008166,-1.0954108369089715,-2.8084934964522676,1.3198883643750479,0.39999831444598893,-1.141518084638812,-0.553833400359158,-0.5021357042202531,-1.7747620990430988,-0.7471339649507993,-1.680236866891475,0.16800536415649148,0.9624777623645401,0.7327131001167891,0.8596062243117514,0.9170009008811542,-0.8909419630348943,0.2427255664521905,-0.6065451458740814,0.2482809249447097,-1.8535909031151525,-0.09750333812372164,-0.8798749960318651,0.217800590401041,0.8029760466725708,0.6653151750366897,-0.3084497006647018,0.36768824082733653,-0.3339365462425808,0.13868616976000864,-0.714301240067701,0.5588471774554243,0.0069681037932292815,0.2403401185362488,0.47347545555015974,-1.1164580146104586,-1.3765949888678477,0.21828959853628632,0.2983118598338089,1.4624051256412518,-1.294335785990532,-1.1891868148706493,0.4480021923135863,0.12578697802044325,0.5113765435650498,0.1285909603816634,-0.6806646507469855,-0.28554355498000167,1.8309719250363772,-0.7378615237977918,0.8487554269717219,-0.22845770363282245,-1.3198777526010914,-1.7164357576246156,-0.8565176465067136,1.5973041294004924,1.2230412199308058,-0.7866323189888544,-1.3609919026164312,0.06459817804490998,0.921998675958377,2.1608332100400616,-0.44158263770700196,0.16697383520246797,0.15215444987588211,0.32083154833677463,-0.4768739422051255,0.15539672302809196,0.5132262797726742,0.5812646979598842,0.3999652636768709,-0.2552657391538536,0.09731861511588642],\"xaxis\":\"x9\",\"y\":[-0.224893079246173,1.2503815642723262,-0.009751551125147586,0.16527703916918052,-0.3745090835527552,0.515662283296908,1.0547154138277266,-0.22067757188991727,-0.6498584802383204,-2.07908895587237,2.1403465577961116,1.6445158565680038,-1.0175955610791787,-0.17251980686788723,-0.19414925926115856,0.9311926054750844,0.24273553610203655,-0.8953402123461103,-0.3387964991908508,0.36389088884917165,0.4405868040137417,-0.21012156100866447,-2.788900751431851,1.198143626275225,-0.4127880365061836,-0.238621684631133,0.4371715805619799,1.256886884011327,-0.060193643202252595,0.3059995769855611,-0.4158291391773987,2.1475559417541734,-0.6243802744709012,0.5817247352369509,0.39266255814740997,0.5649256027013886,0.8061396519459106,0.6195039399742812,0.02177467231854164,-1.319899574991042,-0.3356450667412887,0.03748262752761676,0.21357396085531327,0.1224416437776951,-0.2197873964063419,-1.0600124514378158,-0.3345568122382559,-0.5769051564609712,2.8592353822054193,0.9402264092354687,1.1170894271622458,1.1025825408160912,1.4589599777641047,-0.00559822897158635,0.649167046273083,0.5962648454476672,2.1015783595893724,-1.0004967709798152,-0.794419492093333,0.8507876014851588,-0.43312010038274834,-0.25549192361797196,0.3408418093354243,-1.3140065306556812,-0.892627715873621,0.2800577801511644,-1.8190732690240992,0.7071155509495465,-1.2699887648430062,1.1691192931392227,0.11665823912731504,-0.5073035259374067,-1.0932263125943875,0.20275177216827314,-0.11142118650757836,0.02910736140493556,0.9342531709146351,0.16746231525434202,-0.4608568591137009,-0.3901894838095558,0.6092957626506681,-0.5557513480847908,-0.21909070450172796,-0.537747844859767,-0.672824530162349,2.6124495827756866,1.6013530267662324,-0.10470803359208224,-0.48551242090787217,-0.36798474127000314,0.4582902064494334,1.2426685607553631,1.1506367383501355,-0.48916011980898466,-2.311296255514442,1.1525036060530027,0.18302057139365044,-0.13978553105887837,-0.04229289544270978,0.04282490464750087],\"yaxis\":\"y9\",\"type\":\"scatter\"},{\"line\":{\"color\":\"rgba(128, 128, 128, 1.0)\",\"dash\":\"solid\",\"shape\":\"linear\",\"width\":1.3},\"marker\":{\"size\":2,\"symbol\":\"circle\"},\"mode\":\"markers\",\"name\":\"C\",\"text\":\"\",\"x\":[-0.6382408485860838,-0.26445161392310296,-0.23213667337437718,0.5180176758815382,-1.1248049522097245,-0.380272960362963,-0.2932209551832816,-0.2983349399546075,0.8352757748805898,0.19767795485653444,-0.25848078585870043,0.6572601167502129,0.4792315672286233,-0.7297409216849485,0.4046424846202565,1.2968971276167458,0.13935965106348322,-0.6594484341435785,-0.02418590218582255,-2.5239897567978575,1.5346822177409631,-0.044687567248630725,1.6231383581412073,0.40026551057354326,-1.346220027753875,0.16491814429374466,0.9065722606320102,0.6700483963411383,-0.05104018162539486,1.1707146916736622,0.27196909622293,-0.823741868413821,-1.071654380390136,1.611845565479155,-0.6358684090521775,0.12088690562135754,-0.4238076744306274,0.30761109667202036,0.10090276567627783,-0.934825817248883,-0.11477621970946751,-0.25626272220601465,-2.2618111698047243,0.47059504469409547,0.3384630374158783,1.1429078856709527,1.039266887625021,-0.9967830206402708,-0.6202045714826442,0.22079305993745846,0.9115135718961257,-1.2122517475675738,1.0560300708411399,-1.9090176950054356,2.028179416010953,0.2831970755448901,0.6241028603371211,1.0407268957495415,-0.26224266816482766,0.5298657981252108,-2.0965098648132012,1.5130229822141446,-1.7078071537312842,-0.2720326625194213,1.5419814719954992,-0.3403798338394972,-0.2607484877893845,1.613613022678893,0.015346417608684809,0.8193595059346083,0.28400196804539557,0.23640271970560556,0.9643162048376709,-0.604459368826204,-1.2825284995959614,-0.3851992746376785,-0.2698997452038915,-0.1806119563245644,0.03316776563581451,-0.2064180896765948,0.5557810546207436,-0.9395511240801336,-0.3738586334196706,0.719627463803325,-1.1552010934966621,0.18725547161413295,-1.8598061078955381,-0.31999462379920496,-1.8573069884412665,0.5833843253960496,0.7005904412031791,-0.592374288827152,-0.32071254126644355,0.7437217160339742,-0.6523371315325809,-0.14606736635054363,-1.0609890385279603,-1.397175646717783,-0.4182909179317061,1.3303804152695233],\"xaxis\":\"x10\",\"y\":[-0.224893079246173,1.2503815642723262,-0.009751551125147586,0.16527703916918052,-0.3745090835527552,0.515662283296908,1.0547154138277266,-0.22067757188991727,-0.6498584802383204,-2.07908895587237,2.1403465577961116,1.6445158565680038,-1.0175955610791787,-0.17251980686788723,-0.19414925926115856,0.9311926054750844,0.24273553610203655,-0.8953402123461103,-0.3387964991908508,0.36389088884917165,0.4405868040137417,-0.21012156100866447,-2.788900751431851,1.198143626275225,-0.4127880365061836,-0.238621684631133,0.4371715805619799,1.256886884011327,-0.060193643202252595,0.3059995769855611,-0.4158291391773987,2.1475559417541734,-0.6243802744709012,0.5817247352369509,0.39266255814740997,0.5649256027013886,0.8061396519459106,0.6195039399742812,0.02177467231854164,-1.319899574991042,-0.3356450667412887,0.03748262752761676,0.21357396085531327,0.1224416437776951,-0.2197873964063419,-1.0600124514378158,-0.3345568122382559,-0.5769051564609712,2.8592353822054193,0.9402264092354687,1.1170894271622458,1.1025825408160912,1.4589599777641047,-0.00559822897158635,0.649167046273083,0.5962648454476672,2.1015783595893724,-1.0004967709798152,-0.794419492093333,0.8507876014851588,-0.43312010038274834,-0.25549192361797196,0.3408418093354243,-1.3140065306556812,-0.892627715873621,0.2800577801511644,-1.8190732690240992,0.7071155509495465,-1.2699887648430062,1.1691192931392227,0.11665823912731504,-0.5073035259374067,-1.0932263125943875,0.20275177216827314,-0.11142118650757836,0.02910736140493556,0.9342531709146351,0.16746231525434202,-0.4608568591137009,-0.3901894838095558,0.6092957626506681,-0.5557513480847908,-0.21909070450172796,-0.537747844859767,-0.672824530162349,2.6124495827756866,1.6013530267662324,-0.10470803359208224,-0.48551242090787217,-0.36798474127000314,0.4582902064494334,1.2426685607553631,1.1506367383501355,-0.48916011980898466,-2.311296255514442,1.1525036060530027,0.18302057139365044,-0.13978553105887837,-0.04229289544270978,0.04282490464750087],\"yaxis\":\"y10\",\"type\":\"scatter\"},{\"histfunc\":\"count\",\"histnorm\":\"\",\"marker\":{\"color\":\"rgba(50, 171, 96, 1.0)\",\"line\":{\"color\":\"#4D5663\",\"width\":1.3}},\"name\":\"C\",\"nbinsx\":10,\"opacity\":0.8,\"orientation\":\"v\",\"x\":[-0.224893079246173,1.2503815642723262,-0.009751551125147586,0.16527703916918052,-0.3745090835527552,0.515662283296908,1.0547154138277266,-0.22067757188991727,-0.6498584802383204,-2.07908895587237,2.1403465577961116,1.6445158565680038,-1.0175955610791787,-0.17251980686788723,-0.19414925926115856,0.9311926054750844,0.24273553610203655,-0.8953402123461103,-0.3387964991908508,0.36389088884917165,0.4405868040137417,-0.21012156100866447,-2.788900751431851,1.198143626275225,-0.4127880365061836,-0.238621684631133,0.4371715805619799,1.256886884011327,-0.060193643202252595,0.3059995769855611,-0.4158291391773987,2.1475559417541734,-0.6243802744709012,0.5817247352369509,0.39266255814740997,0.5649256027013886,0.8061396519459106,0.6195039399742812,0.02177467231854164,-1.319899574991042,-0.3356450667412887,0.03748262752761676,0.21357396085531327,0.1224416437776951,-0.2197873964063419,-1.0600124514378158,-0.3345568122382559,-0.5769051564609712,2.8592353822054193,0.9402264092354687,1.1170894271622458,1.1025825408160912,1.4589599777641047,-0.00559822897158635,0.649167046273083,0.5962648454476672,2.1015783595893724,-1.0004967709798152,-0.794419492093333,0.8507876014851588,-0.43312010038274834,-0.25549192361797196,0.3408418093354243,-1.3140065306556812,-0.892627715873621,0.2800577801511644,-1.8190732690240992,0.7071155509495465,-1.2699887648430062,1.1691192931392227,0.11665823912731504,-0.5073035259374067,-1.0932263125943875,0.20275177216827314,-0.11142118650757836,0.02910736140493556,0.9342531709146351,0.16746231525434202,-0.4608568591137009,-0.3901894838095558,0.6092957626506681,-0.5557513480847908,-0.21909070450172796,-0.537747844859767,-0.672824530162349,2.6124495827756866,1.6013530267662324,-0.10470803359208224,-0.48551242090787217,-0.36798474127000314,0.4582902064494334,1.2426685607553631,1.1506367383501355,-0.48916011980898466,-2.311296255514442,1.1525036060530027,0.18302057139365044,-0.13978553105887837,-0.04229289544270978,0.04282490464750087],\"xaxis\":\"x11\",\"yaxis\":\"y11\",\"type\":\"histogram\"},{\"line\":{\"color\":\"rgba(128, 128, 128, 1.0)\",\"dash\":\"solid\",\"shape\":\"linear\",\"width\":1.3},\"marker\":{\"size\":2,\"symbol\":\"circle\"},\"mode\":\"markers\",\"name\":\"C\",\"text\":\"\",\"x\":[1.298015485089696,-0.23339096447922594,1.1037728080136389,0.19806209294100593,2.549860056192145,-0.9061470055249541,-1.6191346355086136,-0.6402695199792406,0.5301304795188629,0.10826973860060203,-0.03096417152728443,-1.333260776229409,-0.5106018658222338,-1.2602161142365913,1.0541069690486944,-0.5360890299819138,1.2919783215192175,-0.06548767963927178,1.292524371037477,0.4704853470988679,-0.01271146868624112,-1.6469302468272102,-0.48917579782210724,0.37733382079878897,-1.1976258256123749,0.20879853261299658,0.2444678967514823,0.16870241860798135,1.6006255420901228,-0.028579174827799286,1.3256317621847986,-1.3605698101646098,0.8195467855949271,-0.9808516343193202,-0.6390064981962895,-1.245203809566456,0.4337270017046839,1.234528835493931,-0.4104457369366574,0.5665420894986996,-0.7449291411997484,-1.2267447902634088,1.1227345594966862,-0.12979808400976459,-0.6269374526327316,0.292703498655163,0.6257393332073456,0.45996788432615043,0.5043667581526481,2.237293213159649,-1.4060039933788429,0.1788743528339559,-1.134521652233473,-0.015399492226502463,-0.9684748530238916,-1.4820224914118059,0.1715902804964764,-0.42039750746697546,0.8498256250305002,-0.2453748541806391,-0.8775939924189635,-2.9231849271662522,-0.9748902362208998,0.20637640117167275,0.5947071928430647,-0.30435577684235404,-2.1039353759161292,1.115513771005786,-0.5120600168812814,-2.075411098303332,2.253424939189268,0.7288262548169948,-0.7438074474356711,1.4919452591038689,1.3918176520913537,0.23639510290963997,-2.294323561421982,1.5561353538714506,-1.1615335890268663,-0.6852963592356053,0.08255655206476742,-1.6276212209267913,1.5138596525635728,0.3988950310224964,-0.5596997640137246,0.8127648867817936,-0.9090456772154684,-0.2023741303876413,-1.0759692892756814,-1.0116840652689627,-0.5956950303753511,0.6474080682588678,0.7648410756169055,1.5983143212427664,-1.2084704597596465,-1.187085251520976,-0.7207177114828895,-1.1365632858321943,1.1963260943489973,-1.9694894606706348],\"xaxis\":\"x12\",\"y\":[-0.224893079246173,1.2503815642723262,-0.009751551125147586,0.16527703916918052,-0.3745090835527552,0.515662283296908,1.0547154138277266,-0.22067757188991727,-0.6498584802383204,-2.07908895587237,2.1403465577961116,1.6445158565680038,-1.0175955610791787,-0.17251980686788723,-0.19414925926115856,0.9311926054750844,0.24273553610203655,-0.8953402123461103,-0.3387964991908508,0.36389088884917165,0.4405868040137417,-0.21012156100866447,-2.788900751431851,1.198143626275225,-0.4127880365061836,-0.238621684631133,0.4371715805619799,1.256886884011327,-0.060193643202252595,0.3059995769855611,-0.4158291391773987,2.1475559417541734,-0.6243802744709012,0.5817247352369509,0.39266255814740997,0.5649256027013886,0.8061396519459106,0.6195039399742812,0.02177467231854164,-1.319899574991042,-0.3356450667412887,0.03748262752761676,0.21357396085531327,0.1224416437776951,-0.2197873964063419,-1.0600124514378158,-0.3345568122382559,-0.5769051564609712,2.8592353822054193,0.9402264092354687,1.1170894271622458,1.1025825408160912,1.4589599777641047,-0.00559822897158635,0.649167046273083,0.5962648454476672,2.1015783595893724,-1.0004967709798152,-0.794419492093333,0.8507876014851588,-0.43312010038274834,-0.25549192361797196,0.3408418093354243,-1.3140065306556812,-0.892627715873621,0.2800577801511644,-1.8190732690240992,0.7071155509495465,-1.2699887648430062,1.1691192931392227,0.11665823912731504,-0.5073035259374067,-1.0932263125943875,0.20275177216827314,-0.11142118650757836,0.02910736140493556,0.9342531709146351,0.16746231525434202,-0.4608568591137009,-0.3901894838095558,0.6092957626506681,-0.5557513480847908,-0.21909070450172796,-0.537747844859767,-0.672824530162349,2.6124495827756866,1.6013530267662324,-0.10470803359208224,-0.48551242090787217,-0.36798474127000314,0.4582902064494334,1.2426685607553631,1.1506367383501355,-0.48916011980898466,-2.311296255514442,1.1525036060530027,0.18302057139365044,-0.13978553105887837,-0.04229289544270978,0.04282490464750087],\"yaxis\":\"y12\",\"type\":\"scatter\"},{\"line\":{\"color\":\"rgba(128, 128, 128, 1.0)\",\"dash\":\"solid\",\"shape\":\"linear\",\"width\":1.3},\"marker\":{\"size\":2,\"symbol\":\"circle\"},\"mode\":\"markers\",\"name\":\"D\",\"text\":\"\",\"x\":[-2.0245678545620653,-0.70000967402194,0.4923011266211667,-0.1721337617162361,0.1300772047032601,-0.8333704434524496,0.34121462467065816,0.9677726356756655,1.0120891924486815,1.2232183702754578,-0.8427421789582358,0.18819096793209314,-1.6095005021892217,0.41339125775669555,-0.8948518562686107,-0.1843957684237995,1.6860920350330262,1.7966629201710838,0.7059434946092662,-0.4638431276336962,0.8335385969736977,-0.7338353757187845,0.29198786778577684,0.7621576857108744,-1.2797389810464925,1.0297527504257031,0.9625278654239828,-1.7851418437008166,-1.0954108369089715,-2.8084934964522676,1.3198883643750479,0.39999831444598893,-1.141518084638812,-0.553833400359158,-0.5021357042202531,-1.7747620990430988,-0.7471339649507993,-1.680236866891475,0.16800536415649148,0.9624777623645401,0.7327131001167891,0.8596062243117514,0.9170009008811542,-0.8909419630348943,0.2427255664521905,-0.6065451458740814,0.2482809249447097,-1.8535909031151525,-0.09750333812372164,-0.8798749960318651,0.217800590401041,0.8029760466725708,0.6653151750366897,-0.3084497006647018,0.36768824082733653,-0.3339365462425808,0.13868616976000864,-0.714301240067701,0.5588471774554243,0.0069681037932292815,0.2403401185362488,0.47347545555015974,-1.1164580146104586,-1.3765949888678477,0.21828959853628632,0.2983118598338089,1.4624051256412518,-1.294335785990532,-1.1891868148706493,0.4480021923135863,0.12578697802044325,0.5113765435650498,0.1285909603816634,-0.6806646507469855,-0.28554355498000167,1.8309719250363772,-0.7378615237977918,0.8487554269717219,-0.22845770363282245,-1.3198777526010914,-1.7164357576246156,-0.8565176465067136,1.5973041294004924,1.2230412199308058,-0.7866323189888544,-1.3609919026164312,0.06459817804490998,0.921998675958377,2.1608332100400616,-0.44158263770700196,0.16697383520246797,0.15215444987588211,0.32083154833677463,-0.4768739422051255,0.15539672302809196,0.5132262797726742,0.5812646979598842,0.3999652636768709,-0.2552657391538536,0.09731861511588642],\"xaxis\":\"x13\",\"y\":[1.298015485089696,-0.23339096447922594,1.1037728080136389,0.19806209294100593,2.549860056192145,-0.9061470055249541,-1.6191346355086136,-0.6402695199792406,0.5301304795188629,0.10826973860060203,-0.03096417152728443,-1.333260776229409,-0.5106018658222338,-1.2602161142365913,1.0541069690486944,-0.5360890299819138,1.2919783215192175,-0.06548767963927178,1.292524371037477,0.4704853470988679,-0.01271146868624112,-1.6469302468272102,-0.48917579782210724,0.37733382079878897,-1.1976258256123749,0.20879853261299658,0.2444678967514823,0.16870241860798135,1.6006255420901228,-0.028579174827799286,1.3256317621847986,-1.3605698101646098,0.8195467855949271,-0.9808516343193202,-0.6390064981962895,-1.245203809566456,0.4337270017046839,1.234528835493931,-0.4104457369366574,0.5665420894986996,-0.7449291411997484,-1.2267447902634088,1.1227345594966862,-0.12979808400976459,-0.6269374526327316,0.292703498655163,0.6257393332073456,0.45996788432615043,0.5043667581526481,2.237293213159649,-1.4060039933788429,0.1788743528339559,-1.134521652233473,-0.015399492226502463,-0.9684748530238916,-1.4820224914118059,0.1715902804964764,-0.42039750746697546,0.8498256250305002,-0.2453748541806391,-0.8775939924189635,-2.9231849271662522,-0.9748902362208998,0.20637640117167275,0.5947071928430647,-0.30435577684235404,-2.1039353759161292,1.115513771005786,-0.5120600168812814,-2.075411098303332,2.253424939189268,0.7288262548169948,-0.7438074474356711,1.4919452591038689,1.3918176520913537,0.23639510290963997,-2.294323561421982,1.5561353538714506,-1.1615335890268663,-0.6852963592356053,0.08255655206476742,-1.6276212209267913,1.5138596525635728,0.3988950310224964,-0.5596997640137246,0.8127648867817936,-0.9090456772154684,-0.2023741303876413,-1.0759692892756814,-1.0116840652689627,-0.5956950303753511,0.6474080682588678,0.7648410756169055,1.5983143212427664,-1.2084704597596465,-1.187085251520976,-0.7207177114828895,-1.1365632858321943,1.1963260943489973,-1.9694894606706348],\"yaxis\":\"y13\",\"type\":\"scatter\"},{\"line\":{\"color\":\"rgba(128, 128, 128, 1.0)\",\"dash\":\"solid\",\"shape\":\"linear\",\"width\":1.3},\"marker\":{\"size\":2,\"symbol\":\"circle\"},\"mode\":\"markers\",\"name\":\"D\",\"text\":\"\",\"x\":[-0.6382408485860838,-0.26445161392310296,-0.23213667337437718,0.5180176758815382,-1.1248049522097245,-0.380272960362963,-0.2932209551832816,-0.2983349399546075,0.8352757748805898,0.19767795485653444,-0.25848078585870043,0.6572601167502129,0.4792315672286233,-0.7297409216849485,0.4046424846202565,1.2968971276167458,0.13935965106348322,-0.6594484341435785,-0.02418590218582255,-2.5239897567978575,1.5346822177409631,-0.044687567248630725,1.6231383581412073,0.40026551057354326,-1.346220027753875,0.16491814429374466,0.9065722606320102,0.6700483963411383,-0.05104018162539486,1.1707146916736622,0.27196909622293,-0.823741868413821,-1.071654380390136,1.611845565479155,-0.6358684090521775,0.12088690562135754,-0.4238076744306274,0.30761109667202036,0.10090276567627783,-0.934825817248883,-0.11477621970946751,-0.25626272220601465,-2.2618111698047243,0.47059504469409547,0.3384630374158783,1.1429078856709527,1.039266887625021,-0.9967830206402708,-0.6202045714826442,0.22079305993745846,0.9115135718961257,-1.2122517475675738,1.0560300708411399,-1.9090176950054356,2.028179416010953,0.2831970755448901,0.6241028603371211,1.0407268957495415,-0.26224266816482766,0.5298657981252108,-2.0965098648132012,1.5130229822141446,-1.7078071537312842,-0.2720326625194213,1.5419814719954992,-0.3403798338394972,-0.2607484877893845,1.613613022678893,0.015346417608684809,0.8193595059346083,0.28400196804539557,0.23640271970560556,0.9643162048376709,-0.604459368826204,-1.2825284995959614,-0.3851992746376785,-0.2698997452038915,-0.1806119563245644,0.03316776563581451,-0.2064180896765948,0.5557810546207436,-0.9395511240801336,-0.3738586334196706,0.719627463803325,-1.1552010934966621,0.18725547161413295,-1.8598061078955381,-0.31999462379920496,-1.8573069884412665,0.5833843253960496,0.7005904412031791,-0.592374288827152,-0.32071254126644355,0.7437217160339742,-0.6523371315325809,-0.14606736635054363,-1.0609890385279603,-1.397175646717783,-0.4182909179317061,1.3303804152695233],\"xaxis\":\"x14\",\"y\":[1.298015485089696,-0.23339096447922594,1.1037728080136389,0.19806209294100593,2.549860056192145,-0.9061470055249541,-1.6191346355086136,-0.6402695199792406,0.5301304795188629,0.10826973860060203,-0.03096417152728443,-1.333260776229409,-0.5106018658222338,-1.2602161142365913,1.0541069690486944,-0.5360890299819138,1.2919783215192175,-0.06548767963927178,1.292524371037477,0.4704853470988679,-0.01271146868624112,-1.6469302468272102,-0.48917579782210724,0.37733382079878897,-1.1976258256123749,0.20879853261299658,0.2444678967514823,0.16870241860798135,1.6006255420901228,-0.028579174827799286,1.3256317621847986,-1.3605698101646098,0.8195467855949271,-0.9808516343193202,-0.6390064981962895,-1.245203809566456,0.4337270017046839,1.234528835493931,-0.4104457369366574,0.5665420894986996,-0.7449291411997484,-1.2267447902634088,1.1227345594966862,-0.12979808400976459,-0.6269374526327316,0.292703498655163,0.6257393332073456,0.45996788432615043,0.5043667581526481,2.237293213159649,-1.4060039933788429,0.1788743528339559,-1.134521652233473,-0.015399492226502463,-0.9684748530238916,-1.4820224914118059,0.1715902804964764,-0.42039750746697546,0.8498256250305002,-0.2453748541806391,-0.8775939924189635,-2.9231849271662522,-0.9748902362208998,0.20637640117167275,0.5947071928430647,-0.30435577684235404,-2.1039353759161292,1.115513771005786,-0.5120600168812814,-2.075411098303332,2.253424939189268,0.7288262548169948,-0.7438074474356711,1.4919452591038689,1.3918176520913537,0.23639510290963997,-2.294323561421982,1.5561353538714506,-1.1615335890268663,-0.6852963592356053,0.08255655206476742,-1.6276212209267913,1.5138596525635728,0.3988950310224964,-0.5596997640137246,0.8127648867817936,-0.9090456772154684,-0.2023741303876413,-1.0759692892756814,-1.0116840652689627,-0.5956950303753511,0.6474080682588678,0.7648410756169055,1.5983143212427664,-1.2084704597596465,-1.187085251520976,-0.7207177114828895,-1.1365632858321943,1.1963260943489973,-1.9694894606706348],\"yaxis\":\"y14\",\"type\":\"scatter\"},{\"line\":{\"color\":\"rgba(128, 128, 128, 1.0)\",\"dash\":\"solid\",\"shape\":\"linear\",\"width\":1.3},\"marker\":{\"size\":2,\"symbol\":\"circle\"},\"mode\":\"markers\",\"name\":\"D\",\"text\":\"\",\"x\":[-0.224893079246173,1.2503815642723262,-0.009751551125147586,0.16527703916918052,-0.3745090835527552,0.515662283296908,1.0547154138277266,-0.22067757188991727,-0.6498584802383204,-2.07908895587237,2.1403465577961116,1.6445158565680038,-1.0175955610791787,-0.17251980686788723,-0.19414925926115856,0.9311926054750844,0.24273553610203655,-0.8953402123461103,-0.3387964991908508,0.36389088884917165,0.4405868040137417,-0.21012156100866447,-2.788900751431851,1.198143626275225,-0.4127880365061836,-0.238621684631133,0.4371715805619799,1.256886884011327,-0.060193643202252595,0.3059995769855611,-0.4158291391773987,2.1475559417541734,-0.6243802744709012,0.5817247352369509,0.39266255814740997,0.5649256027013886,0.8061396519459106,0.6195039399742812,0.02177467231854164,-1.319899574991042,-0.3356450667412887,0.03748262752761676,0.21357396085531327,0.1224416437776951,-0.2197873964063419,-1.0600124514378158,-0.3345568122382559,-0.5769051564609712,2.8592353822054193,0.9402264092354687,1.1170894271622458,1.1025825408160912,1.4589599777641047,-0.00559822897158635,0.649167046273083,0.5962648454476672,2.1015783595893724,-1.0004967709798152,-0.794419492093333,0.8507876014851588,-0.43312010038274834,-0.25549192361797196,0.3408418093354243,-1.3140065306556812,-0.892627715873621,0.2800577801511644,-1.8190732690240992,0.7071155509495465,-1.2699887648430062,1.1691192931392227,0.11665823912731504,-0.5073035259374067,-1.0932263125943875,0.20275177216827314,-0.11142118650757836,0.02910736140493556,0.9342531709146351,0.16746231525434202,-0.4608568591137009,-0.3901894838095558,0.6092957626506681,-0.5557513480847908,-0.21909070450172796,-0.537747844859767,-0.672824530162349,2.6124495827756866,1.6013530267662324,-0.10470803359208224,-0.48551242090787217,-0.36798474127000314,0.4582902064494334,1.2426685607553631,1.1506367383501355,-0.48916011980898466,-2.311296255514442,1.1525036060530027,0.18302057139365044,-0.13978553105887837,-0.04229289544270978,0.04282490464750087],\"xaxis\":\"x15\",\"y\":[1.298015485089696,-0.23339096447922594,1.1037728080136389,0.19806209294100593,2.549860056192145,-0.9061470055249541,-1.6191346355086136,-0.6402695199792406,0.5301304795188629,0.10826973860060203,-0.03096417152728443,-1.333260776229409,-0.5106018658222338,-1.2602161142365913,1.0541069690486944,-0.5360890299819138,1.2919783215192175,-0.06548767963927178,1.292524371037477,0.4704853470988679,-0.01271146868624112,-1.6469302468272102,-0.48917579782210724,0.37733382079878897,-1.1976258256123749,0.20879853261299658,0.2444678967514823,0.16870241860798135,1.6006255420901228,-0.028579174827799286,1.3256317621847986,-1.3605698101646098,0.8195467855949271,-0.9808516343193202,-0.6390064981962895,-1.245203809566456,0.4337270017046839,1.234528835493931,-0.4104457369366574,0.5665420894986996,-0.7449291411997484,-1.2267447902634088,1.1227345594966862,-0.12979808400976459,-0.6269374526327316,0.292703498655163,0.6257393332073456,0.45996788432615043,0.5043667581526481,2.237293213159649,-1.4060039933788429,0.1788743528339559,-1.134521652233473,-0.015399492226502463,-0.9684748530238916,-1.4820224914118059,0.1715902804964764,-0.42039750746697546,0.8498256250305002,-0.2453748541806391,-0.8775939924189635,-2.9231849271662522,-0.9748902362208998,0.20637640117167275,0.5947071928430647,-0.30435577684235404,-2.1039353759161292,1.115513771005786,-0.5120600168812814,-2.075411098303332,2.253424939189268,0.7288262548169948,-0.7438074474356711,1.4919452591038689,1.3918176520913537,0.23639510290963997,-2.294323561421982,1.5561353538714506,-1.1615335890268663,-0.6852963592356053,0.08255655206476742,-1.6276212209267913,1.5138596525635728,0.3988950310224964,-0.5596997640137246,0.8127648867817936,-0.9090456772154684,-0.2023741303876413,-1.0759692892756814,-1.0116840652689627,-0.5956950303753511,0.6474080682588678,0.7648410756169055,1.5983143212427664,-1.2084704597596465,-1.187085251520976,-0.7207177114828895,-1.1365632858321943,1.1963260943489973,-1.9694894606706348],\"yaxis\":\"y15\",\"type\":\"scatter\"},{\"histfunc\":\"count\",\"histnorm\":\"\",\"marker\":{\"color\":\"rgba(128, 0, 128, 1.0)\",\"line\":{\"color\":\"#4D5663\",\"width\":1.3}},\"name\":\"D\",\"nbinsx\":10,\"opacity\":0.8,\"orientation\":\"v\",\"x\":[1.298015485089696,-0.23339096447922594,1.1037728080136389,0.19806209294100593,2.549860056192145,-0.9061470055249541,-1.6191346355086136,-0.6402695199792406,0.5301304795188629,0.10826973860060203,-0.03096417152728443,-1.333260776229409,-0.5106018658222338,-1.2602161142365913,1.0541069690486944,-0.5360890299819138,1.2919783215192175,-0.06548767963927178,1.292524371037477,0.4704853470988679,-0.01271146868624112,-1.6469302468272102,-0.48917579782210724,0.37733382079878897,-1.1976258256123749,0.20879853261299658,0.2444678967514823,0.16870241860798135,1.6006255420901228,-0.028579174827799286,1.3256317621847986,-1.3605698101646098,0.8195467855949271,-0.9808516343193202,-0.6390064981962895,-1.245203809566456,0.4337270017046839,1.234528835493931,-0.4104457369366574,0.5665420894986996,-0.7449291411997484,-1.2267447902634088,1.1227345594966862,-0.12979808400976459,-0.6269374526327316,0.292703498655163,0.6257393332073456,0.45996788432615043,0.5043667581526481,2.237293213159649,-1.4060039933788429,0.1788743528339559,-1.134521652233473,-0.015399492226502463,-0.9684748530238916,-1.4820224914118059,0.1715902804964764,-0.42039750746697546,0.8498256250305002,-0.2453748541806391,-0.8775939924189635,-2.9231849271662522,-0.9748902362208998,0.20637640117167275,0.5947071928430647,-0.30435577684235404,-2.1039353759161292,1.115513771005786,-0.5120600168812814,-2.075411098303332,2.253424939189268,0.7288262548169948,-0.7438074474356711,1.4919452591038689,1.3918176520913537,0.23639510290963997,-2.294323561421982,1.5561353538714506,-1.1615335890268663,-0.6852963592356053,0.08255655206476742,-1.6276212209267913,1.5138596525635728,0.3988950310224964,-0.5596997640137246,0.8127648867817936,-0.9090456772154684,-0.2023741303876413,-1.0759692892756814,-1.0116840652689627,-0.5956950303753511,0.6474080682588678,0.7648410756169055,1.5983143212427664,-1.2084704597596465,-1.187085251520976,-0.7207177114828895,-1.1365632858321943,1.1963260943489973,-1.9694894606706348],\"xaxis\":\"x16\",\"yaxis\":\"y16\",\"type\":\"histogram\"}],                        {\"bargap\":0.02,\"legend\":{\"bgcolor\":\"#F5F6F9\",\"font\":{\"color\":\"#4D5663\"}},\"paper_bgcolor\":\"#F5F6F9\",\"plot_bgcolor\":\"#F5F6F9\",\"showlegend\":false,\"template\":{\"data\":{\"barpolar\":[{\"marker\":{\"line\":{\"color\":\"#E5ECF6\",\"width\":0.5},\"pattern\":{\"fillmode\":\"overlay\",\"size\":10,\"solidity\":0.2}},\"type\":\"barpolar\"}],\"bar\":[{\"error_x\":{\"color\":\"#2a3f5f\"},\"error_y\":{\"color\":\"#2a3f5f\"},\"marker\":{\"line\":{\"color\":\"#E5ECF6\",\"width\":0.5},\"pattern\":{\"fillmode\":\"overlay\",\"size\":10,\"solidity\":0.2}},\"type\":\"bar\"}],\"carpet\":[{\"aaxis\":{\"endlinecolor\":\"#2a3f5f\",\"gridcolor\":\"white\",\"linecolor\":\"white\",\"minorgridcolor\":\"white\",\"startlinecolor\":\"#2a3f5f\"},\"baxis\":{\"endlinecolor\":\"#2a3f5f\",\"gridcolor\":\"white\",\"linecolor\":\"white\",\"minorgridcolor\":\"white\",\"startlinecolor\":\"#2a3f5f\"},\"type\":\"carpet\"}],\"choropleth\":[{\"colorbar\":{\"outlinewidth\":0,\"ticks\":\"\"},\"type\":\"choropleth\"}],\"contourcarpet\":[{\"colorbar\":{\"outlinewidth\":0,\"ticks\":\"\"},\"type\":\"contourcarpet\"}],\"contour\":[{\"colorbar\":{\"outlinewidth\":0,\"ticks\":\"\"},\"colorscale\":[[0.0,\"#0d0887\"],[0.1111111111111111,\"#46039f\"],[0.2222222222222222,\"#7201a8\"],[0.3333333333333333,\"#9c179e\"],[0.4444444444444444,\"#bd3786\"],[0.5555555555555556,\"#d8576b\"],[0.6666666666666666,\"#ed7953\"],[0.7777777777777778,\"#fb9f3a\"],[0.8888888888888888,\"#fdca26\"],[1.0,\"#f0f921\"]],\"type\":\"contour\"}],\"heatmapgl\":[{\"colorbar\":{\"outlinewidth\":0,\"ticks\":\"\"},\"colorscale\":[[0.0,\"#0d0887\"],[0.1111111111111111,\"#46039f\"],[0.2222222222222222,\"#7201a8\"],[0.3333333333333333,\"#9c179e\"],[0.4444444444444444,\"#bd3786\"],[0.5555555555555556,\"#d8576b\"],[0.6666666666666666,\"#ed7953\"],[0.7777777777777778,\"#fb9f3a\"],[0.8888888888888888,\"#fdca26\"],[1.0,\"#f0f921\"]],\"type\":\"heatmapgl\"}],\"heatmap\":[{\"colorbar\":{\"outlinewidth\":0,\"ticks\":\"\"},\"colorscale\":[[0.0,\"#0d0887\"],[0.1111111111111111,\"#46039f\"],[0.2222222222222222,\"#7201a8\"],[0.3333333333333333,\"#9c179e\"],[0.4444444444444444,\"#bd3786\"],[0.5555555555555556,\"#d8576b\"],[0.6666666666666666,\"#ed7953\"],[0.7777777777777778,\"#fb9f3a\"],[0.8888888888888888,\"#fdca26\"],[1.0,\"#f0f921\"]],\"type\":\"heatmap\"}],\"histogram2dcontour\":[{\"colorbar\":{\"outlinewidth\":0,\"ticks\":\"\"},\"colorscale\":[[0.0,\"#0d0887\"],[0.1111111111111111,\"#46039f\"],[0.2222222222222222,\"#7201a8\"],[0.3333333333333333,\"#9c179e\"],[0.4444444444444444,\"#bd3786\"],[0.5555555555555556,\"#d8576b\"],[0.6666666666666666,\"#ed7953\"],[0.7777777777777778,\"#fb9f3a\"],[0.8888888888888888,\"#fdca26\"],[1.0,\"#f0f921\"]],\"type\":\"histogram2dcontour\"}],\"histogram2d\":[{\"colorbar\":{\"outlinewidth\":0,\"ticks\":\"\"},\"colorscale\":[[0.0,\"#0d0887\"],[0.1111111111111111,\"#46039f\"],[0.2222222222222222,\"#7201a8\"],[0.3333333333333333,\"#9c179e\"],[0.4444444444444444,\"#bd3786\"],[0.5555555555555556,\"#d8576b\"],[0.6666666666666666,\"#ed7953\"],[0.7777777777777778,\"#fb9f3a\"],[0.8888888888888888,\"#fdca26\"],[1.0,\"#f0f921\"]],\"type\":\"histogram2d\"}],\"histogram\":[{\"marker\":{\"pattern\":{\"fillmode\":\"overlay\",\"size\":10,\"solidity\":0.2}},\"type\":\"histogram\"}],\"mesh3d\":[{\"colorbar\":{\"outlinewidth\":0,\"ticks\":\"\"},\"type\":\"mesh3d\"}],\"parcoords\":[{\"line\":{\"colorbar\":{\"outlinewidth\":0,\"ticks\":\"\"}},\"type\":\"parcoords\"}],\"pie\":[{\"automargin\":true,\"type\":\"pie\"}],\"scatter3d\":[{\"line\":{\"colorbar\":{\"outlinewidth\":0,\"ticks\":\"\"}},\"marker\":{\"colorbar\":{\"outlinewidth\":0,\"ticks\":\"\"}},\"type\":\"scatter3d\"}],\"scattercarpet\":[{\"marker\":{\"colorbar\":{\"outlinewidth\":0,\"ticks\":\"\"}},\"type\":\"scattercarpet\"}],\"scattergeo\":[{\"marker\":{\"colorbar\":{\"outlinewidth\":0,\"ticks\":\"\"}},\"type\":\"scattergeo\"}],\"scattergl\":[{\"marker\":{\"colorbar\":{\"outlinewidth\":0,\"ticks\":\"\"}},\"type\":\"scattergl\"}],\"scattermapbox\":[{\"marker\":{\"colorbar\":{\"outlinewidth\":0,\"ticks\":\"\"}},\"type\":\"scattermapbox\"}],\"scatterpolargl\":[{\"marker\":{\"colorbar\":{\"outlinewidth\":0,\"ticks\":\"\"}},\"type\":\"scatterpolargl\"}],\"scatterpolar\":[{\"marker\":{\"colorbar\":{\"outlinewidth\":0,\"ticks\":\"\"}},\"type\":\"scatterpolar\"}],\"scatter\":[{\"fillpattern\":{\"fillmode\":\"overlay\",\"size\":10,\"solidity\":0.2},\"type\":\"scatter\"}],\"scatterternary\":[{\"marker\":{\"colorbar\":{\"outlinewidth\":0,\"ticks\":\"\"}},\"type\":\"scatterternary\"}],\"surface\":[{\"colorbar\":{\"outlinewidth\":0,\"ticks\":\"\"},\"colorscale\":[[0.0,\"#0d0887\"],[0.1111111111111111,\"#46039f\"],[0.2222222222222222,\"#7201a8\"],[0.3333333333333333,\"#9c179e\"],[0.4444444444444444,\"#bd3786\"],[0.5555555555555556,\"#d8576b\"],[0.6666666666666666,\"#ed7953\"],[0.7777777777777778,\"#fb9f3a\"],[0.8888888888888888,\"#fdca26\"],[1.0,\"#f0f921\"]],\"type\":\"surface\"}],\"table\":[{\"cells\":{\"fill\":{\"color\":\"#EBF0F8\"},\"line\":{\"color\":\"white\"}},\"header\":{\"fill\":{\"color\":\"#C8D4E3\"},\"line\":{\"color\":\"white\"}},\"type\":\"table\"}]},\"layout\":{\"annotationdefaults\":{\"arrowcolor\":\"#2a3f5f\",\"arrowhead\":0,\"arrowwidth\":1},\"autotypenumbers\":\"strict\",\"coloraxis\":{\"colorbar\":{\"outlinewidth\":0,\"ticks\":\"\"}},\"colorscale\":{\"diverging\":[[0,\"#8e0152\"],[0.1,\"#c51b7d\"],[0.2,\"#de77ae\"],[0.3,\"#f1b6da\"],[0.4,\"#fde0ef\"],[0.5,\"#f7f7f7\"],[0.6,\"#e6f5d0\"],[0.7,\"#b8e186\"],[0.8,\"#7fbc41\"],[0.9,\"#4d9221\"],[1,\"#276419\"]],\"sequential\":[[0.0,\"#0d0887\"],[0.1111111111111111,\"#46039f\"],[0.2222222222222222,\"#7201a8\"],[0.3333333333333333,\"#9c179e\"],[0.4444444444444444,\"#bd3786\"],[0.5555555555555556,\"#d8576b\"],[0.6666666666666666,\"#ed7953\"],[0.7777777777777778,\"#fb9f3a\"],[0.8888888888888888,\"#fdca26\"],[1.0,\"#f0f921\"]],\"sequentialminus\":[[0.0,\"#0d0887\"],[0.1111111111111111,\"#46039f\"],[0.2222222222222222,\"#7201a8\"],[0.3333333333333333,\"#9c179e\"],[0.4444444444444444,\"#bd3786\"],[0.5555555555555556,\"#d8576b\"],[0.6666666666666666,\"#ed7953\"],[0.7777777777777778,\"#fb9f3a\"],[0.8888888888888888,\"#fdca26\"],[1.0,\"#f0f921\"]]},\"colorway\":[\"#636efa\",\"#EF553B\",\"#00cc96\",\"#ab63fa\",\"#FFA15A\",\"#19d3f3\",\"#FF6692\",\"#B6E880\",\"#FF97FF\",\"#FECB52\"],\"font\":{\"color\":\"#2a3f5f\"},\"geo\":{\"bgcolor\":\"white\",\"lakecolor\":\"white\",\"landcolor\":\"#E5ECF6\",\"showlakes\":true,\"showland\":true,\"subunitcolor\":\"white\"},\"hoverlabel\":{\"align\":\"left\"},\"hovermode\":\"closest\",\"mapbox\":{\"style\":\"light\"},\"paper_bgcolor\":\"white\",\"plot_bgcolor\":\"#E5ECF6\",\"polar\":{\"angularaxis\":{\"gridcolor\":\"white\",\"linecolor\":\"white\",\"ticks\":\"\"},\"bgcolor\":\"#E5ECF6\",\"radialaxis\":{\"gridcolor\":\"white\",\"linecolor\":\"white\",\"ticks\":\"\"}},\"scene\":{\"xaxis\":{\"backgroundcolor\":\"#E5ECF6\",\"gridcolor\":\"white\",\"gridwidth\":2,\"linecolor\":\"white\",\"showbackground\":true,\"ticks\":\"\",\"zerolinecolor\":\"white\"},\"yaxis\":{\"backgroundcolor\":\"#E5ECF6\",\"gridcolor\":\"white\",\"gridwidth\":2,\"linecolor\":\"white\",\"showbackground\":true,\"ticks\":\"\",\"zerolinecolor\":\"white\"},\"zaxis\":{\"backgroundcolor\":\"#E5ECF6\",\"gridcolor\":\"white\",\"gridwidth\":2,\"linecolor\":\"white\",\"showbackground\":true,\"ticks\":\"\",\"zerolinecolor\":\"white\"}},\"shapedefaults\":{\"line\":{\"color\":\"#2a3f5f\"}},\"ternary\":{\"aaxis\":{\"gridcolor\":\"white\",\"linecolor\":\"white\",\"ticks\":\"\"},\"baxis\":{\"gridcolor\":\"white\",\"linecolor\":\"white\",\"ticks\":\"\"},\"bgcolor\":\"#E5ECF6\",\"caxis\":{\"gridcolor\":\"white\",\"linecolor\":\"white\",\"ticks\":\"\"}},\"title\":{\"x\":0.05},\"xaxis\":{\"automargin\":true,\"gridcolor\":\"white\",\"linecolor\":\"white\",\"ticks\":\"\",\"title\":{\"standoff\":15},\"zerolinecolor\":\"white\",\"zerolinewidth\":2},\"yaxis\":{\"automargin\":true,\"gridcolor\":\"white\",\"linecolor\":\"white\",\"ticks\":\"\",\"title\":{\"standoff\":15},\"zerolinecolor\":\"white\",\"zerolinewidth\":2}}},\"title\":{\"font\":{\"color\":\"#4D5663\"}},\"xaxis\":{\"anchor\":\"y\",\"domain\":[0.0,0.2125],\"gridcolor\":\"#E1E5ED\",\"showgrid\":false,\"tickfont\":{\"color\":\"#4D5663\"},\"title\":{\"font\":{\"color\":\"#4D5663\"},\"text\":\"\"},\"zerolinecolor\":\"#E1E5ED\"},\"yaxis\":{\"anchor\":\"x\",\"domain\":[0.8025,1.0],\"gridcolor\":\"#E1E5ED\",\"showgrid\":false,\"tickfont\":{\"color\":\"#4D5663\"},\"title\":{\"font\":{\"color\":\"#4D5663\"},\"text\":\"\"},\"zerolinecolor\":\"#E1E5ED\"},\"xaxis2\":{\"anchor\":\"y2\",\"domain\":[0.2625,0.475],\"gridcolor\":\"#E1E5ED\",\"showgrid\":false,\"tickfont\":{\"color\":\"#4D5663\"},\"title\":{\"font\":{\"color\":\"#4D5663\"},\"text\":\"\"},\"zerolinecolor\":\"#E1E5ED\"},\"yaxis2\":{\"anchor\":\"x2\",\"domain\":[0.8025,1.0],\"gridcolor\":\"#E1E5ED\",\"showgrid\":false,\"tickfont\":{\"color\":\"#4D5663\"},\"title\":{\"font\":{\"color\":\"#4D5663\"},\"text\":\"\"},\"zerolinecolor\":\"#E1E5ED\"},\"xaxis3\":{\"anchor\":\"y3\",\"domain\":[0.525,0.7375],\"gridcolor\":\"#E1E5ED\",\"showgrid\":false,\"tickfont\":{\"color\":\"#4D5663\"},\"title\":{\"font\":{\"color\":\"#4D5663\"},\"text\":\"\"},\"zerolinecolor\":\"#E1E5ED\"},\"yaxis3\":{\"anchor\":\"x3\",\"domain\":[0.8025,1.0],\"gridcolor\":\"#E1E5ED\",\"showgrid\":false,\"tickfont\":{\"color\":\"#4D5663\"},\"title\":{\"font\":{\"color\":\"#4D5663\"},\"text\":\"\"},\"zerolinecolor\":\"#E1E5ED\"},\"xaxis4\":{\"anchor\":\"y4\",\"domain\":[0.7875,1.0],\"gridcolor\":\"#E1E5ED\",\"showgrid\":false,\"tickfont\":{\"color\":\"#4D5663\"},\"title\":{\"font\":{\"color\":\"#4D5663\"},\"text\":\"\"},\"zerolinecolor\":\"#E1E5ED\"},\"yaxis4\":{\"anchor\":\"x4\",\"domain\":[0.8025,1.0],\"gridcolor\":\"#E1E5ED\",\"showgrid\":false,\"tickfont\":{\"color\":\"#4D5663\"},\"title\":{\"font\":{\"color\":\"#4D5663\"},\"text\":\"\"},\"zerolinecolor\":\"#E1E5ED\"},\"xaxis5\":{\"anchor\":\"y5\",\"domain\":[0.0,0.2125],\"gridcolor\":\"#E1E5ED\",\"showgrid\":false,\"tickfont\":{\"color\":\"#4D5663\"},\"title\":{\"font\":{\"color\":\"#4D5663\"},\"text\":\"\"},\"zerolinecolor\":\"#E1E5ED\"},\"yaxis5\":{\"anchor\":\"x5\",\"domain\":[0.535,0.7325],\"gridcolor\":\"#E1E5ED\",\"showgrid\":false,\"tickfont\":{\"color\":\"#4D5663\"},\"title\":{\"font\":{\"color\":\"#4D5663\"},\"text\":\"\"},\"zerolinecolor\":\"#E1E5ED\"},\"xaxis6\":{\"anchor\":\"y6\",\"domain\":[0.2625,0.475],\"gridcolor\":\"#E1E5ED\",\"showgrid\":false,\"tickfont\":{\"color\":\"#4D5663\"},\"title\":{\"font\":{\"color\":\"#4D5663\"},\"text\":\"\"},\"zerolinecolor\":\"#E1E5ED\"},\"yaxis6\":{\"anchor\":\"x6\",\"domain\":[0.535,0.7325],\"gridcolor\":\"#E1E5ED\",\"showgrid\":false,\"tickfont\":{\"color\":\"#4D5663\"},\"title\":{\"font\":{\"color\":\"#4D5663\"},\"text\":\"\"},\"zerolinecolor\":\"#E1E5ED\"},\"xaxis7\":{\"anchor\":\"y7\",\"domain\":[0.525,0.7375],\"gridcolor\":\"#E1E5ED\",\"showgrid\":false,\"tickfont\":{\"color\":\"#4D5663\"},\"title\":{\"font\":{\"color\":\"#4D5663\"},\"text\":\"\"},\"zerolinecolor\":\"#E1E5ED\"},\"yaxis7\":{\"anchor\":\"x7\",\"domain\":[0.535,0.7325],\"gridcolor\":\"#E1E5ED\",\"showgrid\":false,\"tickfont\":{\"color\":\"#4D5663\"},\"title\":{\"font\":{\"color\":\"#4D5663\"},\"text\":\"\"},\"zerolinecolor\":\"#E1E5ED\"},\"xaxis8\":{\"anchor\":\"y8\",\"domain\":[0.7875,1.0],\"gridcolor\":\"#E1E5ED\",\"showgrid\":false,\"tickfont\":{\"color\":\"#4D5663\"},\"title\":{\"font\":{\"color\":\"#4D5663\"},\"text\":\"\"},\"zerolinecolor\":\"#E1E5ED\"},\"yaxis8\":{\"anchor\":\"x8\",\"domain\":[0.535,0.7325],\"gridcolor\":\"#E1E5ED\",\"showgrid\":false,\"tickfont\":{\"color\":\"#4D5663\"},\"title\":{\"font\":{\"color\":\"#4D5663\"},\"text\":\"\"},\"zerolinecolor\":\"#E1E5ED\"},\"xaxis9\":{\"anchor\":\"y9\",\"domain\":[0.0,0.2125],\"gridcolor\":\"#E1E5ED\",\"showgrid\":false,\"tickfont\":{\"color\":\"#4D5663\"},\"title\":{\"font\":{\"color\":\"#4D5663\"},\"text\":\"\"},\"zerolinecolor\":\"#E1E5ED\"},\"yaxis9\":{\"anchor\":\"x9\",\"domain\":[0.2675,0.465],\"gridcolor\":\"#E1E5ED\",\"showgrid\":false,\"tickfont\":{\"color\":\"#4D5663\"},\"title\":{\"font\":{\"color\":\"#4D5663\"},\"text\":\"\"},\"zerolinecolor\":\"#E1E5ED\"},\"xaxis10\":{\"anchor\":\"y10\",\"domain\":[0.2625,0.475],\"gridcolor\":\"#E1E5ED\",\"showgrid\":false,\"tickfont\":{\"color\":\"#4D5663\"},\"title\":{\"font\":{\"color\":\"#4D5663\"},\"text\":\"\"},\"zerolinecolor\":\"#E1E5ED\"},\"yaxis10\":{\"anchor\":\"x10\",\"domain\":[0.2675,0.465],\"gridcolor\":\"#E1E5ED\",\"showgrid\":false,\"tickfont\":{\"color\":\"#4D5663\"},\"title\":{\"font\":{\"color\":\"#4D5663\"},\"text\":\"\"},\"zerolinecolor\":\"#E1E5ED\"},\"xaxis11\":{\"anchor\":\"y11\",\"domain\":[0.525,0.7375],\"gridcolor\":\"#E1E5ED\",\"showgrid\":false,\"tickfont\":{\"color\":\"#4D5663\"},\"title\":{\"font\":{\"color\":\"#4D5663\"},\"text\":\"\"},\"zerolinecolor\":\"#E1E5ED\"},\"yaxis11\":{\"anchor\":\"x11\",\"domain\":[0.2675,0.465],\"gridcolor\":\"#E1E5ED\",\"showgrid\":false,\"tickfont\":{\"color\":\"#4D5663\"},\"title\":{\"font\":{\"color\":\"#4D5663\"},\"text\":\"\"},\"zerolinecolor\":\"#E1E5ED\"},\"xaxis12\":{\"anchor\":\"y12\",\"domain\":[0.7875,1.0],\"gridcolor\":\"#E1E5ED\",\"showgrid\":false,\"tickfont\":{\"color\":\"#4D5663\"},\"title\":{\"font\":{\"color\":\"#4D5663\"},\"text\":\"\"},\"zerolinecolor\":\"#E1E5ED\"},\"yaxis12\":{\"anchor\":\"x12\",\"domain\":[0.2675,0.465],\"gridcolor\":\"#E1E5ED\",\"showgrid\":false,\"tickfont\":{\"color\":\"#4D5663\"},\"title\":{\"font\":{\"color\":\"#4D5663\"},\"text\":\"\"},\"zerolinecolor\":\"#E1E5ED\"},\"xaxis13\":{\"anchor\":\"y13\",\"domain\":[0.0,0.2125],\"gridcolor\":\"#E1E5ED\",\"showgrid\":false,\"tickfont\":{\"color\":\"#4D5663\"},\"title\":{\"font\":{\"color\":\"#4D5663\"},\"text\":\"\"},\"zerolinecolor\":\"#E1E5ED\"},\"yaxis13\":{\"anchor\":\"x13\",\"domain\":[0.0,0.1975],\"gridcolor\":\"#E1E5ED\",\"showgrid\":false,\"tickfont\":{\"color\":\"#4D5663\"},\"title\":{\"font\":{\"color\":\"#4D5663\"},\"text\":\"\"},\"zerolinecolor\":\"#E1E5ED\"},\"xaxis14\":{\"anchor\":\"y14\",\"domain\":[0.2625,0.475],\"gridcolor\":\"#E1E5ED\",\"showgrid\":false,\"tickfont\":{\"color\":\"#4D5663\"},\"title\":{\"font\":{\"color\":\"#4D5663\"},\"text\":\"\"},\"zerolinecolor\":\"#E1E5ED\"},\"yaxis14\":{\"anchor\":\"x14\",\"domain\":[0.0,0.1975],\"gridcolor\":\"#E1E5ED\",\"showgrid\":false,\"tickfont\":{\"color\":\"#4D5663\"},\"title\":{\"font\":{\"color\":\"#4D5663\"},\"text\":\"\"},\"zerolinecolor\":\"#E1E5ED\"},\"xaxis15\":{\"anchor\":\"y15\",\"domain\":[0.525,0.7375],\"gridcolor\":\"#E1E5ED\",\"showgrid\":false,\"tickfont\":{\"color\":\"#4D5663\"},\"title\":{\"font\":{\"color\":\"#4D5663\"},\"text\":\"\"},\"zerolinecolor\":\"#E1E5ED\"},\"yaxis15\":{\"anchor\":\"x15\",\"domain\":[0.0,0.1975],\"gridcolor\":\"#E1E5ED\",\"showgrid\":false,\"tickfont\":{\"color\":\"#4D5663\"},\"title\":{\"font\":{\"color\":\"#4D5663\"},\"text\":\"\"},\"zerolinecolor\":\"#E1E5ED\"},\"xaxis16\":{\"anchor\":\"y16\",\"domain\":[0.7875,1.0],\"gridcolor\":\"#E1E5ED\",\"showgrid\":false,\"tickfont\":{\"color\":\"#4D5663\"},\"title\":{\"font\":{\"color\":\"#4D5663\"},\"text\":\"\"},\"zerolinecolor\":\"#E1E5ED\"},\"yaxis16\":{\"anchor\":\"x16\",\"domain\":[0.0,0.1975],\"gridcolor\":\"#E1E5ED\",\"showgrid\":false,\"tickfont\":{\"color\":\"#4D5663\"},\"title\":{\"font\":{\"color\":\"#4D5663\"},\"text\":\"\"},\"zerolinecolor\":\"#E1E5ED\"}},                        {\"showLink\": true, \"linkText\": \"Export to plot.ly\", \"plotlyServerURL\": \"https://plot.ly\", \"responsive\": true}                    ).then(function(){\n",
       "                            \n",
       "var gd = document.getElementById('8a62b72e-f1a0-452a-92b7-e61160c6764b');\n",
       "var x = new MutationObserver(function (mutations, observer) {{\n",
       "        var display = window.getComputedStyle(gd).display;\n",
       "        if (!display || display === 'none') {{\n",
       "            console.log([gd, 'removed!']);\n",
       "            Plotly.purge(gd);\n",
       "            observer.disconnect();\n",
       "        }}\n",
       "}});\n",
       "\n",
       "// Listen for the removal of the full notebook cells\n",
       "var notebookContainer = gd.closest('#notebook-container');\n",
       "if (notebookContainer) {{\n",
       "    x.observe(notebookContainer, {childList: true});\n",
       "}}\n",
       "\n",
       "// Listen for the clearing of the current output cell\n",
       "var outputEl = gd.closest('.output');\n",
       "if (outputEl) {{\n",
       "    x.observe(outputEl, {childList: true});\n",
       "}}\n",
       "\n",
       "                        })                };                });            </script>        </div>"
      ]
     },
     "metadata": {},
     "output_type": "display_data"
    }
   ],
   "source": [
    "df.scatter_matrix()"
   ]
  },
  {
   "cell_type": "code",
   "execution_count": null,
   "id": "7e93ec19",
   "metadata": {},
   "outputs": [],
   "source": []
  }
 ],
 "metadata": {
  "kernelspec": {
   "display_name": "Python 3 (ipykernel)",
   "language": "python",
   "name": "python3"
  },
  "language_info": {
   "codemirror_mode": {
    "name": "ipython",
    "version": 3
   },
   "file_extension": ".py",
   "mimetype": "text/x-python",
   "name": "python",
   "nbconvert_exporter": "python",
   "pygments_lexer": "ipython3",
   "version": "3.10.9"
  }
 },
 "nbformat": 4,
 "nbformat_minor": 5
}
